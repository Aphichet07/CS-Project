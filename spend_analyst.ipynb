{
 "cells": [
  {
   "cell_type": "code",
   "execution_count": 52,
   "id": "e9ff2fe3-7c19-4b25-b408-7cec9f970f50",
   "metadata": {},
   "outputs": [
    {
     "data": {
      "text/html": [
       "        <script type=\"text/javascript\">\n",
       "        window.PlotlyConfig = {MathJaxConfig: 'local'};\n",
       "        if (window.MathJax && window.MathJax.Hub && window.MathJax.Hub.Config) {window.MathJax.Hub.Config({SVG: {font: \"STIX-Web\"}});}\n",
       "        </script>\n",
       "        <script type=\"module\">import \"https://cdn.plot.ly/plotly-3.0.1.min\"</script>\n",
       "        "
      ]
     },
     "metadata": {},
     "output_type": "display_data"
    }
   ],
   "source": [
    "import numpy as np\n",
    "import pandas as pd\n",
    "import matplotlib.pyplot as plt\n",
    "import seaborn as sns\n",
    "import warnings\n",
    "import datetime\n",
    "from packaging import version\n",
    "import plotly.express as px\n",
    "import plotly.io as pio\n",
    "import plotly.graph_objs as go\n",
    "from plotly.subplots import make_subplots\n",
    "import plotly.figure_factory as ff\n",
    "import plotly.offline as pyo\n",
    "pio.renderers.default = 'notebook'\n",
    "pyo.init_notebook_mode(connected=True)\n",
    "from sklearn.preprocessing import StandardScaler, RobustScaler, OneHotEncoder, OrdinalEncoder, PowerTransformer\n",
    "from sklearn.model_selection import cross_val_score, train_test_split\n",
    "from sklearn.pipeline import Pipeline\n",
    "from sklearn.impute import SimpleImputer\n",
    "from sklearn.metrics import f1_score\n",
    "\n",
    "warnings.filterwarnings('ignore')"
   ]
  },
  {
   "cell_type": "code",
   "execution_count": 9,
   "id": "c91605a3-97af-4c42-9037-2e711e8ba28b",
   "metadata": {},
   "outputs": [],
   "source": [
    "path = '../dataset/spend_analysis_dataset.csv'"
   ]
  },
  {
   "cell_type": "code",
   "execution_count": 57,
   "id": "2488c364-90f9-4967-a372-93e2e907f9b0",
   "metadata": {},
   "outputs": [],
   "source": [
    "df = pd.read_csv(path,parse_dates=[\"PurchaseDate\"])"
   ]
  },
  {
   "cell_type": "code",
   "execution_count": 58,
   "id": "421b9fac-9a78-4907-8a8b-ea9a7886d0f1",
   "metadata": {},
   "outputs": [],
   "source": [
    "def all_des(df: pd.DataFrame):\n",
    "    print(f'shape : {df.shape[0]} x {df.shape[1]}')\n",
    "    print(f'{\"           Describing\"}')\n",
    "    print(f'{\"Col Names\":<30} {\"Unique\":<30} {\"Type\":<30}')\n",
    "    print('-'*60)\n",
    "\n",
    "    for col in df.keys():\n",
    "        print(f'{col:<30} {df[col].nunique():<30} {str(df[col].dtypes):<30}')\n",
    "\n",
    "    print(f'{\"           Missing\"}')\n",
    "    print(f'{\"Col Names\":<30} {\"Counts\":<30} ')\n",
    "    print('-'*60)\n",
    "    \n",
    "    for col in df.keys():\n",
    "        print(f'{col:<30} {df[col].isnull().sum():<30} ')"
   ]
  },
  {
   "cell_type": "code",
   "execution_count": 59,
   "id": "8b6aba8f-5dd0-4bbc-8ff3-587eac44db2e",
   "metadata": {},
   "outputs": [
    {
     "name": "stdout",
     "output_type": "stream",
     "text": [
      "shape : 500 x 9\n",
      "           Describing\n",
      "Col Names                      Unique                         Type                          \n",
      "------------------------------------------------------------\n",
      "TransactionID                  500                            object                        \n",
      "ItemName                       10                             object                        \n",
      "Category                       6                              object                        \n",
      "Quantity                       20                             int64                         \n",
      "UnitPrice                      485                            float64                       \n",
      "TotalCost                      499                            float64                       \n",
      "PurchaseDate                   266                            datetime64[ns]                \n",
      "Supplier                       5                              object                        \n",
      "Buyer                          20                             object                        \n",
      "           Missing\n",
      "Col Names                      Counts                         \n",
      "------------------------------------------------------------\n",
      "TransactionID                  0                              \n",
      "ItemName                       0                              \n",
      "Category                       0                              \n",
      "Quantity                       0                              \n",
      "UnitPrice                      0                              \n",
      "TotalCost                      0                              \n",
      "PurchaseDate                   0                              \n",
      "Supplier                       0                              \n",
      "Buyer                          0                              \n"
     ]
    }
   ],
   "source": [
    "all_des(df)"
   ]
  },
  {
   "cell_type": "code",
   "execution_count": 60,
   "id": "d6532d2b-6768-4833-a1b3-0732553ff258",
   "metadata": {},
   "outputs": [
    {
     "data": {
      "text/html": [
       "<div>\n",
       "<style scoped>\n",
       "    .dataframe tbody tr th:only-of-type {\n",
       "        vertical-align: middle;\n",
       "    }\n",
       "\n",
       "    .dataframe tbody tr th {\n",
       "        vertical-align: top;\n",
       "    }\n",
       "\n",
       "    .dataframe thead th {\n",
       "        text-align: right;\n",
       "    }\n",
       "</style>\n",
       "<table border=\"1\" class=\"dataframe\">\n",
       "  <thead>\n",
       "    <tr style=\"text-align: right;\">\n",
       "      <th></th>\n",
       "      <th>count</th>\n",
       "      <th>mean</th>\n",
       "      <th>min</th>\n",
       "      <th>25%</th>\n",
       "      <th>50%</th>\n",
       "      <th>75%</th>\n",
       "      <th>max</th>\n",
       "      <th>std</th>\n",
       "    </tr>\n",
       "  </thead>\n",
       "  <tbody>\n",
       "    <tr>\n",
       "      <th>Quantity</th>\n",
       "      <td>500.0</td>\n",
       "      <td>9.64</td>\n",
       "      <td>1.0</td>\n",
       "      <td>4.0</td>\n",
       "      <td>10.0</td>\n",
       "      <td>15.0</td>\n",
       "      <td>20.0</td>\n",
       "      <td>6.168834</td>\n",
       "    </tr>\n",
       "    <tr>\n",
       "      <th>UnitPrice</th>\n",
       "      <td>500.0</td>\n",
       "      <td>854.2451</td>\n",
       "      <td>1.06</td>\n",
       "      <td>14.38</td>\n",
       "      <td>143.595</td>\n",
       "      <td>287.925</td>\n",
       "      <td>9909.24</td>\n",
       "      <td>2132.890832</td>\n",
       "    </tr>\n",
       "    <tr>\n",
       "      <th>TotalCost</th>\n",
       "      <td>500.0</td>\n",
       "      <td>2481.16106</td>\n",
       "      <td>1.56</td>\n",
       "      <td>145.9275</td>\n",
       "      <td>918.56</td>\n",
       "      <td>3123.5675</td>\n",
       "      <td>18494.6</td>\n",
       "      <td>3527.35316</td>\n",
       "    </tr>\n",
       "    <tr>\n",
       "      <th>PurchaseDate</th>\n",
       "      <td>500</td>\n",
       "      <td>2024-06-23 19:40:48</td>\n",
       "      <td>2024-01-01 00:00:00</td>\n",
       "      <td>2024-03-22 18:00:00</td>\n",
       "      <td>2024-06-14 12:00:00</td>\n",
       "      <td>2024-09-18 00:00:00</td>\n",
       "      <td>2024-12-30 00:00:00</td>\n",
       "      <td>NaN</td>\n",
       "    </tr>\n",
       "  </tbody>\n",
       "</table>\n",
       "</div>"
      ],
      "text/plain": [
       "              count                 mean                  min  \\\n",
       "Quantity      500.0                 9.64                  1.0   \n",
       "UnitPrice     500.0             854.2451                 1.06   \n",
       "TotalCost     500.0           2481.16106                 1.56   \n",
       "PurchaseDate    500  2024-06-23 19:40:48  2024-01-01 00:00:00   \n",
       "\n",
       "                              25%                  50%                  75%  \\\n",
       "Quantity                      4.0                 10.0                 15.0   \n",
       "UnitPrice                   14.38              143.595              287.925   \n",
       "TotalCost                145.9275               918.56            3123.5675   \n",
       "PurchaseDate  2024-03-22 18:00:00  2024-06-14 12:00:00  2024-09-18 00:00:00   \n",
       "\n",
       "                              max          std  \n",
       "Quantity                     20.0     6.168834  \n",
       "UnitPrice                 9909.24  2132.890832  \n",
       "TotalCost                 18494.6   3527.35316  \n",
       "PurchaseDate  2024-12-30 00:00:00          NaN  "
      ]
     },
     "execution_count": 60,
     "metadata": {},
     "output_type": "execute_result"
    }
   ],
   "source": [
    "df.describe().T"
   ]
  },
  {
   "cell_type": "code",
   "execution_count": 61,
   "id": "1ae0ca85-3e7a-4252-9d0f-4bcbf8426218",
   "metadata": {},
   "outputs": [
    {
     "data": {
      "text/html": [
       "<div>\n",
       "<style scoped>\n",
       "    .dataframe tbody tr th:only-of-type {\n",
       "        vertical-align: middle;\n",
       "    }\n",
       "\n",
       "    .dataframe tbody tr th {\n",
       "        vertical-align: top;\n",
       "    }\n",
       "\n",
       "    .dataframe thead th {\n",
       "        text-align: right;\n",
       "    }\n",
       "</style>\n",
       "<table border=\"1\" class=\"dataframe\">\n",
       "  <thead>\n",
       "    <tr style=\"text-align: right;\">\n",
       "      <th></th>\n",
       "      <th>TransactionID</th>\n",
       "      <th>ItemName</th>\n",
       "      <th>Category</th>\n",
       "      <th>Quantity</th>\n",
       "      <th>UnitPrice</th>\n",
       "      <th>TotalCost</th>\n",
       "      <th>PurchaseDate</th>\n",
       "      <th>Supplier</th>\n",
       "      <th>Buyer</th>\n",
       "    </tr>\n",
       "  </thead>\n",
       "  <tbody>\n",
       "    <tr>\n",
       "      <th>266</th>\n",
       "      <td>TXN267</td>\n",
       "      <td>Laptop Bag</td>\n",
       "      <td>Accessories</td>\n",
       "      <td>6</td>\n",
       "      <td>26.64</td>\n",
       "      <td>159.84</td>\n",
       "      <td>2024-10-27</td>\n",
       "      <td>QuickDeliver Ltd.</td>\n",
       "      <td>Kelly Joseph</td>\n",
       "    </tr>\n",
       "    <tr>\n",
       "      <th>22</th>\n",
       "      <td>TXN023</td>\n",
       "      <td>Whiteboard</td>\n",
       "      <td>Furniture</td>\n",
       "      <td>16</td>\n",
       "      <td>150.60</td>\n",
       "      <td>2409.60</td>\n",
       "      <td>2024-08-30</td>\n",
       "      <td>FurniWorks Ltd.</td>\n",
       "      <td>Dawn Padilla</td>\n",
       "    </tr>\n",
       "    <tr>\n",
       "      <th>194</th>\n",
       "      <td>TXN195</td>\n",
       "      <td>Annual Software License</td>\n",
       "      <td>Software</td>\n",
       "      <td>1</td>\n",
       "      <td>8614.00</td>\n",
       "      <td>8614.00</td>\n",
       "      <td>2024-12-03</td>\n",
       "      <td>OfficeSupplies Co.</td>\n",
       "      <td>Kayla Hanson</td>\n",
       "    </tr>\n",
       "    <tr>\n",
       "      <th>449</th>\n",
       "      <td>TXN450</td>\n",
       "      <td>Annual Software License</td>\n",
       "      <td>Software</td>\n",
       "      <td>1</td>\n",
       "      <td>5047.01</td>\n",
       "      <td>5047.01</td>\n",
       "      <td>2024-09-21</td>\n",
       "      <td>OfficeSupplies Co.</td>\n",
       "      <td>Dawn Padilla</td>\n",
       "    </tr>\n",
       "    <tr>\n",
       "      <th>297</th>\n",
       "      <td>TXN298</td>\n",
       "      <td>Annual Software License</td>\n",
       "      <td>Software</td>\n",
       "      <td>1</td>\n",
       "      <td>5489.81</td>\n",
       "      <td>5489.81</td>\n",
       "      <td>2024-11-02</td>\n",
       "      <td>TechMart Inc.</td>\n",
       "      <td>Todd James</td>\n",
       "    </tr>\n",
       "  </tbody>\n",
       "</table>\n",
       "</div>"
      ],
      "text/plain": [
       "    TransactionID                 ItemName     Category  Quantity  UnitPrice  \\\n",
       "266        TXN267               Laptop Bag  Accessories         6      26.64   \n",
       "22         TXN023               Whiteboard    Furniture        16     150.60   \n",
       "194        TXN195  Annual Software License     Software         1    8614.00   \n",
       "449        TXN450  Annual Software License     Software         1    5047.01   \n",
       "297        TXN298  Annual Software License     Software         1    5489.81   \n",
       "\n",
       "     TotalCost PurchaseDate            Supplier         Buyer  \n",
       "266     159.84   2024-10-27   QuickDeliver Ltd.  Kelly Joseph  \n",
       "22     2409.60   2024-08-30     FurniWorks Ltd.  Dawn Padilla  \n",
       "194    8614.00   2024-12-03  OfficeSupplies Co.  Kayla Hanson  \n",
       "449    5047.01   2024-09-21  OfficeSupplies Co.  Dawn Padilla  \n",
       "297    5489.81   2024-11-02       TechMart Inc.    Todd James  "
      ]
     },
     "execution_count": 61,
     "metadata": {},
     "output_type": "execute_result"
    }
   ],
   "source": [
    "df.sample(5)"
   ]
  },
  {
   "cell_type": "code",
   "execution_count": 70,
   "id": "6c1d82a1-d7d9-482e-a545-0e5042a23e32",
   "metadata": {},
   "outputs": [],
   "source": [
    "df[\"Month\"] = df[\"PurchaseDate\"].dt.to_period(\"M\").astype(str)\n",
    "df[\"Year\"] = df[\"PurchaseDate\"].dt.to_period(\"Y\").astype(str)\n",
    "df[\"Day\"] = df[\"PurchaseDate\"].dt.to_period(\"D\").astype(str)"
   ]
  },
  {
   "cell_type": "markdown",
   "id": "d5590309-86b4-4ac4-90bc-3dcdae1c68c7",
   "metadata": {},
   "source": [
    "## EDA"
   ]
  },
  {
   "cell_type": "code",
   "execution_count": 71,
   "id": "15f09c89-a05b-456b-8fd3-c3785b20b140",
   "metadata": {},
   "outputs": [],
   "source": [
    "def make_box_hist(df: pd.DataFrame):\n",
    "    fig = make_subplots(rows=2, cols=1)\n",
    "\n",
    "    f1 = go.Box(x=df, name=df.name , boxmean=True)\n",
    "    f2 = go.Histogram(x=df,name=df.name)\n",
    "\n",
    "    fig.add_trace(f1,row=1,col=1)\n",
    "    fig.add_trace(f2,row=2,col=1)\n",
    "\n",
    "    fig.update_layout(width=1000,height=600,title_text=df.name)\n",
    "    fig.show()"
   ]
  },
  {
   "cell_type": "code",
   "execution_count": 72,
   "id": "68ffe3a4-9c9c-4152-9ed6-dc58c42f206e",
   "metadata": {},
   "outputs": [
    {
     "data": {
      "text/plain": [
       "['Quantity', 'UnitPrice', 'TotalCost']"
      ]
     },
     "execution_count": 72,
     "metadata": {},
     "output_type": "execute_result"
    }
   ],
   "source": [
    "num_col = [col for col in df.keys() if df[col].dtypes in ['int64', 'float64']]\n",
    "num_col"
   ]
  },
  {
   "cell_type": "code",
   "execution_count": 73,
   "id": "36bc2b5a-445e-4c31-954e-ad35b7809d0e",
   "metadata": {},
   "outputs": [
    {
     "data": {
      "application/vnd.plotly.v1+json": {
       "config": {
        "plotlyServerURL": "https://plot.ly"
       },
       "data": [
        {
         "boxmean": true,
         "name": "Quantity",
         "type": "box",
         "x": {
          "bdata": "ChABDRMTCAQNEwEODxQRBgIQEwkDDRAQEg8BBgUEEAESAwENCAIEAwgDCRAMCxQPCxAKAQkOFAMFERQLFAUSDQMFDA8KCwcFAgUIAhIFBAYMDAEBEwUPAQYGDwcEBwwBAgwBChEBAQsBBgIQBg4UARMPEhMPEBMMAQIQAQYEAwgKCgsQAREFBQ0ODQgBAQ0SCRIQEQUBCgECDwsCARADEgYLBgEGBAcHCQYDBg4KAQwRDwQICAsUAQYNCxISAhENBg0BBxIJExQLFA8JEQUBCgIOEAcTCBEHDQIOCgsCAQ4RBBQTCgQLDw8MDgEICRQLDwMJAQ8ODhMNCBMLAQERAQIBEQsJDgoMEQQGCQICCAQSCgUQDQwDDQEODA4JAQsDEQwLDw4MDwUBAQsBAw0SCwsLAQYSBA8TDgEFARITCgISCwEDARERCxMBCQIDEBABBQIBEAERAwQDDQIBDwEOCBMOCwgSBQETDhQPDhADAQkJDhEEBwIEARMCERIBCQ0DAwoIARINAw4NDAEDAhMGAgkLCRQBBRALEBQMFBAMDhMCBg0FBQkSBQMRAQwSEQENAwEHAgkDDBENBgsNCgEBBwIBBhIGEAQNEhQBCw4RBwMKBwYRCwoPEgEQEAEPBgIGBhAHChATDBIPCQUQDAQEEwUDEQQ=",
          "dtype": "i1"
         },
         "xaxis": "x",
         "yaxis": "y"
        },
        {
         "name": "Quantity",
         "type": "histogram",
         "x": {
          "bdata": "ChABDRMTCAQNEwEODxQRBgIQEwkDDRAQEg8BBgUEEAESAwENCAIEAwgDCRAMCxQPCxAKAQkOFAMFERQLFAUSDQMFDA8KCwcFAgUIAhIFBAYMDAEBEwUPAQYGDwcEBwwBAgwBChEBAQsBBgIQBg4UARMPEhMPEBMMAQIQAQYEAwgKCgsQAREFBQ0ODQgBAQ0SCRIQEQUBCgECDwsCARADEgYLBgEGBAcHCQYDBg4KAQwRDwQICAsUAQYNCxISAhENBg0BBxIJExQLFA8JEQUBCgIOEAcTCBEHDQIOCgsCAQ4RBBQTCgQLDw8MDgEICRQLDwMJAQ8ODhMNCBMLAQERAQIBEQsJDgoMEQQGCQICCAQSCgUQDQwDDQEODA4JAQsDEQwLDw4MDwUBAQsBAw0SCwsLAQYSBA8TDgEFARITCgISCwEDARERCxMBCQIDEBABBQIBEAERAwQDDQIBDwEOCBMOCwgSBQETDhQPDhADAQkJDhEEBwIEARMCERIBCQ0DAwoIARINAw4NDAEDAhMGAgkLCRQBBRALEBQMFBAMDhMCBg0FBQkSBQMRAQwSEQENAwEHAgkDDBENBgsNCgEBBwIBBhIGEAQNEhQBCw4RBwMKBwYRCwoPEgEQEAEPBgIGBhAHChATDBIPCQUQDAQEEwUDEQQ=",
          "dtype": "i1"
         },
         "xaxis": "x2",
         "yaxis": "y2"
        }
       ],
       "layout": {
        "height": 600,
        "template": {
         "data": {
          "bar": [
           {
            "error_x": {
             "color": "#2a3f5f"
            },
            "error_y": {
             "color": "#2a3f5f"
            },
            "marker": {
             "line": {
              "color": "#E5ECF6",
              "width": 0.5
             },
             "pattern": {
              "fillmode": "overlay",
              "size": 10,
              "solidity": 0.2
             }
            },
            "type": "bar"
           }
          ],
          "barpolar": [
           {
            "marker": {
             "line": {
              "color": "#E5ECF6",
              "width": 0.5
             },
             "pattern": {
              "fillmode": "overlay",
              "size": 10,
              "solidity": 0.2
             }
            },
            "type": "barpolar"
           }
          ],
          "carpet": [
           {
            "aaxis": {
             "endlinecolor": "#2a3f5f",
             "gridcolor": "white",
             "linecolor": "white",
             "minorgridcolor": "white",
             "startlinecolor": "#2a3f5f"
            },
            "baxis": {
             "endlinecolor": "#2a3f5f",
             "gridcolor": "white",
             "linecolor": "white",
             "minorgridcolor": "white",
             "startlinecolor": "#2a3f5f"
            },
            "type": "carpet"
           }
          ],
          "choropleth": [
           {
            "colorbar": {
             "outlinewidth": 0,
             "ticks": ""
            },
            "type": "choropleth"
           }
          ],
          "contour": [
           {
            "colorbar": {
             "outlinewidth": 0,
             "ticks": ""
            },
            "colorscale": [
             [
              0,
              "#0d0887"
             ],
             [
              0.1111111111111111,
              "#46039f"
             ],
             [
              0.2222222222222222,
              "#7201a8"
             ],
             [
              0.3333333333333333,
              "#9c179e"
             ],
             [
              0.4444444444444444,
              "#bd3786"
             ],
             [
              0.5555555555555556,
              "#d8576b"
             ],
             [
              0.6666666666666666,
              "#ed7953"
             ],
             [
              0.7777777777777778,
              "#fb9f3a"
             ],
             [
              0.8888888888888888,
              "#fdca26"
             ],
             [
              1,
              "#f0f921"
             ]
            ],
            "type": "contour"
           }
          ],
          "contourcarpet": [
           {
            "colorbar": {
             "outlinewidth": 0,
             "ticks": ""
            },
            "type": "contourcarpet"
           }
          ],
          "heatmap": [
           {
            "colorbar": {
             "outlinewidth": 0,
             "ticks": ""
            },
            "colorscale": [
             [
              0,
              "#0d0887"
             ],
             [
              0.1111111111111111,
              "#46039f"
             ],
             [
              0.2222222222222222,
              "#7201a8"
             ],
             [
              0.3333333333333333,
              "#9c179e"
             ],
             [
              0.4444444444444444,
              "#bd3786"
             ],
             [
              0.5555555555555556,
              "#d8576b"
             ],
             [
              0.6666666666666666,
              "#ed7953"
             ],
             [
              0.7777777777777778,
              "#fb9f3a"
             ],
             [
              0.8888888888888888,
              "#fdca26"
             ],
             [
              1,
              "#f0f921"
             ]
            ],
            "type": "heatmap"
           }
          ],
          "histogram": [
           {
            "marker": {
             "pattern": {
              "fillmode": "overlay",
              "size": 10,
              "solidity": 0.2
             }
            },
            "type": "histogram"
           }
          ],
          "histogram2d": [
           {
            "colorbar": {
             "outlinewidth": 0,
             "ticks": ""
            },
            "colorscale": [
             [
              0,
              "#0d0887"
             ],
             [
              0.1111111111111111,
              "#46039f"
             ],
             [
              0.2222222222222222,
              "#7201a8"
             ],
             [
              0.3333333333333333,
              "#9c179e"
             ],
             [
              0.4444444444444444,
              "#bd3786"
             ],
             [
              0.5555555555555556,
              "#d8576b"
             ],
             [
              0.6666666666666666,
              "#ed7953"
             ],
             [
              0.7777777777777778,
              "#fb9f3a"
             ],
             [
              0.8888888888888888,
              "#fdca26"
             ],
             [
              1,
              "#f0f921"
             ]
            ],
            "type": "histogram2d"
           }
          ],
          "histogram2dcontour": [
           {
            "colorbar": {
             "outlinewidth": 0,
             "ticks": ""
            },
            "colorscale": [
             [
              0,
              "#0d0887"
             ],
             [
              0.1111111111111111,
              "#46039f"
             ],
             [
              0.2222222222222222,
              "#7201a8"
             ],
             [
              0.3333333333333333,
              "#9c179e"
             ],
             [
              0.4444444444444444,
              "#bd3786"
             ],
             [
              0.5555555555555556,
              "#d8576b"
             ],
             [
              0.6666666666666666,
              "#ed7953"
             ],
             [
              0.7777777777777778,
              "#fb9f3a"
             ],
             [
              0.8888888888888888,
              "#fdca26"
             ],
             [
              1,
              "#f0f921"
             ]
            ],
            "type": "histogram2dcontour"
           }
          ],
          "mesh3d": [
           {
            "colorbar": {
             "outlinewidth": 0,
             "ticks": ""
            },
            "type": "mesh3d"
           }
          ],
          "parcoords": [
           {
            "line": {
             "colorbar": {
              "outlinewidth": 0,
              "ticks": ""
             }
            },
            "type": "parcoords"
           }
          ],
          "pie": [
           {
            "automargin": true,
            "type": "pie"
           }
          ],
          "scatter": [
           {
            "fillpattern": {
             "fillmode": "overlay",
             "size": 10,
             "solidity": 0.2
            },
            "type": "scatter"
           }
          ],
          "scatter3d": [
           {
            "line": {
             "colorbar": {
              "outlinewidth": 0,
              "ticks": ""
             }
            },
            "marker": {
             "colorbar": {
              "outlinewidth": 0,
              "ticks": ""
             }
            },
            "type": "scatter3d"
           }
          ],
          "scattercarpet": [
           {
            "marker": {
             "colorbar": {
              "outlinewidth": 0,
              "ticks": ""
             }
            },
            "type": "scattercarpet"
           }
          ],
          "scattergeo": [
           {
            "marker": {
             "colorbar": {
              "outlinewidth": 0,
              "ticks": ""
             }
            },
            "type": "scattergeo"
           }
          ],
          "scattergl": [
           {
            "marker": {
             "colorbar": {
              "outlinewidth": 0,
              "ticks": ""
             }
            },
            "type": "scattergl"
           }
          ],
          "scattermap": [
           {
            "marker": {
             "colorbar": {
              "outlinewidth": 0,
              "ticks": ""
             }
            },
            "type": "scattermap"
           }
          ],
          "scattermapbox": [
           {
            "marker": {
             "colorbar": {
              "outlinewidth": 0,
              "ticks": ""
             }
            },
            "type": "scattermapbox"
           }
          ],
          "scatterpolar": [
           {
            "marker": {
             "colorbar": {
              "outlinewidth": 0,
              "ticks": ""
             }
            },
            "type": "scatterpolar"
           }
          ],
          "scatterpolargl": [
           {
            "marker": {
             "colorbar": {
              "outlinewidth": 0,
              "ticks": ""
             }
            },
            "type": "scatterpolargl"
           }
          ],
          "scatterternary": [
           {
            "marker": {
             "colorbar": {
              "outlinewidth": 0,
              "ticks": ""
             }
            },
            "type": "scatterternary"
           }
          ],
          "surface": [
           {
            "colorbar": {
             "outlinewidth": 0,
             "ticks": ""
            },
            "colorscale": [
             [
              0,
              "#0d0887"
             ],
             [
              0.1111111111111111,
              "#46039f"
             ],
             [
              0.2222222222222222,
              "#7201a8"
             ],
             [
              0.3333333333333333,
              "#9c179e"
             ],
             [
              0.4444444444444444,
              "#bd3786"
             ],
             [
              0.5555555555555556,
              "#d8576b"
             ],
             [
              0.6666666666666666,
              "#ed7953"
             ],
             [
              0.7777777777777778,
              "#fb9f3a"
             ],
             [
              0.8888888888888888,
              "#fdca26"
             ],
             [
              1,
              "#f0f921"
             ]
            ],
            "type": "surface"
           }
          ],
          "table": [
           {
            "cells": {
             "fill": {
              "color": "#EBF0F8"
             },
             "line": {
              "color": "white"
             }
            },
            "header": {
             "fill": {
              "color": "#C8D4E3"
             },
             "line": {
              "color": "white"
             }
            },
            "type": "table"
           }
          ]
         },
         "layout": {
          "annotationdefaults": {
           "arrowcolor": "#2a3f5f",
           "arrowhead": 0,
           "arrowwidth": 1
          },
          "autotypenumbers": "strict",
          "coloraxis": {
           "colorbar": {
            "outlinewidth": 0,
            "ticks": ""
           }
          },
          "colorscale": {
           "diverging": [
            [
             0,
             "#8e0152"
            ],
            [
             0.1,
             "#c51b7d"
            ],
            [
             0.2,
             "#de77ae"
            ],
            [
             0.3,
             "#f1b6da"
            ],
            [
             0.4,
             "#fde0ef"
            ],
            [
             0.5,
             "#f7f7f7"
            ],
            [
             0.6,
             "#e6f5d0"
            ],
            [
             0.7,
             "#b8e186"
            ],
            [
             0.8,
             "#7fbc41"
            ],
            [
             0.9,
             "#4d9221"
            ],
            [
             1,
             "#276419"
            ]
           ],
           "sequential": [
            [
             0,
             "#0d0887"
            ],
            [
             0.1111111111111111,
             "#46039f"
            ],
            [
             0.2222222222222222,
             "#7201a8"
            ],
            [
             0.3333333333333333,
             "#9c179e"
            ],
            [
             0.4444444444444444,
             "#bd3786"
            ],
            [
             0.5555555555555556,
             "#d8576b"
            ],
            [
             0.6666666666666666,
             "#ed7953"
            ],
            [
             0.7777777777777778,
             "#fb9f3a"
            ],
            [
             0.8888888888888888,
             "#fdca26"
            ],
            [
             1,
             "#f0f921"
            ]
           ],
           "sequentialminus": [
            [
             0,
             "#0d0887"
            ],
            [
             0.1111111111111111,
             "#46039f"
            ],
            [
             0.2222222222222222,
             "#7201a8"
            ],
            [
             0.3333333333333333,
             "#9c179e"
            ],
            [
             0.4444444444444444,
             "#bd3786"
            ],
            [
             0.5555555555555556,
             "#d8576b"
            ],
            [
             0.6666666666666666,
             "#ed7953"
            ],
            [
             0.7777777777777778,
             "#fb9f3a"
            ],
            [
             0.8888888888888888,
             "#fdca26"
            ],
            [
             1,
             "#f0f921"
            ]
           ]
          },
          "colorway": [
           "#636efa",
           "#EF553B",
           "#00cc96",
           "#ab63fa",
           "#FFA15A",
           "#19d3f3",
           "#FF6692",
           "#B6E880",
           "#FF97FF",
           "#FECB52"
          ],
          "font": {
           "color": "#2a3f5f"
          },
          "geo": {
           "bgcolor": "white",
           "lakecolor": "white",
           "landcolor": "#E5ECF6",
           "showlakes": true,
           "showland": true,
           "subunitcolor": "white"
          },
          "hoverlabel": {
           "align": "left"
          },
          "hovermode": "closest",
          "mapbox": {
           "style": "light"
          },
          "paper_bgcolor": "white",
          "plot_bgcolor": "#E5ECF6",
          "polar": {
           "angularaxis": {
            "gridcolor": "white",
            "linecolor": "white",
            "ticks": ""
           },
           "bgcolor": "#E5ECF6",
           "radialaxis": {
            "gridcolor": "white",
            "linecolor": "white",
            "ticks": ""
           }
          },
          "scene": {
           "xaxis": {
            "backgroundcolor": "#E5ECF6",
            "gridcolor": "white",
            "gridwidth": 2,
            "linecolor": "white",
            "showbackground": true,
            "ticks": "",
            "zerolinecolor": "white"
           },
           "yaxis": {
            "backgroundcolor": "#E5ECF6",
            "gridcolor": "white",
            "gridwidth": 2,
            "linecolor": "white",
            "showbackground": true,
            "ticks": "",
            "zerolinecolor": "white"
           },
           "zaxis": {
            "backgroundcolor": "#E5ECF6",
            "gridcolor": "white",
            "gridwidth": 2,
            "linecolor": "white",
            "showbackground": true,
            "ticks": "",
            "zerolinecolor": "white"
           }
          },
          "shapedefaults": {
           "line": {
            "color": "#2a3f5f"
           }
          },
          "ternary": {
           "aaxis": {
            "gridcolor": "white",
            "linecolor": "white",
            "ticks": ""
           },
           "baxis": {
            "gridcolor": "white",
            "linecolor": "white",
            "ticks": ""
           },
           "bgcolor": "#E5ECF6",
           "caxis": {
            "gridcolor": "white",
            "linecolor": "white",
            "ticks": ""
           }
          },
          "title": {
           "x": 0.05
          },
          "xaxis": {
           "automargin": true,
           "gridcolor": "white",
           "linecolor": "white",
           "ticks": "",
           "title": {
            "standoff": 15
           },
           "zerolinecolor": "white",
           "zerolinewidth": 2
          },
          "yaxis": {
           "automargin": true,
           "gridcolor": "white",
           "linecolor": "white",
           "ticks": "",
           "title": {
            "standoff": 15
           },
           "zerolinecolor": "white",
           "zerolinewidth": 2
          }
         }
        },
        "title": {
         "text": "Quantity"
        },
        "width": 1000,
        "xaxis": {
         "anchor": "y",
         "domain": [
          0,
          1
         ]
        },
        "xaxis2": {
         "anchor": "y2",
         "domain": [
          0,
          1
         ]
        },
        "yaxis": {
         "anchor": "x",
         "domain": [
          0.575,
          1
         ]
        },
        "yaxis2": {
         "anchor": "x2",
         "domain": [
          0,
          0.425
         ]
        }
       }
      },
      "text/html": [
       "<div>            <script src=\"https://cdnjs.cloudflare.com/ajax/libs/mathjax/2.7.5/MathJax.js?config=TeX-AMS-MML_SVG\"></script><script type=\"text/javascript\">if (window.MathJax && window.MathJax.Hub && window.MathJax.Hub.Config) {window.MathJax.Hub.Config({SVG: {font: \"STIX-Web\"}});}</script>                <script type=\"text/javascript\">window.PlotlyConfig = {MathJaxConfig: 'local'};</script>\n",
       "        <script charset=\"utf-8\" src=\"https://cdn.plot.ly/plotly-3.0.1.min.js\"></script>                <div id=\"691760ef-46b9-4882-ba44-fd1a298156d2\" class=\"plotly-graph-div\" style=\"height:600px; width:1000px;\"></div>            <script type=\"text/javascript\">                window.PLOTLYENV=window.PLOTLYENV || {};                                if (document.getElementById(\"691760ef-46b9-4882-ba44-fd1a298156d2\")) {                    Plotly.newPlot(                        \"691760ef-46b9-4882-ba44-fd1a298156d2\",                        [{\"boxmean\":true,\"name\":\"Quantity\",\"x\":{\"dtype\":\"i1\",\"bdata\":\"ChABDRMTCAQNEwEODxQRBgIQEwkDDRAQEg8BBgUEEAESAwENCAIEAwgDCRAMCxQPCxAKAQkOFAMFERQLFAUSDQMFDA8KCwcFAgUIAhIFBAYMDAEBEwUPAQYGDwcEBwwBAgwBChEBAQsBBgIQBg4UARMPEhMPEBMMAQIQAQYEAwgKCgsQAREFBQ0ODQgBAQ0SCRIQEQUBCgECDwsCARADEgYLBgEGBAcHCQYDBg4KAQwRDwQICAsUAQYNCxISAhENBg0BBxIJExQLFA8JEQUBCgIOEAcTCBEHDQIOCgsCAQ4RBBQTCgQLDw8MDgEICRQLDwMJAQ8ODhMNCBMLAQERAQIBEQsJDgoMEQQGCQICCAQSCgUQDQwDDQEODA4JAQsDEQwLDw4MDwUBAQsBAw0SCwsLAQYSBA8TDgEFARITCgISCwEDARERCxMBCQIDEBABBQIBEAERAwQDDQIBDwEOCBMOCwgSBQETDhQPDhADAQkJDhEEBwIEARMCERIBCQ0DAwoIARINAw4NDAEDAhMGAgkLCRQBBRALEBQMFBAMDhMCBg0FBQkSBQMRAQwSEQENAwEHAgkDDBENBgsNCgEBBwIBBhIGEAQNEhQBCw4RBwMKBwYRCwoPEgEQEAEPBgIGBhAHChATDBIPCQUQDAQEEwUDEQQ=\"},\"type\":\"box\",\"xaxis\":\"x\",\"yaxis\":\"y\"},{\"name\":\"Quantity\",\"x\":{\"dtype\":\"i1\",\"bdata\":\"ChABDRMTCAQNEwEODxQRBgIQEwkDDRAQEg8BBgUEEAESAwENCAIEAwgDCRAMCxQPCxAKAQkOFAMFERQLFAUSDQMFDA8KCwcFAgUIAhIFBAYMDAEBEwUPAQYGDwcEBwwBAgwBChEBAQsBBgIQBg4UARMPEhMPEBMMAQIQAQYEAwgKCgsQAREFBQ0ODQgBAQ0SCRIQEQUBCgECDwsCARADEgYLBgEGBAcHCQYDBg4KAQwRDwQICAsUAQYNCxISAhENBg0BBxIJExQLFA8JEQUBCgIOEAcTCBEHDQIOCgsCAQ4RBBQTCgQLDw8MDgEICRQLDwMJAQ8ODhMNCBMLAQERAQIBEQsJDgoMEQQGCQICCAQSCgUQDQwDDQEODA4JAQsDEQwLDw4MDwUBAQsBAw0SCwsLAQYSBA8TDgEFARITCgISCwEDARERCxMBCQIDEBABBQIBEAERAwQDDQIBDwEOCBMOCwgSBQETDhQPDhADAQkJDhEEBwIEARMCERIBCQ0DAwoIARINAw4NDAEDAhMGAgkLCRQBBRALEBQMFBAMDhMCBg0FBQkSBQMRAQwSEQENAwEHAgkDDBENBgsNCgEBBwIBBhIGEAQNEhQBCw4RBwMKBwYRCwoPEgEQEAEPBgIGBhAHChATDBIPCQUQDAQEEwUDEQQ=\"},\"type\":\"histogram\",\"xaxis\":\"x2\",\"yaxis\":\"y2\"}],                        {\"template\":{\"data\":{\"histogram2dcontour\":[{\"type\":\"histogram2dcontour\",\"colorbar\":{\"outlinewidth\":0,\"ticks\":\"\"},\"colorscale\":[[0.0,\"#0d0887\"],[0.1111111111111111,\"#46039f\"],[0.2222222222222222,\"#7201a8\"],[0.3333333333333333,\"#9c179e\"],[0.4444444444444444,\"#bd3786\"],[0.5555555555555556,\"#d8576b\"],[0.6666666666666666,\"#ed7953\"],[0.7777777777777778,\"#fb9f3a\"],[0.8888888888888888,\"#fdca26\"],[1.0,\"#f0f921\"]]}],\"choropleth\":[{\"type\":\"choropleth\",\"colorbar\":{\"outlinewidth\":0,\"ticks\":\"\"}}],\"histogram2d\":[{\"type\":\"histogram2d\",\"colorbar\":{\"outlinewidth\":0,\"ticks\":\"\"},\"colorscale\":[[0.0,\"#0d0887\"],[0.1111111111111111,\"#46039f\"],[0.2222222222222222,\"#7201a8\"],[0.3333333333333333,\"#9c179e\"],[0.4444444444444444,\"#bd3786\"],[0.5555555555555556,\"#d8576b\"],[0.6666666666666666,\"#ed7953\"],[0.7777777777777778,\"#fb9f3a\"],[0.8888888888888888,\"#fdca26\"],[1.0,\"#f0f921\"]]}],\"heatmap\":[{\"type\":\"heatmap\",\"colorbar\":{\"outlinewidth\":0,\"ticks\":\"\"},\"colorscale\":[[0.0,\"#0d0887\"],[0.1111111111111111,\"#46039f\"],[0.2222222222222222,\"#7201a8\"],[0.3333333333333333,\"#9c179e\"],[0.4444444444444444,\"#bd3786\"],[0.5555555555555556,\"#d8576b\"],[0.6666666666666666,\"#ed7953\"],[0.7777777777777778,\"#fb9f3a\"],[0.8888888888888888,\"#fdca26\"],[1.0,\"#f0f921\"]]}],\"contourcarpet\":[{\"type\":\"contourcarpet\",\"colorbar\":{\"outlinewidth\":0,\"ticks\":\"\"}}],\"contour\":[{\"type\":\"contour\",\"colorbar\":{\"outlinewidth\":0,\"ticks\":\"\"},\"colorscale\":[[0.0,\"#0d0887\"],[0.1111111111111111,\"#46039f\"],[0.2222222222222222,\"#7201a8\"],[0.3333333333333333,\"#9c179e\"],[0.4444444444444444,\"#bd3786\"],[0.5555555555555556,\"#d8576b\"],[0.6666666666666666,\"#ed7953\"],[0.7777777777777778,\"#fb9f3a\"],[0.8888888888888888,\"#fdca26\"],[1.0,\"#f0f921\"]]}],\"surface\":[{\"type\":\"surface\",\"colorbar\":{\"outlinewidth\":0,\"ticks\":\"\"},\"colorscale\":[[0.0,\"#0d0887\"],[0.1111111111111111,\"#46039f\"],[0.2222222222222222,\"#7201a8\"],[0.3333333333333333,\"#9c179e\"],[0.4444444444444444,\"#bd3786\"],[0.5555555555555556,\"#d8576b\"],[0.6666666666666666,\"#ed7953\"],[0.7777777777777778,\"#fb9f3a\"],[0.8888888888888888,\"#fdca26\"],[1.0,\"#f0f921\"]]}],\"mesh3d\":[{\"type\":\"mesh3d\",\"colorbar\":{\"outlinewidth\":0,\"ticks\":\"\"}}],\"scatter\":[{\"fillpattern\":{\"fillmode\":\"overlay\",\"size\":10,\"solidity\":0.2},\"type\":\"scatter\"}],\"parcoords\":[{\"type\":\"parcoords\",\"line\":{\"colorbar\":{\"outlinewidth\":0,\"ticks\":\"\"}}}],\"scatterpolargl\":[{\"type\":\"scatterpolargl\",\"marker\":{\"colorbar\":{\"outlinewidth\":0,\"ticks\":\"\"}}}],\"bar\":[{\"error_x\":{\"color\":\"#2a3f5f\"},\"error_y\":{\"color\":\"#2a3f5f\"},\"marker\":{\"line\":{\"color\":\"#E5ECF6\",\"width\":0.5},\"pattern\":{\"fillmode\":\"overlay\",\"size\":10,\"solidity\":0.2}},\"type\":\"bar\"}],\"scattergeo\":[{\"type\":\"scattergeo\",\"marker\":{\"colorbar\":{\"outlinewidth\":0,\"ticks\":\"\"}}}],\"scatterpolar\":[{\"type\":\"scatterpolar\",\"marker\":{\"colorbar\":{\"outlinewidth\":0,\"ticks\":\"\"}}}],\"histogram\":[{\"marker\":{\"pattern\":{\"fillmode\":\"overlay\",\"size\":10,\"solidity\":0.2}},\"type\":\"histogram\"}],\"scattergl\":[{\"type\":\"scattergl\",\"marker\":{\"colorbar\":{\"outlinewidth\":0,\"ticks\":\"\"}}}],\"scatter3d\":[{\"type\":\"scatter3d\",\"line\":{\"colorbar\":{\"outlinewidth\":0,\"ticks\":\"\"}},\"marker\":{\"colorbar\":{\"outlinewidth\":0,\"ticks\":\"\"}}}],\"scattermap\":[{\"type\":\"scattermap\",\"marker\":{\"colorbar\":{\"outlinewidth\":0,\"ticks\":\"\"}}}],\"scattermapbox\":[{\"type\":\"scattermapbox\",\"marker\":{\"colorbar\":{\"outlinewidth\":0,\"ticks\":\"\"}}}],\"scatterternary\":[{\"type\":\"scatterternary\",\"marker\":{\"colorbar\":{\"outlinewidth\":0,\"ticks\":\"\"}}}],\"scattercarpet\":[{\"type\":\"scattercarpet\",\"marker\":{\"colorbar\":{\"outlinewidth\":0,\"ticks\":\"\"}}}],\"carpet\":[{\"aaxis\":{\"endlinecolor\":\"#2a3f5f\",\"gridcolor\":\"white\",\"linecolor\":\"white\",\"minorgridcolor\":\"white\",\"startlinecolor\":\"#2a3f5f\"},\"baxis\":{\"endlinecolor\":\"#2a3f5f\",\"gridcolor\":\"white\",\"linecolor\":\"white\",\"minorgridcolor\":\"white\",\"startlinecolor\":\"#2a3f5f\"},\"type\":\"carpet\"}],\"table\":[{\"cells\":{\"fill\":{\"color\":\"#EBF0F8\"},\"line\":{\"color\":\"white\"}},\"header\":{\"fill\":{\"color\":\"#C8D4E3\"},\"line\":{\"color\":\"white\"}},\"type\":\"table\"}],\"barpolar\":[{\"marker\":{\"line\":{\"color\":\"#E5ECF6\",\"width\":0.5},\"pattern\":{\"fillmode\":\"overlay\",\"size\":10,\"solidity\":0.2}},\"type\":\"barpolar\"}],\"pie\":[{\"automargin\":true,\"type\":\"pie\"}]},\"layout\":{\"autotypenumbers\":\"strict\",\"colorway\":[\"#636efa\",\"#EF553B\",\"#00cc96\",\"#ab63fa\",\"#FFA15A\",\"#19d3f3\",\"#FF6692\",\"#B6E880\",\"#FF97FF\",\"#FECB52\"],\"font\":{\"color\":\"#2a3f5f\"},\"hovermode\":\"closest\",\"hoverlabel\":{\"align\":\"left\"},\"paper_bgcolor\":\"white\",\"plot_bgcolor\":\"#E5ECF6\",\"polar\":{\"bgcolor\":\"#E5ECF6\",\"angularaxis\":{\"gridcolor\":\"white\",\"linecolor\":\"white\",\"ticks\":\"\"},\"radialaxis\":{\"gridcolor\":\"white\",\"linecolor\":\"white\",\"ticks\":\"\"}},\"ternary\":{\"bgcolor\":\"#E5ECF6\",\"aaxis\":{\"gridcolor\":\"white\",\"linecolor\":\"white\",\"ticks\":\"\"},\"baxis\":{\"gridcolor\":\"white\",\"linecolor\":\"white\",\"ticks\":\"\"},\"caxis\":{\"gridcolor\":\"white\",\"linecolor\":\"white\",\"ticks\":\"\"}},\"coloraxis\":{\"colorbar\":{\"outlinewidth\":0,\"ticks\":\"\"}},\"colorscale\":{\"sequential\":[[0.0,\"#0d0887\"],[0.1111111111111111,\"#46039f\"],[0.2222222222222222,\"#7201a8\"],[0.3333333333333333,\"#9c179e\"],[0.4444444444444444,\"#bd3786\"],[0.5555555555555556,\"#d8576b\"],[0.6666666666666666,\"#ed7953\"],[0.7777777777777778,\"#fb9f3a\"],[0.8888888888888888,\"#fdca26\"],[1.0,\"#f0f921\"]],\"sequentialminus\":[[0.0,\"#0d0887\"],[0.1111111111111111,\"#46039f\"],[0.2222222222222222,\"#7201a8\"],[0.3333333333333333,\"#9c179e\"],[0.4444444444444444,\"#bd3786\"],[0.5555555555555556,\"#d8576b\"],[0.6666666666666666,\"#ed7953\"],[0.7777777777777778,\"#fb9f3a\"],[0.8888888888888888,\"#fdca26\"],[1.0,\"#f0f921\"]],\"diverging\":[[0,\"#8e0152\"],[0.1,\"#c51b7d\"],[0.2,\"#de77ae\"],[0.3,\"#f1b6da\"],[0.4,\"#fde0ef\"],[0.5,\"#f7f7f7\"],[0.6,\"#e6f5d0\"],[0.7,\"#b8e186\"],[0.8,\"#7fbc41\"],[0.9,\"#4d9221\"],[1,\"#276419\"]]},\"xaxis\":{\"gridcolor\":\"white\",\"linecolor\":\"white\",\"ticks\":\"\",\"title\":{\"standoff\":15},\"zerolinecolor\":\"white\",\"automargin\":true,\"zerolinewidth\":2},\"yaxis\":{\"gridcolor\":\"white\",\"linecolor\":\"white\",\"ticks\":\"\",\"title\":{\"standoff\":15},\"zerolinecolor\":\"white\",\"automargin\":true,\"zerolinewidth\":2},\"scene\":{\"xaxis\":{\"backgroundcolor\":\"#E5ECF6\",\"gridcolor\":\"white\",\"linecolor\":\"white\",\"showbackground\":true,\"ticks\":\"\",\"zerolinecolor\":\"white\",\"gridwidth\":2},\"yaxis\":{\"backgroundcolor\":\"#E5ECF6\",\"gridcolor\":\"white\",\"linecolor\":\"white\",\"showbackground\":true,\"ticks\":\"\",\"zerolinecolor\":\"white\",\"gridwidth\":2},\"zaxis\":{\"backgroundcolor\":\"#E5ECF6\",\"gridcolor\":\"white\",\"linecolor\":\"white\",\"showbackground\":true,\"ticks\":\"\",\"zerolinecolor\":\"white\",\"gridwidth\":2}},\"shapedefaults\":{\"line\":{\"color\":\"#2a3f5f\"}},\"annotationdefaults\":{\"arrowcolor\":\"#2a3f5f\",\"arrowhead\":0,\"arrowwidth\":1},\"geo\":{\"bgcolor\":\"white\",\"landcolor\":\"#E5ECF6\",\"subunitcolor\":\"white\",\"showland\":true,\"showlakes\":true,\"lakecolor\":\"white\"},\"title\":{\"x\":0.05},\"mapbox\":{\"style\":\"light\"}}},\"xaxis\":{\"anchor\":\"y\",\"domain\":[0.0,1.0]},\"yaxis\":{\"anchor\":\"x\",\"domain\":[0.575,1.0]},\"xaxis2\":{\"anchor\":\"y2\",\"domain\":[0.0,1.0]},\"yaxis2\":{\"anchor\":\"x2\",\"domain\":[0.0,0.425]},\"title\":{\"text\":\"Quantity\"},\"width\":1000,\"height\":600},                        {\"responsive\": true}                    ).then(function(){\n",
       "                            \n",
       "var gd = document.getElementById('691760ef-46b9-4882-ba44-fd1a298156d2');\n",
       "var x = new MutationObserver(function (mutations, observer) {{\n",
       "        var display = window.getComputedStyle(gd).display;\n",
       "        if (!display || display === 'none') {{\n",
       "            console.log([gd, 'removed!']);\n",
       "            Plotly.purge(gd);\n",
       "            observer.disconnect();\n",
       "        }}\n",
       "}});\n",
       "\n",
       "// Listen for the removal of the full notebook cells\n",
       "var notebookContainer = gd.closest('#notebook-container');\n",
       "if (notebookContainer) {{\n",
       "    x.observe(notebookContainer, {childList: true});\n",
       "}}\n",
       "\n",
       "// Listen for the clearing of the current output cell\n",
       "var outputEl = gd.closest('.output');\n",
       "if (outputEl) {{\n",
       "    x.observe(outputEl, {childList: true});\n",
       "}}\n",
       "\n",
       "                        })                };            </script>        </div>"
      ]
     },
     "metadata": {},
     "output_type": "display_data"
    }
   ],
   "source": [
    "make_box_hist(df['Quantity'])"
   ]
  },
  {
   "cell_type": "code",
   "execution_count": 74,
   "id": "2aeabed7-905d-400f-8776-835990ac957e",
   "metadata": {},
   "outputs": [
    {
     "data": {
      "application/vnd.plotly.v1+json": {
       "config": {
        "plotlyServerURL": "https://plot.ly"
       },
       "data": [
        {
         "boxmean": true,
         "name": "UnitPrice",
         "type": "box",
         "x": {
          "bdata": "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",
          "dtype": "f8"
         },
         "xaxis": "x",
         "yaxis": "y"
        },
        {
         "name": "UnitPrice",
         "type": "histogram",
         "x": {
          "bdata": "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",
          "dtype": "f8"
         },
         "xaxis": "x2",
         "yaxis": "y2"
        }
       ],
       "layout": {
        "height": 600,
        "template": {
         "data": {
          "bar": [
           {
            "error_x": {
             "color": "#2a3f5f"
            },
            "error_y": {
             "color": "#2a3f5f"
            },
            "marker": {
             "line": {
              "color": "#E5ECF6",
              "width": 0.5
             },
             "pattern": {
              "fillmode": "overlay",
              "size": 10,
              "solidity": 0.2
             }
            },
            "type": "bar"
           }
          ],
          "barpolar": [
           {
            "marker": {
             "line": {
              "color": "#E5ECF6",
              "width": 0.5
             },
             "pattern": {
              "fillmode": "overlay",
              "size": 10,
              "solidity": 0.2
             }
            },
            "type": "barpolar"
           }
          ],
          "carpet": [
           {
            "aaxis": {
             "endlinecolor": "#2a3f5f",
             "gridcolor": "white",
             "linecolor": "white",
             "minorgridcolor": "white",
             "startlinecolor": "#2a3f5f"
            },
            "baxis": {
             "endlinecolor": "#2a3f5f",
             "gridcolor": "white",
             "linecolor": "white",
             "minorgridcolor": "white",
             "startlinecolor": "#2a3f5f"
            },
            "type": "carpet"
           }
          ],
          "choropleth": [
           {
            "colorbar": {
             "outlinewidth": 0,
             "ticks": ""
            },
            "type": "choropleth"
           }
          ],
          "contour": [
           {
            "colorbar": {
             "outlinewidth": 0,
             "ticks": ""
            },
            "colorscale": [
             [
              0,
              "#0d0887"
             ],
             [
              0.1111111111111111,
              "#46039f"
             ],
             [
              0.2222222222222222,
              "#7201a8"
             ],
             [
              0.3333333333333333,
              "#9c179e"
             ],
             [
              0.4444444444444444,
              "#bd3786"
             ],
             [
              0.5555555555555556,
              "#d8576b"
             ],
             [
              0.6666666666666666,
              "#ed7953"
             ],
             [
              0.7777777777777778,
              "#fb9f3a"
             ],
             [
              0.8888888888888888,
              "#fdca26"
             ],
             [
              1,
              "#f0f921"
             ]
            ],
            "type": "contour"
           }
          ],
          "contourcarpet": [
           {
            "colorbar": {
             "outlinewidth": 0,
             "ticks": ""
            },
            "type": "contourcarpet"
           }
          ],
          "heatmap": [
           {
            "colorbar": {
             "outlinewidth": 0,
             "ticks": ""
            },
            "colorscale": [
             [
              0,
              "#0d0887"
             ],
             [
              0.1111111111111111,
              "#46039f"
             ],
             [
              0.2222222222222222,
              "#7201a8"
             ],
             [
              0.3333333333333333,
              "#9c179e"
             ],
             [
              0.4444444444444444,
              "#bd3786"
             ],
             [
              0.5555555555555556,
              "#d8576b"
             ],
             [
              0.6666666666666666,
              "#ed7953"
             ],
             [
              0.7777777777777778,
              "#fb9f3a"
             ],
             [
              0.8888888888888888,
              "#fdca26"
             ],
             [
              1,
              "#f0f921"
             ]
            ],
            "type": "heatmap"
           }
          ],
          "histogram": [
           {
            "marker": {
             "pattern": {
              "fillmode": "overlay",
              "size": 10,
              "solidity": 0.2
             }
            },
            "type": "histogram"
           }
          ],
          "histogram2d": [
           {
            "colorbar": {
             "outlinewidth": 0,
             "ticks": ""
            },
            "colorscale": [
             [
              0,
              "#0d0887"
             ],
             [
              0.1111111111111111,
              "#46039f"
             ],
             [
              0.2222222222222222,
              "#7201a8"
             ],
             [
              0.3333333333333333,
              "#9c179e"
             ],
             [
              0.4444444444444444,
              "#bd3786"
             ],
             [
              0.5555555555555556,
              "#d8576b"
             ],
             [
              0.6666666666666666,
              "#ed7953"
             ],
             [
              0.7777777777777778,
              "#fb9f3a"
             ],
             [
              0.8888888888888888,
              "#fdca26"
             ],
             [
              1,
              "#f0f921"
             ]
            ],
            "type": "histogram2d"
           }
          ],
          "histogram2dcontour": [
           {
            "colorbar": {
             "outlinewidth": 0,
             "ticks": ""
            },
            "colorscale": [
             [
              0,
              "#0d0887"
             ],
             [
              0.1111111111111111,
              "#46039f"
             ],
             [
              0.2222222222222222,
              "#7201a8"
             ],
             [
              0.3333333333333333,
              "#9c179e"
             ],
             [
              0.4444444444444444,
              "#bd3786"
             ],
             [
              0.5555555555555556,
              "#d8576b"
             ],
             [
              0.6666666666666666,
              "#ed7953"
             ],
             [
              0.7777777777777778,
              "#fb9f3a"
             ],
             [
              0.8888888888888888,
              "#fdca26"
             ],
             [
              1,
              "#f0f921"
             ]
            ],
            "type": "histogram2dcontour"
           }
          ],
          "mesh3d": [
           {
            "colorbar": {
             "outlinewidth": 0,
             "ticks": ""
            },
            "type": "mesh3d"
           }
          ],
          "parcoords": [
           {
            "line": {
             "colorbar": {
              "outlinewidth": 0,
              "ticks": ""
             }
            },
            "type": "parcoords"
           }
          ],
          "pie": [
           {
            "automargin": true,
            "type": "pie"
           }
          ],
          "scatter": [
           {
            "fillpattern": {
             "fillmode": "overlay",
             "size": 10,
             "solidity": 0.2
            },
            "type": "scatter"
           }
          ],
          "scatter3d": [
           {
            "line": {
             "colorbar": {
              "outlinewidth": 0,
              "ticks": ""
             }
            },
            "marker": {
             "colorbar": {
              "outlinewidth": 0,
              "ticks": ""
             }
            },
            "type": "scatter3d"
           }
          ],
          "scattercarpet": [
           {
            "marker": {
             "colorbar": {
              "outlinewidth": 0,
              "ticks": ""
             }
            },
            "type": "scattercarpet"
           }
          ],
          "scattergeo": [
           {
            "marker": {
             "colorbar": {
              "outlinewidth": 0,
              "ticks": ""
             }
            },
            "type": "scattergeo"
           }
          ],
          "scattergl": [
           {
            "marker": {
             "colorbar": {
              "outlinewidth": 0,
              "ticks": ""
             }
            },
            "type": "scattergl"
           }
          ],
          "scattermap": [
           {
            "marker": {
             "colorbar": {
              "outlinewidth": 0,
              "ticks": ""
             }
            },
            "type": "scattermap"
           }
          ],
          "scattermapbox": [
           {
            "marker": {
             "colorbar": {
              "outlinewidth": 0,
              "ticks": ""
             }
            },
            "type": "scattermapbox"
           }
          ],
          "scatterpolar": [
           {
            "marker": {
             "colorbar": {
              "outlinewidth": 0,
              "ticks": ""
             }
            },
            "type": "scatterpolar"
           }
          ],
          "scatterpolargl": [
           {
            "marker": {
             "colorbar": {
              "outlinewidth": 0,
              "ticks": ""
             }
            },
            "type": "scatterpolargl"
           }
          ],
          "scatterternary": [
           {
            "marker": {
             "colorbar": {
              "outlinewidth": 0,
              "ticks": ""
             }
            },
            "type": "scatterternary"
           }
          ],
          "surface": [
           {
            "colorbar": {
             "outlinewidth": 0,
             "ticks": ""
            },
            "colorscale": [
             [
              0,
              "#0d0887"
             ],
             [
              0.1111111111111111,
              "#46039f"
             ],
             [
              0.2222222222222222,
              "#7201a8"
             ],
             [
              0.3333333333333333,
              "#9c179e"
             ],
             [
              0.4444444444444444,
              "#bd3786"
             ],
             [
              0.5555555555555556,
              "#d8576b"
             ],
             [
              0.6666666666666666,
              "#ed7953"
             ],
             [
              0.7777777777777778,
              "#fb9f3a"
             ],
             [
              0.8888888888888888,
              "#fdca26"
             ],
             [
              1,
              "#f0f921"
             ]
            ],
            "type": "surface"
           }
          ],
          "table": [
           {
            "cells": {
             "fill": {
              "color": "#EBF0F8"
             },
             "line": {
              "color": "white"
             }
            },
            "header": {
             "fill": {
              "color": "#C8D4E3"
             },
             "line": {
              "color": "white"
             }
            },
            "type": "table"
           }
          ]
         },
         "layout": {
          "annotationdefaults": {
           "arrowcolor": "#2a3f5f",
           "arrowhead": 0,
           "arrowwidth": 1
          },
          "autotypenumbers": "strict",
          "coloraxis": {
           "colorbar": {
            "outlinewidth": 0,
            "ticks": ""
           }
          },
          "colorscale": {
           "diverging": [
            [
             0,
             "#8e0152"
            ],
            [
             0.1,
             "#c51b7d"
            ],
            [
             0.2,
             "#de77ae"
            ],
            [
             0.3,
             "#f1b6da"
            ],
            [
             0.4,
             "#fde0ef"
            ],
            [
             0.5,
             "#f7f7f7"
            ],
            [
             0.6,
             "#e6f5d0"
            ],
            [
             0.7,
             "#b8e186"
            ],
            [
             0.8,
             "#7fbc41"
            ],
            [
             0.9,
             "#4d9221"
            ],
            [
             1,
             "#276419"
            ]
           ],
           "sequential": [
            [
             0,
             "#0d0887"
            ],
            [
             0.1111111111111111,
             "#46039f"
            ],
            [
             0.2222222222222222,
             "#7201a8"
            ],
            [
             0.3333333333333333,
             "#9c179e"
            ],
            [
             0.4444444444444444,
             "#bd3786"
            ],
            [
             0.5555555555555556,
             "#d8576b"
            ],
            [
             0.6666666666666666,
             "#ed7953"
            ],
            [
             0.7777777777777778,
             "#fb9f3a"
            ],
            [
             0.8888888888888888,
             "#fdca26"
            ],
            [
             1,
             "#f0f921"
            ]
           ],
           "sequentialminus": [
            [
             0,
             "#0d0887"
            ],
            [
             0.1111111111111111,
             "#46039f"
            ],
            [
             0.2222222222222222,
             "#7201a8"
            ],
            [
             0.3333333333333333,
             "#9c179e"
            ],
            [
             0.4444444444444444,
             "#bd3786"
            ],
            [
             0.5555555555555556,
             "#d8576b"
            ],
            [
             0.6666666666666666,
             "#ed7953"
            ],
            [
             0.7777777777777778,
             "#fb9f3a"
            ],
            [
             0.8888888888888888,
             "#fdca26"
            ],
            [
             1,
             "#f0f921"
            ]
           ]
          },
          "colorway": [
           "#636efa",
           "#EF553B",
           "#00cc96",
           "#ab63fa",
           "#FFA15A",
           "#19d3f3",
           "#FF6692",
           "#B6E880",
           "#FF97FF",
           "#FECB52"
          ],
          "font": {
           "color": "#2a3f5f"
          },
          "geo": {
           "bgcolor": "white",
           "lakecolor": "white",
           "landcolor": "#E5ECF6",
           "showlakes": true,
           "showland": true,
           "subunitcolor": "white"
          },
          "hoverlabel": {
           "align": "left"
          },
          "hovermode": "closest",
          "mapbox": {
           "style": "light"
          },
          "paper_bgcolor": "white",
          "plot_bgcolor": "#E5ECF6",
          "polar": {
           "angularaxis": {
            "gridcolor": "white",
            "linecolor": "white",
            "ticks": ""
           },
           "bgcolor": "#E5ECF6",
           "radialaxis": {
            "gridcolor": "white",
            "linecolor": "white",
            "ticks": ""
           }
          },
          "scene": {
           "xaxis": {
            "backgroundcolor": "#E5ECF6",
            "gridcolor": "white",
            "gridwidth": 2,
            "linecolor": "white",
            "showbackground": true,
            "ticks": "",
            "zerolinecolor": "white"
           },
           "yaxis": {
            "backgroundcolor": "#E5ECF6",
            "gridcolor": "white",
            "gridwidth": 2,
            "linecolor": "white",
            "showbackground": true,
            "ticks": "",
            "zerolinecolor": "white"
           },
           "zaxis": {
            "backgroundcolor": "#E5ECF6",
            "gridcolor": "white",
            "gridwidth": 2,
            "linecolor": "white",
            "showbackground": true,
            "ticks": "",
            "zerolinecolor": "white"
           }
          },
          "shapedefaults": {
           "line": {
            "color": "#2a3f5f"
           }
          },
          "ternary": {
           "aaxis": {
            "gridcolor": "white",
            "linecolor": "white",
            "ticks": ""
           },
           "baxis": {
            "gridcolor": "white",
            "linecolor": "white",
            "ticks": ""
           },
           "bgcolor": "#E5ECF6",
           "caxis": {
            "gridcolor": "white",
            "linecolor": "white",
            "ticks": ""
           }
          },
          "title": {
           "x": 0.05
          },
          "xaxis": {
           "automargin": true,
           "gridcolor": "white",
           "linecolor": "white",
           "ticks": "",
           "title": {
            "standoff": 15
           },
           "zerolinecolor": "white",
           "zerolinewidth": 2
          },
          "yaxis": {
           "automargin": true,
           "gridcolor": "white",
           "linecolor": "white",
           "ticks": "",
           "title": {
            "standoff": 15
           },
           "zerolinecolor": "white",
           "zerolinewidth": 2
          }
         }
        },
        "title": {
         "text": "UnitPrice"
        },
        "width": 1000,
        "xaxis": {
         "anchor": "y",
         "domain": [
          0,
          1
         ]
        },
        "xaxis2": {
         "anchor": "y2",
         "domain": [
          0,
          1
         ]
        },
        "yaxis": {
         "anchor": "x",
         "domain": [
          0.575,
          1
         ]
        },
        "yaxis2": {
         "anchor": "x2",
         "domain": [
          0,
          0.425
         ]
        }
       }
      },
      "text/html": [
       "<div>            <script src=\"https://cdnjs.cloudflare.com/ajax/libs/mathjax/2.7.5/MathJax.js?config=TeX-AMS-MML_SVG\"></script><script type=\"text/javascript\">if (window.MathJax && window.MathJax.Hub && window.MathJax.Hub.Config) {window.MathJax.Hub.Config({SVG: {font: \"STIX-Web\"}});}</script>                <script type=\"text/javascript\">window.PlotlyConfig = {MathJaxConfig: 'local'};</script>\n",
       "        <script charset=\"utf-8\" src=\"https://cdn.plot.ly/plotly-3.0.1.min.js\"></script>                <div id=\"eca12834-d28f-4034-abf9-cd09d7e0fb9e\" class=\"plotly-graph-div\" style=\"height:600px; width:1000px;\"></div>            <script type=\"text/javascript\">                window.PLOTLYENV=window.PLOTLYENV || {};                                if (document.getElementById(\"eca12834-d28f-4034-abf9-cd09d7e0fb9e\")) {                    Plotly.newPlot(                        \"eca12834-d28f-4034-abf9-cd09d7e0fb9e\",                        [{\"boxmean\":true,\"name\":\"UnitPrice\",\"x\":{\"dtype\":\"f8\",\"bdata\":\"mpmZmZlJXEA9CtejcD0pQKRwPQpXEbZAXI\\u002fC9ShcB0A9CtejcD32P65H4XoU3mJA16NwPQrXBUBcj8L1KFwDQEjhehSuxydAFK5H4Xo0WUBcj8L16Pe\\u002fQFyPwvUoXAdAzczMzMzMIEDXo3A9CvdbQI\\u002fC9Shcj\\u002fY\\u002fcT0K16N8cEAAAAAAAABAQMP1KFyPAkVA7FG4HoV5iUD2KFyPwgl1QArXo3A9CipAw\\u002fUoXI\\u002fqaUAzMzMzM9NiQM3MzMzMdGFAZmZmZmZm8j8pXI\\u002fC9YhaQI\\u002fC9Sjc67NAuB6F61FoZ0AUrkfhelQ+QClcj8L1AG1Aj8L1KFyljkCkcD0KF4C2QHE9CtejgHJAAAAAAACwWkAUrkfhOru1QPYoXI\\u002fC9QRAw\\u002fUoXI9CKUApXI\\u002fC9QhfQD0K16Nw745AmpmZmZlBZUC4HoXrUbgrQOF6FK5HEVtA16NwPQoBikCkcD0K1yMqQAAAAAAAGopAXI\\u002fC9SjcLECkcD0K13tsQOF6FK5H4QJArkfhehSuGUBxPQrXo3hkQPYoXI\\u002fClV5A16NwPQpli0AUrkfhehxuQArXo3A9YIlArkfhehTuZkCPwvUoXB9dQGZmZmZmpjVAuB6F61G4J0BmZmZmZq5iQNejcD0Kx3VAw\\u002fUoXI\\u002fCjEBI4XoUrk9yQFyPwvUo9GRASOF6FK7HLEBcj8L1KFwZQLgehetRaGxAmpmZmZmZAUBmZmZmZm5kQBSuR+F6FPY\\u002fAAAAAACAXUAfhetRuJ4sQIXrUbgehf8\\u002f9ihcj8KbjkDD9ShcjyJHQHE9Ctej8CVAKVyPwvU4jEAK16NwPZJxQGZmZmZmZgRAXI\\u002fC9SjcJEAK16NwPbpnQOxRuB6Fu3JAKVyPwvUoKEBI4XoU7kbCQDMzMzMzNbxAcT0K16MAX0AK16NwPSJjQMP1KFyPsmRApHA9CpeztUAK16NwPdJiQGZmZmZmBopAH4XrUbhuaEBmZmZmZuYnQM3MzMzM3G5A7FG4HoUjjEDsUbgehbtmQB+F61G4JmNAhetRuB5FW0CkcD0K12M1QKRwPQo3n8JAZmZmZmZmNEDXo3A9Clc4QFyPwvUo1GpAj8L1KFzBwEAK16NwPYomQK5H4XoUhopAzczMzMz8XEB7FK5H4SpfQFyPwvUoHDdA7FG4HoXjcUBSuB6F6\\u002fFlQFyPwvUoXDtA7FG4HgXMvUCkcD0K16MmQOxRuB6F6wNAZmZmZmbGYkCF61G4HtVlQNejcD0KT2hAMzMzMzNzM0BI4XoUrsciQLgehetReENA16NwPcpzukCPwvUoXFdnQI\\u002fC9ShcjylAw\\u002fUoXI\\u002fCBUB7FK5H4apdQNejcD0KF49A4XoUrkehMkDXo3A9CtcpQHE9Ctej8C1AexSuR+F6OkBxPQrXo9ByQB+F61G4nitASOF6FE5XwUA9CtejcPWJQDMzMzMzk1pApHA9CtcjLEBxPQrXo86JQPYoXI\\u002fCdUZAexSuR+H6bUCPwvUoXA8nQD0K16OwTLVApHA9ClfGuEDXo3A9CtchQD0K16Nw\\u002fURAXI\\u002fC9ShsXUBxPQrXowBbQGZmZmZmhmBA7FG4HoULYEDsUbgehbttQEjhehSuB8FAexSuR+F6QEBI4XoUzjnCQIXrUbgeq4xA9ihcj8J1NUCPwvUoXM85QHE9Ctej8CtAUrgehcv0wUBcj8L1KFz7PxSuR+F6PHJAw\\u002fUoXI9SXkCF61G4HoUZQFyPwvUo3CNACtejcD2KM0ApXI\\u002fCdde0QPYoXI\\u002fC3WZAexSuR+HejUAK16NwPapBQIXrUbgeZUVArkfhehTacUCPwvUoXG2NQHE9CtejYF1AAAAAAAAYZUCuR+F6FA5gQIXrUbgeRURAcT0K10M2w0B7FK5H4dJ0QMP1KFyPwv0\\u002fUrgehetRG0AfhetRuI5gQNejcD0KnYpA9ihcj8JDikDNzMzMzMwAQNejcD0KZ2dAhetRuJ5aw0ApXI\\u002fC9WBkQD0K16NwPQRAw\\u002fUoXI+idUBSuB6F66lkQDMzMzMzs3RAPQrXo3A9\\u002fj+amZmZmTljQPYoXI\\u002fC9fA\\u002fKVyPwvWoQEC4HoXrUTBzQAAAAAAA08BAFK5H4Xp0Z0BmZmZmZmYXQLgehetRuAZAZmZmZmbeaECPwvUoXI9rQM3MzMzMzCNA7FG4HoVrJEB7FK5H4fohQJqZmZmZmQFAuB6F61E4KUDhehSuR+FjQAAAAAAAAAJArkfhehSuG0BxPQrXo6hnQFyPwvUoMopAuB6F61G4JkDNzMzMzMwhQEjhehSuV1tAXI\\u002fC9SisZkBxPQrXo3D1P2ZmZmZmlmRA16NwPQrXAUApXI\\u002fC9Sj8P65H4XoUriBAw\\u002fUoXI++cED2KFyPwkGJQM3MzMzM7HBAAAAAACBWwUBmZmZmZuYvQIXrUbgehShAXI\\u002fC9SjCjEBxPQrXo7BAQHsUrkfhKl5AhetRuB51Y0BSuB6F6+FlQClcj8L1qDBAMzMzMzPfd0AAAAAAAIAjQAAAAAAAACBAPQrXo3A9KUC4HoXrUbg0QKRwPQrXg2RACtejcD3Kb0AUrkfhevBwQFK4HoXrUS9ASOF6FK5HAUApXI\\u002fC9chFQJqZmZmZQWVAH4XrUbge+T\\u002fNzMzMzExEQOxRuB6FA3FA4XoUrkdhLEDhehSuR6lkQAAAAAAAAPw\\u002fuB6F61FIYkBSuB6F61EZQJqZmZmZBY5AMzMzM3PDtEAK16NwPYohQIXrUbgeFWNA9ihcj8I9bUD2KFyPwsVoQArXo3A9CixACtejcD1yY0DsUbgehV+OQMP1KFyPYoxAhetRuB5lXEAK16NwPVpuQI\\u002fC9ShcN2ZA4XoUrkdBQUD2KFyPwlVxQKRwPQrXozpA9ihcj8LFXED2KFyPwtuKQEjhehSuxylAKVyPwvVgaEAUrkfhetxvQMP1KFyP4kRA4XoUrkdxYEApXI\\u002fC9agmQK5H4XoUritAj8L1KFxHcUBxPQrXo7hvQLgehetROC1AcT0K16NCi0AAAAAAIHbCQEjhehSuT2xAmpmZmZk5WUAUrkfhehQAQDMzMzMzs3NAexSuRyEWukAK16NwPTJmQOF6FK5HYStA7FG4HoXDYECPwvUoXO+KQOF6FK5HKWlASOF6FK4nQECkcD0K1yMpQFyPwvUoBGhAMzMzMzOzNkApXI\\u002fC9UhbQPYoXI\\u002fij8JAw\\u002fUoXM9xtUCuR+F6FK7zP5qZmZmZP4tA7FG4HoVzZkAAAAAAAFBtQEjhehSuJ0VAUrgehethcUDXo3A9CtcVQPYoXI\\u002fC2XRArkfhepROtUAUrkfhetQzQBSuR+F6xG5AcT0K16MQQUCkcD0K1yM1QKRwPQrXa2lAMzMzMzPraECamZmZGT28QD0K16NwPSNAexSuR+ECjEBSuB6F61H8P+xRuB6FM2NAuB6F61EoW0D2KFyPwnUzQOxRuB6FYYtA9ihcj8JFZED2KFyPwvX4P\\u002fYoXI\\u002fC9fA\\u002f9ihcj4J0wUCF61G4HoX\\u002fP3E9CtejsGJAw\\u002fUoXI\\u002faYkApXI\\u002fC9Wg5QMP1KFwPWLtAhetRuB5FM0CPwvUoXM9EQM3MzMzMMI5AAAAAAADQX0AK16NwPQKOQOxRuB6Fl3BACtejcD0KI0BxPQrXo9ByQDMzMzMzy8JA7FG4HoXrJkCPwvUoXPu4QGZmZmZmrmVAUrgehetRJEDNzMzMzIxGQIXrUbgehUNAFK5H4Xp0ZEAK16NwPWJlQIXrUbgetW9ApHA9CtdXjEAfhetRuJ4kQHsUrkfh4mRA9ihcj8KdYUCamZmZmVkyQMP1KFyPImpAAAAAAACwZUB7FK5H4fouQClcj8L1aF9Aw\\u002fUoXI9ybEBmZmZmZl5hQHsUrkfhomNA9ihcj8L7i0CamZmZmblGQLgehetRmEBAFK5H4XrUOUAAAAAAAFiJQMP1KFyPEm1AmpmZmZk9jUD2KFyPwhmNQAAAAAAAPHJAzczMzMxMJkCF61G4HgVkQKRwPQrXIyhAj8L1KFyP9j\\u002fXo3A9Co9mQOxRuB6F6zNA4XoUrkfRb0BmZmZmZupxQHsUrkfh8mhACtejcD2KIUBcj8L1KBRlQKRwPQrXArpAXI\\u002fC9SjMZEAzMzMzM6+LQM3MzMzMtHZA9ihcj8KFXkAUrkfhemRlQKRwPQrXq41AH4XrUXiktECF61G4HsVFQAAAAAAAXHRAMzMzMzMzJUDD9Shcj8L5P8P1KFyPumJA9ihcj8JtcEBmZmZmBqfCQKRwPQrXY3JAXI\\u002fC9SikYED2KFyPwtVkQPYoXI\\u002fC9fg\\u002fpHA9Ctdza0BI4XoUrgc2QB+F61G4Nm9AmpmZmZmZH0CkcD0K1+WMQD0K16PwBr1AKVyPwvVAikBcj8L1KFwFQDMzMzMzw2xAmpmZmZmZPkCkcD0K16P0P+F6FK5Hv4pACtejcD06bECkcD0K15NhQB+F61G4IndAzczMzMzMIEDsUbgehWspQD0K16NwfTJAuB6F61FQbUAAAAAAAMBoQHsUrkfhZItAKVyPwvWgc0D2KFyPwvUdQHsUrkfhejpAXI\\u002fC9SicMkC4HoXrUTgyQGZmZmZmZgRApHA9Ctf9s0DNzMzMzEw0QFyPwvUofEFA16NwPQpjikApXI\\u002fCtdTAQKRwPQrXY1xA9ihcj8L1FUCF61G4nqi\\u002fQMP1KFyPlnBAXI\\u002fC9Sg0iUC4HoXrUfSMQI\\u002fC9Shch25AmpmZmZlZMEBcj8L1KDaNQB+F61G4HitAcT0K16NQaEAfhetRuESOQDMzMzMzU2NAzczMzMysXECF61G4HsuNQD0K16MwUrpArkfhehSuB0AAAAAAAIBDQPYoXI8Ct7NAXI\\u002fC9SjcPUC4HoXrUQBjQDMzMzMzMyFAZmZmZmZmFUC4HoXrUXg+QEjhehSuJ0VAmpmZmZn5b0CPwvUoXLdpQK5H4XpUHbpAAAAAAACocUAK16NwPQomQBSuR+F6VEFAuB6F61G49j\\u002fXo3A9CtcHQArXo3A9CiNAw\\u002fUoXI8iZ0DhehSuR6ExQMP1KFyPSmlAhetRuB7VYkAzMzMzM7MsQKRwPQrXIzJAw\\u002fUoXI9EikAfhetRuB+0QPYoXI\\u002fC9fw\\u002fPQrXo3A9KkBSuB6F6ye0QClcj8L1qDVA16NwPQoXMEBI4XoUrkcsQB+F61G4HihAAAAAAAAAHEAzMzMzM0NwQClcj8L1wHVAUrgehesRMkDNzMzMzARpQHE9CtejcDtA16NwPQrX8z\\u002fsUbgehU+OQFK4HoXrJ4pApHA9CtcjK0DsUbgehas0QLgehetR+DxAzczMzMyMN0DXo3A9ClcvQD0K16NwZXNASOF6FK4HWkBxPQrXo7iMQClcj8L1KPg\\u002fuB6F61FAZEBI4XoUrkcrQA==\"},\"type\":\"box\",\"xaxis\":\"x\",\"yaxis\":\"y\"},{\"name\":\"UnitPrice\",\"x\":{\"dtype\":\"f8\",\"bdata\":\"mpmZmZlJXEA9CtejcD0pQKRwPQpXEbZAXI\\u002fC9ShcB0A9CtejcD32P65H4XoU3mJA16NwPQrXBUBcj8L1KFwDQEjhehSuxydAFK5H4Xo0WUBcj8L16Pe\\u002fQFyPwvUoXAdAzczMzMzMIEDXo3A9CvdbQI\\u002fC9Shcj\\u002fY\\u002fcT0K16N8cEAAAAAAAABAQMP1KFyPAkVA7FG4HoV5iUD2KFyPwgl1QArXo3A9CipAw\\u002fUoXI\\u002fqaUAzMzMzM9NiQM3MzMzMdGFAZmZmZmZm8j8pXI\\u002fC9YhaQI\\u002fC9Sjc67NAuB6F61FoZ0AUrkfhelQ+QClcj8L1AG1Aj8L1KFyljkCkcD0KF4C2QHE9CtejgHJAAAAAAACwWkAUrkfhOru1QPYoXI\\u002fC9QRAw\\u002fUoXI9CKUApXI\\u002fC9QhfQD0K16Nw745AmpmZmZlBZUC4HoXrUbgrQOF6FK5HEVtA16NwPQoBikCkcD0K1yMqQAAAAAAAGopAXI\\u002fC9SjcLECkcD0K13tsQOF6FK5H4QJArkfhehSuGUBxPQrXo3hkQPYoXI\\u002fClV5A16NwPQpli0AUrkfhehxuQArXo3A9YIlArkfhehTuZkCPwvUoXB9dQGZmZmZmpjVAuB6F61G4J0BmZmZmZq5iQNejcD0Kx3VAw\\u002fUoXI\\u002fCjEBI4XoUrk9yQFyPwvUo9GRASOF6FK7HLEBcj8L1KFwZQLgehetRaGxAmpmZmZmZAUBmZmZmZm5kQBSuR+F6FPY\\u002fAAAAAACAXUAfhetRuJ4sQIXrUbgehf8\\u002f9ihcj8KbjkDD9ShcjyJHQHE9Ctej8CVAKVyPwvU4jEAK16NwPZJxQGZmZmZmZgRAXI\\u002fC9SjcJEAK16NwPbpnQOxRuB6Fu3JAKVyPwvUoKEBI4XoU7kbCQDMzMzMzNbxAcT0K16MAX0AK16NwPSJjQMP1KFyPsmRApHA9CpeztUAK16NwPdJiQGZmZmZmBopAH4XrUbhuaEBmZmZmZuYnQM3MzMzM3G5A7FG4HoUjjEDsUbgehbtmQB+F61G4JmNAhetRuB5FW0CkcD0K12M1QKRwPQo3n8JAZmZmZmZmNEDXo3A9Clc4QFyPwvUo1GpAj8L1KFzBwEAK16NwPYomQK5H4XoUhopAzczMzMz8XEB7FK5H4SpfQFyPwvUoHDdA7FG4HoXjcUBSuB6F6\\u002fFlQFyPwvUoXDtA7FG4HgXMvUCkcD0K16MmQOxRuB6F6wNAZmZmZmbGYkCF61G4HtVlQNejcD0KT2hAMzMzMzNzM0BI4XoUrsciQLgehetReENA16NwPcpzukCPwvUoXFdnQI\\u002fC9ShcjylAw\\u002fUoXI\\u002fCBUB7FK5H4apdQNejcD0KF49A4XoUrkehMkDXo3A9CtcpQHE9Ctej8C1AexSuR+F6OkBxPQrXo9ByQB+F61G4nitASOF6FE5XwUA9CtejcPWJQDMzMzMzk1pApHA9CtcjLEBxPQrXo86JQPYoXI\\u002fCdUZAexSuR+H6bUCPwvUoXA8nQD0K16OwTLVApHA9ClfGuEDXo3A9CtchQD0K16Nw\\u002fURAXI\\u002fC9ShsXUBxPQrXowBbQGZmZmZmhmBA7FG4HoULYEDsUbgehbttQEjhehSuB8FAexSuR+F6QEBI4XoUzjnCQIXrUbgeq4xA9ihcj8J1NUCPwvUoXM85QHE9Ctej8CtAUrgehcv0wUBcj8L1KFz7PxSuR+F6PHJAw\\u002fUoXI9SXkCF61G4HoUZQFyPwvUo3CNACtejcD2KM0ApXI\\u002fCdde0QPYoXI\\u002fC3WZAexSuR+HejUAK16NwPapBQIXrUbgeZUVArkfhehTacUCPwvUoXG2NQHE9CtejYF1AAAAAAAAYZUCuR+F6FA5gQIXrUbgeRURAcT0K10M2w0B7FK5H4dJ0QMP1KFyPwv0\\u002fUrgehetRG0AfhetRuI5gQNejcD0KnYpA9ihcj8JDikDNzMzMzMwAQNejcD0KZ2dAhetRuJ5aw0ApXI\\u002fC9WBkQD0K16NwPQRAw\\u002fUoXI+idUBSuB6F66lkQDMzMzMzs3RAPQrXo3A9\\u002fj+amZmZmTljQPYoXI\\u002fC9fA\\u002fKVyPwvWoQEC4HoXrUTBzQAAAAAAA08BAFK5H4Xp0Z0BmZmZmZmYXQLgehetRuAZAZmZmZmbeaECPwvUoXI9rQM3MzMzMzCNA7FG4HoVrJEB7FK5H4fohQJqZmZmZmQFAuB6F61E4KUDhehSuR+FjQAAAAAAAAAJArkfhehSuG0BxPQrXo6hnQFyPwvUoMopAuB6F61G4JkDNzMzMzMwhQEjhehSuV1tAXI\\u002fC9SisZkBxPQrXo3D1P2ZmZmZmlmRA16NwPQrXAUApXI\\u002fC9Sj8P65H4XoUriBAw\\u002fUoXI++cED2KFyPwkGJQM3MzMzM7HBAAAAAACBWwUBmZmZmZuYvQIXrUbgehShAXI\\u002fC9SjCjEBxPQrXo7BAQHsUrkfhKl5AhetRuB51Y0BSuB6F6+FlQClcj8L1qDBAMzMzMzPfd0AAAAAAAIAjQAAAAAAAACBAPQrXo3A9KUC4HoXrUbg0QKRwPQrXg2RACtejcD3Kb0AUrkfhevBwQFK4HoXrUS9ASOF6FK5HAUApXI\\u002fC9chFQJqZmZmZQWVAH4XrUbge+T\\u002fNzMzMzExEQOxRuB6FA3FA4XoUrkdhLEDhehSuR6lkQAAAAAAAAPw\\u002fuB6F61FIYkBSuB6F61EZQJqZmZmZBY5AMzMzM3PDtEAK16NwPYohQIXrUbgeFWNA9ihcj8I9bUD2KFyPwsVoQArXo3A9CixACtejcD1yY0DsUbgehV+OQMP1KFyPYoxAhetRuB5lXEAK16NwPVpuQI\\u002fC9ShcN2ZA4XoUrkdBQUD2KFyPwlVxQKRwPQrXozpA9ihcj8LFXED2KFyPwtuKQEjhehSuxylAKVyPwvVgaEAUrkfhetxvQMP1KFyP4kRA4XoUrkdxYEApXI\\u002fC9agmQK5H4XoUritAj8L1KFxHcUBxPQrXo7hvQLgehetROC1AcT0K16NCi0AAAAAAIHbCQEjhehSuT2xAmpmZmZk5WUAUrkfhehQAQDMzMzMzs3NAexSuRyEWukAK16NwPTJmQOF6FK5HYStA7FG4HoXDYECPwvUoXO+KQOF6FK5HKWlASOF6FK4nQECkcD0K1yMpQFyPwvUoBGhAMzMzMzOzNkApXI\\u002fC9UhbQPYoXI\\u002fij8JAw\\u002fUoXM9xtUCuR+F6FK7zP5qZmZmZP4tA7FG4HoVzZkAAAAAAAFBtQEjhehSuJ0VAUrgehethcUDXo3A9CtcVQPYoXI\\u002fC2XRArkfhepROtUAUrkfhetQzQBSuR+F6xG5AcT0K16MQQUCkcD0K1yM1QKRwPQrXa2lAMzMzMzPraECamZmZGT28QD0K16NwPSNAexSuR+ECjEBSuB6F61H8P+xRuB6FM2NAuB6F61EoW0D2KFyPwnUzQOxRuB6FYYtA9ihcj8JFZED2KFyPwvX4P\\u002fYoXI\\u002fC9fA\\u002f9ihcj4J0wUCF61G4HoX\\u002fP3E9CtejsGJAw\\u002fUoXI\\u002faYkApXI\\u002fC9Wg5QMP1KFwPWLtAhetRuB5FM0CPwvUoXM9EQM3MzMzMMI5AAAAAAADQX0AK16NwPQKOQOxRuB6Fl3BACtejcD0KI0BxPQrXo9ByQDMzMzMzy8JA7FG4HoXrJkCPwvUoXPu4QGZmZmZmrmVAUrgehetRJEDNzMzMzIxGQIXrUbgehUNAFK5H4Xp0ZEAK16NwPWJlQIXrUbgetW9ApHA9CtdXjEAfhetRuJ4kQHsUrkfh4mRA9ihcj8KdYUCamZmZmVkyQMP1KFyPImpAAAAAAACwZUB7FK5H4fouQClcj8L1aF9Aw\\u002fUoXI9ybEBmZmZmZl5hQHsUrkfhomNA9ihcj8L7i0CamZmZmblGQLgehetRmEBAFK5H4XrUOUAAAAAAAFiJQMP1KFyPEm1AmpmZmZk9jUD2KFyPwhmNQAAAAAAAPHJAzczMzMxMJkCF61G4HgVkQKRwPQrXIyhAj8L1KFyP9j\\u002fXo3A9Co9mQOxRuB6F6zNA4XoUrkfRb0BmZmZmZupxQHsUrkfh8mhACtejcD2KIUBcj8L1KBRlQKRwPQrXArpAXI\\u002fC9SjMZEAzMzMzM6+LQM3MzMzMtHZA9ihcj8KFXkAUrkfhemRlQKRwPQrXq41AH4XrUXiktECF61G4HsVFQAAAAAAAXHRAMzMzMzMzJUDD9Shcj8L5P8P1KFyPumJA9ihcj8JtcEBmZmZmBqfCQKRwPQrXY3JAXI\\u002fC9SikYED2KFyPwtVkQPYoXI\\u002fC9fg\\u002fpHA9Ctdza0BI4XoUrgc2QB+F61G4Nm9AmpmZmZmZH0CkcD0K1+WMQD0K16PwBr1AKVyPwvVAikBcj8L1KFwFQDMzMzMzw2xAmpmZmZmZPkCkcD0K16P0P+F6FK5Hv4pACtejcD06bECkcD0K15NhQB+F61G4IndAzczMzMzMIEDsUbgehWspQD0K16NwfTJAuB6F61FQbUAAAAAAAMBoQHsUrkfhZItAKVyPwvWgc0D2KFyPwvUdQHsUrkfhejpAXI\\u002fC9SicMkC4HoXrUTgyQGZmZmZmZgRApHA9Ctf9s0DNzMzMzEw0QFyPwvUofEFA16NwPQpjikApXI\\u002fCtdTAQKRwPQrXY1xA9ihcj8L1FUCF61G4nqi\\u002fQMP1KFyPlnBAXI\\u002fC9Sg0iUC4HoXrUfSMQI\\u002fC9Shch25AmpmZmZlZMEBcj8L1KDaNQB+F61G4HitAcT0K16NQaEAfhetRuESOQDMzMzMzU2NAzczMzMysXECF61G4HsuNQD0K16MwUrpArkfhehSuB0AAAAAAAIBDQPYoXI8Ct7NAXI\\u002fC9SjcPUC4HoXrUQBjQDMzMzMzMyFAZmZmZmZmFUC4HoXrUXg+QEjhehSuJ0VAmpmZmZn5b0CPwvUoXLdpQK5H4XpUHbpAAAAAAACocUAK16NwPQomQBSuR+F6VEFAuB6F61G49j\\u002fXo3A9CtcHQArXo3A9CiNAw\\u002fUoXI8iZ0DhehSuR6ExQMP1KFyPSmlAhetRuB7VYkAzMzMzM7MsQKRwPQrXIzJAw\\u002fUoXI9EikAfhetRuB+0QPYoXI\\u002fC9fw\\u002fPQrXo3A9KkBSuB6F6ye0QClcj8L1qDVA16NwPQoXMEBI4XoUrkcsQB+F61G4HihAAAAAAAAAHEAzMzMzM0NwQClcj8L1wHVAUrgehesRMkDNzMzMzARpQHE9CtejcDtA16NwPQrX8z\\u002fsUbgehU+OQFK4HoXrJ4pApHA9CtcjK0DsUbgehas0QLgehetR+DxAzczMzMyMN0DXo3A9ClcvQD0K16NwZXNASOF6FK4HWkBxPQrXo7iMQClcj8L1KPg\\u002fuB6F61FAZEBI4XoUrkcrQA==\"},\"type\":\"histogram\",\"xaxis\":\"x2\",\"yaxis\":\"y2\"}],                        {\"template\":{\"data\":{\"histogram2dcontour\":[{\"type\":\"histogram2dcontour\",\"colorbar\":{\"outlinewidth\":0,\"ticks\":\"\"},\"colorscale\":[[0.0,\"#0d0887\"],[0.1111111111111111,\"#46039f\"],[0.2222222222222222,\"#7201a8\"],[0.3333333333333333,\"#9c179e\"],[0.4444444444444444,\"#bd3786\"],[0.5555555555555556,\"#d8576b\"],[0.6666666666666666,\"#ed7953\"],[0.7777777777777778,\"#fb9f3a\"],[0.8888888888888888,\"#fdca26\"],[1.0,\"#f0f921\"]]}],\"choropleth\":[{\"type\":\"choropleth\",\"colorbar\":{\"outlinewidth\":0,\"ticks\":\"\"}}],\"histogram2d\":[{\"type\":\"histogram2d\",\"colorbar\":{\"outlinewidth\":0,\"ticks\":\"\"},\"colorscale\":[[0.0,\"#0d0887\"],[0.1111111111111111,\"#46039f\"],[0.2222222222222222,\"#7201a8\"],[0.3333333333333333,\"#9c179e\"],[0.4444444444444444,\"#bd3786\"],[0.5555555555555556,\"#d8576b\"],[0.6666666666666666,\"#ed7953\"],[0.7777777777777778,\"#fb9f3a\"],[0.8888888888888888,\"#fdca26\"],[1.0,\"#f0f921\"]]}],\"heatmap\":[{\"type\":\"heatmap\",\"colorbar\":{\"outlinewidth\":0,\"ticks\":\"\"},\"colorscale\":[[0.0,\"#0d0887\"],[0.1111111111111111,\"#46039f\"],[0.2222222222222222,\"#7201a8\"],[0.3333333333333333,\"#9c179e\"],[0.4444444444444444,\"#bd3786\"],[0.5555555555555556,\"#d8576b\"],[0.6666666666666666,\"#ed7953\"],[0.7777777777777778,\"#fb9f3a\"],[0.8888888888888888,\"#fdca26\"],[1.0,\"#f0f921\"]]}],\"contourcarpet\":[{\"type\":\"contourcarpet\",\"colorbar\":{\"outlinewidth\":0,\"ticks\":\"\"}}],\"contour\":[{\"type\":\"contour\",\"colorbar\":{\"outlinewidth\":0,\"ticks\":\"\"},\"colorscale\":[[0.0,\"#0d0887\"],[0.1111111111111111,\"#46039f\"],[0.2222222222222222,\"#7201a8\"],[0.3333333333333333,\"#9c179e\"],[0.4444444444444444,\"#bd3786\"],[0.5555555555555556,\"#d8576b\"],[0.6666666666666666,\"#ed7953\"],[0.7777777777777778,\"#fb9f3a\"],[0.8888888888888888,\"#fdca26\"],[1.0,\"#f0f921\"]]}],\"surface\":[{\"type\":\"surface\",\"colorbar\":{\"outlinewidth\":0,\"ticks\":\"\"},\"colorscale\":[[0.0,\"#0d0887\"],[0.1111111111111111,\"#46039f\"],[0.2222222222222222,\"#7201a8\"],[0.3333333333333333,\"#9c179e\"],[0.4444444444444444,\"#bd3786\"],[0.5555555555555556,\"#d8576b\"],[0.6666666666666666,\"#ed7953\"],[0.7777777777777778,\"#fb9f3a\"],[0.8888888888888888,\"#fdca26\"],[1.0,\"#f0f921\"]]}],\"mesh3d\":[{\"type\":\"mesh3d\",\"colorbar\":{\"outlinewidth\":0,\"ticks\":\"\"}}],\"scatter\":[{\"fillpattern\":{\"fillmode\":\"overlay\",\"size\":10,\"solidity\":0.2},\"type\":\"scatter\"}],\"parcoords\":[{\"type\":\"parcoords\",\"line\":{\"colorbar\":{\"outlinewidth\":0,\"ticks\":\"\"}}}],\"scatterpolargl\":[{\"type\":\"scatterpolargl\",\"marker\":{\"colorbar\":{\"outlinewidth\":0,\"ticks\":\"\"}}}],\"bar\":[{\"error_x\":{\"color\":\"#2a3f5f\"},\"error_y\":{\"color\":\"#2a3f5f\"},\"marker\":{\"line\":{\"color\":\"#E5ECF6\",\"width\":0.5},\"pattern\":{\"fillmode\":\"overlay\",\"size\":10,\"solidity\":0.2}},\"type\":\"bar\"}],\"scattergeo\":[{\"type\":\"scattergeo\",\"marker\":{\"colorbar\":{\"outlinewidth\":0,\"ticks\":\"\"}}}],\"scatterpolar\":[{\"type\":\"scatterpolar\",\"marker\":{\"colorbar\":{\"outlinewidth\":0,\"ticks\":\"\"}}}],\"histogram\":[{\"marker\":{\"pattern\":{\"fillmode\":\"overlay\",\"size\":10,\"solidity\":0.2}},\"type\":\"histogram\"}],\"scattergl\":[{\"type\":\"scattergl\",\"marker\":{\"colorbar\":{\"outlinewidth\":0,\"ticks\":\"\"}}}],\"scatter3d\":[{\"type\":\"scatter3d\",\"line\":{\"colorbar\":{\"outlinewidth\":0,\"ticks\":\"\"}},\"marker\":{\"colorbar\":{\"outlinewidth\":0,\"ticks\":\"\"}}}],\"scattermap\":[{\"type\":\"scattermap\",\"marker\":{\"colorbar\":{\"outlinewidth\":0,\"ticks\":\"\"}}}],\"scattermapbox\":[{\"type\":\"scattermapbox\",\"marker\":{\"colorbar\":{\"outlinewidth\":0,\"ticks\":\"\"}}}],\"scatterternary\":[{\"type\":\"scatterternary\",\"marker\":{\"colorbar\":{\"outlinewidth\":0,\"ticks\":\"\"}}}],\"scattercarpet\":[{\"type\":\"scattercarpet\",\"marker\":{\"colorbar\":{\"outlinewidth\":0,\"ticks\":\"\"}}}],\"carpet\":[{\"aaxis\":{\"endlinecolor\":\"#2a3f5f\",\"gridcolor\":\"white\",\"linecolor\":\"white\",\"minorgridcolor\":\"white\",\"startlinecolor\":\"#2a3f5f\"},\"baxis\":{\"endlinecolor\":\"#2a3f5f\",\"gridcolor\":\"white\",\"linecolor\":\"white\",\"minorgridcolor\":\"white\",\"startlinecolor\":\"#2a3f5f\"},\"type\":\"carpet\"}],\"table\":[{\"cells\":{\"fill\":{\"color\":\"#EBF0F8\"},\"line\":{\"color\":\"white\"}},\"header\":{\"fill\":{\"color\":\"#C8D4E3\"},\"line\":{\"color\":\"white\"}},\"type\":\"table\"}],\"barpolar\":[{\"marker\":{\"line\":{\"color\":\"#E5ECF6\",\"width\":0.5},\"pattern\":{\"fillmode\":\"overlay\",\"size\":10,\"solidity\":0.2}},\"type\":\"barpolar\"}],\"pie\":[{\"automargin\":true,\"type\":\"pie\"}]},\"layout\":{\"autotypenumbers\":\"strict\",\"colorway\":[\"#636efa\",\"#EF553B\",\"#00cc96\",\"#ab63fa\",\"#FFA15A\",\"#19d3f3\",\"#FF6692\",\"#B6E880\",\"#FF97FF\",\"#FECB52\"],\"font\":{\"color\":\"#2a3f5f\"},\"hovermode\":\"closest\",\"hoverlabel\":{\"align\":\"left\"},\"paper_bgcolor\":\"white\",\"plot_bgcolor\":\"#E5ECF6\",\"polar\":{\"bgcolor\":\"#E5ECF6\",\"angularaxis\":{\"gridcolor\":\"white\",\"linecolor\":\"white\",\"ticks\":\"\"},\"radialaxis\":{\"gridcolor\":\"white\",\"linecolor\":\"white\",\"ticks\":\"\"}},\"ternary\":{\"bgcolor\":\"#E5ECF6\",\"aaxis\":{\"gridcolor\":\"white\",\"linecolor\":\"white\",\"ticks\":\"\"},\"baxis\":{\"gridcolor\":\"white\",\"linecolor\":\"white\",\"ticks\":\"\"},\"caxis\":{\"gridcolor\":\"white\",\"linecolor\":\"white\",\"ticks\":\"\"}},\"coloraxis\":{\"colorbar\":{\"outlinewidth\":0,\"ticks\":\"\"}},\"colorscale\":{\"sequential\":[[0.0,\"#0d0887\"],[0.1111111111111111,\"#46039f\"],[0.2222222222222222,\"#7201a8\"],[0.3333333333333333,\"#9c179e\"],[0.4444444444444444,\"#bd3786\"],[0.5555555555555556,\"#d8576b\"],[0.6666666666666666,\"#ed7953\"],[0.7777777777777778,\"#fb9f3a\"],[0.8888888888888888,\"#fdca26\"],[1.0,\"#f0f921\"]],\"sequentialminus\":[[0.0,\"#0d0887\"],[0.1111111111111111,\"#46039f\"],[0.2222222222222222,\"#7201a8\"],[0.3333333333333333,\"#9c179e\"],[0.4444444444444444,\"#bd3786\"],[0.5555555555555556,\"#d8576b\"],[0.6666666666666666,\"#ed7953\"],[0.7777777777777778,\"#fb9f3a\"],[0.8888888888888888,\"#fdca26\"],[1.0,\"#f0f921\"]],\"diverging\":[[0,\"#8e0152\"],[0.1,\"#c51b7d\"],[0.2,\"#de77ae\"],[0.3,\"#f1b6da\"],[0.4,\"#fde0ef\"],[0.5,\"#f7f7f7\"],[0.6,\"#e6f5d0\"],[0.7,\"#b8e186\"],[0.8,\"#7fbc41\"],[0.9,\"#4d9221\"],[1,\"#276419\"]]},\"xaxis\":{\"gridcolor\":\"white\",\"linecolor\":\"white\",\"ticks\":\"\",\"title\":{\"standoff\":15},\"zerolinecolor\":\"white\",\"automargin\":true,\"zerolinewidth\":2},\"yaxis\":{\"gridcolor\":\"white\",\"linecolor\":\"white\",\"ticks\":\"\",\"title\":{\"standoff\":15},\"zerolinecolor\":\"white\",\"automargin\":true,\"zerolinewidth\":2},\"scene\":{\"xaxis\":{\"backgroundcolor\":\"#E5ECF6\",\"gridcolor\":\"white\",\"linecolor\":\"white\",\"showbackground\":true,\"ticks\":\"\",\"zerolinecolor\":\"white\",\"gridwidth\":2},\"yaxis\":{\"backgroundcolor\":\"#E5ECF6\",\"gridcolor\":\"white\",\"linecolor\":\"white\",\"showbackground\":true,\"ticks\":\"\",\"zerolinecolor\":\"white\",\"gridwidth\":2},\"zaxis\":{\"backgroundcolor\":\"#E5ECF6\",\"gridcolor\":\"white\",\"linecolor\":\"white\",\"showbackground\":true,\"ticks\":\"\",\"zerolinecolor\":\"white\",\"gridwidth\":2}},\"shapedefaults\":{\"line\":{\"color\":\"#2a3f5f\"}},\"annotationdefaults\":{\"arrowcolor\":\"#2a3f5f\",\"arrowhead\":0,\"arrowwidth\":1},\"geo\":{\"bgcolor\":\"white\",\"landcolor\":\"#E5ECF6\",\"subunitcolor\":\"white\",\"showland\":true,\"showlakes\":true,\"lakecolor\":\"white\"},\"title\":{\"x\":0.05},\"mapbox\":{\"style\":\"light\"}}},\"xaxis\":{\"anchor\":\"y\",\"domain\":[0.0,1.0]},\"yaxis\":{\"anchor\":\"x\",\"domain\":[0.575,1.0]},\"xaxis2\":{\"anchor\":\"y2\",\"domain\":[0.0,1.0]},\"yaxis2\":{\"anchor\":\"x2\",\"domain\":[0.0,0.425]},\"title\":{\"text\":\"UnitPrice\"},\"width\":1000,\"height\":600},                        {\"responsive\": true}                    ).then(function(){\n",
       "                            \n",
       "var gd = document.getElementById('eca12834-d28f-4034-abf9-cd09d7e0fb9e');\n",
       "var x = new MutationObserver(function (mutations, observer) {{\n",
       "        var display = window.getComputedStyle(gd).display;\n",
       "        if (!display || display === 'none') {{\n",
       "            console.log([gd, 'removed!']);\n",
       "            Plotly.purge(gd);\n",
       "            observer.disconnect();\n",
       "        }}\n",
       "}});\n",
       "\n",
       "// Listen for the removal of the full notebook cells\n",
       "var notebookContainer = gd.closest('#notebook-container');\n",
       "if (notebookContainer) {{\n",
       "    x.observe(notebookContainer, {childList: true});\n",
       "}}\n",
       "\n",
       "// Listen for the clearing of the current output cell\n",
       "var outputEl = gd.closest('.output');\n",
       "if (outputEl) {{\n",
       "    x.observe(outputEl, {childList: true});\n",
       "}}\n",
       "\n",
       "                        })                };            </script>        </div>"
      ]
     },
     "metadata": {},
     "output_type": "display_data"
    }
   ],
   "source": [
    "make_box_hist(df['UnitPrice'])"
   ]
  },
  {
   "cell_type": "code",
   "execution_count": 75,
   "id": "659103a3-b218-4a43-ba33-a9ee9b77638c",
   "metadata": {},
   "outputs": [
    {
     "data": {
      "application/vnd.plotly.v1+json": {
       "config": {
        "plotlyServerURL": "https://plot.ly"
       },
       "data": [
        {
         "boxmean": true,
         "name": "TotalCost",
         "type": "box",
         "x": {
          "bdata": "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",
          "dtype": "f8"
         },
         "xaxis": "x",
         "yaxis": "y"
        },
        {
         "name": "TotalCost",
         "type": "histogram",
         "x": {
          "bdata": "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",
          "dtype": "f8"
         },
         "xaxis": "x2",
         "yaxis": "y2"
        }
       ],
       "layout": {
        "height": 600,
        "template": {
         "data": {
          "bar": [
           {
            "error_x": {
             "color": "#2a3f5f"
            },
            "error_y": {
             "color": "#2a3f5f"
            },
            "marker": {
             "line": {
              "color": "#E5ECF6",
              "width": 0.5
             },
             "pattern": {
              "fillmode": "overlay",
              "size": 10,
              "solidity": 0.2
             }
            },
            "type": "bar"
           }
          ],
          "barpolar": [
           {
            "marker": {
             "line": {
              "color": "#E5ECF6",
              "width": 0.5
             },
             "pattern": {
              "fillmode": "overlay",
              "size": 10,
              "solidity": 0.2
             }
            },
            "type": "barpolar"
           }
          ],
          "carpet": [
           {
            "aaxis": {
             "endlinecolor": "#2a3f5f",
             "gridcolor": "white",
             "linecolor": "white",
             "minorgridcolor": "white",
             "startlinecolor": "#2a3f5f"
            },
            "baxis": {
             "endlinecolor": "#2a3f5f",
             "gridcolor": "white",
             "linecolor": "white",
             "minorgridcolor": "white",
             "startlinecolor": "#2a3f5f"
            },
            "type": "carpet"
           }
          ],
          "choropleth": [
           {
            "colorbar": {
             "outlinewidth": 0,
             "ticks": ""
            },
            "type": "choropleth"
           }
          ],
          "contour": [
           {
            "colorbar": {
             "outlinewidth": 0,
             "ticks": ""
            },
            "colorscale": [
             [
              0,
              "#0d0887"
             ],
             [
              0.1111111111111111,
              "#46039f"
             ],
             [
              0.2222222222222222,
              "#7201a8"
             ],
             [
              0.3333333333333333,
              "#9c179e"
             ],
             [
              0.4444444444444444,
              "#bd3786"
             ],
             [
              0.5555555555555556,
              "#d8576b"
             ],
             [
              0.6666666666666666,
              "#ed7953"
             ],
             [
              0.7777777777777778,
              "#fb9f3a"
             ],
             [
              0.8888888888888888,
              "#fdca26"
             ],
             [
              1,
              "#f0f921"
             ]
            ],
            "type": "contour"
           }
          ],
          "contourcarpet": [
           {
            "colorbar": {
             "outlinewidth": 0,
             "ticks": ""
            },
            "type": "contourcarpet"
           }
          ],
          "heatmap": [
           {
            "colorbar": {
             "outlinewidth": 0,
             "ticks": ""
            },
            "colorscale": [
             [
              0,
              "#0d0887"
             ],
             [
              0.1111111111111111,
              "#46039f"
             ],
             [
              0.2222222222222222,
              "#7201a8"
             ],
             [
              0.3333333333333333,
              "#9c179e"
             ],
             [
              0.4444444444444444,
              "#bd3786"
             ],
             [
              0.5555555555555556,
              "#d8576b"
             ],
             [
              0.6666666666666666,
              "#ed7953"
             ],
             [
              0.7777777777777778,
              "#fb9f3a"
             ],
             [
              0.8888888888888888,
              "#fdca26"
             ],
             [
              1,
              "#f0f921"
             ]
            ],
            "type": "heatmap"
           }
          ],
          "histogram": [
           {
            "marker": {
             "pattern": {
              "fillmode": "overlay",
              "size": 10,
              "solidity": 0.2
             }
            },
            "type": "histogram"
           }
          ],
          "histogram2d": [
           {
            "colorbar": {
             "outlinewidth": 0,
             "ticks": ""
            },
            "colorscale": [
             [
              0,
              "#0d0887"
             ],
             [
              0.1111111111111111,
              "#46039f"
             ],
             [
              0.2222222222222222,
              "#7201a8"
             ],
             [
              0.3333333333333333,
              "#9c179e"
             ],
             [
              0.4444444444444444,
              "#bd3786"
             ],
             [
              0.5555555555555556,
              "#d8576b"
             ],
             [
              0.6666666666666666,
              "#ed7953"
             ],
             [
              0.7777777777777778,
              "#fb9f3a"
             ],
             [
              0.8888888888888888,
              "#fdca26"
             ],
             [
              1,
              "#f0f921"
             ]
            ],
            "type": "histogram2d"
           }
          ],
          "histogram2dcontour": [
           {
            "colorbar": {
             "outlinewidth": 0,
             "ticks": ""
            },
            "colorscale": [
             [
              0,
              "#0d0887"
             ],
             [
              0.1111111111111111,
              "#46039f"
             ],
             [
              0.2222222222222222,
              "#7201a8"
             ],
             [
              0.3333333333333333,
              "#9c179e"
             ],
             [
              0.4444444444444444,
              "#bd3786"
             ],
             [
              0.5555555555555556,
              "#d8576b"
             ],
             [
              0.6666666666666666,
              "#ed7953"
             ],
             [
              0.7777777777777778,
              "#fb9f3a"
             ],
             [
              0.8888888888888888,
              "#fdca26"
             ],
             [
              1,
              "#f0f921"
             ]
            ],
            "type": "histogram2dcontour"
           }
          ],
          "mesh3d": [
           {
            "colorbar": {
             "outlinewidth": 0,
             "ticks": ""
            },
            "type": "mesh3d"
           }
          ],
          "parcoords": [
           {
            "line": {
             "colorbar": {
              "outlinewidth": 0,
              "ticks": ""
             }
            },
            "type": "parcoords"
           }
          ],
          "pie": [
           {
            "automargin": true,
            "type": "pie"
           }
          ],
          "scatter": [
           {
            "fillpattern": {
             "fillmode": "overlay",
             "size": 10,
             "solidity": 0.2
            },
            "type": "scatter"
           }
          ],
          "scatter3d": [
           {
            "line": {
             "colorbar": {
              "outlinewidth": 0,
              "ticks": ""
             }
            },
            "marker": {
             "colorbar": {
              "outlinewidth": 0,
              "ticks": ""
             }
            },
            "type": "scatter3d"
           }
          ],
          "scattercarpet": [
           {
            "marker": {
             "colorbar": {
              "outlinewidth": 0,
              "ticks": ""
             }
            },
            "type": "scattercarpet"
           }
          ],
          "scattergeo": [
           {
            "marker": {
             "colorbar": {
              "outlinewidth": 0,
              "ticks": ""
             }
            },
            "type": "scattergeo"
           }
          ],
          "scattergl": [
           {
            "marker": {
             "colorbar": {
              "outlinewidth": 0,
              "ticks": ""
             }
            },
            "type": "scattergl"
           }
          ],
          "scattermap": [
           {
            "marker": {
             "colorbar": {
              "outlinewidth": 0,
              "ticks": ""
             }
            },
            "type": "scattermap"
           }
          ],
          "scattermapbox": [
           {
            "marker": {
             "colorbar": {
              "outlinewidth": 0,
              "ticks": ""
             }
            },
            "type": "scattermapbox"
           }
          ],
          "scatterpolar": [
           {
            "marker": {
             "colorbar": {
              "outlinewidth": 0,
              "ticks": ""
             }
            },
            "type": "scatterpolar"
           }
          ],
          "scatterpolargl": [
           {
            "marker": {
             "colorbar": {
              "outlinewidth": 0,
              "ticks": ""
             }
            },
            "type": "scatterpolargl"
           }
          ],
          "scatterternary": [
           {
            "marker": {
             "colorbar": {
              "outlinewidth": 0,
              "ticks": ""
             }
            },
            "type": "scatterternary"
           }
          ],
          "surface": [
           {
            "colorbar": {
             "outlinewidth": 0,
             "ticks": ""
            },
            "colorscale": [
             [
              0,
              "#0d0887"
             ],
             [
              0.1111111111111111,
              "#46039f"
             ],
             [
              0.2222222222222222,
              "#7201a8"
             ],
             [
              0.3333333333333333,
              "#9c179e"
             ],
             [
              0.4444444444444444,
              "#bd3786"
             ],
             [
              0.5555555555555556,
              "#d8576b"
             ],
             [
              0.6666666666666666,
              "#ed7953"
             ],
             [
              0.7777777777777778,
              "#fb9f3a"
             ],
             [
              0.8888888888888888,
              "#fdca26"
             ],
             [
              1,
              "#f0f921"
             ]
            ],
            "type": "surface"
           }
          ],
          "table": [
           {
            "cells": {
             "fill": {
              "color": "#EBF0F8"
             },
             "line": {
              "color": "white"
             }
            },
            "header": {
             "fill": {
              "color": "#C8D4E3"
             },
             "line": {
              "color": "white"
             }
            },
            "type": "table"
           }
          ]
         },
         "layout": {
          "annotationdefaults": {
           "arrowcolor": "#2a3f5f",
           "arrowhead": 0,
           "arrowwidth": 1
          },
          "autotypenumbers": "strict",
          "coloraxis": {
           "colorbar": {
            "outlinewidth": 0,
            "ticks": ""
           }
          },
          "colorscale": {
           "diverging": [
            [
             0,
             "#8e0152"
            ],
            [
             0.1,
             "#c51b7d"
            ],
            [
             0.2,
             "#de77ae"
            ],
            [
             0.3,
             "#f1b6da"
            ],
            [
             0.4,
             "#fde0ef"
            ],
            [
             0.5,
             "#f7f7f7"
            ],
            [
             0.6,
             "#e6f5d0"
            ],
            [
             0.7,
             "#b8e186"
            ],
            [
             0.8,
             "#7fbc41"
            ],
            [
             0.9,
             "#4d9221"
            ],
            [
             1,
             "#276419"
            ]
           ],
           "sequential": [
            [
             0,
             "#0d0887"
            ],
            [
             0.1111111111111111,
             "#46039f"
            ],
            [
             0.2222222222222222,
             "#7201a8"
            ],
            [
             0.3333333333333333,
             "#9c179e"
            ],
            [
             0.4444444444444444,
             "#bd3786"
            ],
            [
             0.5555555555555556,
             "#d8576b"
            ],
            [
             0.6666666666666666,
             "#ed7953"
            ],
            [
             0.7777777777777778,
             "#fb9f3a"
            ],
            [
             0.8888888888888888,
             "#fdca26"
            ],
            [
             1,
             "#f0f921"
            ]
           ],
           "sequentialminus": [
            [
             0,
             "#0d0887"
            ],
            [
             0.1111111111111111,
             "#46039f"
            ],
            [
             0.2222222222222222,
             "#7201a8"
            ],
            [
             0.3333333333333333,
             "#9c179e"
            ],
            [
             0.4444444444444444,
             "#bd3786"
            ],
            [
             0.5555555555555556,
             "#d8576b"
            ],
            [
             0.6666666666666666,
             "#ed7953"
            ],
            [
             0.7777777777777778,
             "#fb9f3a"
            ],
            [
             0.8888888888888888,
             "#fdca26"
            ],
            [
             1,
             "#f0f921"
            ]
           ]
          },
          "colorway": [
           "#636efa",
           "#EF553B",
           "#00cc96",
           "#ab63fa",
           "#FFA15A",
           "#19d3f3",
           "#FF6692",
           "#B6E880",
           "#FF97FF",
           "#FECB52"
          ],
          "font": {
           "color": "#2a3f5f"
          },
          "geo": {
           "bgcolor": "white",
           "lakecolor": "white",
           "landcolor": "#E5ECF6",
           "showlakes": true,
           "showland": true,
           "subunitcolor": "white"
          },
          "hoverlabel": {
           "align": "left"
          },
          "hovermode": "closest",
          "mapbox": {
           "style": "light"
          },
          "paper_bgcolor": "white",
          "plot_bgcolor": "#E5ECF6",
          "polar": {
           "angularaxis": {
            "gridcolor": "white",
            "linecolor": "white",
            "ticks": ""
           },
           "bgcolor": "#E5ECF6",
           "radialaxis": {
            "gridcolor": "white",
            "linecolor": "white",
            "ticks": ""
           }
          },
          "scene": {
           "xaxis": {
            "backgroundcolor": "#E5ECF6",
            "gridcolor": "white",
            "gridwidth": 2,
            "linecolor": "white",
            "showbackground": true,
            "ticks": "",
            "zerolinecolor": "white"
           },
           "yaxis": {
            "backgroundcolor": "#E5ECF6",
            "gridcolor": "white",
            "gridwidth": 2,
            "linecolor": "white",
            "showbackground": true,
            "ticks": "",
            "zerolinecolor": "white"
           },
           "zaxis": {
            "backgroundcolor": "#E5ECF6",
            "gridcolor": "white",
            "gridwidth": 2,
            "linecolor": "white",
            "showbackground": true,
            "ticks": "",
            "zerolinecolor": "white"
           }
          },
          "shapedefaults": {
           "line": {
            "color": "#2a3f5f"
           }
          },
          "ternary": {
           "aaxis": {
            "gridcolor": "white",
            "linecolor": "white",
            "ticks": ""
           },
           "baxis": {
            "gridcolor": "white",
            "linecolor": "white",
            "ticks": ""
           },
           "bgcolor": "#E5ECF6",
           "caxis": {
            "gridcolor": "white",
            "linecolor": "white",
            "ticks": ""
           }
          },
          "title": {
           "x": 0.05
          },
          "xaxis": {
           "automargin": true,
           "gridcolor": "white",
           "linecolor": "white",
           "ticks": "",
           "title": {
            "standoff": 15
           },
           "zerolinecolor": "white",
           "zerolinewidth": 2
          },
          "yaxis": {
           "automargin": true,
           "gridcolor": "white",
           "linecolor": "white",
           "ticks": "",
           "title": {
            "standoff": 15
           },
           "zerolinecolor": "white",
           "zerolinewidth": 2
          }
         }
        },
        "title": {
         "text": "TotalCost"
        },
        "width": 1000,
        "xaxis": {
         "anchor": "y",
         "domain": [
          0,
          1
         ]
        },
        "xaxis2": {
         "anchor": "y2",
         "domain": [
          0,
          1
         ]
        },
        "yaxis": {
         "anchor": "x",
         "domain": [
          0.575,
          1
         ]
        },
        "yaxis2": {
         "anchor": "x2",
         "domain": [
          0,
          0.425
         ]
        }
       }
      },
      "text/html": [
       "<div>            <script src=\"https://cdnjs.cloudflare.com/ajax/libs/mathjax/2.7.5/MathJax.js?config=TeX-AMS-MML_SVG\"></script><script type=\"text/javascript\">if (window.MathJax && window.MathJax.Hub && window.MathJax.Hub.Config) {window.MathJax.Hub.Config({SVG: {font: \"STIX-Web\"}});}</script>                <script type=\"text/javascript\">window.PlotlyConfig = {MathJaxConfig: 'local'};</script>\n",
       "        <script charset=\"utf-8\" src=\"https://cdn.plot.ly/plotly-3.0.1.min.js\"></script>                <div id=\"9781d727-3a2c-4c4e-ac86-14c8d46f0592\" class=\"plotly-graph-div\" style=\"height:600px; width:1000px;\"></div>            <script type=\"text/javascript\">                window.PLOTLYENV=window.PLOTLYENV || {};                                if (document.getElementById(\"9781d727-3a2c-4c4e-ac86-14c8d46f0592\")) {                    Plotly.newPlot(                        \"9781d727-3a2c-4c4e-ac86-14c8d46f0592\",                        [{\"boxmean\":true,\"name\":\"TotalCost\",\"x\":{\"dtype\":\"f8\",\"bdata\":\"AAAAAACukUA9CtejcD1pQKRwPQpXEbZAexSuR+H6QkApXI\\u002fC9Wg6QB+F61G4Z6ZA16NwPQrXNUBcj8L1KFwjQArXo3A9UmNAuB6F61HunUBcj8L16Pe\\u002fQHE9CtejcERAAAAAAACAX0BmZmZmZnqhQLgehetR+DdAKVyPwvW6mEAAAAAAAABQQMP1KFyPAoVASOF6FE5AzkAUrkfh+qqnQEjhehSuh0NArkfhepQOpUAzMzMzM9OiQM3MzMzMdKFAMzMzMzOzNEBmZmZmZuCYQI\\u002fC9Sjc67NACtejcD2OkUDNzMzMzPRiQClcj8L1AI1Aj8L1KFylzkCkcD0KF4C2QB+F61G40LRAAAAAAAAEdEAUrkfhOru1QEjhehSuB0FAw\\u002fUoXI9CWUApXI\\u002fC9QhvQD0K16Nw765AZmZmZmbif0C4HoXrUbhbQClcj8L1THRAUrgehStBvUCkcD0K1yNqQAAAAACAk8NAj8L1KFzXY0BmZmZmZs2xQDMzMzMzs0FASOF6FK6nUUBxPQrXo3ikQJqZmZmZHZNA16NwPQpli0DsUbgeBfCgQClcj8I1NMZAmpmZmZmprEDsUbgehdd1QAAAAAAAEFtApHA9CtczaUAAAAAAAFqnQEjhehSu8a1AmpmZmZn50UCamZmZmeOWQEjhehSukqdACtejcD1iZ0CF61G4HgUzQDMzMzMzwZFAZmZmZmZmOkAAAAAAgCejQJqZmZmZmStAAAAAAABIlEB7FK5H4QpZQDMzMzMzsyNA9ihcj8KbnkAzMzMzM+tsQHE9Ctej8FVAKVyPwvU4nEDsUbgehcSzQAAAAAAAgClAXI\\u002fC9SjcREBI4XoUrsuRQOF6FK5HGaxAH4XrUbgeYkBI4XoU7kbCQDMzMzMzNbxAexSuR2FookDNzMzMzOqHQGZmZmZmZ6NApHA9CpeztUCPwvUoXDuMQM3MzMzMhLNAzczMzMznpkCamZmZmelUQM3MzMzM3I5ArkfhehSfuEBxPQrXowyhQB+F61G4JmNAhetRuB5Fa0B7FK5H4QpwQKRwPQo3n8JAAAAAAACAaUAUrkfhetx5QFyPwvUo1GpAj8L1KFzBwECuR+F6FP5eQK5H4XoUhopAmpmZmZm9hUB7FK5H4SpvQFyPwvUoHHdA4XoUrkfVmkBI4XoUrjOjQJqZmZmZGYFA7FG4HgXMvUDD9Shcj+JqQM3MzMzMrEJAMzMzMzMfpUCuR+F6FO2pQJqZmZkZyqZAMzMzMzNzc0CF61G4Hk1mQBSuR+F6NH1A16NwPcpzukCPwvUoXFd3QI\\u002fC9Shcj2lAw\\u002fUoXI\\u002fCBUBcj8L1KECGQNejcD0KF69AUrgehevxS0DXo3A9CtdZQGZmZmZmtmJAzczMzMyMcEB7FK5H4d6pQB+F61G4nmtASOF6FE5XwUDhehSux5TLQAAAAAAAnIBAZmZmZmaWUUDsUbge5ffEQNejcD0Kp4NApHA9CtdbqECPwvUoXA9XQD0K16OwTLVApHA9ClfGuEA9CtejcP1cQIXrUbgenYdApHA9CteMkEAfhetRuGCeQGZmZmZmhqBACtejcD0MoUAzMzMzM5WSQEjhehSuB8FAmpmZmZmZdEBI4XoUzjnCQIXrUbgeq5xAZmZmZmYedEDD9Shcj75xQHE9Ctej8DtAUrgehcv0wUBcj8L1KFw7QB+F61G4WotAPQrXo3AOoUCkcD0K1yNDQB+F61G4TltAj8L1KFxPXUApXI\\u002fCdde0QLgehetRJpFAexSuR+HerUBSuB6F6+luQBSuR+F6uHJApHA9ClcVpEDsUbgeBRK2QBSuR+F6CHZAAAAAAACkj0BxPQrXoxicQGZmZmZmVnlAcT0K10M2w0C4HoXrUTyvQB+F61G4nj9AzczMzMycWUAfhetRuI6AQNejcD0KnbpA9ihcj8JDukCamZmZmRk3QM3MzMzMQK1AhetRuJ5aw0A9CtejcJGOQFK4HoXrcUBA7FG4HoW\\u002frUBcj8L1KD+nQJqZmZmZSbdAPQrXo3A9DkAzMzMzM22kQI\\u002fC9ShcjytAPQrXo3D9aEDsUbgehS6vQAAAAAAA08BAUrgeheuFlEAzMzMzM1NaQI\\u002fC9ShcjzlAmpmZmRmIrUCamZmZmTmxQJqZmZmZOVtAZmZmZmaGaUAzMzMzM9tgQM3MzMzMzDNApHA9CtfLakCamZmZmdmIQAAAAAAAAAJAzczMzMxMUUBxPQrXo6h3QHE9Ctfj68ZAuB6F61G4ZkBmZmZmZiZPQMP1KFwPPKBAXI\\u002fC9SislkBI4XoUrsc2QJqZmZmZA5JAPQrXo3D9PEApXI\\u002fC9SgMQHE9CtejMF1AMzMzMzPupEApXI\\u002fCNV3BQM3MzMzM7IBAAAAAACBWwUCamZmZmelrQD0K16NwDWpAXI\\u002fC9SjCrEDNzMzMzNyEQClcj8J16aFAZmZmZmZSmEBSuB6F6+GFQLgehetR6GZAAAAAAEBhtkAAAAAAAEhiQAAAAAAAAFhA9ihcj8IVZkC4HoXrUbg0QKRwPQrXg5RA9ihcj8LhoUCamZmZmSy1QLgehetRiGVAMzMzMzMzQEAfhetRuFZgQM3MzMzM6ZdAH4XrUbge+T8AAAAAAAiDQFyPwvUoxq1AhetRuB7VaEDsUbgeBYmoQAAAAAAAwDZAuB6F61FIkkDhehSuRxFeQJqZmZnZo8RAMzMzM3PDtEAK16NwPYohQD0K16NwRqRA9ihcj8I9bUD2KFyPwsV4QArXo3A9CixAexSuR2GppEBSuB6Fq+HEQHsUrkfh7r9AFK5H4XrYmEBmZmZmZviiQOxRuB6FqaBAj8L1KFxVgkD2KFyPwlWRQHsUrkfh+mNACtejcD0vkED2KFyPwtuaQEjhehSuxzlAKVyPwvVgmEAUrkfhetyPQHsUrkfhfodAmpmZmZmNlEAzMzMzM1NMQK5H4XoUrmtAKVyPwvUTrEAUrkfhesqnQArXo3A96kVA7FG4HiUmxkAAAAAAIHbCQB+F61G4xahAMzMzMzPrkkCkcD0K1yM8QJqZmZmZKaZAexSuRyEWukCuR+F6FIWeQClcj8L1iERACtejcL3PoUDsUbgehTPEQHsUrkdhTKFAZmZmZmZKfkCPwvUoXP9lQIXrUbgeA6JAAAAAAABIdUCamZmZmQ2BQPYoXI\\u002fij8JAw\\u002fUoXM9xtUCPwvUoXA8rQJqZmZmZP4tAcT0K16PWgEAAAAAAANGnQHE9CtejzIdAcT0K16Pmp0BI4XoUrgdOQFK4HoVrq6xArkfhepROtUAfhetRuL5dQOxRuB6FTrFAcT0K16MQYUCamZmZmdFzQMP1KFwPMK5AzczMzMzNpUCamZmZGT28QM3MzMzMDEhAexSuR+ECjEBcj8L1KNw\\u002fQEjhehQuzaZAMzMzMzP5kED2KFyPwnVDQClcj8K1zc5AUrgehevfm0D2KFyPwvX4P3E9CtejcAlA9ihcj4J0wUAfhetRuL5AQEjhehSu26NA7FG4HoXsmUBxPQrXoyx+QMP1KFwPWLtA9ihcj8KtZUCPwvUoXM9UQJqZmZmZpKZAAAAAAADQn0AK16NwPQLOQOxRuB6Fl3BAzczMzMzMR0BxPQrXo9CCQDMzMzMzy8JA7FG4HoXrZkCPwvUoXPu4QM3MzMxMCadAexSuR+F6PkDNzMzMzIxmQEjhehSuR11AcT0K16OeoEAK16NwPWJ1QIXrUbgetW9AmpmZmVmSykAfhetRuJ4kQOxRuB6FRqJA9ihcj8KdkUBmZmZmZsp1QArXo3A93qZAAAAAAADSnUB7FK5H4fpeQNejcD0Kq6FAmpmZmZnHkUBmZmZmZl5hQFK4HoVrUadA16NwPUp8yEAAAAAAAGiMQJqZmZmZHX9AUrgeheuZdkAAAAAAAFjJQFK4HoXrzYVAmpmZmZk9jUAK16NwfV7AQAAAAACAg6RAMzMzMzODY0A9CtejcEWlQKRwPQrXI0hAPQrXo3C9I0DXo3A9Co92QOxRuB6F61NA4XoUrkfRb0CamZmZWUa1QHsUrkfh8nhAexSuR+GiYkBI4XoUrranQKRwPQrXArpASOF6FK5ll0CamZmZWX7GQJqZmZmZB5FAuB6F61HkdkCamZmZmb2aQKRwPQrXq71AH4XrUXiktED2KFyPwn2IQAAAAADAirBAzczMzMzMP0AK16NwPYo2QFyPwvUob55AcT0K16OkqEBmZmZmBqfCQPYoXI\\u002fClYtAXI\\u002fC9SikcECkcD0K172oQLgehetRuCJApHA9Ctdze0BxPQrXo8hoQIXrUbiedaVAZmZmZmbGUUBmZmZmpg\\u002fSQD0K16PwBr1AmpmZmZlosEBcj8L1KFxFQDMzMzMzxqNAmpmZmZmZfkDNzMzMzMw5QClcj8J1D8RAZmZmZmaksUCkcD0K15OhQNejcD0KWrFAZmZmZmZmXUBI4XoUri9uQD0K16NwfUJACtejcD38lUAAAAAAABykQM3MzMwMH7FAMzMzMzOJmEAK16NwPdpQQArXo3A9yn1AMzMzMzNDV0AUrkfhelRLQM3MzMzMrEVApHA9Ctf9s0AzMzMzM3NuQEjhehSuq4NAFK5H4ToJzEApXI\\u002fCtdTAQIXrUbgeEZdAuB6F61F4MECF61G4nqi\\u002fQBSuR+F6B51AXI\\u002fC9Sg0mUBI4XoUbknAQOxRuB6F5YZAZmZmZmaGaEBSuB6FiwnPQClcj8L1CGZAFK5H4Xo8kkCF61G4Ps\\u002fEQDMzMzMzZ59AAAAAAADskUCF61G4HsuNQD0K16MwUrpAuB6F61G4NEAAAAAAAIBTQPYoXI8Ct7NAhetRuB5lZkCPwvUoXGClQM3MzMzMzElAZmZmZmZmVUC4HoXrUXheQArXo3A9MIFAZmZmZmb8sUCamZmZmRKwQK5H4XpUHbpAAAAAAABHqEApXI\\u002fC9UhjQPYoXI\\u002fCaYJA4XoUrkfhI0DhehSuR+EhQM3MzMzMzFdACtejcD0+lEBSuB6F63FaQB+F61E436pA16NwPQrlmUAAAAAAAPBhQJqZmZmZAXFAexSuRyGNzUAfhetRuB+0QPYoXI\\u002fC9TxAPQrXo3A9akBSuB6F6ye0QGZmZmZmTnRAw\\u002fUoXI8iWEBI4XoUrkc8QNejcD0KF1JAAAAAAAAARUAzMzMzM0OwQKRwPQrXCKNAZmZmZmaWZkDNzMzMzASpQHsUrkfhSoBAw\\u002fUoXI\\u002fCLUAUrkfhugzRQM3MzMxshchAuB6F61GIXkBmZmZmZtZZQLgehetR+HxAmpmZmZmpcUDXo3A9CldPQD0K16NwZZNAhetRuB7pnkBmZmZmZvOxQB+F61G4HhJApHA9CleEpUBI4XoUrkdLQA==\"},\"type\":\"box\",\"xaxis\":\"x\",\"yaxis\":\"y\"},{\"name\":\"TotalCost\",\"x\":{\"dtype\":\"f8\",\"bdata\":\"AAAAAACukUA9CtejcD1pQKRwPQpXEbZAexSuR+H6QkApXI\\u002fC9Wg6QB+F61G4Z6ZA16NwPQrXNUBcj8L1KFwjQArXo3A9UmNAuB6F61HunUBcj8L16Pe\\u002fQHE9CtejcERAAAAAAACAX0BmZmZmZnqhQLgehetR+DdAKVyPwvW6mEAAAAAAAABQQMP1KFyPAoVASOF6FE5AzkAUrkfh+qqnQEjhehSuh0NArkfhepQOpUAzMzMzM9OiQM3MzMzMdKFAMzMzMzOzNEBmZmZmZuCYQI\\u002fC9Sjc67NACtejcD2OkUDNzMzMzPRiQClcj8L1AI1Aj8L1KFylzkCkcD0KF4C2QB+F61G40LRAAAAAAAAEdEAUrkfhOru1QEjhehSuB0FAw\\u002fUoXI9CWUApXI\\u002fC9QhvQD0K16Nw765AZmZmZmbif0C4HoXrUbhbQClcj8L1THRAUrgehStBvUCkcD0K1yNqQAAAAACAk8NAj8L1KFzXY0BmZmZmZs2xQDMzMzMzs0FASOF6FK6nUUBxPQrXo3ikQJqZmZmZHZNA16NwPQpli0DsUbgeBfCgQClcj8I1NMZAmpmZmZmprEDsUbgehdd1QAAAAAAAEFtApHA9CtczaUAAAAAAAFqnQEjhehSu8a1AmpmZmZn50UCamZmZmeOWQEjhehSukqdACtejcD1iZ0CF61G4HgUzQDMzMzMzwZFAZmZmZmZmOkAAAAAAgCejQJqZmZmZmStAAAAAAABIlEB7FK5H4QpZQDMzMzMzsyNA9ihcj8KbnkAzMzMzM+tsQHE9Ctej8FVAKVyPwvU4nEDsUbgehcSzQAAAAAAAgClAXI\\u002fC9SjcREBI4XoUrsuRQOF6FK5HGaxAH4XrUbgeYkBI4XoU7kbCQDMzMzMzNbxAexSuR2FookDNzMzMzOqHQGZmZmZmZ6NApHA9CpeztUCPwvUoXDuMQM3MzMzMhLNAzczMzMznpkCamZmZmelUQM3MzMzM3I5ArkfhehSfuEBxPQrXowyhQB+F61G4JmNAhetRuB5Fa0B7FK5H4QpwQKRwPQo3n8JAAAAAAACAaUAUrkfhetx5QFyPwvUo1GpAj8L1KFzBwECuR+F6FP5eQK5H4XoUhopAmpmZmZm9hUB7FK5H4SpvQFyPwvUoHHdA4XoUrkfVmkBI4XoUrjOjQJqZmZmZGYFA7FG4HgXMvUDD9Shcj+JqQM3MzMzMrEJAMzMzMzMfpUCuR+F6FO2pQJqZmZkZyqZAMzMzMzNzc0CF61G4Hk1mQBSuR+F6NH1A16NwPcpzukCPwvUoXFd3QI\\u002fC9Shcj2lAw\\u002fUoXI\\u002fCBUBcj8L1KECGQNejcD0KF69AUrgehevxS0DXo3A9CtdZQGZmZmZmtmJAzczMzMyMcEB7FK5H4d6pQB+F61G4nmtASOF6FE5XwUDhehSux5TLQAAAAAAAnIBAZmZmZmaWUUDsUbge5ffEQNejcD0Kp4NApHA9CtdbqECPwvUoXA9XQD0K16OwTLVApHA9ClfGuEA9CtejcP1cQIXrUbgenYdApHA9CteMkEAfhetRuGCeQGZmZmZmhqBACtejcD0MoUAzMzMzM5WSQEjhehSuB8FAmpmZmZmZdEBI4XoUzjnCQIXrUbgeq5xAZmZmZmYedEDD9Shcj75xQHE9Ctej8DtAUrgehcv0wUBcj8L1KFw7QB+F61G4WotAPQrXo3AOoUCkcD0K1yNDQB+F61G4TltAj8L1KFxPXUApXI\\u002fCdde0QLgehetRJpFAexSuR+HerUBSuB6F6+luQBSuR+F6uHJApHA9ClcVpEDsUbgeBRK2QBSuR+F6CHZAAAAAAACkj0BxPQrXoxicQGZmZmZmVnlAcT0K10M2w0C4HoXrUTyvQB+F61G4nj9AzczMzMycWUAfhetRuI6AQNejcD0KnbpA9ihcj8JDukCamZmZmRk3QM3MzMzMQK1AhetRuJ5aw0A9CtejcJGOQFK4HoXrcUBA7FG4HoW\\u002frUBcj8L1KD+nQJqZmZmZSbdAPQrXo3A9DkAzMzMzM22kQI\\u002fC9ShcjytAPQrXo3D9aEDsUbgehS6vQAAAAAAA08BAUrgeheuFlEAzMzMzM1NaQI\\u002fC9ShcjzlAmpmZmRmIrUCamZmZmTmxQJqZmZmZOVtAZmZmZmaGaUAzMzMzM9tgQM3MzMzMzDNApHA9CtfLakCamZmZmdmIQAAAAAAAAAJAzczMzMxMUUBxPQrXo6h3QHE9Ctfj68ZAuB6F61G4ZkBmZmZmZiZPQMP1KFwPPKBAXI\\u002fC9SislkBI4XoUrsc2QJqZmZmZA5JAPQrXo3D9PEApXI\\u002fC9SgMQHE9CtejMF1AMzMzMzPupEApXI\\u002fCNV3BQM3MzMzM7IBAAAAAACBWwUCamZmZmelrQD0K16NwDWpAXI\\u002fC9SjCrEDNzMzMzNyEQClcj8J16aFAZmZmZmZSmEBSuB6F6+GFQLgehetR6GZAAAAAAEBhtkAAAAAAAEhiQAAAAAAAAFhA9ihcj8IVZkC4HoXrUbg0QKRwPQrXg5RA9ihcj8LhoUCamZmZmSy1QLgehetRiGVAMzMzMzMzQEAfhetRuFZgQM3MzMzM6ZdAH4XrUbge+T8AAAAAAAiDQFyPwvUoxq1AhetRuB7VaEDsUbgeBYmoQAAAAAAAwDZAuB6F61FIkkDhehSuRxFeQJqZmZnZo8RAMzMzM3PDtEAK16NwPYohQD0K16NwRqRA9ihcj8I9bUD2KFyPwsV4QArXo3A9CixAexSuR2GppEBSuB6Fq+HEQHsUrkfh7r9AFK5H4XrYmEBmZmZmZviiQOxRuB6FqaBAj8L1KFxVgkD2KFyPwlWRQHsUrkfh+mNACtejcD0vkED2KFyPwtuaQEjhehSuxzlAKVyPwvVgmEAUrkfhetyPQHsUrkfhfodAmpmZmZmNlEAzMzMzM1NMQK5H4XoUrmtAKVyPwvUTrEAUrkfhesqnQArXo3A96kVA7FG4HiUmxkAAAAAAIHbCQB+F61G4xahAMzMzMzPrkkCkcD0K1yM8QJqZmZmZKaZAexSuRyEWukCuR+F6FIWeQClcj8L1iERACtejcL3PoUDsUbgehTPEQHsUrkdhTKFAZmZmZmZKfkCPwvUoXP9lQIXrUbgeA6JAAAAAAABIdUCamZmZmQ2BQPYoXI\\u002fij8JAw\\u002fUoXM9xtUCPwvUoXA8rQJqZmZmZP4tAcT0K16PWgEAAAAAAANGnQHE9CtejzIdAcT0K16Pmp0BI4XoUrgdOQFK4HoVrq6xArkfhepROtUAfhetRuL5dQOxRuB6FTrFAcT0K16MQYUCamZmZmdFzQMP1KFwPMK5AzczMzMzNpUCamZmZGT28QM3MzMzMDEhAexSuR+ECjEBcj8L1KNw\\u002fQEjhehQuzaZAMzMzMzP5kED2KFyPwnVDQClcj8K1zc5AUrgehevfm0D2KFyPwvX4P3E9CtejcAlA9ihcj4J0wUAfhetRuL5AQEjhehSu26NA7FG4HoXsmUBxPQrXoyx+QMP1KFwPWLtA9ihcj8KtZUCPwvUoXM9UQJqZmZmZpKZAAAAAAADQn0AK16NwPQLOQOxRuB6Fl3BAzczMzMzMR0BxPQrXo9CCQDMzMzMzy8JA7FG4HoXrZkCPwvUoXPu4QM3MzMxMCadAexSuR+F6PkDNzMzMzIxmQEjhehSuR11AcT0K16OeoEAK16NwPWJ1QIXrUbgetW9AmpmZmVmSykAfhetRuJ4kQOxRuB6FRqJA9ihcj8KdkUBmZmZmZsp1QArXo3A93qZAAAAAAADSnUB7FK5H4fpeQNejcD0Kq6FAmpmZmZnHkUBmZmZmZl5hQFK4HoVrUadA16NwPUp8yEAAAAAAAGiMQJqZmZmZHX9AUrgeheuZdkAAAAAAAFjJQFK4HoXrzYVAmpmZmZk9jUAK16NwfV7AQAAAAACAg6RAMzMzMzODY0A9CtejcEWlQKRwPQrXI0hAPQrXo3C9I0DXo3A9Co92QOxRuB6F61NA4XoUrkfRb0CamZmZWUa1QHsUrkfh8nhAexSuR+GiYkBI4XoUrranQKRwPQrXArpASOF6FK5ll0CamZmZWX7GQJqZmZmZB5FAuB6F61HkdkCamZmZmb2aQKRwPQrXq71AH4XrUXiktED2KFyPwn2IQAAAAADAirBAzczMzMzMP0AK16NwPYo2QFyPwvUob55AcT0K16OkqEBmZmZmBqfCQPYoXI\\u002fClYtAXI\\u002fC9SikcECkcD0K172oQLgehetRuCJApHA9Ctdze0BxPQrXo8hoQIXrUbiedaVAZmZmZmbGUUBmZmZmpg\\u002fSQD0K16PwBr1AmpmZmZlosEBcj8L1KFxFQDMzMzMzxqNAmpmZmZmZfkDNzMzMzMw5QClcj8J1D8RAZmZmZmaksUCkcD0K15OhQNejcD0KWrFAZmZmZmZmXUBI4XoUri9uQD0K16NwfUJACtejcD38lUAAAAAAABykQM3MzMwMH7FAMzMzMzOJmEAK16NwPdpQQArXo3A9yn1AMzMzMzNDV0AUrkfhelRLQM3MzMzMrEVApHA9Ctf9s0AzMzMzM3NuQEjhehSuq4NAFK5H4ToJzEApXI\\u002fCtdTAQIXrUbgeEZdAuB6F61F4MECF61G4nqi\\u002fQBSuR+F6B51AXI\\u002fC9Sg0mUBI4XoUbknAQOxRuB6F5YZAZmZmZmaGaEBSuB6FiwnPQClcj8L1CGZAFK5H4Xo8kkCF61G4Ps\\u002fEQDMzMzMzZ59AAAAAAADskUCF61G4HsuNQD0K16MwUrpAuB6F61G4NEAAAAAAAIBTQPYoXI8Ct7NAhetRuB5lZkCPwvUoXGClQM3MzMzMzElAZmZmZmZmVUC4HoXrUXheQArXo3A9MIFAZmZmZmb8sUCamZmZmRKwQK5H4XpUHbpAAAAAAABHqEApXI\\u002fC9UhjQPYoXI\\u002fCaYJA4XoUrkfhI0DhehSuR+EhQM3MzMzMzFdACtejcD0+lEBSuB6F63FaQB+F61E436pA16NwPQrlmUAAAAAAAPBhQJqZmZmZAXFAexSuRyGNzUAfhetRuB+0QPYoXI\\u002fC9TxAPQrXo3A9akBSuB6F6ye0QGZmZmZmTnRAw\\u002fUoXI8iWEBI4XoUrkc8QNejcD0KF1JAAAAAAAAARUAzMzMzM0OwQKRwPQrXCKNAZmZmZmaWZkDNzMzMzASpQHsUrkfhSoBAw\\u002fUoXI\\u002fCLUAUrkfhugzRQM3MzMxshchAuB6F61GIXkBmZmZmZtZZQLgehetR+HxAmpmZmZmpcUDXo3A9CldPQD0K16NwZZNAhetRuB7pnkBmZmZmZvOxQB+F61G4HhJApHA9CleEpUBI4XoUrkdLQA==\"},\"type\":\"histogram\",\"xaxis\":\"x2\",\"yaxis\":\"y2\"}],                        {\"template\":{\"data\":{\"histogram2dcontour\":[{\"type\":\"histogram2dcontour\",\"colorbar\":{\"outlinewidth\":0,\"ticks\":\"\"},\"colorscale\":[[0.0,\"#0d0887\"],[0.1111111111111111,\"#46039f\"],[0.2222222222222222,\"#7201a8\"],[0.3333333333333333,\"#9c179e\"],[0.4444444444444444,\"#bd3786\"],[0.5555555555555556,\"#d8576b\"],[0.6666666666666666,\"#ed7953\"],[0.7777777777777778,\"#fb9f3a\"],[0.8888888888888888,\"#fdca26\"],[1.0,\"#f0f921\"]]}],\"choropleth\":[{\"type\":\"choropleth\",\"colorbar\":{\"outlinewidth\":0,\"ticks\":\"\"}}],\"histogram2d\":[{\"type\":\"histogram2d\",\"colorbar\":{\"outlinewidth\":0,\"ticks\":\"\"},\"colorscale\":[[0.0,\"#0d0887\"],[0.1111111111111111,\"#46039f\"],[0.2222222222222222,\"#7201a8\"],[0.3333333333333333,\"#9c179e\"],[0.4444444444444444,\"#bd3786\"],[0.5555555555555556,\"#d8576b\"],[0.6666666666666666,\"#ed7953\"],[0.7777777777777778,\"#fb9f3a\"],[0.8888888888888888,\"#fdca26\"],[1.0,\"#f0f921\"]]}],\"heatmap\":[{\"type\":\"heatmap\",\"colorbar\":{\"outlinewidth\":0,\"ticks\":\"\"},\"colorscale\":[[0.0,\"#0d0887\"],[0.1111111111111111,\"#46039f\"],[0.2222222222222222,\"#7201a8\"],[0.3333333333333333,\"#9c179e\"],[0.4444444444444444,\"#bd3786\"],[0.5555555555555556,\"#d8576b\"],[0.6666666666666666,\"#ed7953\"],[0.7777777777777778,\"#fb9f3a\"],[0.8888888888888888,\"#fdca26\"],[1.0,\"#f0f921\"]]}],\"contourcarpet\":[{\"type\":\"contourcarpet\",\"colorbar\":{\"outlinewidth\":0,\"ticks\":\"\"}}],\"contour\":[{\"type\":\"contour\",\"colorbar\":{\"outlinewidth\":0,\"ticks\":\"\"},\"colorscale\":[[0.0,\"#0d0887\"],[0.1111111111111111,\"#46039f\"],[0.2222222222222222,\"#7201a8\"],[0.3333333333333333,\"#9c179e\"],[0.4444444444444444,\"#bd3786\"],[0.5555555555555556,\"#d8576b\"],[0.6666666666666666,\"#ed7953\"],[0.7777777777777778,\"#fb9f3a\"],[0.8888888888888888,\"#fdca26\"],[1.0,\"#f0f921\"]]}],\"surface\":[{\"type\":\"surface\",\"colorbar\":{\"outlinewidth\":0,\"ticks\":\"\"},\"colorscale\":[[0.0,\"#0d0887\"],[0.1111111111111111,\"#46039f\"],[0.2222222222222222,\"#7201a8\"],[0.3333333333333333,\"#9c179e\"],[0.4444444444444444,\"#bd3786\"],[0.5555555555555556,\"#d8576b\"],[0.6666666666666666,\"#ed7953\"],[0.7777777777777778,\"#fb9f3a\"],[0.8888888888888888,\"#fdca26\"],[1.0,\"#f0f921\"]]}],\"mesh3d\":[{\"type\":\"mesh3d\",\"colorbar\":{\"outlinewidth\":0,\"ticks\":\"\"}}],\"scatter\":[{\"fillpattern\":{\"fillmode\":\"overlay\",\"size\":10,\"solidity\":0.2},\"type\":\"scatter\"}],\"parcoords\":[{\"type\":\"parcoords\",\"line\":{\"colorbar\":{\"outlinewidth\":0,\"ticks\":\"\"}}}],\"scatterpolargl\":[{\"type\":\"scatterpolargl\",\"marker\":{\"colorbar\":{\"outlinewidth\":0,\"ticks\":\"\"}}}],\"bar\":[{\"error_x\":{\"color\":\"#2a3f5f\"},\"error_y\":{\"color\":\"#2a3f5f\"},\"marker\":{\"line\":{\"color\":\"#E5ECF6\",\"width\":0.5},\"pattern\":{\"fillmode\":\"overlay\",\"size\":10,\"solidity\":0.2}},\"type\":\"bar\"}],\"scattergeo\":[{\"type\":\"scattergeo\",\"marker\":{\"colorbar\":{\"outlinewidth\":0,\"ticks\":\"\"}}}],\"scatterpolar\":[{\"type\":\"scatterpolar\",\"marker\":{\"colorbar\":{\"outlinewidth\":0,\"ticks\":\"\"}}}],\"histogram\":[{\"marker\":{\"pattern\":{\"fillmode\":\"overlay\",\"size\":10,\"solidity\":0.2}},\"type\":\"histogram\"}],\"scattergl\":[{\"type\":\"scattergl\",\"marker\":{\"colorbar\":{\"outlinewidth\":0,\"ticks\":\"\"}}}],\"scatter3d\":[{\"type\":\"scatter3d\",\"line\":{\"colorbar\":{\"outlinewidth\":0,\"ticks\":\"\"}},\"marker\":{\"colorbar\":{\"outlinewidth\":0,\"ticks\":\"\"}}}],\"scattermap\":[{\"type\":\"scattermap\",\"marker\":{\"colorbar\":{\"outlinewidth\":0,\"ticks\":\"\"}}}],\"scattermapbox\":[{\"type\":\"scattermapbox\",\"marker\":{\"colorbar\":{\"outlinewidth\":0,\"ticks\":\"\"}}}],\"scatterternary\":[{\"type\":\"scatterternary\",\"marker\":{\"colorbar\":{\"outlinewidth\":0,\"ticks\":\"\"}}}],\"scattercarpet\":[{\"type\":\"scattercarpet\",\"marker\":{\"colorbar\":{\"outlinewidth\":0,\"ticks\":\"\"}}}],\"carpet\":[{\"aaxis\":{\"endlinecolor\":\"#2a3f5f\",\"gridcolor\":\"white\",\"linecolor\":\"white\",\"minorgridcolor\":\"white\",\"startlinecolor\":\"#2a3f5f\"},\"baxis\":{\"endlinecolor\":\"#2a3f5f\",\"gridcolor\":\"white\",\"linecolor\":\"white\",\"minorgridcolor\":\"white\",\"startlinecolor\":\"#2a3f5f\"},\"type\":\"carpet\"}],\"table\":[{\"cells\":{\"fill\":{\"color\":\"#EBF0F8\"},\"line\":{\"color\":\"white\"}},\"header\":{\"fill\":{\"color\":\"#C8D4E3\"},\"line\":{\"color\":\"white\"}},\"type\":\"table\"}],\"barpolar\":[{\"marker\":{\"line\":{\"color\":\"#E5ECF6\",\"width\":0.5},\"pattern\":{\"fillmode\":\"overlay\",\"size\":10,\"solidity\":0.2}},\"type\":\"barpolar\"}],\"pie\":[{\"automargin\":true,\"type\":\"pie\"}]},\"layout\":{\"autotypenumbers\":\"strict\",\"colorway\":[\"#636efa\",\"#EF553B\",\"#00cc96\",\"#ab63fa\",\"#FFA15A\",\"#19d3f3\",\"#FF6692\",\"#B6E880\",\"#FF97FF\",\"#FECB52\"],\"font\":{\"color\":\"#2a3f5f\"},\"hovermode\":\"closest\",\"hoverlabel\":{\"align\":\"left\"},\"paper_bgcolor\":\"white\",\"plot_bgcolor\":\"#E5ECF6\",\"polar\":{\"bgcolor\":\"#E5ECF6\",\"angularaxis\":{\"gridcolor\":\"white\",\"linecolor\":\"white\",\"ticks\":\"\"},\"radialaxis\":{\"gridcolor\":\"white\",\"linecolor\":\"white\",\"ticks\":\"\"}},\"ternary\":{\"bgcolor\":\"#E5ECF6\",\"aaxis\":{\"gridcolor\":\"white\",\"linecolor\":\"white\",\"ticks\":\"\"},\"baxis\":{\"gridcolor\":\"white\",\"linecolor\":\"white\",\"ticks\":\"\"},\"caxis\":{\"gridcolor\":\"white\",\"linecolor\":\"white\",\"ticks\":\"\"}},\"coloraxis\":{\"colorbar\":{\"outlinewidth\":0,\"ticks\":\"\"}},\"colorscale\":{\"sequential\":[[0.0,\"#0d0887\"],[0.1111111111111111,\"#46039f\"],[0.2222222222222222,\"#7201a8\"],[0.3333333333333333,\"#9c179e\"],[0.4444444444444444,\"#bd3786\"],[0.5555555555555556,\"#d8576b\"],[0.6666666666666666,\"#ed7953\"],[0.7777777777777778,\"#fb9f3a\"],[0.8888888888888888,\"#fdca26\"],[1.0,\"#f0f921\"]],\"sequentialminus\":[[0.0,\"#0d0887\"],[0.1111111111111111,\"#46039f\"],[0.2222222222222222,\"#7201a8\"],[0.3333333333333333,\"#9c179e\"],[0.4444444444444444,\"#bd3786\"],[0.5555555555555556,\"#d8576b\"],[0.6666666666666666,\"#ed7953\"],[0.7777777777777778,\"#fb9f3a\"],[0.8888888888888888,\"#fdca26\"],[1.0,\"#f0f921\"]],\"diverging\":[[0,\"#8e0152\"],[0.1,\"#c51b7d\"],[0.2,\"#de77ae\"],[0.3,\"#f1b6da\"],[0.4,\"#fde0ef\"],[0.5,\"#f7f7f7\"],[0.6,\"#e6f5d0\"],[0.7,\"#b8e186\"],[0.8,\"#7fbc41\"],[0.9,\"#4d9221\"],[1,\"#276419\"]]},\"xaxis\":{\"gridcolor\":\"white\",\"linecolor\":\"white\",\"ticks\":\"\",\"title\":{\"standoff\":15},\"zerolinecolor\":\"white\",\"automargin\":true,\"zerolinewidth\":2},\"yaxis\":{\"gridcolor\":\"white\",\"linecolor\":\"white\",\"ticks\":\"\",\"title\":{\"standoff\":15},\"zerolinecolor\":\"white\",\"automargin\":true,\"zerolinewidth\":2},\"scene\":{\"xaxis\":{\"backgroundcolor\":\"#E5ECF6\",\"gridcolor\":\"white\",\"linecolor\":\"white\",\"showbackground\":true,\"ticks\":\"\",\"zerolinecolor\":\"white\",\"gridwidth\":2},\"yaxis\":{\"backgroundcolor\":\"#E5ECF6\",\"gridcolor\":\"white\",\"linecolor\":\"white\",\"showbackground\":true,\"ticks\":\"\",\"zerolinecolor\":\"white\",\"gridwidth\":2},\"zaxis\":{\"backgroundcolor\":\"#E5ECF6\",\"gridcolor\":\"white\",\"linecolor\":\"white\",\"showbackground\":true,\"ticks\":\"\",\"zerolinecolor\":\"white\",\"gridwidth\":2}},\"shapedefaults\":{\"line\":{\"color\":\"#2a3f5f\"}},\"annotationdefaults\":{\"arrowcolor\":\"#2a3f5f\",\"arrowhead\":0,\"arrowwidth\":1},\"geo\":{\"bgcolor\":\"white\",\"landcolor\":\"#E5ECF6\",\"subunitcolor\":\"white\",\"showland\":true,\"showlakes\":true,\"lakecolor\":\"white\"},\"title\":{\"x\":0.05},\"mapbox\":{\"style\":\"light\"}}},\"xaxis\":{\"anchor\":\"y\",\"domain\":[0.0,1.0]},\"yaxis\":{\"anchor\":\"x\",\"domain\":[0.575,1.0]},\"xaxis2\":{\"anchor\":\"y2\",\"domain\":[0.0,1.0]},\"yaxis2\":{\"anchor\":\"x2\",\"domain\":[0.0,0.425]},\"title\":{\"text\":\"TotalCost\"},\"width\":1000,\"height\":600},                        {\"responsive\": true}                    ).then(function(){\n",
       "                            \n",
       "var gd = document.getElementById('9781d727-3a2c-4c4e-ac86-14c8d46f0592');\n",
       "var x = new MutationObserver(function (mutations, observer) {{\n",
       "        var display = window.getComputedStyle(gd).display;\n",
       "        if (!display || display === 'none') {{\n",
       "            console.log([gd, 'removed!']);\n",
       "            Plotly.purge(gd);\n",
       "            observer.disconnect();\n",
       "        }}\n",
       "}});\n",
       "\n",
       "// Listen for the removal of the full notebook cells\n",
       "var notebookContainer = gd.closest('#notebook-container');\n",
       "if (notebookContainer) {{\n",
       "    x.observe(notebookContainer, {childList: true});\n",
       "}}\n",
       "\n",
       "// Listen for the clearing of the current output cell\n",
       "var outputEl = gd.closest('.output');\n",
       "if (outputEl) {{\n",
       "    x.observe(outputEl, {childList: true});\n",
       "}}\n",
       "\n",
       "                        })                };            </script>        </div>"
      ]
     },
     "metadata": {},
     "output_type": "display_data"
    }
   ],
   "source": [
    "make_box_hist(df['TotalCost'])"
   ]
  },
  {
   "cell_type": "code",
   "execution_count": 76,
   "id": "39b3c345-0edb-4d82-be26-fdee257ed2df",
   "metadata": {},
   "outputs": [],
   "source": [
    "def make_scatter(df: pd.DataFrame, col1 : str, col2 : str, hue: str):\n",
    "    fig = px.scatter(df, x=col1, y=col2, color=hue)\n",
    "    fig.update_layout(width=1000,height=600,title_text= col1 +\" vs \"+ col2)\n",
    "    fig.show()"
   ]
  },
  {
   "cell_type": "code",
   "execution_count": 77,
   "id": "424f8298-3915-4056-a3a1-29103467072e",
   "metadata": {},
   "outputs": [
    {
     "data": {
      "application/vnd.plotly.v1+json": {
       "config": {
        "plotlyServerURL": "https://plot.ly"
       },
       "data": [
        {
         "hovertemplate": "Category=Furniture<br>Quantity=%{x}<br>UnitPrice=%{y}<extra></extra>",
         "legendgroup": "Furniture",
         "marker": {
          "color": "#636efa",
          "symbol": "circle"
         },
         "mode": "markers",
         "name": "Furniture",
         "orientation": "v",
         "showlegend": true,
         "type": "scatter",
         "x": {
          "bdata": "ChMUEBAPBgMCAxAKFAMUEg8LEwUPBg8MAQIGAg4SEwIGBQkSEBESAwYOBBQGEhEHEwUCEwgHEwoICRMIEQIRDgwJCAoMCxEFDhMKERARDQIOCAsSARMRAgIDDQITEA0NDQoHCxMR",
          "dtype": "i1"
         },
         "xaxis": "x",
         "y": {
          "bdata": "mpmZmZlJXEAUrkfhejRZQNejcD0K91tAMzMzMzPTYkDNzMzMzHRhQClcj8L1iFpAuB6F61FoZ0AAAAAAALBaQClcj8L1CF9A4XoUrkcRW0BxPQrXo3hkQPYoXI/ClV5ArkfhehTuZkCPwvUoXB9dQGZmZmZmrmJAXI/C9Sj0ZEBmZmZmZm5kQAAAAAAAgF1AcT0K16MAX0AK16NwPSJjQMP1KFyPsmRACtejcD3SYkAfhetRuG5oQOxRuB6Fu2ZAH4XrUbgmY0CF61G4HkVbQM3MzMzM/FxAexSuR+EqX0BSuB6F6/FlQGZmZmZmxmJAhetRuB7VZUCPwvUoXFdnQHsUrkfhql1AMzMzMzOTWkBcj8L1KGxdQHE9CtejAFtAZmZmZmaGYEDsUbgehQtgQMP1KFyPUl5AcT0K16NgXUAAAAAAABhlQK5H4XoUDmBAH4XrUbiOYEDXo3A9CmdnQClcj8L1YGRAUrgeheupZECamZmZmTljQBSuR+F6dGdAZmZmZmbeaEDhehSuR+FjQHE9CtejqGdASOF6FK5XW0Bcj8L1KKxmQGZmZmZmlmRAexSuR+EqXkCF61G4HnVjQKRwPQrXg2RAmpmZmZlBZUDhehSuR6lkQLgehetRSGJAhetRuB4VY0D2KFyPwsVoQArXo3A9cmNAhetRuB5lXECPwvUoXDdmQPYoXI/CxVxAKVyPwvVgaEDhehSuR3FgQJqZmZmZOVlACtejcD0yZkDsUbgehcNgQClcj8L1SFtAMzMzMzPraEDsUbgehTNjQLgehetRKFtAcT0K16OwYkAAAAAAANBfQGZmZmZmrmVAFK5H4Xp0ZEAK16NwPWJlQHsUrkfh4mRA9ihcj8KdYUAAAAAAALBlQClcj8L1aF9AZmZmZmZeYUB7FK5H4aJjQIXrUbgeBWRA16NwPQqPZkB7FK5H4fJoQPYoXI/ChV5Aw/UoXI+6YkBcj8L1KKRgQPYoXI/C1WRApHA9CteTYUAAAAAAAMBoQKRwPQrXY1xAMzMzMzNTY0DNzMzMzKxcQMP1KFyPImdAhetRuB7VYkBI4XoUrgdaQLgehetRQGRA",
          "dtype": "f8"
         },
         "yaxis": "y"
        },
        {
         "hovertemplate": "Category=Office Supplies<br>Quantity=%{x}<br>UnitPrice=%{y}<extra></extra>",
         "legendgroup": "Office Supplies",
         "marker": {
          "color": "#EF553B",
          "symbol": "circle"
         },
         "mode": "markers",
         "name": "Office Supplies",
         "orientation": "v",
         "showlegend": true,
         "type": "scatter",
         "x": {
          "bdata": "EA8DEAsLDQMHCAwHExMQCBANBgsPEgsPEQoQBw4RDwwOEwEBAgUDCwUFAwEOEQMJDhMJAw0GEAoKAgYE",
          "dtype": "i1"
         },
         "xaxis": "x",
         "y": {
          "bdata": "PQrXo3A9KUDNzMzMzMwgQArXo3A9CipApHA9CtcjKkBcj8L1KNwsQK5H4XoUrhlASOF6FK7HLEBcj8L1KFwZQB+F61G4nixAcT0K16PwJUApXI/C9SgoQGZmZmZm5idApHA9CtejJkBI4XoUrsciQI/C9ShcjylA16NwPQrXKUAfhetRuJ4rQNejcD0K1yFAhetRuB6FGUBcj8L1KNwjQFK4HoXrURtAZmZmZmZmF0DNzMzMzMwjQHsUrkfh+iFAuB6F61E4KUCuR+F6FK4bQLgehetRuCZAzczMzMzMIUCuR+F6FK4gQIXrUbgehShAAAAAAACAI0AAAAAAAAAgQD0K16NwPSlAUrgehetRGUAK16NwPYohQArXo3A9CixASOF6FK7HKUApXI/C9agmQOF6FK5HYStA16NwPQrXFUA9CtejcD0jQArXo3A9CiNAUrgehetRJEAfhetRuJ4kQM3MzMzMTCZACtejcD2KIUAzMzMzMzMlQJqZmZmZmR9AzczMzMzMIEDsUbgehWspQPYoXI/C9R1A9ihcj8L1FUAfhetRuB4rQDMzMzMzMyFAZmZmZmZmFUAK16NwPQojQDMzMzMzsyxASOF6FK5HLEAAAAAAAAAcQEjhehSuRytA",
          "dtype": "f8"
         },
         "yaxis": "y"
        },
        {
         "hovertemplate": "Category=Software<br>Quantity=%{x}<br>UnitPrice=%{y}<extra></extra>",
         "legendgroup": "Software",
         "marker": {
          "color": "#00cc96",
          "symbol": "circle"
         },
         "mode": "markers",
         "name": "Software",
         "orientation": "v",
         "showlegend": true,
         "type": "scatter",
         "x": {
          "bdata": "AQEBAQEBAQEBAQEBAQEBAQEBAQEBAQEBAQEBAQEBAQEBAQEBAQEBAQEBAQEBAQ==",
          "dtype": "i1"
         },
         "xaxis": "x",
         "y": {
          "bdata": "pHA9ClcRtkBcj8L16Pe/QI/C9Sjc67NApHA9CheAtkAUrkfhOru1QEjhehTuRsJAMzMzMzM1vECkcD0Kl7O1QKRwPQo3n8JAj8L1KFzBwEDsUbgeBcy9QNejcD3Kc7pASOF6FE5XwUA9CtejsEy1QKRwPQpXxrhASOF6FK4HwUBI4XoUzjnCQFK4HoXL9MFAKVyPwnXXtEBxPQrXQzbDQIXrUbieWsNAAAAAAADTwEAAAAAAIFbBQDMzMzNzw7RAAAAAACB2wkB7FK5HIRa6QPYoXI/ij8JAw/UoXM9xtUCuR+F6lE61QJqZmZkZPbxA9ihcj4J0wUDD9ShcD1i7QDMzMzMzy8JAj8L1KFz7uECkcD0K1wK6QB+F61F4pLRAZmZmZganwkA9Ctej8Aa9QKRwPQrX/bNAKVyPwrXUwECF61G4nqi/QD0K16MwUrpA9ihcjwK3s0CuR+F6VB26QB+F61G4H7RAUrgehesntEA=",
          "dtype": "f8"
         },
         "yaxis": "y"
        },
        {
         "hovertemplate": "Category=Stationery<br>Quantity=%{x}<br>UnitPrice=%{y}<extra></extra>",
         "legendgroup": "Stationery",
         "marker": {
          "color": "#ab63fa",
          "symbol": "circle"
         },
         "mode": "markers",
         "name": "Stationery",
         "orientation": "v",
         "showlegend": true,
         "type": "scatter",
         "x": {
          "bdata": "DRMIBA0OERINCAgPEQwKBQUECw8QAQMKBQgCEAYRCw0CDQkUCQERDQIOCwsPAQ4NEAMODgsGEgIBAxEJEBMIBAcEDgYQFAIFAxEMBw4HAwYPEBAGBgoMCQQD",
          "dtype": "i1"
         },
         "xaxis": "x",
         "y": {
          "bdata": "XI/C9ShcB0A9CtejcD32P9ejcD0K1wVAXI/C9ShcA0BI4XoUrscnQFyPwvUoXAdAj8L1KFyP9j9mZmZmZmbyP/YoXI/C9QRAw/UoXI9CKUC4HoXrUbgrQOF6FK5H4QJAuB6F61G4J0CamZmZmZkBQBSuR+F6FPY/hetRuB6F/z9mZmZmZmYEQFyPwvUo3CRACtejcD2KJkDsUbgehesDQDMzMzMzczNAw/UoXI/CBUDhehSuR6EyQHE9Ctej8C1ApHA9CtcjLECPwvUoXA8nQHE9Ctej8CtAXI/C9Shc+z8K16NwPYozQMP1KFyPwv0/zczMzMzMAEA9CtejcD0EQD0K16NwPf4/9ihcj8L18D+4HoXrUbgGQOxRuB6FayRAmpmZmZmZAUAAAAAAAAACQHE9CtejcPU/16NwPQrXAUApXI/C9Sj8P2ZmZmZm5i9AKVyPwvWoMEBSuB6F61EvQEjhehSuRwFAH4XrUbge+T/hehSuR2EsQAAAAAAAAPw/rkfhehSuK0C4HoXrUTgtQBSuR+F6FABApHA9CtcjKUCuR+F6FK7zPxSuR+F61DNAUrgehetR/D/2KFyPwnUzQPYoXI/C9fg/9ihcj8L18D+F61G4HoX/P4XrUbgeRTNA7FG4HoXrJkCamZmZmVkyQHsUrkfh+i5ApHA9CtcjKECPwvUoXI/2P+xRuB6F6zNAw/UoXI/C+T/2KFyPwvX4P1yPwvUoXAVApHA9Ctej9D89CtejcH0yQFyPwvUonDJAuB6F61E4MkBmZmZmZmYEQJqZmZmZWTBArkfhehSuB0AK16NwPQomQLgehetRuPY/16NwPQrXB0DhehSuR6ExQKRwPQrXIzJA9ihcj8L1/D89CtejcD0qQNejcD0KFzBAH4XrUbgeKEBSuB6F6xEyQNejcD0K1/M/pHA9CtcjK0DXo3A9ClcvQClcj8L1KPg/",
          "dtype": "f8"
         },
         "yaxis": "y"
        },
        {
         "hovertemplate": "Category=Electronics<br>Quantity=%{x}<br>UnitPrice=%{y}<extra></extra>",
         "legendgroup": "Electronics",
         "marker": {
          "color": "#FFA15A",
          "symbol": "circle"
         },
         "mode": "markers",
         "name": "Electronics",
         "orientation": "v",
         "showlegend": true,
         "type": "scatter",
         "x": {
          "bdata": "EwYTCQ0EEBIEAwkMFAEJDgsUBQUCAhIGDAYEBwEBBg8ECxENDQUCAwYECQYMCAgLEg0UDgoLAgQEDwkUDgsBCwkKBAIEDQwNDgkMCwwBAw0LCxITARILCwMQAQIBDw4FDhADAQkJARMSCQ0DCggNDAMCCxQFCwwUDAYFBREHAgkDEQYLARISFAsREhAHEBIPBAU=",
          "dtype": "i1"
         },
         "xaxis": "x",
         "y": {
          "bdata": "rkfhehTeYkBxPQrXo3xwQOxRuB6FeYlA9ihcj8IJdUDD9Shcj+ppQClcj8L1AG1Aj8L1KFyljkBxPQrXo4ByQD0K16Nw745AmpmZmZlBZUDXo3A9CgGKQAAAAAAAGopApHA9Ctd7bEDXo3A9CmWLQBSuR+F6HG5ACtejcD1giUDXo3A9Csd1QMP1KFyPwoxASOF6FK5PckC4HoXrUWhsQPYoXI/Cm45AKVyPwvU4jEAK16NwPZJxQArXo3A9umdA7FG4HoW7ckBmZmZmZgaKQM3MzMzM3G5A7FG4HoUjjEBcj8L1KNRqQK5H4XoUhopA7FG4HoXjcUDXo3A9Ck9oQNejcD0KF49AcT0K16PQckA9CtejcPWJQHE9CtejzolAexSuR+H6bUDsUbgehbttQIXrUbgeq4xAFK5H4Xo8ckD2KFyPwt1mQHsUrkfh3o1ArkfhehTacUCPwvUoXG2NQHsUrkfh0nRA16NwPQqdikD2KFyPwkOKQMP1KFyPonVAMzMzMzOzdEC4HoXrUTBzQI/C9Shcj2tAXI/C9SgyikDD9Shcj75wQPYoXI/CQYlAzczMzMzscEBcj8L1KMKMQFK4HoXr4WVAMzMzMzPfd0AK16NwPcpvQBSuR+F68HBA7FG4HoUDcUCamZmZmQWOQPYoXI/CPW1A7FG4HoVfjkDD9Shcj2KMQArXo3A9Wm5A9ihcj8JVcUD2KFyPwtuKQBSuR+F63G9Aj8L1KFxHcUBxPQrXo7hvQHE9CtejQotASOF6FK5PbEAzMzMzM7NzQI/C9Shc74pA4XoUrkcpaUBcj8L1KARoQJqZmZmZP4tA7FG4HoVzZkAAAAAAAFBtQFK4HoXrYXFA9ihcj8LZdEAUrkfhesRuQKRwPQrXa2lAexSuR+ECjEDsUbgehWGLQPYoXI/CRWRAw/UoXI/aYkDNzMzMzDCOQArXo3A9Ao5A7FG4HoWXcEBxPQrXo9ByQIXrUbgetW9ApHA9CtdXjEDD9ShcjyJqQMP1KFyPcmxA9ihcj8L7i0AAAAAAAFiJQMP1KFyPEm1AmpmZmZk9jUD2KFyPwhmNQAAAAAAAPHJA4XoUrkfRb0BmZmZmZupxQFyPwvUoFGVAXI/C9SjMZEAzMzMzM6+LQM3MzMzMtHZAFK5H4XpkZUCkcD0K16uNQAAAAAAAXHRA9ihcj8JtcECkcD0K12NyQKRwPQrXc2tAH4XrUbg2b0CkcD0K1+WMQClcj8L1QIpAMzMzMzPDbEDhehSuR7+KQArXo3A9OmxAH4XrUbgid0C4HoXrUVBtQHsUrkfhZItAKVyPwvWgc0DXo3A9CmOKQMP1KFyPlnBAXI/C9Sg0iUC4HoXrUfSMQI/C9Shch25AXI/C9Sg2jUBxPQrXo1BoQB+F61G4RI5AhetRuB7LjUC4HoXrUQBjQJqZmZmZ+W9Aj8L1KFy3aUAAAAAAAKhxQMP1KFyPSmlAw/UoXI9EikAzMzMzM0NwQClcj8L1wHVAzczMzMwEaUDsUbgehU+OQFK4HoXrJ4pAPQrXo3Blc0BxPQrXo7iMQA==",
          "dtype": "f8"
         },
         "yaxis": "y"
        },
        {
         "hovertemplate": "Category=Accessories<br>Quantity=%{x}<br>UnitPrice=%{y}<extra></extra>",
         "legendgroup": "Accessories",
         "marker": {
          "color": "#19d3f3",
          "symbol": "circle"
         },
         "mode": "markers",
         "name": "Accessories",
         "orientation": "v",
         "showlegend": true,
         "type": "scatter",
         "x": {
          "bdata": "AhAFBQUMChEQFAwKDhIKDwsHBwoGFAEDDxEGEg8PEgQPEwIEAxQPDhIJEBIMEgIGBA0RDxMFEAw=",
          "dtype": "i1"
         },
         "xaxis": "x",
         "y": {
          "bdata": "AAAAAAAAQEDD9ShcjwJFQBSuR+F6VD5AZmZmZmamNUDD9ShcjyJHQKRwPQrXYzVAZmZmZmZmNEDXo3A9Clc4QFyPwvUoHDdAXI/C9ShcO0C4HoXrUXhDQHsUrkfhejpA9ihcj8J1RkA9CtejcP1EQHsUrkfhekBA9ihcj8J1NUCPwvUoXM85QArXo3A9qkFAhetRuB5lRUCF61G4HkVEQClcj8L1qEBAcT0K16OwQEC4HoXrUbg0QClcj8L1yEVAzczMzMxMREDhehSuR0FBQKRwPQrXozpAw/UoXI/iREBI4XoUridAQDMzMzMzszZASOF6FK4nRUBxPQrXoxBBQKRwPQrXIzVAKVyPwvVoOUCPwvUoXM9EQM3MzMzMjEZAhetRuB6FQ0CamZmZmblGQLgehetRmEBAFK5H4XrUOUCF61G4HsVFQEjhehSuBzZAmpmZmZmZPkB7FK5H4Xo6QM3MzMzMTDRAXI/C9Sh8QUAAAAAAAIBDQFyPwvUo3D1AuB6F61F4PkBI4XoUridFQBSuR+F6VEFAKVyPwvWoNUBxPQrXo3A7QOxRuB6FqzRAuB6F61H4PEDNzMzMzIw3QA==",
          "dtype": "f8"
         },
         "yaxis": "y"
        }
       ],
       "layout": {
        "height": 600,
        "legend": {
         "title": {
          "text": "Category"
         },
         "tracegroupgap": 0
        },
        "margin": {
         "t": 60
        },
        "template": {
         "data": {
          "bar": [
           {
            "error_x": {
             "color": "#2a3f5f"
            },
            "error_y": {
             "color": "#2a3f5f"
            },
            "marker": {
             "line": {
              "color": "#E5ECF6",
              "width": 0.5
             },
             "pattern": {
              "fillmode": "overlay",
              "size": 10,
              "solidity": 0.2
             }
            },
            "type": "bar"
           }
          ],
          "barpolar": [
           {
            "marker": {
             "line": {
              "color": "#E5ECF6",
              "width": 0.5
             },
             "pattern": {
              "fillmode": "overlay",
              "size": 10,
              "solidity": 0.2
             }
            },
            "type": "barpolar"
           }
          ],
          "carpet": [
           {
            "aaxis": {
             "endlinecolor": "#2a3f5f",
             "gridcolor": "white",
             "linecolor": "white",
             "minorgridcolor": "white",
             "startlinecolor": "#2a3f5f"
            },
            "baxis": {
             "endlinecolor": "#2a3f5f",
             "gridcolor": "white",
             "linecolor": "white",
             "minorgridcolor": "white",
             "startlinecolor": "#2a3f5f"
            },
            "type": "carpet"
           }
          ],
          "choropleth": [
           {
            "colorbar": {
             "outlinewidth": 0,
             "ticks": ""
            },
            "type": "choropleth"
           }
          ],
          "contour": [
           {
            "colorbar": {
             "outlinewidth": 0,
             "ticks": ""
            },
            "colorscale": [
             [
              0,
              "#0d0887"
             ],
             [
              0.1111111111111111,
              "#46039f"
             ],
             [
              0.2222222222222222,
              "#7201a8"
             ],
             [
              0.3333333333333333,
              "#9c179e"
             ],
             [
              0.4444444444444444,
              "#bd3786"
             ],
             [
              0.5555555555555556,
              "#d8576b"
             ],
             [
              0.6666666666666666,
              "#ed7953"
             ],
             [
              0.7777777777777778,
              "#fb9f3a"
             ],
             [
              0.8888888888888888,
              "#fdca26"
             ],
             [
              1,
              "#f0f921"
             ]
            ],
            "type": "contour"
           }
          ],
          "contourcarpet": [
           {
            "colorbar": {
             "outlinewidth": 0,
             "ticks": ""
            },
            "type": "contourcarpet"
           }
          ],
          "heatmap": [
           {
            "colorbar": {
             "outlinewidth": 0,
             "ticks": ""
            },
            "colorscale": [
             [
              0,
              "#0d0887"
             ],
             [
              0.1111111111111111,
              "#46039f"
             ],
             [
              0.2222222222222222,
              "#7201a8"
             ],
             [
              0.3333333333333333,
              "#9c179e"
             ],
             [
              0.4444444444444444,
              "#bd3786"
             ],
             [
              0.5555555555555556,
              "#d8576b"
             ],
             [
              0.6666666666666666,
              "#ed7953"
             ],
             [
              0.7777777777777778,
              "#fb9f3a"
             ],
             [
              0.8888888888888888,
              "#fdca26"
             ],
             [
              1,
              "#f0f921"
             ]
            ],
            "type": "heatmap"
           }
          ],
          "histogram": [
           {
            "marker": {
             "pattern": {
              "fillmode": "overlay",
              "size": 10,
              "solidity": 0.2
             }
            },
            "type": "histogram"
           }
          ],
          "histogram2d": [
           {
            "colorbar": {
             "outlinewidth": 0,
             "ticks": ""
            },
            "colorscale": [
             [
              0,
              "#0d0887"
             ],
             [
              0.1111111111111111,
              "#46039f"
             ],
             [
              0.2222222222222222,
              "#7201a8"
             ],
             [
              0.3333333333333333,
              "#9c179e"
             ],
             [
              0.4444444444444444,
              "#bd3786"
             ],
             [
              0.5555555555555556,
              "#d8576b"
             ],
             [
              0.6666666666666666,
              "#ed7953"
             ],
             [
              0.7777777777777778,
              "#fb9f3a"
             ],
             [
              0.8888888888888888,
              "#fdca26"
             ],
             [
              1,
              "#f0f921"
             ]
            ],
            "type": "histogram2d"
           }
          ],
          "histogram2dcontour": [
           {
            "colorbar": {
             "outlinewidth": 0,
             "ticks": ""
            },
            "colorscale": [
             [
              0,
              "#0d0887"
             ],
             [
              0.1111111111111111,
              "#46039f"
             ],
             [
              0.2222222222222222,
              "#7201a8"
             ],
             [
              0.3333333333333333,
              "#9c179e"
             ],
             [
              0.4444444444444444,
              "#bd3786"
             ],
             [
              0.5555555555555556,
              "#d8576b"
             ],
             [
              0.6666666666666666,
              "#ed7953"
             ],
             [
              0.7777777777777778,
              "#fb9f3a"
             ],
             [
              0.8888888888888888,
              "#fdca26"
             ],
             [
              1,
              "#f0f921"
             ]
            ],
            "type": "histogram2dcontour"
           }
          ],
          "mesh3d": [
           {
            "colorbar": {
             "outlinewidth": 0,
             "ticks": ""
            },
            "type": "mesh3d"
           }
          ],
          "parcoords": [
           {
            "line": {
             "colorbar": {
              "outlinewidth": 0,
              "ticks": ""
             }
            },
            "type": "parcoords"
           }
          ],
          "pie": [
           {
            "automargin": true,
            "type": "pie"
           }
          ],
          "scatter": [
           {
            "fillpattern": {
             "fillmode": "overlay",
             "size": 10,
             "solidity": 0.2
            },
            "type": "scatter"
           }
          ],
          "scatter3d": [
           {
            "line": {
             "colorbar": {
              "outlinewidth": 0,
              "ticks": ""
             }
            },
            "marker": {
             "colorbar": {
              "outlinewidth": 0,
              "ticks": ""
             }
            },
            "type": "scatter3d"
           }
          ],
          "scattercarpet": [
           {
            "marker": {
             "colorbar": {
              "outlinewidth": 0,
              "ticks": ""
             }
            },
            "type": "scattercarpet"
           }
          ],
          "scattergeo": [
           {
            "marker": {
             "colorbar": {
              "outlinewidth": 0,
              "ticks": ""
             }
            },
            "type": "scattergeo"
           }
          ],
          "scattergl": [
           {
            "marker": {
             "colorbar": {
              "outlinewidth": 0,
              "ticks": ""
             }
            },
            "type": "scattergl"
           }
          ],
          "scattermap": [
           {
            "marker": {
             "colorbar": {
              "outlinewidth": 0,
              "ticks": ""
             }
            },
            "type": "scattermap"
           }
          ],
          "scattermapbox": [
           {
            "marker": {
             "colorbar": {
              "outlinewidth": 0,
              "ticks": ""
             }
            },
            "type": "scattermapbox"
           }
          ],
          "scatterpolar": [
           {
            "marker": {
             "colorbar": {
              "outlinewidth": 0,
              "ticks": ""
             }
            },
            "type": "scatterpolar"
           }
          ],
          "scatterpolargl": [
           {
            "marker": {
             "colorbar": {
              "outlinewidth": 0,
              "ticks": ""
             }
            },
            "type": "scatterpolargl"
           }
          ],
          "scatterternary": [
           {
            "marker": {
             "colorbar": {
              "outlinewidth": 0,
              "ticks": ""
             }
            },
            "type": "scatterternary"
           }
          ],
          "surface": [
           {
            "colorbar": {
             "outlinewidth": 0,
             "ticks": ""
            },
            "colorscale": [
             [
              0,
              "#0d0887"
             ],
             [
              0.1111111111111111,
              "#46039f"
             ],
             [
              0.2222222222222222,
              "#7201a8"
             ],
             [
              0.3333333333333333,
              "#9c179e"
             ],
             [
              0.4444444444444444,
              "#bd3786"
             ],
             [
              0.5555555555555556,
              "#d8576b"
             ],
             [
              0.6666666666666666,
              "#ed7953"
             ],
             [
              0.7777777777777778,
              "#fb9f3a"
             ],
             [
              0.8888888888888888,
              "#fdca26"
             ],
             [
              1,
              "#f0f921"
             ]
            ],
            "type": "surface"
           }
          ],
          "table": [
           {
            "cells": {
             "fill": {
              "color": "#EBF0F8"
             },
             "line": {
              "color": "white"
             }
            },
            "header": {
             "fill": {
              "color": "#C8D4E3"
             },
             "line": {
              "color": "white"
             }
            },
            "type": "table"
           }
          ]
         },
         "layout": {
          "annotationdefaults": {
           "arrowcolor": "#2a3f5f",
           "arrowhead": 0,
           "arrowwidth": 1
          },
          "autotypenumbers": "strict",
          "coloraxis": {
           "colorbar": {
            "outlinewidth": 0,
            "ticks": ""
           }
          },
          "colorscale": {
           "diverging": [
            [
             0,
             "#8e0152"
            ],
            [
             0.1,
             "#c51b7d"
            ],
            [
             0.2,
             "#de77ae"
            ],
            [
             0.3,
             "#f1b6da"
            ],
            [
             0.4,
             "#fde0ef"
            ],
            [
             0.5,
             "#f7f7f7"
            ],
            [
             0.6,
             "#e6f5d0"
            ],
            [
             0.7,
             "#b8e186"
            ],
            [
             0.8,
             "#7fbc41"
            ],
            [
             0.9,
             "#4d9221"
            ],
            [
             1,
             "#276419"
            ]
           ],
           "sequential": [
            [
             0,
             "#0d0887"
            ],
            [
             0.1111111111111111,
             "#46039f"
            ],
            [
             0.2222222222222222,
             "#7201a8"
            ],
            [
             0.3333333333333333,
             "#9c179e"
            ],
            [
             0.4444444444444444,
             "#bd3786"
            ],
            [
             0.5555555555555556,
             "#d8576b"
            ],
            [
             0.6666666666666666,
             "#ed7953"
            ],
            [
             0.7777777777777778,
             "#fb9f3a"
            ],
            [
             0.8888888888888888,
             "#fdca26"
            ],
            [
             1,
             "#f0f921"
            ]
           ],
           "sequentialminus": [
            [
             0,
             "#0d0887"
            ],
            [
             0.1111111111111111,
             "#46039f"
            ],
            [
             0.2222222222222222,
             "#7201a8"
            ],
            [
             0.3333333333333333,
             "#9c179e"
            ],
            [
             0.4444444444444444,
             "#bd3786"
            ],
            [
             0.5555555555555556,
             "#d8576b"
            ],
            [
             0.6666666666666666,
             "#ed7953"
            ],
            [
             0.7777777777777778,
             "#fb9f3a"
            ],
            [
             0.8888888888888888,
             "#fdca26"
            ],
            [
             1,
             "#f0f921"
            ]
           ]
          },
          "colorway": [
           "#636efa",
           "#EF553B",
           "#00cc96",
           "#ab63fa",
           "#FFA15A",
           "#19d3f3",
           "#FF6692",
           "#B6E880",
           "#FF97FF",
           "#FECB52"
          ],
          "font": {
           "color": "#2a3f5f"
          },
          "geo": {
           "bgcolor": "white",
           "lakecolor": "white",
           "landcolor": "#E5ECF6",
           "showlakes": true,
           "showland": true,
           "subunitcolor": "white"
          },
          "hoverlabel": {
           "align": "left"
          },
          "hovermode": "closest",
          "mapbox": {
           "style": "light"
          },
          "paper_bgcolor": "white",
          "plot_bgcolor": "#E5ECF6",
          "polar": {
           "angularaxis": {
            "gridcolor": "white",
            "linecolor": "white",
            "ticks": ""
           },
           "bgcolor": "#E5ECF6",
           "radialaxis": {
            "gridcolor": "white",
            "linecolor": "white",
            "ticks": ""
           }
          },
          "scene": {
           "xaxis": {
            "backgroundcolor": "#E5ECF6",
            "gridcolor": "white",
            "gridwidth": 2,
            "linecolor": "white",
            "showbackground": true,
            "ticks": "",
            "zerolinecolor": "white"
           },
           "yaxis": {
            "backgroundcolor": "#E5ECF6",
            "gridcolor": "white",
            "gridwidth": 2,
            "linecolor": "white",
            "showbackground": true,
            "ticks": "",
            "zerolinecolor": "white"
           },
           "zaxis": {
            "backgroundcolor": "#E5ECF6",
            "gridcolor": "white",
            "gridwidth": 2,
            "linecolor": "white",
            "showbackground": true,
            "ticks": "",
            "zerolinecolor": "white"
           }
          },
          "shapedefaults": {
           "line": {
            "color": "#2a3f5f"
           }
          },
          "ternary": {
           "aaxis": {
            "gridcolor": "white",
            "linecolor": "white",
            "ticks": ""
           },
           "baxis": {
            "gridcolor": "white",
            "linecolor": "white",
            "ticks": ""
           },
           "bgcolor": "#E5ECF6",
           "caxis": {
            "gridcolor": "white",
            "linecolor": "white",
            "ticks": ""
           }
          },
          "title": {
           "x": 0.05
          },
          "xaxis": {
           "automargin": true,
           "gridcolor": "white",
           "linecolor": "white",
           "ticks": "",
           "title": {
            "standoff": 15
           },
           "zerolinecolor": "white",
           "zerolinewidth": 2
          },
          "yaxis": {
           "automargin": true,
           "gridcolor": "white",
           "linecolor": "white",
           "ticks": "",
           "title": {
            "standoff": 15
           },
           "zerolinecolor": "white",
           "zerolinewidth": 2
          }
         }
        },
        "title": {
         "text": "Quantity vs UnitPrice"
        },
        "width": 1000,
        "xaxis": {
         "anchor": "y",
         "domain": [
          0,
          1
         ],
         "title": {
          "text": "Quantity"
         }
        },
        "yaxis": {
         "anchor": "x",
         "domain": [
          0,
          1
         ],
         "title": {
          "text": "UnitPrice"
         }
        }
       }
      },
      "text/html": [
       "<div>            <script src=\"https://cdnjs.cloudflare.com/ajax/libs/mathjax/2.7.5/MathJax.js?config=TeX-AMS-MML_SVG\"></script><script type=\"text/javascript\">if (window.MathJax && window.MathJax.Hub && window.MathJax.Hub.Config) {window.MathJax.Hub.Config({SVG: {font: \"STIX-Web\"}});}</script>                <script type=\"text/javascript\">window.PlotlyConfig = {MathJaxConfig: 'local'};</script>\n",
       "        <script charset=\"utf-8\" src=\"https://cdn.plot.ly/plotly-3.0.1.min.js\"></script>                <div id=\"877b6116-df62-4664-bf8d-8dff928a064b\" class=\"plotly-graph-div\" style=\"height:600px; width:1000px;\"></div>            <script type=\"text/javascript\">                window.PLOTLYENV=window.PLOTLYENV || {};                                if (document.getElementById(\"877b6116-df62-4664-bf8d-8dff928a064b\")) {                    Plotly.newPlot(                        \"877b6116-df62-4664-bf8d-8dff928a064b\",                        [{\"hovertemplate\":\"Category=Furniture\\u003cbr\\u003eQuantity=%{x}\\u003cbr\\u003eUnitPrice=%{y}\\u003cextra\\u003e\\u003c\\u002fextra\\u003e\",\"legendgroup\":\"Furniture\",\"marker\":{\"color\":\"#636efa\",\"symbol\":\"circle\"},\"mode\":\"markers\",\"name\":\"Furniture\",\"orientation\":\"v\",\"showlegend\":true,\"x\":{\"dtype\":\"i1\",\"bdata\":\"ChMUEBAPBgMCAxAKFAMUEg8LEwUPBg8MAQIGAg4SEwIGBQkSEBESAwYOBBQGEhEHEwUCEwgHEwoICRMIEQIRDgwJCAoMCxEFDhMKERARDQIOCAsSARMRAgIDDQITEA0NDQoHCxMR\"},\"xaxis\":\"x\",\"y\":{\"dtype\":\"f8\",\"bdata\":\"mpmZmZlJXEAUrkfhejRZQNejcD0K91tAMzMzMzPTYkDNzMzMzHRhQClcj8L1iFpAuB6F61FoZ0AAAAAAALBaQClcj8L1CF9A4XoUrkcRW0BxPQrXo3hkQPYoXI\\u002fClV5ArkfhehTuZkCPwvUoXB9dQGZmZmZmrmJAXI\\u002fC9Sj0ZEBmZmZmZm5kQAAAAAAAgF1AcT0K16MAX0AK16NwPSJjQMP1KFyPsmRACtejcD3SYkAfhetRuG5oQOxRuB6Fu2ZAH4XrUbgmY0CF61G4HkVbQM3MzMzM\\u002fFxAexSuR+EqX0BSuB6F6\\u002fFlQGZmZmZmxmJAhetRuB7VZUCPwvUoXFdnQHsUrkfhql1AMzMzMzOTWkBcj8L1KGxdQHE9CtejAFtAZmZmZmaGYEDsUbgehQtgQMP1KFyPUl5AcT0K16NgXUAAAAAAABhlQK5H4XoUDmBAH4XrUbiOYEDXo3A9CmdnQClcj8L1YGRAUrgeheupZECamZmZmTljQBSuR+F6dGdAZmZmZmbeaEDhehSuR+FjQHE9CtejqGdASOF6FK5XW0Bcj8L1KKxmQGZmZmZmlmRAexSuR+EqXkCF61G4HnVjQKRwPQrXg2RAmpmZmZlBZUDhehSuR6lkQLgehetRSGJAhetRuB4VY0D2KFyPwsVoQArXo3A9cmNAhetRuB5lXECPwvUoXDdmQPYoXI\\u002fCxVxAKVyPwvVgaEDhehSuR3FgQJqZmZmZOVlACtejcD0yZkDsUbgehcNgQClcj8L1SFtAMzMzMzPraEDsUbgehTNjQLgehetRKFtAcT0K16OwYkAAAAAAANBfQGZmZmZmrmVAFK5H4Xp0ZEAK16NwPWJlQHsUrkfh4mRA9ihcj8KdYUAAAAAAALBlQClcj8L1aF9AZmZmZmZeYUB7FK5H4aJjQIXrUbgeBWRA16NwPQqPZkB7FK5H4fJoQPYoXI\\u002fChV5Aw\\u002fUoXI+6YkBcj8L1KKRgQPYoXI\\u002fC1WRApHA9CteTYUAAAAAAAMBoQKRwPQrXY1xAMzMzMzNTY0DNzMzMzKxcQMP1KFyPImdAhetRuB7VYkBI4XoUrgdaQLgehetRQGRA\"},\"yaxis\":\"y\",\"type\":\"scatter\"},{\"hovertemplate\":\"Category=Office Supplies\\u003cbr\\u003eQuantity=%{x}\\u003cbr\\u003eUnitPrice=%{y}\\u003cextra\\u003e\\u003c\\u002fextra\\u003e\",\"legendgroup\":\"Office Supplies\",\"marker\":{\"color\":\"#EF553B\",\"symbol\":\"circle\"},\"mode\":\"markers\",\"name\":\"Office Supplies\",\"orientation\":\"v\",\"showlegend\":true,\"x\":{\"dtype\":\"i1\",\"bdata\":\"EA8DEAsLDQMHCAwHExMQCBANBgsPEgsPEQoQBw4RDwwOEwEBAgUDCwUFAwEOEQMJDhMJAw0GEAoKAgYE\"},\"xaxis\":\"x\",\"y\":{\"dtype\":\"f8\",\"bdata\":\"PQrXo3A9KUDNzMzMzMwgQArXo3A9CipApHA9CtcjKkBcj8L1KNwsQK5H4XoUrhlASOF6FK7HLEBcj8L1KFwZQB+F61G4nixAcT0K16PwJUApXI\\u002fC9SgoQGZmZmZm5idApHA9CtejJkBI4XoUrsciQI\\u002fC9ShcjylA16NwPQrXKUAfhetRuJ4rQNejcD0K1yFAhetRuB6FGUBcj8L1KNwjQFK4HoXrURtAZmZmZmZmF0DNzMzMzMwjQHsUrkfh+iFAuB6F61E4KUCuR+F6FK4bQLgehetRuCZAzczMzMzMIUCuR+F6FK4gQIXrUbgehShAAAAAAACAI0AAAAAAAAAgQD0K16NwPSlAUrgehetRGUAK16NwPYohQArXo3A9CixASOF6FK7HKUApXI\\u002fC9agmQOF6FK5HYStA16NwPQrXFUA9CtejcD0jQArXo3A9CiNAUrgehetRJEAfhetRuJ4kQM3MzMzMTCZACtejcD2KIUAzMzMzMzMlQJqZmZmZmR9AzczMzMzMIEDsUbgehWspQPYoXI\\u002fC9R1A9ihcj8L1FUAfhetRuB4rQDMzMzMzMyFAZmZmZmZmFUAK16NwPQojQDMzMzMzsyxASOF6FK5HLEAAAAAAAAAcQEjhehSuRytA\"},\"yaxis\":\"y\",\"type\":\"scatter\"},{\"hovertemplate\":\"Category=Software\\u003cbr\\u003eQuantity=%{x}\\u003cbr\\u003eUnitPrice=%{y}\\u003cextra\\u003e\\u003c\\u002fextra\\u003e\",\"legendgroup\":\"Software\",\"marker\":{\"color\":\"#00cc96\",\"symbol\":\"circle\"},\"mode\":\"markers\",\"name\":\"Software\",\"orientation\":\"v\",\"showlegend\":true,\"x\":{\"dtype\":\"i1\",\"bdata\":\"AQEBAQEBAQEBAQEBAQEBAQEBAQEBAQEBAQEBAQEBAQEBAQEBAQEBAQEBAQEBAQ==\"},\"xaxis\":\"x\",\"y\":{\"dtype\":\"f8\",\"bdata\":\"pHA9ClcRtkBcj8L16Pe\\u002fQI\\u002fC9Sjc67NApHA9CheAtkAUrkfhOru1QEjhehTuRsJAMzMzMzM1vECkcD0Kl7O1QKRwPQo3n8JAj8L1KFzBwEDsUbgeBcy9QNejcD3Kc7pASOF6FE5XwUA9CtejsEy1QKRwPQpXxrhASOF6FK4HwUBI4XoUzjnCQFK4HoXL9MFAKVyPwnXXtEBxPQrXQzbDQIXrUbieWsNAAAAAAADTwEAAAAAAIFbBQDMzMzNzw7RAAAAAACB2wkB7FK5HIRa6QPYoXI\\u002fij8JAw\\u002fUoXM9xtUCuR+F6lE61QJqZmZkZPbxA9ihcj4J0wUDD9ShcD1i7QDMzMzMzy8JAj8L1KFz7uECkcD0K1wK6QB+F61F4pLRAZmZmZganwkA9Ctej8Aa9QKRwPQrX\\u002fbNAKVyPwrXUwECF61G4nqi\\u002fQD0K16MwUrpA9ihcjwK3s0CuR+F6VB26QB+F61G4H7RAUrgehesntEA=\"},\"yaxis\":\"y\",\"type\":\"scatter\"},{\"hovertemplate\":\"Category=Stationery\\u003cbr\\u003eQuantity=%{x}\\u003cbr\\u003eUnitPrice=%{y}\\u003cextra\\u003e\\u003c\\u002fextra\\u003e\",\"legendgroup\":\"Stationery\",\"marker\":{\"color\":\"#ab63fa\",\"symbol\":\"circle\"},\"mode\":\"markers\",\"name\":\"Stationery\",\"orientation\":\"v\",\"showlegend\":true,\"x\":{\"dtype\":\"i1\",\"bdata\":\"DRMIBA0OERINCAgPEQwKBQUECw8QAQMKBQgCEAYRCw0CDQkUCQERDQIOCwsPAQ4NEAMODgsGEgIBAxEJEBMIBAcEDgYQFAIFAxEMBw4HAwYPEBAGBgoMCQQD\"},\"xaxis\":\"x\",\"y\":{\"dtype\":\"f8\",\"bdata\":\"XI\\u002fC9ShcB0A9CtejcD32P9ejcD0K1wVAXI\\u002fC9ShcA0BI4XoUrscnQFyPwvUoXAdAj8L1KFyP9j9mZmZmZmbyP\\u002fYoXI\\u002fC9QRAw\\u002fUoXI9CKUC4HoXrUbgrQOF6FK5H4QJAuB6F61G4J0CamZmZmZkBQBSuR+F6FPY\\u002fhetRuB6F\\u002fz9mZmZmZmYEQFyPwvUo3CRACtejcD2KJkDsUbgehesDQDMzMzMzczNAw\\u002fUoXI\\u002fCBUDhehSuR6EyQHE9Ctej8C1ApHA9CtcjLECPwvUoXA8nQHE9Ctej8CtAXI\\u002fC9Shc+z8K16NwPYozQMP1KFyPwv0\\u002fzczMzMzMAEA9CtejcD0EQD0K16NwPf4\\u002f9ihcj8L18D+4HoXrUbgGQOxRuB6FayRAmpmZmZmZAUAAAAAAAAACQHE9CtejcPU\\u002f16NwPQrXAUApXI\\u002fC9Sj8P2ZmZmZm5i9AKVyPwvWoMEBSuB6F61EvQEjhehSuRwFAH4XrUbge+T\\u002fhehSuR2EsQAAAAAAAAPw\\u002frkfhehSuK0C4HoXrUTgtQBSuR+F6FABApHA9CtcjKUCuR+F6FK7zPxSuR+F61DNAUrgehetR\\u002fD\\u002f2KFyPwnUzQPYoXI\\u002fC9fg\\u002f9ihcj8L18D+F61G4HoX\\u002fP4XrUbgeRTNA7FG4HoXrJkCamZmZmVkyQHsUrkfh+i5ApHA9CtcjKECPwvUoXI\\u002f2P+xRuB6F6zNAw\\u002fUoXI\\u002fC+T\\u002f2KFyPwvX4P1yPwvUoXAVApHA9Ctej9D89CtejcH0yQFyPwvUonDJAuB6F61E4MkBmZmZmZmYEQJqZmZmZWTBArkfhehSuB0AK16NwPQomQLgehetRuPY\\u002f16NwPQrXB0DhehSuR6ExQKRwPQrXIzJA9ihcj8L1\\u002fD89CtejcD0qQNejcD0KFzBAH4XrUbgeKEBSuB6F6xEyQNejcD0K1\\u002fM\\u002fpHA9CtcjK0DXo3A9ClcvQClcj8L1KPg\\u002f\"},\"yaxis\":\"y\",\"type\":\"scatter\"},{\"hovertemplate\":\"Category=Electronics\\u003cbr\\u003eQuantity=%{x}\\u003cbr\\u003eUnitPrice=%{y}\\u003cextra\\u003e\\u003c\\u002fextra\\u003e\",\"legendgroup\":\"Electronics\",\"marker\":{\"color\":\"#FFA15A\",\"symbol\":\"circle\"},\"mode\":\"markers\",\"name\":\"Electronics\",\"orientation\":\"v\",\"showlegend\":true,\"x\":{\"dtype\":\"i1\",\"bdata\":\"EwYTCQ0EEBIEAwkMFAEJDgsUBQUCAhIGDAYEBwEBBg8ECxENDQUCAwYECQYMCAgLEg0UDgoLAgQEDwkUDgsBCwkKBAIEDQwNDgkMCwwBAw0LCxITARILCwMQAQIBDw4FDhADAQkJARMSCQ0DCggNDAMCCxQFCwwUDAYFBREHAgkDEQYLARISFAsREhAHEBIPBAU=\"},\"xaxis\":\"x\",\"y\":{\"dtype\":\"f8\",\"bdata\":\"rkfhehTeYkBxPQrXo3xwQOxRuB6FeYlA9ihcj8IJdUDD9Shcj+ppQClcj8L1AG1Aj8L1KFyljkBxPQrXo4ByQD0K16Nw745AmpmZmZlBZUDXo3A9CgGKQAAAAAAAGopApHA9Ctd7bEDXo3A9CmWLQBSuR+F6HG5ACtejcD1giUDXo3A9Csd1QMP1KFyPwoxASOF6FK5PckC4HoXrUWhsQPYoXI\\u002fCm45AKVyPwvU4jEAK16NwPZJxQArXo3A9umdA7FG4HoW7ckBmZmZmZgaKQM3MzMzM3G5A7FG4HoUjjEBcj8L1KNRqQK5H4XoUhopA7FG4HoXjcUDXo3A9Ck9oQNejcD0KF49AcT0K16PQckA9CtejcPWJQHE9CtejzolAexSuR+H6bUDsUbgehbttQIXrUbgeq4xAFK5H4Xo8ckD2KFyPwt1mQHsUrkfh3o1ArkfhehTacUCPwvUoXG2NQHsUrkfh0nRA16NwPQqdikD2KFyPwkOKQMP1KFyPonVAMzMzMzOzdEC4HoXrUTBzQI\\u002fC9Shcj2tAXI\\u002fC9SgyikDD9Shcj75wQPYoXI\\u002fCQYlAzczMzMzscEBcj8L1KMKMQFK4HoXr4WVAMzMzMzPfd0AK16NwPcpvQBSuR+F68HBA7FG4HoUDcUCamZmZmQWOQPYoXI\\u002fCPW1A7FG4HoVfjkDD9Shcj2KMQArXo3A9Wm5A9ihcj8JVcUD2KFyPwtuKQBSuR+F63G9Aj8L1KFxHcUBxPQrXo7hvQHE9CtejQotASOF6FK5PbEAzMzMzM7NzQI\\u002fC9Shc74pA4XoUrkcpaUBcj8L1KARoQJqZmZmZP4tA7FG4HoVzZkAAAAAAAFBtQFK4HoXrYXFA9ihcj8LZdEAUrkfhesRuQKRwPQrXa2lAexSuR+ECjEDsUbgehWGLQPYoXI\\u002fCRWRAw\\u002fUoXI\\u002faYkDNzMzMzDCOQArXo3A9Ao5A7FG4HoWXcEBxPQrXo9ByQIXrUbgetW9ApHA9CtdXjEDD9ShcjyJqQMP1KFyPcmxA9ihcj8L7i0AAAAAAAFiJQMP1KFyPEm1AmpmZmZk9jUD2KFyPwhmNQAAAAAAAPHJA4XoUrkfRb0BmZmZmZupxQFyPwvUoFGVAXI\\u002fC9SjMZEAzMzMzM6+LQM3MzMzMtHZAFK5H4XpkZUCkcD0K16uNQAAAAAAAXHRA9ihcj8JtcECkcD0K12NyQKRwPQrXc2tAH4XrUbg2b0CkcD0K1+WMQClcj8L1QIpAMzMzMzPDbEDhehSuR7+KQArXo3A9OmxAH4XrUbgid0C4HoXrUVBtQHsUrkfhZItAKVyPwvWgc0DXo3A9CmOKQMP1KFyPlnBAXI\\u002fC9Sg0iUC4HoXrUfSMQI\\u002fC9Shch25AXI\\u002fC9Sg2jUBxPQrXo1BoQB+F61G4RI5AhetRuB7LjUC4HoXrUQBjQJqZmZmZ+W9Aj8L1KFy3aUAAAAAAAKhxQMP1KFyPSmlAw\\u002fUoXI9EikAzMzMzM0NwQClcj8L1wHVAzczMzMwEaUDsUbgehU+OQFK4HoXrJ4pAPQrXo3Blc0BxPQrXo7iMQA==\"},\"yaxis\":\"y\",\"type\":\"scatter\"},{\"hovertemplate\":\"Category=Accessories\\u003cbr\\u003eQuantity=%{x}\\u003cbr\\u003eUnitPrice=%{y}\\u003cextra\\u003e\\u003c\\u002fextra\\u003e\",\"legendgroup\":\"Accessories\",\"marker\":{\"color\":\"#19d3f3\",\"symbol\":\"circle\"},\"mode\":\"markers\",\"name\":\"Accessories\",\"orientation\":\"v\",\"showlegend\":true,\"x\":{\"dtype\":\"i1\",\"bdata\":\"AhAFBQUMChEQFAwKDhIKDwsHBwoGFAEDDxEGEg8PEgQPEwIEAxQPDhIJEBIMEgIGBA0RDxMFEAw=\"},\"xaxis\":\"x\",\"y\":{\"dtype\":\"f8\",\"bdata\":\"AAAAAAAAQEDD9ShcjwJFQBSuR+F6VD5AZmZmZmamNUDD9ShcjyJHQKRwPQrXYzVAZmZmZmZmNEDXo3A9Clc4QFyPwvUoHDdAXI\\u002fC9ShcO0C4HoXrUXhDQHsUrkfhejpA9ihcj8J1RkA9CtejcP1EQHsUrkfhekBA9ihcj8J1NUCPwvUoXM85QArXo3A9qkFAhetRuB5lRUCF61G4HkVEQClcj8L1qEBAcT0K16OwQEC4HoXrUbg0QClcj8L1yEVAzczMzMxMREDhehSuR0FBQKRwPQrXozpAw\\u002fUoXI\\u002fiREBI4XoUridAQDMzMzMzszZASOF6FK4nRUBxPQrXoxBBQKRwPQrXIzVAKVyPwvVoOUCPwvUoXM9EQM3MzMzMjEZAhetRuB6FQ0CamZmZmblGQLgehetRmEBAFK5H4XrUOUCF61G4HsVFQEjhehSuBzZAmpmZmZmZPkB7FK5H4Xo6QM3MzMzMTDRAXI\\u002fC9Sh8QUAAAAAAAIBDQFyPwvUo3D1AuB6F61F4PkBI4XoUridFQBSuR+F6VEFAKVyPwvWoNUBxPQrXo3A7QOxRuB6FqzRAuB6F61H4PEDNzMzMzIw3QA==\"},\"yaxis\":\"y\",\"type\":\"scatter\"}],                        {\"template\":{\"data\":{\"histogram2dcontour\":[{\"type\":\"histogram2dcontour\",\"colorbar\":{\"outlinewidth\":0,\"ticks\":\"\"},\"colorscale\":[[0.0,\"#0d0887\"],[0.1111111111111111,\"#46039f\"],[0.2222222222222222,\"#7201a8\"],[0.3333333333333333,\"#9c179e\"],[0.4444444444444444,\"#bd3786\"],[0.5555555555555556,\"#d8576b\"],[0.6666666666666666,\"#ed7953\"],[0.7777777777777778,\"#fb9f3a\"],[0.8888888888888888,\"#fdca26\"],[1.0,\"#f0f921\"]]}],\"choropleth\":[{\"type\":\"choropleth\",\"colorbar\":{\"outlinewidth\":0,\"ticks\":\"\"}}],\"histogram2d\":[{\"type\":\"histogram2d\",\"colorbar\":{\"outlinewidth\":0,\"ticks\":\"\"},\"colorscale\":[[0.0,\"#0d0887\"],[0.1111111111111111,\"#46039f\"],[0.2222222222222222,\"#7201a8\"],[0.3333333333333333,\"#9c179e\"],[0.4444444444444444,\"#bd3786\"],[0.5555555555555556,\"#d8576b\"],[0.6666666666666666,\"#ed7953\"],[0.7777777777777778,\"#fb9f3a\"],[0.8888888888888888,\"#fdca26\"],[1.0,\"#f0f921\"]]}],\"heatmap\":[{\"type\":\"heatmap\",\"colorbar\":{\"outlinewidth\":0,\"ticks\":\"\"},\"colorscale\":[[0.0,\"#0d0887\"],[0.1111111111111111,\"#46039f\"],[0.2222222222222222,\"#7201a8\"],[0.3333333333333333,\"#9c179e\"],[0.4444444444444444,\"#bd3786\"],[0.5555555555555556,\"#d8576b\"],[0.6666666666666666,\"#ed7953\"],[0.7777777777777778,\"#fb9f3a\"],[0.8888888888888888,\"#fdca26\"],[1.0,\"#f0f921\"]]}],\"contourcarpet\":[{\"type\":\"contourcarpet\",\"colorbar\":{\"outlinewidth\":0,\"ticks\":\"\"}}],\"contour\":[{\"type\":\"contour\",\"colorbar\":{\"outlinewidth\":0,\"ticks\":\"\"},\"colorscale\":[[0.0,\"#0d0887\"],[0.1111111111111111,\"#46039f\"],[0.2222222222222222,\"#7201a8\"],[0.3333333333333333,\"#9c179e\"],[0.4444444444444444,\"#bd3786\"],[0.5555555555555556,\"#d8576b\"],[0.6666666666666666,\"#ed7953\"],[0.7777777777777778,\"#fb9f3a\"],[0.8888888888888888,\"#fdca26\"],[1.0,\"#f0f921\"]]}],\"surface\":[{\"type\":\"surface\",\"colorbar\":{\"outlinewidth\":0,\"ticks\":\"\"},\"colorscale\":[[0.0,\"#0d0887\"],[0.1111111111111111,\"#46039f\"],[0.2222222222222222,\"#7201a8\"],[0.3333333333333333,\"#9c179e\"],[0.4444444444444444,\"#bd3786\"],[0.5555555555555556,\"#d8576b\"],[0.6666666666666666,\"#ed7953\"],[0.7777777777777778,\"#fb9f3a\"],[0.8888888888888888,\"#fdca26\"],[1.0,\"#f0f921\"]]}],\"mesh3d\":[{\"type\":\"mesh3d\",\"colorbar\":{\"outlinewidth\":0,\"ticks\":\"\"}}],\"scatter\":[{\"fillpattern\":{\"fillmode\":\"overlay\",\"size\":10,\"solidity\":0.2},\"type\":\"scatter\"}],\"parcoords\":[{\"type\":\"parcoords\",\"line\":{\"colorbar\":{\"outlinewidth\":0,\"ticks\":\"\"}}}],\"scatterpolargl\":[{\"type\":\"scatterpolargl\",\"marker\":{\"colorbar\":{\"outlinewidth\":0,\"ticks\":\"\"}}}],\"bar\":[{\"error_x\":{\"color\":\"#2a3f5f\"},\"error_y\":{\"color\":\"#2a3f5f\"},\"marker\":{\"line\":{\"color\":\"#E5ECF6\",\"width\":0.5},\"pattern\":{\"fillmode\":\"overlay\",\"size\":10,\"solidity\":0.2}},\"type\":\"bar\"}],\"scattergeo\":[{\"type\":\"scattergeo\",\"marker\":{\"colorbar\":{\"outlinewidth\":0,\"ticks\":\"\"}}}],\"scatterpolar\":[{\"type\":\"scatterpolar\",\"marker\":{\"colorbar\":{\"outlinewidth\":0,\"ticks\":\"\"}}}],\"histogram\":[{\"marker\":{\"pattern\":{\"fillmode\":\"overlay\",\"size\":10,\"solidity\":0.2}},\"type\":\"histogram\"}],\"scattergl\":[{\"type\":\"scattergl\",\"marker\":{\"colorbar\":{\"outlinewidth\":0,\"ticks\":\"\"}}}],\"scatter3d\":[{\"type\":\"scatter3d\",\"line\":{\"colorbar\":{\"outlinewidth\":0,\"ticks\":\"\"}},\"marker\":{\"colorbar\":{\"outlinewidth\":0,\"ticks\":\"\"}}}],\"scattermap\":[{\"type\":\"scattermap\",\"marker\":{\"colorbar\":{\"outlinewidth\":0,\"ticks\":\"\"}}}],\"scattermapbox\":[{\"type\":\"scattermapbox\",\"marker\":{\"colorbar\":{\"outlinewidth\":0,\"ticks\":\"\"}}}],\"scatterternary\":[{\"type\":\"scatterternary\",\"marker\":{\"colorbar\":{\"outlinewidth\":0,\"ticks\":\"\"}}}],\"scattercarpet\":[{\"type\":\"scattercarpet\",\"marker\":{\"colorbar\":{\"outlinewidth\":0,\"ticks\":\"\"}}}],\"carpet\":[{\"aaxis\":{\"endlinecolor\":\"#2a3f5f\",\"gridcolor\":\"white\",\"linecolor\":\"white\",\"minorgridcolor\":\"white\",\"startlinecolor\":\"#2a3f5f\"},\"baxis\":{\"endlinecolor\":\"#2a3f5f\",\"gridcolor\":\"white\",\"linecolor\":\"white\",\"minorgridcolor\":\"white\",\"startlinecolor\":\"#2a3f5f\"},\"type\":\"carpet\"}],\"table\":[{\"cells\":{\"fill\":{\"color\":\"#EBF0F8\"},\"line\":{\"color\":\"white\"}},\"header\":{\"fill\":{\"color\":\"#C8D4E3\"},\"line\":{\"color\":\"white\"}},\"type\":\"table\"}],\"barpolar\":[{\"marker\":{\"line\":{\"color\":\"#E5ECF6\",\"width\":0.5},\"pattern\":{\"fillmode\":\"overlay\",\"size\":10,\"solidity\":0.2}},\"type\":\"barpolar\"}],\"pie\":[{\"automargin\":true,\"type\":\"pie\"}]},\"layout\":{\"autotypenumbers\":\"strict\",\"colorway\":[\"#636efa\",\"#EF553B\",\"#00cc96\",\"#ab63fa\",\"#FFA15A\",\"#19d3f3\",\"#FF6692\",\"#B6E880\",\"#FF97FF\",\"#FECB52\"],\"font\":{\"color\":\"#2a3f5f\"},\"hovermode\":\"closest\",\"hoverlabel\":{\"align\":\"left\"},\"paper_bgcolor\":\"white\",\"plot_bgcolor\":\"#E5ECF6\",\"polar\":{\"bgcolor\":\"#E5ECF6\",\"angularaxis\":{\"gridcolor\":\"white\",\"linecolor\":\"white\",\"ticks\":\"\"},\"radialaxis\":{\"gridcolor\":\"white\",\"linecolor\":\"white\",\"ticks\":\"\"}},\"ternary\":{\"bgcolor\":\"#E5ECF6\",\"aaxis\":{\"gridcolor\":\"white\",\"linecolor\":\"white\",\"ticks\":\"\"},\"baxis\":{\"gridcolor\":\"white\",\"linecolor\":\"white\",\"ticks\":\"\"},\"caxis\":{\"gridcolor\":\"white\",\"linecolor\":\"white\",\"ticks\":\"\"}},\"coloraxis\":{\"colorbar\":{\"outlinewidth\":0,\"ticks\":\"\"}},\"colorscale\":{\"sequential\":[[0.0,\"#0d0887\"],[0.1111111111111111,\"#46039f\"],[0.2222222222222222,\"#7201a8\"],[0.3333333333333333,\"#9c179e\"],[0.4444444444444444,\"#bd3786\"],[0.5555555555555556,\"#d8576b\"],[0.6666666666666666,\"#ed7953\"],[0.7777777777777778,\"#fb9f3a\"],[0.8888888888888888,\"#fdca26\"],[1.0,\"#f0f921\"]],\"sequentialminus\":[[0.0,\"#0d0887\"],[0.1111111111111111,\"#46039f\"],[0.2222222222222222,\"#7201a8\"],[0.3333333333333333,\"#9c179e\"],[0.4444444444444444,\"#bd3786\"],[0.5555555555555556,\"#d8576b\"],[0.6666666666666666,\"#ed7953\"],[0.7777777777777778,\"#fb9f3a\"],[0.8888888888888888,\"#fdca26\"],[1.0,\"#f0f921\"]],\"diverging\":[[0,\"#8e0152\"],[0.1,\"#c51b7d\"],[0.2,\"#de77ae\"],[0.3,\"#f1b6da\"],[0.4,\"#fde0ef\"],[0.5,\"#f7f7f7\"],[0.6,\"#e6f5d0\"],[0.7,\"#b8e186\"],[0.8,\"#7fbc41\"],[0.9,\"#4d9221\"],[1,\"#276419\"]]},\"xaxis\":{\"gridcolor\":\"white\",\"linecolor\":\"white\",\"ticks\":\"\",\"title\":{\"standoff\":15},\"zerolinecolor\":\"white\",\"automargin\":true,\"zerolinewidth\":2},\"yaxis\":{\"gridcolor\":\"white\",\"linecolor\":\"white\",\"ticks\":\"\",\"title\":{\"standoff\":15},\"zerolinecolor\":\"white\",\"automargin\":true,\"zerolinewidth\":2},\"scene\":{\"xaxis\":{\"backgroundcolor\":\"#E5ECF6\",\"gridcolor\":\"white\",\"linecolor\":\"white\",\"showbackground\":true,\"ticks\":\"\",\"zerolinecolor\":\"white\",\"gridwidth\":2},\"yaxis\":{\"backgroundcolor\":\"#E5ECF6\",\"gridcolor\":\"white\",\"linecolor\":\"white\",\"showbackground\":true,\"ticks\":\"\",\"zerolinecolor\":\"white\",\"gridwidth\":2},\"zaxis\":{\"backgroundcolor\":\"#E5ECF6\",\"gridcolor\":\"white\",\"linecolor\":\"white\",\"showbackground\":true,\"ticks\":\"\",\"zerolinecolor\":\"white\",\"gridwidth\":2}},\"shapedefaults\":{\"line\":{\"color\":\"#2a3f5f\"}},\"annotationdefaults\":{\"arrowcolor\":\"#2a3f5f\",\"arrowhead\":0,\"arrowwidth\":1},\"geo\":{\"bgcolor\":\"white\",\"landcolor\":\"#E5ECF6\",\"subunitcolor\":\"white\",\"showland\":true,\"showlakes\":true,\"lakecolor\":\"white\"},\"title\":{\"x\":0.05},\"mapbox\":{\"style\":\"light\"}}},\"xaxis\":{\"anchor\":\"y\",\"domain\":[0.0,1.0],\"title\":{\"text\":\"Quantity\"}},\"yaxis\":{\"anchor\":\"x\",\"domain\":[0.0,1.0],\"title\":{\"text\":\"UnitPrice\"}},\"legend\":{\"title\":{\"text\":\"Category\"},\"tracegroupgap\":0},\"margin\":{\"t\":60},\"title\":{\"text\":\"Quantity vs UnitPrice\"},\"width\":1000,\"height\":600},                        {\"responsive\": true}                    ).then(function(){\n",
       "                            \n",
       "var gd = document.getElementById('877b6116-df62-4664-bf8d-8dff928a064b');\n",
       "var x = new MutationObserver(function (mutations, observer) {{\n",
       "        var display = window.getComputedStyle(gd).display;\n",
       "        if (!display || display === 'none') {{\n",
       "            console.log([gd, 'removed!']);\n",
       "            Plotly.purge(gd);\n",
       "            observer.disconnect();\n",
       "        }}\n",
       "}});\n",
       "\n",
       "// Listen for the removal of the full notebook cells\n",
       "var notebookContainer = gd.closest('#notebook-container');\n",
       "if (notebookContainer) {{\n",
       "    x.observe(notebookContainer, {childList: true});\n",
       "}}\n",
       "\n",
       "// Listen for the clearing of the current output cell\n",
       "var outputEl = gd.closest('.output');\n",
       "if (outputEl) {{\n",
       "    x.observe(outputEl, {childList: true});\n",
       "}}\n",
       "\n",
       "                        })                };            </script>        </div>"
      ]
     },
     "metadata": {},
     "output_type": "display_data"
    }
   ],
   "source": [
    "make_scatter(df,'Quantity','UnitPrice','Category')"
   ]
  },
  {
   "cell_type": "code",
   "execution_count": 80,
   "id": "26111e1a-54b9-4023-9832-e6402b40a1fe",
   "metadata": {},
   "outputs": [],
   "source": [
    "def top_10(df: pd.DataFrame, group : str, col1 :str):\n",
    "    top_items = df.groupby(group)[col1].sum().nlargest(10).reset_index()\n",
    "\n",
    "    fig = px.bar(top_items, x=group, y=col1, title=\"Top 10 สินค้าที่ใช้จ่ายมากที่สุด\", text_auto=True)\n",
    "    fig.show()"
   ]
  },
  {
   "cell_type": "code",
   "execution_count": 81,
   "id": "36c070e6-a3ba-4375-9015-eef99750fd31",
   "metadata": {},
   "outputs": [
    {
     "data": {
      "application/vnd.plotly.v1+json": {
       "config": {
        "plotlyServerURL": "https://plot.ly"
       },
       "data": [
        {
         "hovertemplate": "ItemName=%{x}<br>TotalCost=%{y}<extra></extra>",
         "legendgroup": "",
         "marker": {
          "color": "#636efa",
          "pattern": {
           "shape": ""
          }
         },
         "name": "",
         "orientation": "v",
         "showlegend": false,
         "textposition": "auto",
         "texttemplate": "%{y}",
         "type": "bar",
         "x": [
          "Laptop",
          "Annual Software License",
          "Monitor",
          "Printer",
          "Desk Chair",
          "Whiteboard",
          "Laptop Bag",
          "Stapler",
          "Printer Ink",
          "Notepad"
         ],
         "xaxis": "x",
         "y": {
          "bdata": "16NwPXPTHEEAAAAASIIUQQrXo3CJwf9AexSuR31N90DrUbgeHW32QD4K16MMxPNAw/UoXE9e1EDsUbgeRbi4QHA9CtfjebZAuB6F61E6j0A=",
          "dtype": "f8"
         },
         "yaxis": "y"
        }
       ],
       "layout": {
        "barmode": "relative",
        "legend": {
         "tracegroupgap": 0
        },
        "template": {
         "data": {
          "bar": [
           {
            "error_x": {
             "color": "#2a3f5f"
            },
            "error_y": {
             "color": "#2a3f5f"
            },
            "marker": {
             "line": {
              "color": "#E5ECF6",
              "width": 0.5
             },
             "pattern": {
              "fillmode": "overlay",
              "size": 10,
              "solidity": 0.2
             }
            },
            "type": "bar"
           }
          ],
          "barpolar": [
           {
            "marker": {
             "line": {
              "color": "#E5ECF6",
              "width": 0.5
             },
             "pattern": {
              "fillmode": "overlay",
              "size": 10,
              "solidity": 0.2
             }
            },
            "type": "barpolar"
           }
          ],
          "carpet": [
           {
            "aaxis": {
             "endlinecolor": "#2a3f5f",
             "gridcolor": "white",
             "linecolor": "white",
             "minorgridcolor": "white",
             "startlinecolor": "#2a3f5f"
            },
            "baxis": {
             "endlinecolor": "#2a3f5f",
             "gridcolor": "white",
             "linecolor": "white",
             "minorgridcolor": "white",
             "startlinecolor": "#2a3f5f"
            },
            "type": "carpet"
           }
          ],
          "choropleth": [
           {
            "colorbar": {
             "outlinewidth": 0,
             "ticks": ""
            },
            "type": "choropleth"
           }
          ],
          "contour": [
           {
            "colorbar": {
             "outlinewidth": 0,
             "ticks": ""
            },
            "colorscale": [
             [
              0,
              "#0d0887"
             ],
             [
              0.1111111111111111,
              "#46039f"
             ],
             [
              0.2222222222222222,
              "#7201a8"
             ],
             [
              0.3333333333333333,
              "#9c179e"
             ],
             [
              0.4444444444444444,
              "#bd3786"
             ],
             [
              0.5555555555555556,
              "#d8576b"
             ],
             [
              0.6666666666666666,
              "#ed7953"
             ],
             [
              0.7777777777777778,
              "#fb9f3a"
             ],
             [
              0.8888888888888888,
              "#fdca26"
             ],
             [
              1,
              "#f0f921"
             ]
            ],
            "type": "contour"
           }
          ],
          "contourcarpet": [
           {
            "colorbar": {
             "outlinewidth": 0,
             "ticks": ""
            },
            "type": "contourcarpet"
           }
          ],
          "heatmap": [
           {
            "colorbar": {
             "outlinewidth": 0,
             "ticks": ""
            },
            "colorscale": [
             [
              0,
              "#0d0887"
             ],
             [
              0.1111111111111111,
              "#46039f"
             ],
             [
              0.2222222222222222,
              "#7201a8"
             ],
             [
              0.3333333333333333,
              "#9c179e"
             ],
             [
              0.4444444444444444,
              "#bd3786"
             ],
             [
              0.5555555555555556,
              "#d8576b"
             ],
             [
              0.6666666666666666,
              "#ed7953"
             ],
             [
              0.7777777777777778,
              "#fb9f3a"
             ],
             [
              0.8888888888888888,
              "#fdca26"
             ],
             [
              1,
              "#f0f921"
             ]
            ],
            "type": "heatmap"
           }
          ],
          "histogram": [
           {
            "marker": {
             "pattern": {
              "fillmode": "overlay",
              "size": 10,
              "solidity": 0.2
             }
            },
            "type": "histogram"
           }
          ],
          "histogram2d": [
           {
            "colorbar": {
             "outlinewidth": 0,
             "ticks": ""
            },
            "colorscale": [
             [
              0,
              "#0d0887"
             ],
             [
              0.1111111111111111,
              "#46039f"
             ],
             [
              0.2222222222222222,
              "#7201a8"
             ],
             [
              0.3333333333333333,
              "#9c179e"
             ],
             [
              0.4444444444444444,
              "#bd3786"
             ],
             [
              0.5555555555555556,
              "#d8576b"
             ],
             [
              0.6666666666666666,
              "#ed7953"
             ],
             [
              0.7777777777777778,
              "#fb9f3a"
             ],
             [
              0.8888888888888888,
              "#fdca26"
             ],
             [
              1,
              "#f0f921"
             ]
            ],
            "type": "histogram2d"
           }
          ],
          "histogram2dcontour": [
           {
            "colorbar": {
             "outlinewidth": 0,
             "ticks": ""
            },
            "colorscale": [
             [
              0,
              "#0d0887"
             ],
             [
              0.1111111111111111,
              "#46039f"
             ],
             [
              0.2222222222222222,
              "#7201a8"
             ],
             [
              0.3333333333333333,
              "#9c179e"
             ],
             [
              0.4444444444444444,
              "#bd3786"
             ],
             [
              0.5555555555555556,
              "#d8576b"
             ],
             [
              0.6666666666666666,
              "#ed7953"
             ],
             [
              0.7777777777777778,
              "#fb9f3a"
             ],
             [
              0.8888888888888888,
              "#fdca26"
             ],
             [
              1,
              "#f0f921"
             ]
            ],
            "type": "histogram2dcontour"
           }
          ],
          "mesh3d": [
           {
            "colorbar": {
             "outlinewidth": 0,
             "ticks": ""
            },
            "type": "mesh3d"
           }
          ],
          "parcoords": [
           {
            "line": {
             "colorbar": {
              "outlinewidth": 0,
              "ticks": ""
             }
            },
            "type": "parcoords"
           }
          ],
          "pie": [
           {
            "automargin": true,
            "type": "pie"
           }
          ],
          "scatter": [
           {
            "fillpattern": {
             "fillmode": "overlay",
             "size": 10,
             "solidity": 0.2
            },
            "type": "scatter"
           }
          ],
          "scatter3d": [
           {
            "line": {
             "colorbar": {
              "outlinewidth": 0,
              "ticks": ""
             }
            },
            "marker": {
             "colorbar": {
              "outlinewidth": 0,
              "ticks": ""
             }
            },
            "type": "scatter3d"
           }
          ],
          "scattercarpet": [
           {
            "marker": {
             "colorbar": {
              "outlinewidth": 0,
              "ticks": ""
             }
            },
            "type": "scattercarpet"
           }
          ],
          "scattergeo": [
           {
            "marker": {
             "colorbar": {
              "outlinewidth": 0,
              "ticks": ""
             }
            },
            "type": "scattergeo"
           }
          ],
          "scattergl": [
           {
            "marker": {
             "colorbar": {
              "outlinewidth": 0,
              "ticks": ""
             }
            },
            "type": "scattergl"
           }
          ],
          "scattermap": [
           {
            "marker": {
             "colorbar": {
              "outlinewidth": 0,
              "ticks": ""
             }
            },
            "type": "scattermap"
           }
          ],
          "scattermapbox": [
           {
            "marker": {
             "colorbar": {
              "outlinewidth": 0,
              "ticks": ""
             }
            },
            "type": "scattermapbox"
           }
          ],
          "scatterpolar": [
           {
            "marker": {
             "colorbar": {
              "outlinewidth": 0,
              "ticks": ""
             }
            },
            "type": "scatterpolar"
           }
          ],
          "scatterpolargl": [
           {
            "marker": {
             "colorbar": {
              "outlinewidth": 0,
              "ticks": ""
             }
            },
            "type": "scatterpolargl"
           }
          ],
          "scatterternary": [
           {
            "marker": {
             "colorbar": {
              "outlinewidth": 0,
              "ticks": ""
             }
            },
            "type": "scatterternary"
           }
          ],
          "surface": [
           {
            "colorbar": {
             "outlinewidth": 0,
             "ticks": ""
            },
            "colorscale": [
             [
              0,
              "#0d0887"
             ],
             [
              0.1111111111111111,
              "#46039f"
             ],
             [
              0.2222222222222222,
              "#7201a8"
             ],
             [
              0.3333333333333333,
              "#9c179e"
             ],
             [
              0.4444444444444444,
              "#bd3786"
             ],
             [
              0.5555555555555556,
              "#d8576b"
             ],
             [
              0.6666666666666666,
              "#ed7953"
             ],
             [
              0.7777777777777778,
              "#fb9f3a"
             ],
             [
              0.8888888888888888,
              "#fdca26"
             ],
             [
              1,
              "#f0f921"
             ]
            ],
            "type": "surface"
           }
          ],
          "table": [
           {
            "cells": {
             "fill": {
              "color": "#EBF0F8"
             },
             "line": {
              "color": "white"
             }
            },
            "header": {
             "fill": {
              "color": "#C8D4E3"
             },
             "line": {
              "color": "white"
             }
            },
            "type": "table"
           }
          ]
         },
         "layout": {
          "annotationdefaults": {
           "arrowcolor": "#2a3f5f",
           "arrowhead": 0,
           "arrowwidth": 1
          },
          "autotypenumbers": "strict",
          "coloraxis": {
           "colorbar": {
            "outlinewidth": 0,
            "ticks": ""
           }
          },
          "colorscale": {
           "diverging": [
            [
             0,
             "#8e0152"
            ],
            [
             0.1,
             "#c51b7d"
            ],
            [
             0.2,
             "#de77ae"
            ],
            [
             0.3,
             "#f1b6da"
            ],
            [
             0.4,
             "#fde0ef"
            ],
            [
             0.5,
             "#f7f7f7"
            ],
            [
             0.6,
             "#e6f5d0"
            ],
            [
             0.7,
             "#b8e186"
            ],
            [
             0.8,
             "#7fbc41"
            ],
            [
             0.9,
             "#4d9221"
            ],
            [
             1,
             "#276419"
            ]
           ],
           "sequential": [
            [
             0,
             "#0d0887"
            ],
            [
             0.1111111111111111,
             "#46039f"
            ],
            [
             0.2222222222222222,
             "#7201a8"
            ],
            [
             0.3333333333333333,
             "#9c179e"
            ],
            [
             0.4444444444444444,
             "#bd3786"
            ],
            [
             0.5555555555555556,
             "#d8576b"
            ],
            [
             0.6666666666666666,
             "#ed7953"
            ],
            [
             0.7777777777777778,
             "#fb9f3a"
            ],
            [
             0.8888888888888888,
             "#fdca26"
            ],
            [
             1,
             "#f0f921"
            ]
           ],
           "sequentialminus": [
            [
             0,
             "#0d0887"
            ],
            [
             0.1111111111111111,
             "#46039f"
            ],
            [
             0.2222222222222222,
             "#7201a8"
            ],
            [
             0.3333333333333333,
             "#9c179e"
            ],
            [
             0.4444444444444444,
             "#bd3786"
            ],
            [
             0.5555555555555556,
             "#d8576b"
            ],
            [
             0.6666666666666666,
             "#ed7953"
            ],
            [
             0.7777777777777778,
             "#fb9f3a"
            ],
            [
             0.8888888888888888,
             "#fdca26"
            ],
            [
             1,
             "#f0f921"
            ]
           ]
          },
          "colorway": [
           "#636efa",
           "#EF553B",
           "#00cc96",
           "#ab63fa",
           "#FFA15A",
           "#19d3f3",
           "#FF6692",
           "#B6E880",
           "#FF97FF",
           "#FECB52"
          ],
          "font": {
           "color": "#2a3f5f"
          },
          "geo": {
           "bgcolor": "white",
           "lakecolor": "white",
           "landcolor": "#E5ECF6",
           "showlakes": true,
           "showland": true,
           "subunitcolor": "white"
          },
          "hoverlabel": {
           "align": "left"
          },
          "hovermode": "closest",
          "mapbox": {
           "style": "light"
          },
          "paper_bgcolor": "white",
          "plot_bgcolor": "#E5ECF6",
          "polar": {
           "angularaxis": {
            "gridcolor": "white",
            "linecolor": "white",
            "ticks": ""
           },
           "bgcolor": "#E5ECF6",
           "radialaxis": {
            "gridcolor": "white",
            "linecolor": "white",
            "ticks": ""
           }
          },
          "scene": {
           "xaxis": {
            "backgroundcolor": "#E5ECF6",
            "gridcolor": "white",
            "gridwidth": 2,
            "linecolor": "white",
            "showbackground": true,
            "ticks": "",
            "zerolinecolor": "white"
           },
           "yaxis": {
            "backgroundcolor": "#E5ECF6",
            "gridcolor": "white",
            "gridwidth": 2,
            "linecolor": "white",
            "showbackground": true,
            "ticks": "",
            "zerolinecolor": "white"
           },
           "zaxis": {
            "backgroundcolor": "#E5ECF6",
            "gridcolor": "white",
            "gridwidth": 2,
            "linecolor": "white",
            "showbackground": true,
            "ticks": "",
            "zerolinecolor": "white"
           }
          },
          "shapedefaults": {
           "line": {
            "color": "#2a3f5f"
           }
          },
          "ternary": {
           "aaxis": {
            "gridcolor": "white",
            "linecolor": "white",
            "ticks": ""
           },
           "baxis": {
            "gridcolor": "white",
            "linecolor": "white",
            "ticks": ""
           },
           "bgcolor": "#E5ECF6",
           "caxis": {
            "gridcolor": "white",
            "linecolor": "white",
            "ticks": ""
           }
          },
          "title": {
           "x": 0.05
          },
          "xaxis": {
           "automargin": true,
           "gridcolor": "white",
           "linecolor": "white",
           "ticks": "",
           "title": {
            "standoff": 15
           },
           "zerolinecolor": "white",
           "zerolinewidth": 2
          },
          "yaxis": {
           "automargin": true,
           "gridcolor": "white",
           "linecolor": "white",
           "ticks": "",
           "title": {
            "standoff": 15
           },
           "zerolinecolor": "white",
           "zerolinewidth": 2
          }
         }
        },
        "title": {
         "text": "Top 10 สินค้าที่ใช้จ่ายมากที่สุด"
        },
        "xaxis": {
         "anchor": "y",
         "domain": [
          0,
          1
         ],
         "title": {
          "text": "ItemName"
         }
        },
        "yaxis": {
         "anchor": "x",
         "domain": [
          0,
          1
         ],
         "title": {
          "text": "TotalCost"
         }
        }
       }
      },
      "text/html": [
       "<div>            <script src=\"https://cdnjs.cloudflare.com/ajax/libs/mathjax/2.7.5/MathJax.js?config=TeX-AMS-MML_SVG\"></script><script type=\"text/javascript\">if (window.MathJax && window.MathJax.Hub && window.MathJax.Hub.Config) {window.MathJax.Hub.Config({SVG: {font: \"STIX-Web\"}});}</script>                <script type=\"text/javascript\">window.PlotlyConfig = {MathJaxConfig: 'local'};</script>\n",
       "        <script charset=\"utf-8\" src=\"https://cdn.plot.ly/plotly-3.0.1.min.js\"></script>                <div id=\"a81d39c2-9c19-4848-80a6-c76d1def0360\" class=\"plotly-graph-div\" style=\"height:525px; width:100%;\"></div>            <script type=\"text/javascript\">                window.PLOTLYENV=window.PLOTLYENV || {};                                if (document.getElementById(\"a81d39c2-9c19-4848-80a6-c76d1def0360\")) {                    Plotly.newPlot(                        \"a81d39c2-9c19-4848-80a6-c76d1def0360\",                        [{\"hovertemplate\":\"ItemName=%{x}\\u003cbr\\u003eTotalCost=%{y}\\u003cextra\\u003e\\u003c\\u002fextra\\u003e\",\"legendgroup\":\"\",\"marker\":{\"color\":\"#636efa\",\"pattern\":{\"shape\":\"\"}},\"name\":\"\",\"orientation\":\"v\",\"showlegend\":false,\"textposition\":\"auto\",\"texttemplate\":\"%{y}\",\"x\":[\"Laptop\",\"Annual Software License\",\"Monitor\",\"Printer\",\"Desk Chair\",\"Whiteboard\",\"Laptop Bag\",\"Stapler\",\"Printer Ink\",\"Notepad\"],\"xaxis\":\"x\",\"y\":{\"dtype\":\"f8\",\"bdata\":\"16NwPXPTHEEAAAAASIIUQQrXo3CJwf9AexSuR31N90DrUbgeHW32QD4K16MMxPNAw\\u002fUoXE9e1EDsUbgeRbi4QHA9CtfjebZAuB6F61E6j0A=\"},\"yaxis\":\"y\",\"type\":\"bar\"}],                        {\"template\":{\"data\":{\"histogram2dcontour\":[{\"type\":\"histogram2dcontour\",\"colorbar\":{\"outlinewidth\":0,\"ticks\":\"\"},\"colorscale\":[[0.0,\"#0d0887\"],[0.1111111111111111,\"#46039f\"],[0.2222222222222222,\"#7201a8\"],[0.3333333333333333,\"#9c179e\"],[0.4444444444444444,\"#bd3786\"],[0.5555555555555556,\"#d8576b\"],[0.6666666666666666,\"#ed7953\"],[0.7777777777777778,\"#fb9f3a\"],[0.8888888888888888,\"#fdca26\"],[1.0,\"#f0f921\"]]}],\"choropleth\":[{\"type\":\"choropleth\",\"colorbar\":{\"outlinewidth\":0,\"ticks\":\"\"}}],\"histogram2d\":[{\"type\":\"histogram2d\",\"colorbar\":{\"outlinewidth\":0,\"ticks\":\"\"},\"colorscale\":[[0.0,\"#0d0887\"],[0.1111111111111111,\"#46039f\"],[0.2222222222222222,\"#7201a8\"],[0.3333333333333333,\"#9c179e\"],[0.4444444444444444,\"#bd3786\"],[0.5555555555555556,\"#d8576b\"],[0.6666666666666666,\"#ed7953\"],[0.7777777777777778,\"#fb9f3a\"],[0.8888888888888888,\"#fdca26\"],[1.0,\"#f0f921\"]]}],\"heatmap\":[{\"type\":\"heatmap\",\"colorbar\":{\"outlinewidth\":0,\"ticks\":\"\"},\"colorscale\":[[0.0,\"#0d0887\"],[0.1111111111111111,\"#46039f\"],[0.2222222222222222,\"#7201a8\"],[0.3333333333333333,\"#9c179e\"],[0.4444444444444444,\"#bd3786\"],[0.5555555555555556,\"#d8576b\"],[0.6666666666666666,\"#ed7953\"],[0.7777777777777778,\"#fb9f3a\"],[0.8888888888888888,\"#fdca26\"],[1.0,\"#f0f921\"]]}],\"contourcarpet\":[{\"type\":\"contourcarpet\",\"colorbar\":{\"outlinewidth\":0,\"ticks\":\"\"}}],\"contour\":[{\"type\":\"contour\",\"colorbar\":{\"outlinewidth\":0,\"ticks\":\"\"},\"colorscale\":[[0.0,\"#0d0887\"],[0.1111111111111111,\"#46039f\"],[0.2222222222222222,\"#7201a8\"],[0.3333333333333333,\"#9c179e\"],[0.4444444444444444,\"#bd3786\"],[0.5555555555555556,\"#d8576b\"],[0.6666666666666666,\"#ed7953\"],[0.7777777777777778,\"#fb9f3a\"],[0.8888888888888888,\"#fdca26\"],[1.0,\"#f0f921\"]]}],\"surface\":[{\"type\":\"surface\",\"colorbar\":{\"outlinewidth\":0,\"ticks\":\"\"},\"colorscale\":[[0.0,\"#0d0887\"],[0.1111111111111111,\"#46039f\"],[0.2222222222222222,\"#7201a8\"],[0.3333333333333333,\"#9c179e\"],[0.4444444444444444,\"#bd3786\"],[0.5555555555555556,\"#d8576b\"],[0.6666666666666666,\"#ed7953\"],[0.7777777777777778,\"#fb9f3a\"],[0.8888888888888888,\"#fdca26\"],[1.0,\"#f0f921\"]]}],\"mesh3d\":[{\"type\":\"mesh3d\",\"colorbar\":{\"outlinewidth\":0,\"ticks\":\"\"}}],\"scatter\":[{\"fillpattern\":{\"fillmode\":\"overlay\",\"size\":10,\"solidity\":0.2},\"type\":\"scatter\"}],\"parcoords\":[{\"type\":\"parcoords\",\"line\":{\"colorbar\":{\"outlinewidth\":0,\"ticks\":\"\"}}}],\"scatterpolargl\":[{\"type\":\"scatterpolargl\",\"marker\":{\"colorbar\":{\"outlinewidth\":0,\"ticks\":\"\"}}}],\"bar\":[{\"error_x\":{\"color\":\"#2a3f5f\"},\"error_y\":{\"color\":\"#2a3f5f\"},\"marker\":{\"line\":{\"color\":\"#E5ECF6\",\"width\":0.5},\"pattern\":{\"fillmode\":\"overlay\",\"size\":10,\"solidity\":0.2}},\"type\":\"bar\"}],\"scattergeo\":[{\"type\":\"scattergeo\",\"marker\":{\"colorbar\":{\"outlinewidth\":0,\"ticks\":\"\"}}}],\"scatterpolar\":[{\"type\":\"scatterpolar\",\"marker\":{\"colorbar\":{\"outlinewidth\":0,\"ticks\":\"\"}}}],\"histogram\":[{\"marker\":{\"pattern\":{\"fillmode\":\"overlay\",\"size\":10,\"solidity\":0.2}},\"type\":\"histogram\"}],\"scattergl\":[{\"type\":\"scattergl\",\"marker\":{\"colorbar\":{\"outlinewidth\":0,\"ticks\":\"\"}}}],\"scatter3d\":[{\"type\":\"scatter3d\",\"line\":{\"colorbar\":{\"outlinewidth\":0,\"ticks\":\"\"}},\"marker\":{\"colorbar\":{\"outlinewidth\":0,\"ticks\":\"\"}}}],\"scattermap\":[{\"type\":\"scattermap\",\"marker\":{\"colorbar\":{\"outlinewidth\":0,\"ticks\":\"\"}}}],\"scattermapbox\":[{\"type\":\"scattermapbox\",\"marker\":{\"colorbar\":{\"outlinewidth\":0,\"ticks\":\"\"}}}],\"scatterternary\":[{\"type\":\"scatterternary\",\"marker\":{\"colorbar\":{\"outlinewidth\":0,\"ticks\":\"\"}}}],\"scattercarpet\":[{\"type\":\"scattercarpet\",\"marker\":{\"colorbar\":{\"outlinewidth\":0,\"ticks\":\"\"}}}],\"carpet\":[{\"aaxis\":{\"endlinecolor\":\"#2a3f5f\",\"gridcolor\":\"white\",\"linecolor\":\"white\",\"minorgridcolor\":\"white\",\"startlinecolor\":\"#2a3f5f\"},\"baxis\":{\"endlinecolor\":\"#2a3f5f\",\"gridcolor\":\"white\",\"linecolor\":\"white\",\"minorgridcolor\":\"white\",\"startlinecolor\":\"#2a3f5f\"},\"type\":\"carpet\"}],\"table\":[{\"cells\":{\"fill\":{\"color\":\"#EBF0F8\"},\"line\":{\"color\":\"white\"}},\"header\":{\"fill\":{\"color\":\"#C8D4E3\"},\"line\":{\"color\":\"white\"}},\"type\":\"table\"}],\"barpolar\":[{\"marker\":{\"line\":{\"color\":\"#E5ECF6\",\"width\":0.5},\"pattern\":{\"fillmode\":\"overlay\",\"size\":10,\"solidity\":0.2}},\"type\":\"barpolar\"}],\"pie\":[{\"automargin\":true,\"type\":\"pie\"}]},\"layout\":{\"autotypenumbers\":\"strict\",\"colorway\":[\"#636efa\",\"#EF553B\",\"#00cc96\",\"#ab63fa\",\"#FFA15A\",\"#19d3f3\",\"#FF6692\",\"#B6E880\",\"#FF97FF\",\"#FECB52\"],\"font\":{\"color\":\"#2a3f5f\"},\"hovermode\":\"closest\",\"hoverlabel\":{\"align\":\"left\"},\"paper_bgcolor\":\"white\",\"plot_bgcolor\":\"#E5ECF6\",\"polar\":{\"bgcolor\":\"#E5ECF6\",\"angularaxis\":{\"gridcolor\":\"white\",\"linecolor\":\"white\",\"ticks\":\"\"},\"radialaxis\":{\"gridcolor\":\"white\",\"linecolor\":\"white\",\"ticks\":\"\"}},\"ternary\":{\"bgcolor\":\"#E5ECF6\",\"aaxis\":{\"gridcolor\":\"white\",\"linecolor\":\"white\",\"ticks\":\"\"},\"baxis\":{\"gridcolor\":\"white\",\"linecolor\":\"white\",\"ticks\":\"\"},\"caxis\":{\"gridcolor\":\"white\",\"linecolor\":\"white\",\"ticks\":\"\"}},\"coloraxis\":{\"colorbar\":{\"outlinewidth\":0,\"ticks\":\"\"}},\"colorscale\":{\"sequential\":[[0.0,\"#0d0887\"],[0.1111111111111111,\"#46039f\"],[0.2222222222222222,\"#7201a8\"],[0.3333333333333333,\"#9c179e\"],[0.4444444444444444,\"#bd3786\"],[0.5555555555555556,\"#d8576b\"],[0.6666666666666666,\"#ed7953\"],[0.7777777777777778,\"#fb9f3a\"],[0.8888888888888888,\"#fdca26\"],[1.0,\"#f0f921\"]],\"sequentialminus\":[[0.0,\"#0d0887\"],[0.1111111111111111,\"#46039f\"],[0.2222222222222222,\"#7201a8\"],[0.3333333333333333,\"#9c179e\"],[0.4444444444444444,\"#bd3786\"],[0.5555555555555556,\"#d8576b\"],[0.6666666666666666,\"#ed7953\"],[0.7777777777777778,\"#fb9f3a\"],[0.8888888888888888,\"#fdca26\"],[1.0,\"#f0f921\"]],\"diverging\":[[0,\"#8e0152\"],[0.1,\"#c51b7d\"],[0.2,\"#de77ae\"],[0.3,\"#f1b6da\"],[0.4,\"#fde0ef\"],[0.5,\"#f7f7f7\"],[0.6,\"#e6f5d0\"],[0.7,\"#b8e186\"],[0.8,\"#7fbc41\"],[0.9,\"#4d9221\"],[1,\"#276419\"]]},\"xaxis\":{\"gridcolor\":\"white\",\"linecolor\":\"white\",\"ticks\":\"\",\"title\":{\"standoff\":15},\"zerolinecolor\":\"white\",\"automargin\":true,\"zerolinewidth\":2},\"yaxis\":{\"gridcolor\":\"white\",\"linecolor\":\"white\",\"ticks\":\"\",\"title\":{\"standoff\":15},\"zerolinecolor\":\"white\",\"automargin\":true,\"zerolinewidth\":2},\"scene\":{\"xaxis\":{\"backgroundcolor\":\"#E5ECF6\",\"gridcolor\":\"white\",\"linecolor\":\"white\",\"showbackground\":true,\"ticks\":\"\",\"zerolinecolor\":\"white\",\"gridwidth\":2},\"yaxis\":{\"backgroundcolor\":\"#E5ECF6\",\"gridcolor\":\"white\",\"linecolor\":\"white\",\"showbackground\":true,\"ticks\":\"\",\"zerolinecolor\":\"white\",\"gridwidth\":2},\"zaxis\":{\"backgroundcolor\":\"#E5ECF6\",\"gridcolor\":\"white\",\"linecolor\":\"white\",\"showbackground\":true,\"ticks\":\"\",\"zerolinecolor\":\"white\",\"gridwidth\":2}},\"shapedefaults\":{\"line\":{\"color\":\"#2a3f5f\"}},\"annotationdefaults\":{\"arrowcolor\":\"#2a3f5f\",\"arrowhead\":0,\"arrowwidth\":1},\"geo\":{\"bgcolor\":\"white\",\"landcolor\":\"#E5ECF6\",\"subunitcolor\":\"white\",\"showland\":true,\"showlakes\":true,\"lakecolor\":\"white\"},\"title\":{\"x\":0.05},\"mapbox\":{\"style\":\"light\"}}},\"xaxis\":{\"anchor\":\"y\",\"domain\":[0.0,1.0],\"title\":{\"text\":\"ItemName\"}},\"yaxis\":{\"anchor\":\"x\",\"domain\":[0.0,1.0],\"title\":{\"text\":\"TotalCost\"}},\"legend\":{\"tracegroupgap\":0},\"title\":{\"text\":\"Top 10 \\u0e2a\\u0e34\\u0e19\\u0e04\\u0e49\\u0e32\\u0e17\\u0e35\\u0e48\\u0e43\\u0e0a\\u0e49\\u0e08\\u0e48\\u0e32\\u0e22\\u0e21\\u0e32\\u0e01\\u0e17\\u0e35\\u0e48\\u0e2a\\u0e38\\u0e14\"},\"barmode\":\"relative\"},                        {\"responsive\": true}                    ).then(function(){\n",
       "                            \n",
       "var gd = document.getElementById('a81d39c2-9c19-4848-80a6-c76d1def0360');\n",
       "var x = new MutationObserver(function (mutations, observer) {{\n",
       "        var display = window.getComputedStyle(gd).display;\n",
       "        if (!display || display === 'none') {{\n",
       "            console.log([gd, 'removed!']);\n",
       "            Plotly.purge(gd);\n",
       "            observer.disconnect();\n",
       "        }}\n",
       "}});\n",
       "\n",
       "// Listen for the removal of the full notebook cells\n",
       "var notebookContainer = gd.closest('#notebook-container');\n",
       "if (notebookContainer) {{\n",
       "    x.observe(notebookContainer, {childList: true});\n",
       "}}\n",
       "\n",
       "// Listen for the clearing of the current output cell\n",
       "var outputEl = gd.closest('.output');\n",
       "if (outputEl) {{\n",
       "    x.observe(outputEl, {childList: true});\n",
       "}}\n",
       "\n",
       "                        })                };            </script>        </div>"
      ]
     },
     "metadata": {},
     "output_type": "display_data"
    }
   ],
   "source": [
    "top_10(df, 'ItemName','TotalCost')"
   ]
  },
  {
   "cell_type": "code",
   "execution_count": 86,
   "id": "e2f3a6b6-e033-4ac0-bc95-7cf5ffd69405",
   "metadata": {},
   "outputs": [],
   "source": [
    "def compare_category(df: pd.DataFrame, group: str, col1: str):\n",
    "    cat_cost = df.groupby(group)[col1].sum().reset_index()\n",
    "\n",
    "    fig = px.pie(cat_cost, values=col1, names=group, title=\"สัดส่วนค่าใช้จ่ายตามประเภทสินค้า\")\n",
    "    fig.show()"
   ]
  },
  {
   "cell_type": "code",
   "execution_count": 87,
   "id": "6e47f5e8-7990-4fbc-8350-e43866c8a687",
   "metadata": {},
   "outputs": [
    {
     "data": {
      "application/vnd.plotly.v1+json": {
       "config": {
        "plotlyServerURL": "https://plot.ly"
       },
       "data": [
        {
         "domain": {
          "x": [
           0,
           1
          ],
          "y": [
           0,
           1
          ]
         },
         "hovertemplate": "Category=%{label}<br>TotalCost=%{value}<extra></extra>",
         "labels": [
          "Accessories",
          "Electronics",
          "Furniture",
          "Office Supplies",
          "Software",
          "Stationery"
         ],
         "legendgroup": "",
         "name": "",
         "showlegend": true,
         "type": "pie",
         "values": {
          "bdata": "w/UoXE9e1EBcj8J1mkslQRWuR+GUGAVB7FG4HkW4uEAAAAAASIIUQUjhehQuYbpA",
          "dtype": "f8"
         }
        }
       ],
       "layout": {
        "legend": {
         "tracegroupgap": 0
        },
        "template": {
         "data": {
          "bar": [
           {
            "error_x": {
             "color": "#2a3f5f"
            },
            "error_y": {
             "color": "#2a3f5f"
            },
            "marker": {
             "line": {
              "color": "#E5ECF6",
              "width": 0.5
             },
             "pattern": {
              "fillmode": "overlay",
              "size": 10,
              "solidity": 0.2
             }
            },
            "type": "bar"
           }
          ],
          "barpolar": [
           {
            "marker": {
             "line": {
              "color": "#E5ECF6",
              "width": 0.5
             },
             "pattern": {
              "fillmode": "overlay",
              "size": 10,
              "solidity": 0.2
             }
            },
            "type": "barpolar"
           }
          ],
          "carpet": [
           {
            "aaxis": {
             "endlinecolor": "#2a3f5f",
             "gridcolor": "white",
             "linecolor": "white",
             "minorgridcolor": "white",
             "startlinecolor": "#2a3f5f"
            },
            "baxis": {
             "endlinecolor": "#2a3f5f",
             "gridcolor": "white",
             "linecolor": "white",
             "minorgridcolor": "white",
             "startlinecolor": "#2a3f5f"
            },
            "type": "carpet"
           }
          ],
          "choropleth": [
           {
            "colorbar": {
             "outlinewidth": 0,
             "ticks": ""
            },
            "type": "choropleth"
           }
          ],
          "contour": [
           {
            "colorbar": {
             "outlinewidth": 0,
             "ticks": ""
            },
            "colorscale": [
             [
              0,
              "#0d0887"
             ],
             [
              0.1111111111111111,
              "#46039f"
             ],
             [
              0.2222222222222222,
              "#7201a8"
             ],
             [
              0.3333333333333333,
              "#9c179e"
             ],
             [
              0.4444444444444444,
              "#bd3786"
             ],
             [
              0.5555555555555556,
              "#d8576b"
             ],
             [
              0.6666666666666666,
              "#ed7953"
             ],
             [
              0.7777777777777778,
              "#fb9f3a"
             ],
             [
              0.8888888888888888,
              "#fdca26"
             ],
             [
              1,
              "#f0f921"
             ]
            ],
            "type": "contour"
           }
          ],
          "contourcarpet": [
           {
            "colorbar": {
             "outlinewidth": 0,
             "ticks": ""
            },
            "type": "contourcarpet"
           }
          ],
          "heatmap": [
           {
            "colorbar": {
             "outlinewidth": 0,
             "ticks": ""
            },
            "colorscale": [
             [
              0,
              "#0d0887"
             ],
             [
              0.1111111111111111,
              "#46039f"
             ],
             [
              0.2222222222222222,
              "#7201a8"
             ],
             [
              0.3333333333333333,
              "#9c179e"
             ],
             [
              0.4444444444444444,
              "#bd3786"
             ],
             [
              0.5555555555555556,
              "#d8576b"
             ],
             [
              0.6666666666666666,
              "#ed7953"
             ],
             [
              0.7777777777777778,
              "#fb9f3a"
             ],
             [
              0.8888888888888888,
              "#fdca26"
             ],
             [
              1,
              "#f0f921"
             ]
            ],
            "type": "heatmap"
           }
          ],
          "histogram": [
           {
            "marker": {
             "pattern": {
              "fillmode": "overlay",
              "size": 10,
              "solidity": 0.2
             }
            },
            "type": "histogram"
           }
          ],
          "histogram2d": [
           {
            "colorbar": {
             "outlinewidth": 0,
             "ticks": ""
            },
            "colorscale": [
             [
              0,
              "#0d0887"
             ],
             [
              0.1111111111111111,
              "#46039f"
             ],
             [
              0.2222222222222222,
              "#7201a8"
             ],
             [
              0.3333333333333333,
              "#9c179e"
             ],
             [
              0.4444444444444444,
              "#bd3786"
             ],
             [
              0.5555555555555556,
              "#d8576b"
             ],
             [
              0.6666666666666666,
              "#ed7953"
             ],
             [
              0.7777777777777778,
              "#fb9f3a"
             ],
             [
              0.8888888888888888,
              "#fdca26"
             ],
             [
              1,
              "#f0f921"
             ]
            ],
            "type": "histogram2d"
           }
          ],
          "histogram2dcontour": [
           {
            "colorbar": {
             "outlinewidth": 0,
             "ticks": ""
            },
            "colorscale": [
             [
              0,
              "#0d0887"
             ],
             [
              0.1111111111111111,
              "#46039f"
             ],
             [
              0.2222222222222222,
              "#7201a8"
             ],
             [
              0.3333333333333333,
              "#9c179e"
             ],
             [
              0.4444444444444444,
              "#bd3786"
             ],
             [
              0.5555555555555556,
              "#d8576b"
             ],
             [
              0.6666666666666666,
              "#ed7953"
             ],
             [
              0.7777777777777778,
              "#fb9f3a"
             ],
             [
              0.8888888888888888,
              "#fdca26"
             ],
             [
              1,
              "#f0f921"
             ]
            ],
            "type": "histogram2dcontour"
           }
          ],
          "mesh3d": [
           {
            "colorbar": {
             "outlinewidth": 0,
             "ticks": ""
            },
            "type": "mesh3d"
           }
          ],
          "parcoords": [
           {
            "line": {
             "colorbar": {
              "outlinewidth": 0,
              "ticks": ""
             }
            },
            "type": "parcoords"
           }
          ],
          "pie": [
           {
            "automargin": true,
            "type": "pie"
           }
          ],
          "scatter": [
           {
            "fillpattern": {
             "fillmode": "overlay",
             "size": 10,
             "solidity": 0.2
            },
            "type": "scatter"
           }
          ],
          "scatter3d": [
           {
            "line": {
             "colorbar": {
              "outlinewidth": 0,
              "ticks": ""
             }
            },
            "marker": {
             "colorbar": {
              "outlinewidth": 0,
              "ticks": ""
             }
            },
            "type": "scatter3d"
           }
          ],
          "scattercarpet": [
           {
            "marker": {
             "colorbar": {
              "outlinewidth": 0,
              "ticks": ""
             }
            },
            "type": "scattercarpet"
           }
          ],
          "scattergeo": [
           {
            "marker": {
             "colorbar": {
              "outlinewidth": 0,
              "ticks": ""
             }
            },
            "type": "scattergeo"
           }
          ],
          "scattergl": [
           {
            "marker": {
             "colorbar": {
              "outlinewidth": 0,
              "ticks": ""
             }
            },
            "type": "scattergl"
           }
          ],
          "scattermap": [
           {
            "marker": {
             "colorbar": {
              "outlinewidth": 0,
              "ticks": ""
             }
            },
            "type": "scattermap"
           }
          ],
          "scattermapbox": [
           {
            "marker": {
             "colorbar": {
              "outlinewidth": 0,
              "ticks": ""
             }
            },
            "type": "scattermapbox"
           }
          ],
          "scatterpolar": [
           {
            "marker": {
             "colorbar": {
              "outlinewidth": 0,
              "ticks": ""
             }
            },
            "type": "scatterpolar"
           }
          ],
          "scatterpolargl": [
           {
            "marker": {
             "colorbar": {
              "outlinewidth": 0,
              "ticks": ""
             }
            },
            "type": "scatterpolargl"
           }
          ],
          "scatterternary": [
           {
            "marker": {
             "colorbar": {
              "outlinewidth": 0,
              "ticks": ""
             }
            },
            "type": "scatterternary"
           }
          ],
          "surface": [
           {
            "colorbar": {
             "outlinewidth": 0,
             "ticks": ""
            },
            "colorscale": [
             [
              0,
              "#0d0887"
             ],
             [
              0.1111111111111111,
              "#46039f"
             ],
             [
              0.2222222222222222,
              "#7201a8"
             ],
             [
              0.3333333333333333,
              "#9c179e"
             ],
             [
              0.4444444444444444,
              "#bd3786"
             ],
             [
              0.5555555555555556,
              "#d8576b"
             ],
             [
              0.6666666666666666,
              "#ed7953"
             ],
             [
              0.7777777777777778,
              "#fb9f3a"
             ],
             [
              0.8888888888888888,
              "#fdca26"
             ],
             [
              1,
              "#f0f921"
             ]
            ],
            "type": "surface"
           }
          ],
          "table": [
           {
            "cells": {
             "fill": {
              "color": "#EBF0F8"
             },
             "line": {
              "color": "white"
             }
            },
            "header": {
             "fill": {
              "color": "#C8D4E3"
             },
             "line": {
              "color": "white"
             }
            },
            "type": "table"
           }
          ]
         },
         "layout": {
          "annotationdefaults": {
           "arrowcolor": "#2a3f5f",
           "arrowhead": 0,
           "arrowwidth": 1
          },
          "autotypenumbers": "strict",
          "coloraxis": {
           "colorbar": {
            "outlinewidth": 0,
            "ticks": ""
           }
          },
          "colorscale": {
           "diverging": [
            [
             0,
             "#8e0152"
            ],
            [
             0.1,
             "#c51b7d"
            ],
            [
             0.2,
             "#de77ae"
            ],
            [
             0.3,
             "#f1b6da"
            ],
            [
             0.4,
             "#fde0ef"
            ],
            [
             0.5,
             "#f7f7f7"
            ],
            [
             0.6,
             "#e6f5d0"
            ],
            [
             0.7,
             "#b8e186"
            ],
            [
             0.8,
             "#7fbc41"
            ],
            [
             0.9,
             "#4d9221"
            ],
            [
             1,
             "#276419"
            ]
           ],
           "sequential": [
            [
             0,
             "#0d0887"
            ],
            [
             0.1111111111111111,
             "#46039f"
            ],
            [
             0.2222222222222222,
             "#7201a8"
            ],
            [
             0.3333333333333333,
             "#9c179e"
            ],
            [
             0.4444444444444444,
             "#bd3786"
            ],
            [
             0.5555555555555556,
             "#d8576b"
            ],
            [
             0.6666666666666666,
             "#ed7953"
            ],
            [
             0.7777777777777778,
             "#fb9f3a"
            ],
            [
             0.8888888888888888,
             "#fdca26"
            ],
            [
             1,
             "#f0f921"
            ]
           ],
           "sequentialminus": [
            [
             0,
             "#0d0887"
            ],
            [
             0.1111111111111111,
             "#46039f"
            ],
            [
             0.2222222222222222,
             "#7201a8"
            ],
            [
             0.3333333333333333,
             "#9c179e"
            ],
            [
             0.4444444444444444,
             "#bd3786"
            ],
            [
             0.5555555555555556,
             "#d8576b"
            ],
            [
             0.6666666666666666,
             "#ed7953"
            ],
            [
             0.7777777777777778,
             "#fb9f3a"
            ],
            [
             0.8888888888888888,
             "#fdca26"
            ],
            [
             1,
             "#f0f921"
            ]
           ]
          },
          "colorway": [
           "#636efa",
           "#EF553B",
           "#00cc96",
           "#ab63fa",
           "#FFA15A",
           "#19d3f3",
           "#FF6692",
           "#B6E880",
           "#FF97FF",
           "#FECB52"
          ],
          "font": {
           "color": "#2a3f5f"
          },
          "geo": {
           "bgcolor": "white",
           "lakecolor": "white",
           "landcolor": "#E5ECF6",
           "showlakes": true,
           "showland": true,
           "subunitcolor": "white"
          },
          "hoverlabel": {
           "align": "left"
          },
          "hovermode": "closest",
          "mapbox": {
           "style": "light"
          },
          "paper_bgcolor": "white",
          "plot_bgcolor": "#E5ECF6",
          "polar": {
           "angularaxis": {
            "gridcolor": "white",
            "linecolor": "white",
            "ticks": ""
           },
           "bgcolor": "#E5ECF6",
           "radialaxis": {
            "gridcolor": "white",
            "linecolor": "white",
            "ticks": ""
           }
          },
          "scene": {
           "xaxis": {
            "backgroundcolor": "#E5ECF6",
            "gridcolor": "white",
            "gridwidth": 2,
            "linecolor": "white",
            "showbackground": true,
            "ticks": "",
            "zerolinecolor": "white"
           },
           "yaxis": {
            "backgroundcolor": "#E5ECF6",
            "gridcolor": "white",
            "gridwidth": 2,
            "linecolor": "white",
            "showbackground": true,
            "ticks": "",
            "zerolinecolor": "white"
           },
           "zaxis": {
            "backgroundcolor": "#E5ECF6",
            "gridcolor": "white",
            "gridwidth": 2,
            "linecolor": "white",
            "showbackground": true,
            "ticks": "",
            "zerolinecolor": "white"
           }
          },
          "shapedefaults": {
           "line": {
            "color": "#2a3f5f"
           }
          },
          "ternary": {
           "aaxis": {
            "gridcolor": "white",
            "linecolor": "white",
            "ticks": ""
           },
           "baxis": {
            "gridcolor": "white",
            "linecolor": "white",
            "ticks": ""
           },
           "bgcolor": "#E5ECF6",
           "caxis": {
            "gridcolor": "white",
            "linecolor": "white",
            "ticks": ""
           }
          },
          "title": {
           "x": 0.05
          },
          "xaxis": {
           "automargin": true,
           "gridcolor": "white",
           "linecolor": "white",
           "ticks": "",
           "title": {
            "standoff": 15
           },
           "zerolinecolor": "white",
           "zerolinewidth": 2
          },
          "yaxis": {
           "automargin": true,
           "gridcolor": "white",
           "linecolor": "white",
           "ticks": "",
           "title": {
            "standoff": 15
           },
           "zerolinecolor": "white",
           "zerolinewidth": 2
          }
         }
        },
        "title": {
         "text": "สัดส่วนค่าใช้จ่ายตามประเภทสินค้า"
        }
       }
      },
      "text/html": [
       "<div>            <script src=\"https://cdnjs.cloudflare.com/ajax/libs/mathjax/2.7.5/MathJax.js?config=TeX-AMS-MML_SVG\"></script><script type=\"text/javascript\">if (window.MathJax && window.MathJax.Hub && window.MathJax.Hub.Config) {window.MathJax.Hub.Config({SVG: {font: \"STIX-Web\"}});}</script>                <script type=\"text/javascript\">window.PlotlyConfig = {MathJaxConfig: 'local'};</script>\n",
       "        <script charset=\"utf-8\" src=\"https://cdn.plot.ly/plotly-3.0.1.min.js\"></script>                <div id=\"9eced829-ad06-42c8-a8e8-9867184d5121\" class=\"plotly-graph-div\" style=\"height:525px; width:100%;\"></div>            <script type=\"text/javascript\">                window.PLOTLYENV=window.PLOTLYENV || {};                                if (document.getElementById(\"9eced829-ad06-42c8-a8e8-9867184d5121\")) {                    Plotly.newPlot(                        \"9eced829-ad06-42c8-a8e8-9867184d5121\",                        [{\"domain\":{\"x\":[0.0,1.0],\"y\":[0.0,1.0]},\"hovertemplate\":\"Category=%{label}\\u003cbr\\u003eTotalCost=%{value}\\u003cextra\\u003e\\u003c\\u002fextra\\u003e\",\"labels\":[\"Accessories\",\"Electronics\",\"Furniture\",\"Office Supplies\",\"Software\",\"Stationery\"],\"legendgroup\":\"\",\"name\":\"\",\"showlegend\":true,\"values\":{\"dtype\":\"f8\",\"bdata\":\"w\\u002fUoXE9e1EBcj8J1mkslQRWuR+GUGAVB7FG4HkW4uEAAAAAASIIUQUjhehQuYbpA\"},\"type\":\"pie\"}],                        {\"template\":{\"data\":{\"histogram2dcontour\":[{\"type\":\"histogram2dcontour\",\"colorbar\":{\"outlinewidth\":0,\"ticks\":\"\"},\"colorscale\":[[0.0,\"#0d0887\"],[0.1111111111111111,\"#46039f\"],[0.2222222222222222,\"#7201a8\"],[0.3333333333333333,\"#9c179e\"],[0.4444444444444444,\"#bd3786\"],[0.5555555555555556,\"#d8576b\"],[0.6666666666666666,\"#ed7953\"],[0.7777777777777778,\"#fb9f3a\"],[0.8888888888888888,\"#fdca26\"],[1.0,\"#f0f921\"]]}],\"choropleth\":[{\"type\":\"choropleth\",\"colorbar\":{\"outlinewidth\":0,\"ticks\":\"\"}}],\"histogram2d\":[{\"type\":\"histogram2d\",\"colorbar\":{\"outlinewidth\":0,\"ticks\":\"\"},\"colorscale\":[[0.0,\"#0d0887\"],[0.1111111111111111,\"#46039f\"],[0.2222222222222222,\"#7201a8\"],[0.3333333333333333,\"#9c179e\"],[0.4444444444444444,\"#bd3786\"],[0.5555555555555556,\"#d8576b\"],[0.6666666666666666,\"#ed7953\"],[0.7777777777777778,\"#fb9f3a\"],[0.8888888888888888,\"#fdca26\"],[1.0,\"#f0f921\"]]}],\"heatmap\":[{\"type\":\"heatmap\",\"colorbar\":{\"outlinewidth\":0,\"ticks\":\"\"},\"colorscale\":[[0.0,\"#0d0887\"],[0.1111111111111111,\"#46039f\"],[0.2222222222222222,\"#7201a8\"],[0.3333333333333333,\"#9c179e\"],[0.4444444444444444,\"#bd3786\"],[0.5555555555555556,\"#d8576b\"],[0.6666666666666666,\"#ed7953\"],[0.7777777777777778,\"#fb9f3a\"],[0.8888888888888888,\"#fdca26\"],[1.0,\"#f0f921\"]]}],\"contourcarpet\":[{\"type\":\"contourcarpet\",\"colorbar\":{\"outlinewidth\":0,\"ticks\":\"\"}}],\"contour\":[{\"type\":\"contour\",\"colorbar\":{\"outlinewidth\":0,\"ticks\":\"\"},\"colorscale\":[[0.0,\"#0d0887\"],[0.1111111111111111,\"#46039f\"],[0.2222222222222222,\"#7201a8\"],[0.3333333333333333,\"#9c179e\"],[0.4444444444444444,\"#bd3786\"],[0.5555555555555556,\"#d8576b\"],[0.6666666666666666,\"#ed7953\"],[0.7777777777777778,\"#fb9f3a\"],[0.8888888888888888,\"#fdca26\"],[1.0,\"#f0f921\"]]}],\"surface\":[{\"type\":\"surface\",\"colorbar\":{\"outlinewidth\":0,\"ticks\":\"\"},\"colorscale\":[[0.0,\"#0d0887\"],[0.1111111111111111,\"#46039f\"],[0.2222222222222222,\"#7201a8\"],[0.3333333333333333,\"#9c179e\"],[0.4444444444444444,\"#bd3786\"],[0.5555555555555556,\"#d8576b\"],[0.6666666666666666,\"#ed7953\"],[0.7777777777777778,\"#fb9f3a\"],[0.8888888888888888,\"#fdca26\"],[1.0,\"#f0f921\"]]}],\"mesh3d\":[{\"type\":\"mesh3d\",\"colorbar\":{\"outlinewidth\":0,\"ticks\":\"\"}}],\"scatter\":[{\"fillpattern\":{\"fillmode\":\"overlay\",\"size\":10,\"solidity\":0.2},\"type\":\"scatter\"}],\"parcoords\":[{\"type\":\"parcoords\",\"line\":{\"colorbar\":{\"outlinewidth\":0,\"ticks\":\"\"}}}],\"scatterpolargl\":[{\"type\":\"scatterpolargl\",\"marker\":{\"colorbar\":{\"outlinewidth\":0,\"ticks\":\"\"}}}],\"bar\":[{\"error_x\":{\"color\":\"#2a3f5f\"},\"error_y\":{\"color\":\"#2a3f5f\"},\"marker\":{\"line\":{\"color\":\"#E5ECF6\",\"width\":0.5},\"pattern\":{\"fillmode\":\"overlay\",\"size\":10,\"solidity\":0.2}},\"type\":\"bar\"}],\"scattergeo\":[{\"type\":\"scattergeo\",\"marker\":{\"colorbar\":{\"outlinewidth\":0,\"ticks\":\"\"}}}],\"scatterpolar\":[{\"type\":\"scatterpolar\",\"marker\":{\"colorbar\":{\"outlinewidth\":0,\"ticks\":\"\"}}}],\"histogram\":[{\"marker\":{\"pattern\":{\"fillmode\":\"overlay\",\"size\":10,\"solidity\":0.2}},\"type\":\"histogram\"}],\"scattergl\":[{\"type\":\"scattergl\",\"marker\":{\"colorbar\":{\"outlinewidth\":0,\"ticks\":\"\"}}}],\"scatter3d\":[{\"type\":\"scatter3d\",\"line\":{\"colorbar\":{\"outlinewidth\":0,\"ticks\":\"\"}},\"marker\":{\"colorbar\":{\"outlinewidth\":0,\"ticks\":\"\"}}}],\"scattermap\":[{\"type\":\"scattermap\",\"marker\":{\"colorbar\":{\"outlinewidth\":0,\"ticks\":\"\"}}}],\"scattermapbox\":[{\"type\":\"scattermapbox\",\"marker\":{\"colorbar\":{\"outlinewidth\":0,\"ticks\":\"\"}}}],\"scatterternary\":[{\"type\":\"scatterternary\",\"marker\":{\"colorbar\":{\"outlinewidth\":0,\"ticks\":\"\"}}}],\"scattercarpet\":[{\"type\":\"scattercarpet\",\"marker\":{\"colorbar\":{\"outlinewidth\":0,\"ticks\":\"\"}}}],\"carpet\":[{\"aaxis\":{\"endlinecolor\":\"#2a3f5f\",\"gridcolor\":\"white\",\"linecolor\":\"white\",\"minorgridcolor\":\"white\",\"startlinecolor\":\"#2a3f5f\"},\"baxis\":{\"endlinecolor\":\"#2a3f5f\",\"gridcolor\":\"white\",\"linecolor\":\"white\",\"minorgridcolor\":\"white\",\"startlinecolor\":\"#2a3f5f\"},\"type\":\"carpet\"}],\"table\":[{\"cells\":{\"fill\":{\"color\":\"#EBF0F8\"},\"line\":{\"color\":\"white\"}},\"header\":{\"fill\":{\"color\":\"#C8D4E3\"},\"line\":{\"color\":\"white\"}},\"type\":\"table\"}],\"barpolar\":[{\"marker\":{\"line\":{\"color\":\"#E5ECF6\",\"width\":0.5},\"pattern\":{\"fillmode\":\"overlay\",\"size\":10,\"solidity\":0.2}},\"type\":\"barpolar\"}],\"pie\":[{\"automargin\":true,\"type\":\"pie\"}]},\"layout\":{\"autotypenumbers\":\"strict\",\"colorway\":[\"#636efa\",\"#EF553B\",\"#00cc96\",\"#ab63fa\",\"#FFA15A\",\"#19d3f3\",\"#FF6692\",\"#B6E880\",\"#FF97FF\",\"#FECB52\"],\"font\":{\"color\":\"#2a3f5f\"},\"hovermode\":\"closest\",\"hoverlabel\":{\"align\":\"left\"},\"paper_bgcolor\":\"white\",\"plot_bgcolor\":\"#E5ECF6\",\"polar\":{\"bgcolor\":\"#E5ECF6\",\"angularaxis\":{\"gridcolor\":\"white\",\"linecolor\":\"white\",\"ticks\":\"\"},\"radialaxis\":{\"gridcolor\":\"white\",\"linecolor\":\"white\",\"ticks\":\"\"}},\"ternary\":{\"bgcolor\":\"#E5ECF6\",\"aaxis\":{\"gridcolor\":\"white\",\"linecolor\":\"white\",\"ticks\":\"\"},\"baxis\":{\"gridcolor\":\"white\",\"linecolor\":\"white\",\"ticks\":\"\"},\"caxis\":{\"gridcolor\":\"white\",\"linecolor\":\"white\",\"ticks\":\"\"}},\"coloraxis\":{\"colorbar\":{\"outlinewidth\":0,\"ticks\":\"\"}},\"colorscale\":{\"sequential\":[[0.0,\"#0d0887\"],[0.1111111111111111,\"#46039f\"],[0.2222222222222222,\"#7201a8\"],[0.3333333333333333,\"#9c179e\"],[0.4444444444444444,\"#bd3786\"],[0.5555555555555556,\"#d8576b\"],[0.6666666666666666,\"#ed7953\"],[0.7777777777777778,\"#fb9f3a\"],[0.8888888888888888,\"#fdca26\"],[1.0,\"#f0f921\"]],\"sequentialminus\":[[0.0,\"#0d0887\"],[0.1111111111111111,\"#46039f\"],[0.2222222222222222,\"#7201a8\"],[0.3333333333333333,\"#9c179e\"],[0.4444444444444444,\"#bd3786\"],[0.5555555555555556,\"#d8576b\"],[0.6666666666666666,\"#ed7953\"],[0.7777777777777778,\"#fb9f3a\"],[0.8888888888888888,\"#fdca26\"],[1.0,\"#f0f921\"]],\"diverging\":[[0,\"#8e0152\"],[0.1,\"#c51b7d\"],[0.2,\"#de77ae\"],[0.3,\"#f1b6da\"],[0.4,\"#fde0ef\"],[0.5,\"#f7f7f7\"],[0.6,\"#e6f5d0\"],[0.7,\"#b8e186\"],[0.8,\"#7fbc41\"],[0.9,\"#4d9221\"],[1,\"#276419\"]]},\"xaxis\":{\"gridcolor\":\"white\",\"linecolor\":\"white\",\"ticks\":\"\",\"title\":{\"standoff\":15},\"zerolinecolor\":\"white\",\"automargin\":true,\"zerolinewidth\":2},\"yaxis\":{\"gridcolor\":\"white\",\"linecolor\":\"white\",\"ticks\":\"\",\"title\":{\"standoff\":15},\"zerolinecolor\":\"white\",\"automargin\":true,\"zerolinewidth\":2},\"scene\":{\"xaxis\":{\"backgroundcolor\":\"#E5ECF6\",\"gridcolor\":\"white\",\"linecolor\":\"white\",\"showbackground\":true,\"ticks\":\"\",\"zerolinecolor\":\"white\",\"gridwidth\":2},\"yaxis\":{\"backgroundcolor\":\"#E5ECF6\",\"gridcolor\":\"white\",\"linecolor\":\"white\",\"showbackground\":true,\"ticks\":\"\",\"zerolinecolor\":\"white\",\"gridwidth\":2},\"zaxis\":{\"backgroundcolor\":\"#E5ECF6\",\"gridcolor\":\"white\",\"linecolor\":\"white\",\"showbackground\":true,\"ticks\":\"\",\"zerolinecolor\":\"white\",\"gridwidth\":2}},\"shapedefaults\":{\"line\":{\"color\":\"#2a3f5f\"}},\"annotationdefaults\":{\"arrowcolor\":\"#2a3f5f\",\"arrowhead\":0,\"arrowwidth\":1},\"geo\":{\"bgcolor\":\"white\",\"landcolor\":\"#E5ECF6\",\"subunitcolor\":\"white\",\"showland\":true,\"showlakes\":true,\"lakecolor\":\"white\"},\"title\":{\"x\":0.05},\"mapbox\":{\"style\":\"light\"}}},\"legend\":{\"tracegroupgap\":0},\"title\":{\"text\":\"\\u0e2a\\u0e31\\u0e14\\u0e2a\\u0e48\\u0e27\\u0e19\\u0e04\\u0e48\\u0e32\\u0e43\\u0e0a\\u0e49\\u0e08\\u0e48\\u0e32\\u0e22\\u0e15\\u0e32\\u0e21\\u0e1b\\u0e23\\u0e30\\u0e40\\u0e20\\u0e17\\u0e2a\\u0e34\\u0e19\\u0e04\\u0e49\\u0e32\"}},                        {\"responsive\": true}                    ).then(function(){\n",
       "                            \n",
       "var gd = document.getElementById('9eced829-ad06-42c8-a8e8-9867184d5121');\n",
       "var x = new MutationObserver(function (mutations, observer) {{\n",
       "        var display = window.getComputedStyle(gd).display;\n",
       "        if (!display || display === 'none') {{\n",
       "            console.log([gd, 'removed!']);\n",
       "            Plotly.purge(gd);\n",
       "            observer.disconnect();\n",
       "        }}\n",
       "}});\n",
       "\n",
       "// Listen for the removal of the full notebook cells\n",
       "var notebookContainer = gd.closest('#notebook-container');\n",
       "if (notebookContainer) {{\n",
       "    x.observe(notebookContainer, {childList: true});\n",
       "}}\n",
       "\n",
       "// Listen for the clearing of the current output cell\n",
       "var outputEl = gd.closest('.output');\n",
       "if (outputEl) {{\n",
       "    x.observe(outputEl, {childList: true});\n",
       "}}\n",
       "\n",
       "                        })                };            </script>        </div>"
      ]
     },
     "metadata": {},
     "output_type": "display_data"
    }
   ],
   "source": [
    "compare_category(df, \"Category\", \"TotalCost\")"
   ]
  },
  {
   "cell_type": "code",
   "execution_count": 90,
   "id": "056b5f74-800f-44a7-9ef5-a148cd0d1fc0",
   "metadata": {},
   "outputs": [],
   "source": [
    "def cost_per(df, group, col):\n",
    "    cost = df.groupby(group)[col].sum().reset_index()\n",
    "\n",
    "    fig = px.line(cost, x=group, y=col, title=\"แนวโน้มค่าใช้จ่ายรายเดือน\")\n",
    "    fig.show()"
   ]
  },
  {
   "cell_type": "code",
   "execution_count": 91,
   "id": "d299cba5-d925-48bf-a683-3e9003b30a5d",
   "metadata": {},
   "outputs": [
    {
     "data": {
      "application/vnd.plotly.v1+json": {
       "config": {
        "plotlyServerURL": "https://plot.ly"
       },
       "data": [
        {
         "hovertemplate": "Month=%{x}<br>TotalCost=%{y}<extra></extra>",
         "legendgroup": "",
         "line": {
          "color": "#636efa",
          "dash": "solid"
         },
         "marker": {
          "symbol": "circle"
         },
         "mode": "lines",
         "name": "",
         "orientation": "v",
         "showlegend": false,
         "type": "scatter",
         "x": [
          "2024-01",
          "2024-02",
          "2024-03",
          "2024-04",
          "2024-05",
          "2024-06",
          "2024-07",
          "2024-08",
          "2024-09",
          "2024-10",
          "2024-11",
          "2024-12"
         ],
         "xaxis": "x",
         "y": {
          "bdata": "MzMzMz/J+EDD9ShcCy3zQK5H4XpwL/5AZmZmZk4j/UBH4XoU1sn8QD0K16PoRPVA9ihcj3qR8kBSuB6Fb9ryQAAAAAA0kP5AH4XrURCY/UDD9Shct+f7QPYoXI+aDPhA",
          "dtype": "f8"
         },
         "yaxis": "y"
        }
       ],
       "layout": {
        "legend": {
         "tracegroupgap": 0
        },
        "template": {
         "data": {
          "bar": [
           {
            "error_x": {
             "color": "#2a3f5f"
            },
            "error_y": {
             "color": "#2a3f5f"
            },
            "marker": {
             "line": {
              "color": "#E5ECF6",
              "width": 0.5
             },
             "pattern": {
              "fillmode": "overlay",
              "size": 10,
              "solidity": 0.2
             }
            },
            "type": "bar"
           }
          ],
          "barpolar": [
           {
            "marker": {
             "line": {
              "color": "#E5ECF6",
              "width": 0.5
             },
             "pattern": {
              "fillmode": "overlay",
              "size": 10,
              "solidity": 0.2
             }
            },
            "type": "barpolar"
           }
          ],
          "carpet": [
           {
            "aaxis": {
             "endlinecolor": "#2a3f5f",
             "gridcolor": "white",
             "linecolor": "white",
             "minorgridcolor": "white",
             "startlinecolor": "#2a3f5f"
            },
            "baxis": {
             "endlinecolor": "#2a3f5f",
             "gridcolor": "white",
             "linecolor": "white",
             "minorgridcolor": "white",
             "startlinecolor": "#2a3f5f"
            },
            "type": "carpet"
           }
          ],
          "choropleth": [
           {
            "colorbar": {
             "outlinewidth": 0,
             "ticks": ""
            },
            "type": "choropleth"
           }
          ],
          "contour": [
           {
            "colorbar": {
             "outlinewidth": 0,
             "ticks": ""
            },
            "colorscale": [
             [
              0,
              "#0d0887"
             ],
             [
              0.1111111111111111,
              "#46039f"
             ],
             [
              0.2222222222222222,
              "#7201a8"
             ],
             [
              0.3333333333333333,
              "#9c179e"
             ],
             [
              0.4444444444444444,
              "#bd3786"
             ],
             [
              0.5555555555555556,
              "#d8576b"
             ],
             [
              0.6666666666666666,
              "#ed7953"
             ],
             [
              0.7777777777777778,
              "#fb9f3a"
             ],
             [
              0.8888888888888888,
              "#fdca26"
             ],
             [
              1,
              "#f0f921"
             ]
            ],
            "type": "contour"
           }
          ],
          "contourcarpet": [
           {
            "colorbar": {
             "outlinewidth": 0,
             "ticks": ""
            },
            "type": "contourcarpet"
           }
          ],
          "heatmap": [
           {
            "colorbar": {
             "outlinewidth": 0,
             "ticks": ""
            },
            "colorscale": [
             [
              0,
              "#0d0887"
             ],
             [
              0.1111111111111111,
              "#46039f"
             ],
             [
              0.2222222222222222,
              "#7201a8"
             ],
             [
              0.3333333333333333,
              "#9c179e"
             ],
             [
              0.4444444444444444,
              "#bd3786"
             ],
             [
              0.5555555555555556,
              "#d8576b"
             ],
             [
              0.6666666666666666,
              "#ed7953"
             ],
             [
              0.7777777777777778,
              "#fb9f3a"
             ],
             [
              0.8888888888888888,
              "#fdca26"
             ],
             [
              1,
              "#f0f921"
             ]
            ],
            "type": "heatmap"
           }
          ],
          "histogram": [
           {
            "marker": {
             "pattern": {
              "fillmode": "overlay",
              "size": 10,
              "solidity": 0.2
             }
            },
            "type": "histogram"
           }
          ],
          "histogram2d": [
           {
            "colorbar": {
             "outlinewidth": 0,
             "ticks": ""
            },
            "colorscale": [
             [
              0,
              "#0d0887"
             ],
             [
              0.1111111111111111,
              "#46039f"
             ],
             [
              0.2222222222222222,
              "#7201a8"
             ],
             [
              0.3333333333333333,
              "#9c179e"
             ],
             [
              0.4444444444444444,
              "#bd3786"
             ],
             [
              0.5555555555555556,
              "#d8576b"
             ],
             [
              0.6666666666666666,
              "#ed7953"
             ],
             [
              0.7777777777777778,
              "#fb9f3a"
             ],
             [
              0.8888888888888888,
              "#fdca26"
             ],
             [
              1,
              "#f0f921"
             ]
            ],
            "type": "histogram2d"
           }
          ],
          "histogram2dcontour": [
           {
            "colorbar": {
             "outlinewidth": 0,
             "ticks": ""
            },
            "colorscale": [
             [
              0,
              "#0d0887"
             ],
             [
              0.1111111111111111,
              "#46039f"
             ],
             [
              0.2222222222222222,
              "#7201a8"
             ],
             [
              0.3333333333333333,
              "#9c179e"
             ],
             [
              0.4444444444444444,
              "#bd3786"
             ],
             [
              0.5555555555555556,
              "#d8576b"
             ],
             [
              0.6666666666666666,
              "#ed7953"
             ],
             [
              0.7777777777777778,
              "#fb9f3a"
             ],
             [
              0.8888888888888888,
              "#fdca26"
             ],
             [
              1,
              "#f0f921"
             ]
            ],
            "type": "histogram2dcontour"
           }
          ],
          "mesh3d": [
           {
            "colorbar": {
             "outlinewidth": 0,
             "ticks": ""
            },
            "type": "mesh3d"
           }
          ],
          "parcoords": [
           {
            "line": {
             "colorbar": {
              "outlinewidth": 0,
              "ticks": ""
             }
            },
            "type": "parcoords"
           }
          ],
          "pie": [
           {
            "automargin": true,
            "type": "pie"
           }
          ],
          "scatter": [
           {
            "fillpattern": {
             "fillmode": "overlay",
             "size": 10,
             "solidity": 0.2
            },
            "type": "scatter"
           }
          ],
          "scatter3d": [
           {
            "line": {
             "colorbar": {
              "outlinewidth": 0,
              "ticks": ""
             }
            },
            "marker": {
             "colorbar": {
              "outlinewidth": 0,
              "ticks": ""
             }
            },
            "type": "scatter3d"
           }
          ],
          "scattercarpet": [
           {
            "marker": {
             "colorbar": {
              "outlinewidth": 0,
              "ticks": ""
             }
            },
            "type": "scattercarpet"
           }
          ],
          "scattergeo": [
           {
            "marker": {
             "colorbar": {
              "outlinewidth": 0,
              "ticks": ""
             }
            },
            "type": "scattergeo"
           }
          ],
          "scattergl": [
           {
            "marker": {
             "colorbar": {
              "outlinewidth": 0,
              "ticks": ""
             }
            },
            "type": "scattergl"
           }
          ],
          "scattermap": [
           {
            "marker": {
             "colorbar": {
              "outlinewidth": 0,
              "ticks": ""
             }
            },
            "type": "scattermap"
           }
          ],
          "scattermapbox": [
           {
            "marker": {
             "colorbar": {
              "outlinewidth": 0,
              "ticks": ""
             }
            },
            "type": "scattermapbox"
           }
          ],
          "scatterpolar": [
           {
            "marker": {
             "colorbar": {
              "outlinewidth": 0,
              "ticks": ""
             }
            },
            "type": "scatterpolar"
           }
          ],
          "scatterpolargl": [
           {
            "marker": {
             "colorbar": {
              "outlinewidth": 0,
              "ticks": ""
             }
            },
            "type": "scatterpolargl"
           }
          ],
          "scatterternary": [
           {
            "marker": {
             "colorbar": {
              "outlinewidth": 0,
              "ticks": ""
             }
            },
            "type": "scatterternary"
           }
          ],
          "surface": [
           {
            "colorbar": {
             "outlinewidth": 0,
             "ticks": ""
            },
            "colorscale": [
             [
              0,
              "#0d0887"
             ],
             [
              0.1111111111111111,
              "#46039f"
             ],
             [
              0.2222222222222222,
              "#7201a8"
             ],
             [
              0.3333333333333333,
              "#9c179e"
             ],
             [
              0.4444444444444444,
              "#bd3786"
             ],
             [
              0.5555555555555556,
              "#d8576b"
             ],
             [
              0.6666666666666666,
              "#ed7953"
             ],
             [
              0.7777777777777778,
              "#fb9f3a"
             ],
             [
              0.8888888888888888,
              "#fdca26"
             ],
             [
              1,
              "#f0f921"
             ]
            ],
            "type": "surface"
           }
          ],
          "table": [
           {
            "cells": {
             "fill": {
              "color": "#EBF0F8"
             },
             "line": {
              "color": "white"
             }
            },
            "header": {
             "fill": {
              "color": "#C8D4E3"
             },
             "line": {
              "color": "white"
             }
            },
            "type": "table"
           }
          ]
         },
         "layout": {
          "annotationdefaults": {
           "arrowcolor": "#2a3f5f",
           "arrowhead": 0,
           "arrowwidth": 1
          },
          "autotypenumbers": "strict",
          "coloraxis": {
           "colorbar": {
            "outlinewidth": 0,
            "ticks": ""
           }
          },
          "colorscale": {
           "diverging": [
            [
             0,
             "#8e0152"
            ],
            [
             0.1,
             "#c51b7d"
            ],
            [
             0.2,
             "#de77ae"
            ],
            [
             0.3,
             "#f1b6da"
            ],
            [
             0.4,
             "#fde0ef"
            ],
            [
             0.5,
             "#f7f7f7"
            ],
            [
             0.6,
             "#e6f5d0"
            ],
            [
             0.7,
             "#b8e186"
            ],
            [
             0.8,
             "#7fbc41"
            ],
            [
             0.9,
             "#4d9221"
            ],
            [
             1,
             "#276419"
            ]
           ],
           "sequential": [
            [
             0,
             "#0d0887"
            ],
            [
             0.1111111111111111,
             "#46039f"
            ],
            [
             0.2222222222222222,
             "#7201a8"
            ],
            [
             0.3333333333333333,
             "#9c179e"
            ],
            [
             0.4444444444444444,
             "#bd3786"
            ],
            [
             0.5555555555555556,
             "#d8576b"
            ],
            [
             0.6666666666666666,
             "#ed7953"
            ],
            [
             0.7777777777777778,
             "#fb9f3a"
            ],
            [
             0.8888888888888888,
             "#fdca26"
            ],
            [
             1,
             "#f0f921"
            ]
           ],
           "sequentialminus": [
            [
             0,
             "#0d0887"
            ],
            [
             0.1111111111111111,
             "#46039f"
            ],
            [
             0.2222222222222222,
             "#7201a8"
            ],
            [
             0.3333333333333333,
             "#9c179e"
            ],
            [
             0.4444444444444444,
             "#bd3786"
            ],
            [
             0.5555555555555556,
             "#d8576b"
            ],
            [
             0.6666666666666666,
             "#ed7953"
            ],
            [
             0.7777777777777778,
             "#fb9f3a"
            ],
            [
             0.8888888888888888,
             "#fdca26"
            ],
            [
             1,
             "#f0f921"
            ]
           ]
          },
          "colorway": [
           "#636efa",
           "#EF553B",
           "#00cc96",
           "#ab63fa",
           "#FFA15A",
           "#19d3f3",
           "#FF6692",
           "#B6E880",
           "#FF97FF",
           "#FECB52"
          ],
          "font": {
           "color": "#2a3f5f"
          },
          "geo": {
           "bgcolor": "white",
           "lakecolor": "white",
           "landcolor": "#E5ECF6",
           "showlakes": true,
           "showland": true,
           "subunitcolor": "white"
          },
          "hoverlabel": {
           "align": "left"
          },
          "hovermode": "closest",
          "mapbox": {
           "style": "light"
          },
          "paper_bgcolor": "white",
          "plot_bgcolor": "#E5ECF6",
          "polar": {
           "angularaxis": {
            "gridcolor": "white",
            "linecolor": "white",
            "ticks": ""
           },
           "bgcolor": "#E5ECF6",
           "radialaxis": {
            "gridcolor": "white",
            "linecolor": "white",
            "ticks": ""
           }
          },
          "scene": {
           "xaxis": {
            "backgroundcolor": "#E5ECF6",
            "gridcolor": "white",
            "gridwidth": 2,
            "linecolor": "white",
            "showbackground": true,
            "ticks": "",
            "zerolinecolor": "white"
           },
           "yaxis": {
            "backgroundcolor": "#E5ECF6",
            "gridcolor": "white",
            "gridwidth": 2,
            "linecolor": "white",
            "showbackground": true,
            "ticks": "",
            "zerolinecolor": "white"
           },
           "zaxis": {
            "backgroundcolor": "#E5ECF6",
            "gridcolor": "white",
            "gridwidth": 2,
            "linecolor": "white",
            "showbackground": true,
            "ticks": "",
            "zerolinecolor": "white"
           }
          },
          "shapedefaults": {
           "line": {
            "color": "#2a3f5f"
           }
          },
          "ternary": {
           "aaxis": {
            "gridcolor": "white",
            "linecolor": "white",
            "ticks": ""
           },
           "baxis": {
            "gridcolor": "white",
            "linecolor": "white",
            "ticks": ""
           },
           "bgcolor": "#E5ECF6",
           "caxis": {
            "gridcolor": "white",
            "linecolor": "white",
            "ticks": ""
           }
          },
          "title": {
           "x": 0.05
          },
          "xaxis": {
           "automargin": true,
           "gridcolor": "white",
           "linecolor": "white",
           "ticks": "",
           "title": {
            "standoff": 15
           },
           "zerolinecolor": "white",
           "zerolinewidth": 2
          },
          "yaxis": {
           "automargin": true,
           "gridcolor": "white",
           "linecolor": "white",
           "ticks": "",
           "title": {
            "standoff": 15
           },
           "zerolinecolor": "white",
           "zerolinewidth": 2
          }
         }
        },
        "title": {
         "text": "แนวโน้มค่าใช้จ่ายรายเดือน"
        },
        "xaxis": {
         "anchor": "y",
         "domain": [
          0,
          1
         ],
         "title": {
          "text": "Month"
         }
        },
        "yaxis": {
         "anchor": "x",
         "domain": [
          0,
          1
         ],
         "title": {
          "text": "TotalCost"
         }
        }
       }
      },
      "text/html": [
       "<div>            <script src=\"https://cdnjs.cloudflare.com/ajax/libs/mathjax/2.7.5/MathJax.js?config=TeX-AMS-MML_SVG\"></script><script type=\"text/javascript\">if (window.MathJax && window.MathJax.Hub && window.MathJax.Hub.Config) {window.MathJax.Hub.Config({SVG: {font: \"STIX-Web\"}});}</script>                <script type=\"text/javascript\">window.PlotlyConfig = {MathJaxConfig: 'local'};</script>\n",
       "        <script charset=\"utf-8\" src=\"https://cdn.plot.ly/plotly-3.0.1.min.js\"></script>                <div id=\"d8473d86-fa79-4318-844a-542d621ca836\" class=\"plotly-graph-div\" style=\"height:525px; width:100%;\"></div>            <script type=\"text/javascript\">                window.PLOTLYENV=window.PLOTLYENV || {};                                if (document.getElementById(\"d8473d86-fa79-4318-844a-542d621ca836\")) {                    Plotly.newPlot(                        \"d8473d86-fa79-4318-844a-542d621ca836\",                        [{\"hovertemplate\":\"Month=%{x}\\u003cbr\\u003eTotalCost=%{y}\\u003cextra\\u003e\\u003c\\u002fextra\\u003e\",\"legendgroup\":\"\",\"line\":{\"color\":\"#636efa\",\"dash\":\"solid\"},\"marker\":{\"symbol\":\"circle\"},\"mode\":\"lines\",\"name\":\"\",\"orientation\":\"v\",\"showlegend\":false,\"x\":[\"2024-01\",\"2024-02\",\"2024-03\",\"2024-04\",\"2024-05\",\"2024-06\",\"2024-07\",\"2024-08\",\"2024-09\",\"2024-10\",\"2024-11\",\"2024-12\"],\"xaxis\":\"x\",\"y\":{\"dtype\":\"f8\",\"bdata\":\"MzMzMz\\u002fJ+EDD9ShcCy3zQK5H4XpwL\\u002f5AZmZmZk4j\\u002fUBH4XoU1sn8QD0K16PoRPVA9ihcj3qR8kBSuB6Fb9ryQAAAAAA0kP5AH4XrURCY\\u002fUDD9Shct+f7QPYoXI+aDPhA\"},\"yaxis\":\"y\",\"type\":\"scatter\"}],                        {\"template\":{\"data\":{\"histogram2dcontour\":[{\"type\":\"histogram2dcontour\",\"colorbar\":{\"outlinewidth\":0,\"ticks\":\"\"},\"colorscale\":[[0.0,\"#0d0887\"],[0.1111111111111111,\"#46039f\"],[0.2222222222222222,\"#7201a8\"],[0.3333333333333333,\"#9c179e\"],[0.4444444444444444,\"#bd3786\"],[0.5555555555555556,\"#d8576b\"],[0.6666666666666666,\"#ed7953\"],[0.7777777777777778,\"#fb9f3a\"],[0.8888888888888888,\"#fdca26\"],[1.0,\"#f0f921\"]]}],\"choropleth\":[{\"type\":\"choropleth\",\"colorbar\":{\"outlinewidth\":0,\"ticks\":\"\"}}],\"histogram2d\":[{\"type\":\"histogram2d\",\"colorbar\":{\"outlinewidth\":0,\"ticks\":\"\"},\"colorscale\":[[0.0,\"#0d0887\"],[0.1111111111111111,\"#46039f\"],[0.2222222222222222,\"#7201a8\"],[0.3333333333333333,\"#9c179e\"],[0.4444444444444444,\"#bd3786\"],[0.5555555555555556,\"#d8576b\"],[0.6666666666666666,\"#ed7953\"],[0.7777777777777778,\"#fb9f3a\"],[0.8888888888888888,\"#fdca26\"],[1.0,\"#f0f921\"]]}],\"heatmap\":[{\"type\":\"heatmap\",\"colorbar\":{\"outlinewidth\":0,\"ticks\":\"\"},\"colorscale\":[[0.0,\"#0d0887\"],[0.1111111111111111,\"#46039f\"],[0.2222222222222222,\"#7201a8\"],[0.3333333333333333,\"#9c179e\"],[0.4444444444444444,\"#bd3786\"],[0.5555555555555556,\"#d8576b\"],[0.6666666666666666,\"#ed7953\"],[0.7777777777777778,\"#fb9f3a\"],[0.8888888888888888,\"#fdca26\"],[1.0,\"#f0f921\"]]}],\"contourcarpet\":[{\"type\":\"contourcarpet\",\"colorbar\":{\"outlinewidth\":0,\"ticks\":\"\"}}],\"contour\":[{\"type\":\"contour\",\"colorbar\":{\"outlinewidth\":0,\"ticks\":\"\"},\"colorscale\":[[0.0,\"#0d0887\"],[0.1111111111111111,\"#46039f\"],[0.2222222222222222,\"#7201a8\"],[0.3333333333333333,\"#9c179e\"],[0.4444444444444444,\"#bd3786\"],[0.5555555555555556,\"#d8576b\"],[0.6666666666666666,\"#ed7953\"],[0.7777777777777778,\"#fb9f3a\"],[0.8888888888888888,\"#fdca26\"],[1.0,\"#f0f921\"]]}],\"surface\":[{\"type\":\"surface\",\"colorbar\":{\"outlinewidth\":0,\"ticks\":\"\"},\"colorscale\":[[0.0,\"#0d0887\"],[0.1111111111111111,\"#46039f\"],[0.2222222222222222,\"#7201a8\"],[0.3333333333333333,\"#9c179e\"],[0.4444444444444444,\"#bd3786\"],[0.5555555555555556,\"#d8576b\"],[0.6666666666666666,\"#ed7953\"],[0.7777777777777778,\"#fb9f3a\"],[0.8888888888888888,\"#fdca26\"],[1.0,\"#f0f921\"]]}],\"mesh3d\":[{\"type\":\"mesh3d\",\"colorbar\":{\"outlinewidth\":0,\"ticks\":\"\"}}],\"scatter\":[{\"fillpattern\":{\"fillmode\":\"overlay\",\"size\":10,\"solidity\":0.2},\"type\":\"scatter\"}],\"parcoords\":[{\"type\":\"parcoords\",\"line\":{\"colorbar\":{\"outlinewidth\":0,\"ticks\":\"\"}}}],\"scatterpolargl\":[{\"type\":\"scatterpolargl\",\"marker\":{\"colorbar\":{\"outlinewidth\":0,\"ticks\":\"\"}}}],\"bar\":[{\"error_x\":{\"color\":\"#2a3f5f\"},\"error_y\":{\"color\":\"#2a3f5f\"},\"marker\":{\"line\":{\"color\":\"#E5ECF6\",\"width\":0.5},\"pattern\":{\"fillmode\":\"overlay\",\"size\":10,\"solidity\":0.2}},\"type\":\"bar\"}],\"scattergeo\":[{\"type\":\"scattergeo\",\"marker\":{\"colorbar\":{\"outlinewidth\":0,\"ticks\":\"\"}}}],\"scatterpolar\":[{\"type\":\"scatterpolar\",\"marker\":{\"colorbar\":{\"outlinewidth\":0,\"ticks\":\"\"}}}],\"histogram\":[{\"marker\":{\"pattern\":{\"fillmode\":\"overlay\",\"size\":10,\"solidity\":0.2}},\"type\":\"histogram\"}],\"scattergl\":[{\"type\":\"scattergl\",\"marker\":{\"colorbar\":{\"outlinewidth\":0,\"ticks\":\"\"}}}],\"scatter3d\":[{\"type\":\"scatter3d\",\"line\":{\"colorbar\":{\"outlinewidth\":0,\"ticks\":\"\"}},\"marker\":{\"colorbar\":{\"outlinewidth\":0,\"ticks\":\"\"}}}],\"scattermap\":[{\"type\":\"scattermap\",\"marker\":{\"colorbar\":{\"outlinewidth\":0,\"ticks\":\"\"}}}],\"scattermapbox\":[{\"type\":\"scattermapbox\",\"marker\":{\"colorbar\":{\"outlinewidth\":0,\"ticks\":\"\"}}}],\"scatterternary\":[{\"type\":\"scatterternary\",\"marker\":{\"colorbar\":{\"outlinewidth\":0,\"ticks\":\"\"}}}],\"scattercarpet\":[{\"type\":\"scattercarpet\",\"marker\":{\"colorbar\":{\"outlinewidth\":0,\"ticks\":\"\"}}}],\"carpet\":[{\"aaxis\":{\"endlinecolor\":\"#2a3f5f\",\"gridcolor\":\"white\",\"linecolor\":\"white\",\"minorgridcolor\":\"white\",\"startlinecolor\":\"#2a3f5f\"},\"baxis\":{\"endlinecolor\":\"#2a3f5f\",\"gridcolor\":\"white\",\"linecolor\":\"white\",\"minorgridcolor\":\"white\",\"startlinecolor\":\"#2a3f5f\"},\"type\":\"carpet\"}],\"table\":[{\"cells\":{\"fill\":{\"color\":\"#EBF0F8\"},\"line\":{\"color\":\"white\"}},\"header\":{\"fill\":{\"color\":\"#C8D4E3\"},\"line\":{\"color\":\"white\"}},\"type\":\"table\"}],\"barpolar\":[{\"marker\":{\"line\":{\"color\":\"#E5ECF6\",\"width\":0.5},\"pattern\":{\"fillmode\":\"overlay\",\"size\":10,\"solidity\":0.2}},\"type\":\"barpolar\"}],\"pie\":[{\"automargin\":true,\"type\":\"pie\"}]},\"layout\":{\"autotypenumbers\":\"strict\",\"colorway\":[\"#636efa\",\"#EF553B\",\"#00cc96\",\"#ab63fa\",\"#FFA15A\",\"#19d3f3\",\"#FF6692\",\"#B6E880\",\"#FF97FF\",\"#FECB52\"],\"font\":{\"color\":\"#2a3f5f\"},\"hovermode\":\"closest\",\"hoverlabel\":{\"align\":\"left\"},\"paper_bgcolor\":\"white\",\"plot_bgcolor\":\"#E5ECF6\",\"polar\":{\"bgcolor\":\"#E5ECF6\",\"angularaxis\":{\"gridcolor\":\"white\",\"linecolor\":\"white\",\"ticks\":\"\"},\"radialaxis\":{\"gridcolor\":\"white\",\"linecolor\":\"white\",\"ticks\":\"\"}},\"ternary\":{\"bgcolor\":\"#E5ECF6\",\"aaxis\":{\"gridcolor\":\"white\",\"linecolor\":\"white\",\"ticks\":\"\"},\"baxis\":{\"gridcolor\":\"white\",\"linecolor\":\"white\",\"ticks\":\"\"},\"caxis\":{\"gridcolor\":\"white\",\"linecolor\":\"white\",\"ticks\":\"\"}},\"coloraxis\":{\"colorbar\":{\"outlinewidth\":0,\"ticks\":\"\"}},\"colorscale\":{\"sequential\":[[0.0,\"#0d0887\"],[0.1111111111111111,\"#46039f\"],[0.2222222222222222,\"#7201a8\"],[0.3333333333333333,\"#9c179e\"],[0.4444444444444444,\"#bd3786\"],[0.5555555555555556,\"#d8576b\"],[0.6666666666666666,\"#ed7953\"],[0.7777777777777778,\"#fb9f3a\"],[0.8888888888888888,\"#fdca26\"],[1.0,\"#f0f921\"]],\"sequentialminus\":[[0.0,\"#0d0887\"],[0.1111111111111111,\"#46039f\"],[0.2222222222222222,\"#7201a8\"],[0.3333333333333333,\"#9c179e\"],[0.4444444444444444,\"#bd3786\"],[0.5555555555555556,\"#d8576b\"],[0.6666666666666666,\"#ed7953\"],[0.7777777777777778,\"#fb9f3a\"],[0.8888888888888888,\"#fdca26\"],[1.0,\"#f0f921\"]],\"diverging\":[[0,\"#8e0152\"],[0.1,\"#c51b7d\"],[0.2,\"#de77ae\"],[0.3,\"#f1b6da\"],[0.4,\"#fde0ef\"],[0.5,\"#f7f7f7\"],[0.6,\"#e6f5d0\"],[0.7,\"#b8e186\"],[0.8,\"#7fbc41\"],[0.9,\"#4d9221\"],[1,\"#276419\"]]},\"xaxis\":{\"gridcolor\":\"white\",\"linecolor\":\"white\",\"ticks\":\"\",\"title\":{\"standoff\":15},\"zerolinecolor\":\"white\",\"automargin\":true,\"zerolinewidth\":2},\"yaxis\":{\"gridcolor\":\"white\",\"linecolor\":\"white\",\"ticks\":\"\",\"title\":{\"standoff\":15},\"zerolinecolor\":\"white\",\"automargin\":true,\"zerolinewidth\":2},\"scene\":{\"xaxis\":{\"backgroundcolor\":\"#E5ECF6\",\"gridcolor\":\"white\",\"linecolor\":\"white\",\"showbackground\":true,\"ticks\":\"\",\"zerolinecolor\":\"white\",\"gridwidth\":2},\"yaxis\":{\"backgroundcolor\":\"#E5ECF6\",\"gridcolor\":\"white\",\"linecolor\":\"white\",\"showbackground\":true,\"ticks\":\"\",\"zerolinecolor\":\"white\",\"gridwidth\":2},\"zaxis\":{\"backgroundcolor\":\"#E5ECF6\",\"gridcolor\":\"white\",\"linecolor\":\"white\",\"showbackground\":true,\"ticks\":\"\",\"zerolinecolor\":\"white\",\"gridwidth\":2}},\"shapedefaults\":{\"line\":{\"color\":\"#2a3f5f\"}},\"annotationdefaults\":{\"arrowcolor\":\"#2a3f5f\",\"arrowhead\":0,\"arrowwidth\":1},\"geo\":{\"bgcolor\":\"white\",\"landcolor\":\"#E5ECF6\",\"subunitcolor\":\"white\",\"showland\":true,\"showlakes\":true,\"lakecolor\":\"white\"},\"title\":{\"x\":0.05},\"mapbox\":{\"style\":\"light\"}}},\"xaxis\":{\"anchor\":\"y\",\"domain\":[0.0,1.0],\"title\":{\"text\":\"Month\"}},\"yaxis\":{\"anchor\":\"x\",\"domain\":[0.0,1.0],\"title\":{\"text\":\"TotalCost\"}},\"legend\":{\"tracegroupgap\":0},\"title\":{\"text\":\"\\u0e41\\u0e19\\u0e27\\u0e42\\u0e19\\u0e49\\u0e21\\u0e04\\u0e48\\u0e32\\u0e43\\u0e0a\\u0e49\\u0e08\\u0e48\\u0e32\\u0e22\\u0e23\\u0e32\\u0e22\\u0e40\\u0e14\\u0e37\\u0e2d\\u0e19\"}},                        {\"responsive\": true}                    ).then(function(){\n",
       "                            \n",
       "var gd = document.getElementById('d8473d86-fa79-4318-844a-542d621ca836');\n",
       "var x = new MutationObserver(function (mutations, observer) {{\n",
       "        var display = window.getComputedStyle(gd).display;\n",
       "        if (!display || display === 'none') {{\n",
       "            console.log([gd, 'removed!']);\n",
       "            Plotly.purge(gd);\n",
       "            observer.disconnect();\n",
       "        }}\n",
       "}});\n",
       "\n",
       "// Listen for the removal of the full notebook cells\n",
       "var notebookContainer = gd.closest('#notebook-container');\n",
       "if (notebookContainer) {{\n",
       "    x.observe(notebookContainer, {childList: true});\n",
       "}}\n",
       "\n",
       "// Listen for the clearing of the current output cell\n",
       "var outputEl = gd.closest('.output');\n",
       "if (outputEl) {{\n",
       "    x.observe(outputEl, {childList: true});\n",
       "}}\n",
       "\n",
       "                        })                };            </script>        </div>"
      ]
     },
     "metadata": {},
     "output_type": "display_data"
    }
   ],
   "source": [
    "cost_per(df, \"Month\", \"TotalCost\")"
   ]
  },
  {
   "cell_type": "code",
   "execution_count": 94,
   "id": "05eeaeba-7498-442c-9c3b-13dedf576011",
   "metadata": {},
   "outputs": [
    {
     "data": {
      "application/vnd.plotly.v1+json": {
       "config": {
        "plotlyServerURL": "https://plot.ly"
       },
       "data": [
        {
         "hovertemplate": "Day=%{x}<br>TotalCost=%{y}<extra></extra>",
         "legendgroup": "",
         "line": {
          "color": "#636efa",
          "dash": "solid"
         },
         "marker": {
          "symbol": "circle"
         },
         "mode": "lines",
         "name": "",
         "orientation": "v",
         "showlegend": false,
         "type": "scatter",
         "x": [
          "2024-01-01",
          "2024-01-02",
          "2024-01-03",
          "2024-01-04",
          "2024-01-05",
          "2024-01-06",
          "2024-01-08",
          "2024-01-09",
          "2024-01-10",
          "2024-01-11",
          "2024-01-13",
          "2024-01-14",
          "2024-01-15",
          "2024-01-16",
          "2024-01-17",
          "2024-01-20",
          "2024-01-21",
          "2024-01-23",
          "2024-01-25",
          "2024-01-27",
          "2024-01-29",
          "2024-01-30",
          "2024-02-03",
          "2024-02-04",
          "2024-02-05",
          "2024-02-06",
          "2024-02-08",
          "2024-02-10",
          "2024-02-12",
          "2024-02-13",
          "2024-02-14",
          "2024-02-16",
          "2024-02-17",
          "2024-02-19",
          "2024-02-20",
          "2024-02-21",
          "2024-02-22",
          "2024-02-23",
          "2024-02-24",
          "2024-02-27",
          "2024-02-28",
          "2024-02-29",
          "2024-03-01",
          "2024-03-02",
          "2024-03-03",
          "2024-03-05",
          "2024-03-06",
          "2024-03-07",
          "2024-03-08",
          "2024-03-10",
          "2024-03-11",
          "2024-03-12",
          "2024-03-13",
          "2024-03-14",
          "2024-03-15",
          "2024-03-17",
          "2024-03-18",
          "2024-03-19",
          "2024-03-21",
          "2024-03-22",
          "2024-03-23",
          "2024-03-24",
          "2024-03-25",
          "2024-03-27",
          "2024-03-28",
          "2024-03-30",
          "2024-04-02",
          "2024-04-03",
          "2024-04-04",
          "2024-04-05",
          "2024-04-08",
          "2024-04-09",
          "2024-04-10",
          "2024-04-12",
          "2024-04-13",
          "2024-04-14",
          "2024-04-16",
          "2024-04-18",
          "2024-04-19",
          "2024-04-20",
          "2024-04-21",
          "2024-04-22",
          "2024-04-23",
          "2024-04-25",
          "2024-04-26",
          "2024-04-27",
          "2024-04-29",
          "2024-04-30",
          "2024-05-01",
          "2024-05-02",
          "2024-05-03",
          "2024-05-04",
          "2024-05-06",
          "2024-05-07",
          "2024-05-08",
          "2024-05-09",
          "2024-05-11",
          "2024-05-12",
          "2024-05-13",
          "2024-05-14",
          "2024-05-15",
          "2024-05-16",
          "2024-05-17",
          "2024-05-18",
          "2024-05-19",
          "2024-05-20",
          "2024-05-21",
          "2024-05-22",
          "2024-05-24",
          "2024-05-26",
          "2024-05-28",
          "2024-05-29",
          "2024-06-01",
          "2024-06-04",
          "2024-06-05",
          "2024-06-06",
          "2024-06-07",
          "2024-06-08",
          "2024-06-11",
          "2024-06-12",
          "2024-06-13",
          "2024-06-14",
          "2024-06-15",
          "2024-06-16",
          "2024-06-17",
          "2024-06-19",
          "2024-06-20",
          "2024-06-23",
          "2024-06-27",
          "2024-06-29",
          "2024-06-30",
          "2024-07-02",
          "2024-07-03",
          "2024-07-05",
          "2024-07-06",
          "2024-07-07",
          "2024-07-08",
          "2024-07-10",
          "2024-07-11",
          "2024-07-12",
          "2024-07-14",
          "2024-07-15",
          "2024-07-17",
          "2024-07-18",
          "2024-07-19",
          "2024-07-20",
          "2024-07-23",
          "2024-07-25",
          "2024-07-27",
          "2024-07-28",
          "2024-07-29",
          "2024-07-31",
          "2024-08-01",
          "2024-08-02",
          "2024-08-05",
          "2024-08-06",
          "2024-08-08",
          "2024-08-09",
          "2024-08-10",
          "2024-08-12",
          "2024-08-13",
          "2024-08-14",
          "2024-08-15",
          "2024-08-16",
          "2024-08-17",
          "2024-08-19",
          "2024-08-20",
          "2024-08-21",
          "2024-08-23",
          "2024-08-25",
          "2024-08-26",
          "2024-08-27",
          "2024-08-29",
          "2024-08-30",
          "2024-09-01",
          "2024-09-02",
          "2024-09-03",
          "2024-09-04",
          "2024-09-07",
          "2024-09-08",
          "2024-09-09",
          "2024-09-10",
          "2024-09-11",
          "2024-09-12",
          "2024-09-13",
          "2024-09-14",
          "2024-09-15",
          "2024-09-16",
          "2024-09-18",
          "2024-09-19",
          "2024-09-20",
          "2024-09-21",
          "2024-09-22",
          "2024-09-24",
          "2024-09-27",
          "2024-09-28",
          "2024-09-29",
          "2024-09-30",
          "2024-10-01",
          "2024-10-02",
          "2024-10-04",
          "2024-10-05",
          "2024-10-06",
          "2024-10-09",
          "2024-10-10",
          "2024-10-11",
          "2024-10-12",
          "2024-10-13",
          "2024-10-14",
          "2024-10-15",
          "2024-10-17",
          "2024-10-18",
          "2024-10-19",
          "2024-10-22",
          "2024-10-23",
          "2024-10-26",
          "2024-10-27",
          "2024-10-28",
          "2024-10-29",
          "2024-10-31",
          "2024-11-02",
          "2024-11-04",
          "2024-11-05",
          "2024-11-06",
          "2024-11-07",
          "2024-11-08",
          "2024-11-09",
          "2024-11-10",
          "2024-11-11",
          "2024-11-14",
          "2024-11-15",
          "2024-11-17",
          "2024-11-20",
          "2024-11-21",
          "2024-11-22",
          "2024-11-23",
          "2024-11-25",
          "2024-11-26",
          "2024-11-27",
          "2024-11-28",
          "2024-11-30",
          "2024-12-01",
          "2024-12-02",
          "2024-12-03",
          "2024-12-04",
          "2024-12-06",
          "2024-12-08",
          "2024-12-10",
          "2024-12-11",
          "2024-12-12",
          "2024-12-13",
          "2024-12-14",
          "2024-12-16",
          "2024-12-17",
          "2024-12-18",
          "2024-12-19",
          "2024-12-20",
          "2024-12-21",
          "2024-12-22",
          "2024-12-23",
          "2024-12-24",
          "2024-12-25",
          "2024-12-26",
          "2024-12-27",
          "2024-12-28",
          "2024-12-30"
         ],
         "xaxis": "x",
         "y": {
          "bdata": "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",
          "dtype": "f8"
         },
         "yaxis": "y"
        }
       ],
       "layout": {
        "legend": {
         "tracegroupgap": 0
        },
        "template": {
         "data": {
          "bar": [
           {
            "error_x": {
             "color": "#2a3f5f"
            },
            "error_y": {
             "color": "#2a3f5f"
            },
            "marker": {
             "line": {
              "color": "#E5ECF6",
              "width": 0.5
             },
             "pattern": {
              "fillmode": "overlay",
              "size": 10,
              "solidity": 0.2
             }
            },
            "type": "bar"
           }
          ],
          "barpolar": [
           {
            "marker": {
             "line": {
              "color": "#E5ECF6",
              "width": 0.5
             },
             "pattern": {
              "fillmode": "overlay",
              "size": 10,
              "solidity": 0.2
             }
            },
            "type": "barpolar"
           }
          ],
          "carpet": [
           {
            "aaxis": {
             "endlinecolor": "#2a3f5f",
             "gridcolor": "white",
             "linecolor": "white",
             "minorgridcolor": "white",
             "startlinecolor": "#2a3f5f"
            },
            "baxis": {
             "endlinecolor": "#2a3f5f",
             "gridcolor": "white",
             "linecolor": "white",
             "minorgridcolor": "white",
             "startlinecolor": "#2a3f5f"
            },
            "type": "carpet"
           }
          ],
          "choropleth": [
           {
            "colorbar": {
             "outlinewidth": 0,
             "ticks": ""
            },
            "type": "choropleth"
           }
          ],
          "contour": [
           {
            "colorbar": {
             "outlinewidth": 0,
             "ticks": ""
            },
            "colorscale": [
             [
              0,
              "#0d0887"
             ],
             [
              0.1111111111111111,
              "#46039f"
             ],
             [
              0.2222222222222222,
              "#7201a8"
             ],
             [
              0.3333333333333333,
              "#9c179e"
             ],
             [
              0.4444444444444444,
              "#bd3786"
             ],
             [
              0.5555555555555556,
              "#d8576b"
             ],
             [
              0.6666666666666666,
              "#ed7953"
             ],
             [
              0.7777777777777778,
              "#fb9f3a"
             ],
             [
              0.8888888888888888,
              "#fdca26"
             ],
             [
              1,
              "#f0f921"
             ]
            ],
            "type": "contour"
           }
          ],
          "contourcarpet": [
           {
            "colorbar": {
             "outlinewidth": 0,
             "ticks": ""
            },
            "type": "contourcarpet"
           }
          ],
          "heatmap": [
           {
            "colorbar": {
             "outlinewidth": 0,
             "ticks": ""
            },
            "colorscale": [
             [
              0,
              "#0d0887"
             ],
             [
              0.1111111111111111,
              "#46039f"
             ],
             [
              0.2222222222222222,
              "#7201a8"
             ],
             [
              0.3333333333333333,
              "#9c179e"
             ],
             [
              0.4444444444444444,
              "#bd3786"
             ],
             [
              0.5555555555555556,
              "#d8576b"
             ],
             [
              0.6666666666666666,
              "#ed7953"
             ],
             [
              0.7777777777777778,
              "#fb9f3a"
             ],
             [
              0.8888888888888888,
              "#fdca26"
             ],
             [
              1,
              "#f0f921"
             ]
            ],
            "type": "heatmap"
           }
          ],
          "histogram": [
           {
            "marker": {
             "pattern": {
              "fillmode": "overlay",
              "size": 10,
              "solidity": 0.2
             }
            },
            "type": "histogram"
           }
          ],
          "histogram2d": [
           {
            "colorbar": {
             "outlinewidth": 0,
             "ticks": ""
            },
            "colorscale": [
             [
              0,
              "#0d0887"
             ],
             [
              0.1111111111111111,
              "#46039f"
             ],
             [
              0.2222222222222222,
              "#7201a8"
             ],
             [
              0.3333333333333333,
              "#9c179e"
             ],
             [
              0.4444444444444444,
              "#bd3786"
             ],
             [
              0.5555555555555556,
              "#d8576b"
             ],
             [
              0.6666666666666666,
              "#ed7953"
             ],
             [
              0.7777777777777778,
              "#fb9f3a"
             ],
             [
              0.8888888888888888,
              "#fdca26"
             ],
             [
              1,
              "#f0f921"
             ]
            ],
            "type": "histogram2d"
           }
          ],
          "histogram2dcontour": [
           {
            "colorbar": {
             "outlinewidth": 0,
             "ticks": ""
            },
            "colorscale": [
             [
              0,
              "#0d0887"
             ],
             [
              0.1111111111111111,
              "#46039f"
             ],
             [
              0.2222222222222222,
              "#7201a8"
             ],
             [
              0.3333333333333333,
              "#9c179e"
             ],
             [
              0.4444444444444444,
              "#bd3786"
             ],
             [
              0.5555555555555556,
              "#d8576b"
             ],
             [
              0.6666666666666666,
              "#ed7953"
             ],
             [
              0.7777777777777778,
              "#fb9f3a"
             ],
             [
              0.8888888888888888,
              "#fdca26"
             ],
             [
              1,
              "#f0f921"
             ]
            ],
            "type": "histogram2dcontour"
           }
          ],
          "mesh3d": [
           {
            "colorbar": {
             "outlinewidth": 0,
             "ticks": ""
            },
            "type": "mesh3d"
           }
          ],
          "parcoords": [
           {
            "line": {
             "colorbar": {
              "outlinewidth": 0,
              "ticks": ""
             }
            },
            "type": "parcoords"
           }
          ],
          "pie": [
           {
            "automargin": true,
            "type": "pie"
           }
          ],
          "scatter": [
           {
            "fillpattern": {
             "fillmode": "overlay",
             "size": 10,
             "solidity": 0.2
            },
            "type": "scatter"
           }
          ],
          "scatter3d": [
           {
            "line": {
             "colorbar": {
              "outlinewidth": 0,
              "ticks": ""
             }
            },
            "marker": {
             "colorbar": {
              "outlinewidth": 0,
              "ticks": ""
             }
            },
            "type": "scatter3d"
           }
          ],
          "scattercarpet": [
           {
            "marker": {
             "colorbar": {
              "outlinewidth": 0,
              "ticks": ""
             }
            },
            "type": "scattercarpet"
           }
          ],
          "scattergeo": [
           {
            "marker": {
             "colorbar": {
              "outlinewidth": 0,
              "ticks": ""
             }
            },
            "type": "scattergeo"
           }
          ],
          "scattergl": [
           {
            "marker": {
             "colorbar": {
              "outlinewidth": 0,
              "ticks": ""
             }
            },
            "type": "scattergl"
           }
          ],
          "scattermap": [
           {
            "marker": {
             "colorbar": {
              "outlinewidth": 0,
              "ticks": ""
             }
            },
            "type": "scattermap"
           }
          ],
          "scattermapbox": [
           {
            "marker": {
             "colorbar": {
              "outlinewidth": 0,
              "ticks": ""
             }
            },
            "type": "scattermapbox"
           }
          ],
          "scatterpolar": [
           {
            "marker": {
             "colorbar": {
              "outlinewidth": 0,
              "ticks": ""
             }
            },
            "type": "scatterpolar"
           }
          ],
          "scatterpolargl": [
           {
            "marker": {
             "colorbar": {
              "outlinewidth": 0,
              "ticks": ""
             }
            },
            "type": "scatterpolargl"
           }
          ],
          "scatterternary": [
           {
            "marker": {
             "colorbar": {
              "outlinewidth": 0,
              "ticks": ""
             }
            },
            "type": "scatterternary"
           }
          ],
          "surface": [
           {
            "colorbar": {
             "outlinewidth": 0,
             "ticks": ""
            },
            "colorscale": [
             [
              0,
              "#0d0887"
             ],
             [
              0.1111111111111111,
              "#46039f"
             ],
             [
              0.2222222222222222,
              "#7201a8"
             ],
             [
              0.3333333333333333,
              "#9c179e"
             ],
             [
              0.4444444444444444,
              "#bd3786"
             ],
             [
              0.5555555555555556,
              "#d8576b"
             ],
             [
              0.6666666666666666,
              "#ed7953"
             ],
             [
              0.7777777777777778,
              "#fb9f3a"
             ],
             [
              0.8888888888888888,
              "#fdca26"
             ],
             [
              1,
              "#f0f921"
             ]
            ],
            "type": "surface"
           }
          ],
          "table": [
           {
            "cells": {
             "fill": {
              "color": "#EBF0F8"
             },
             "line": {
              "color": "white"
             }
            },
            "header": {
             "fill": {
              "color": "#C8D4E3"
             },
             "line": {
              "color": "white"
             }
            },
            "type": "table"
           }
          ]
         },
         "layout": {
          "annotationdefaults": {
           "arrowcolor": "#2a3f5f",
           "arrowhead": 0,
           "arrowwidth": 1
          },
          "autotypenumbers": "strict",
          "coloraxis": {
           "colorbar": {
            "outlinewidth": 0,
            "ticks": ""
           }
          },
          "colorscale": {
           "diverging": [
            [
             0,
             "#8e0152"
            ],
            [
             0.1,
             "#c51b7d"
            ],
            [
             0.2,
             "#de77ae"
            ],
            [
             0.3,
             "#f1b6da"
            ],
            [
             0.4,
             "#fde0ef"
            ],
            [
             0.5,
             "#f7f7f7"
            ],
            [
             0.6,
             "#e6f5d0"
            ],
            [
             0.7,
             "#b8e186"
            ],
            [
             0.8,
             "#7fbc41"
            ],
            [
             0.9,
             "#4d9221"
            ],
            [
             1,
             "#276419"
            ]
           ],
           "sequential": [
            [
             0,
             "#0d0887"
            ],
            [
             0.1111111111111111,
             "#46039f"
            ],
            [
             0.2222222222222222,
             "#7201a8"
            ],
            [
             0.3333333333333333,
             "#9c179e"
            ],
            [
             0.4444444444444444,
             "#bd3786"
            ],
            [
             0.5555555555555556,
             "#d8576b"
            ],
            [
             0.6666666666666666,
             "#ed7953"
            ],
            [
             0.7777777777777778,
             "#fb9f3a"
            ],
            [
             0.8888888888888888,
             "#fdca26"
            ],
            [
             1,
             "#f0f921"
            ]
           ],
           "sequentialminus": [
            [
             0,
             "#0d0887"
            ],
            [
             0.1111111111111111,
             "#46039f"
            ],
            [
             0.2222222222222222,
             "#7201a8"
            ],
            [
             0.3333333333333333,
             "#9c179e"
            ],
            [
             0.4444444444444444,
             "#bd3786"
            ],
            [
             0.5555555555555556,
             "#d8576b"
            ],
            [
             0.6666666666666666,
             "#ed7953"
            ],
            [
             0.7777777777777778,
             "#fb9f3a"
            ],
            [
             0.8888888888888888,
             "#fdca26"
            ],
            [
             1,
             "#f0f921"
            ]
           ]
          },
          "colorway": [
           "#636efa",
           "#EF553B",
           "#00cc96",
           "#ab63fa",
           "#FFA15A",
           "#19d3f3",
           "#FF6692",
           "#B6E880",
           "#FF97FF",
           "#FECB52"
          ],
          "font": {
           "color": "#2a3f5f"
          },
          "geo": {
           "bgcolor": "white",
           "lakecolor": "white",
           "landcolor": "#E5ECF6",
           "showlakes": true,
           "showland": true,
           "subunitcolor": "white"
          },
          "hoverlabel": {
           "align": "left"
          },
          "hovermode": "closest",
          "mapbox": {
           "style": "light"
          },
          "paper_bgcolor": "white",
          "plot_bgcolor": "#E5ECF6",
          "polar": {
           "angularaxis": {
            "gridcolor": "white",
            "linecolor": "white",
            "ticks": ""
           },
           "bgcolor": "#E5ECF6",
           "radialaxis": {
            "gridcolor": "white",
            "linecolor": "white",
            "ticks": ""
           }
          },
          "scene": {
           "xaxis": {
            "backgroundcolor": "#E5ECF6",
            "gridcolor": "white",
            "gridwidth": 2,
            "linecolor": "white",
            "showbackground": true,
            "ticks": "",
            "zerolinecolor": "white"
           },
           "yaxis": {
            "backgroundcolor": "#E5ECF6",
            "gridcolor": "white",
            "gridwidth": 2,
            "linecolor": "white",
            "showbackground": true,
            "ticks": "",
            "zerolinecolor": "white"
           },
           "zaxis": {
            "backgroundcolor": "#E5ECF6",
            "gridcolor": "white",
            "gridwidth": 2,
            "linecolor": "white",
            "showbackground": true,
            "ticks": "",
            "zerolinecolor": "white"
           }
          },
          "shapedefaults": {
           "line": {
            "color": "#2a3f5f"
           }
          },
          "ternary": {
           "aaxis": {
            "gridcolor": "white",
            "linecolor": "white",
            "ticks": ""
           },
           "baxis": {
            "gridcolor": "white",
            "linecolor": "white",
            "ticks": ""
           },
           "bgcolor": "#E5ECF6",
           "caxis": {
            "gridcolor": "white",
            "linecolor": "white",
            "ticks": ""
           }
          },
          "title": {
           "x": 0.05
          },
          "xaxis": {
           "automargin": true,
           "gridcolor": "white",
           "linecolor": "white",
           "ticks": "",
           "title": {
            "standoff": 15
           },
           "zerolinecolor": "white",
           "zerolinewidth": 2
          },
          "yaxis": {
           "automargin": true,
           "gridcolor": "white",
           "linecolor": "white",
           "ticks": "",
           "title": {
            "standoff": 15
           },
           "zerolinecolor": "white",
           "zerolinewidth": 2
          }
         }
        },
        "title": {
         "text": "แนวโน้มค่าใช้จ่ายรายเดือน"
        },
        "xaxis": {
         "anchor": "y",
         "domain": [
          0,
          1
         ],
         "title": {
          "text": "Day"
         }
        },
        "yaxis": {
         "anchor": "x",
         "domain": [
          0,
          1
         ],
         "title": {
          "text": "TotalCost"
         }
        }
       }
      },
      "text/html": [
       "<div>            <script src=\"https://cdnjs.cloudflare.com/ajax/libs/mathjax/2.7.5/MathJax.js?config=TeX-AMS-MML_SVG\"></script><script type=\"text/javascript\">if (window.MathJax && window.MathJax.Hub && window.MathJax.Hub.Config) {window.MathJax.Hub.Config({SVG: {font: \"STIX-Web\"}});}</script>                <script type=\"text/javascript\">window.PlotlyConfig = {MathJaxConfig: 'local'};</script>\n",
       "        <script charset=\"utf-8\" src=\"https://cdn.plot.ly/plotly-3.0.1.min.js\"></script>                <div id=\"61aa6d8e-51c2-4c6d-abb3-e82baed0ca28\" class=\"plotly-graph-div\" style=\"height:525px; width:100%;\"></div>            <script type=\"text/javascript\">                window.PLOTLYENV=window.PLOTLYENV || {};                                if (document.getElementById(\"61aa6d8e-51c2-4c6d-abb3-e82baed0ca28\")) {                    Plotly.newPlot(                        \"61aa6d8e-51c2-4c6d-abb3-e82baed0ca28\",                        [{\"hovertemplate\":\"Day=%{x}\\u003cbr\\u003eTotalCost=%{y}\\u003cextra\\u003e\\u003c\\u002fextra\\u003e\",\"legendgroup\":\"\",\"line\":{\"color\":\"#636efa\",\"dash\":\"solid\"},\"marker\":{\"symbol\":\"circle\"},\"mode\":\"lines\",\"name\":\"\",\"orientation\":\"v\",\"showlegend\":false,\"x\":[\"2024-01-01\",\"2024-01-02\",\"2024-01-03\",\"2024-01-04\",\"2024-01-05\",\"2024-01-06\",\"2024-01-08\",\"2024-01-09\",\"2024-01-10\",\"2024-01-11\",\"2024-01-13\",\"2024-01-14\",\"2024-01-15\",\"2024-01-16\",\"2024-01-17\",\"2024-01-20\",\"2024-01-21\",\"2024-01-23\",\"2024-01-25\",\"2024-01-27\",\"2024-01-29\",\"2024-01-30\",\"2024-02-03\",\"2024-02-04\",\"2024-02-05\",\"2024-02-06\",\"2024-02-08\",\"2024-02-10\",\"2024-02-12\",\"2024-02-13\",\"2024-02-14\",\"2024-02-16\",\"2024-02-17\",\"2024-02-19\",\"2024-02-20\",\"2024-02-21\",\"2024-02-22\",\"2024-02-23\",\"2024-02-24\",\"2024-02-27\",\"2024-02-28\",\"2024-02-29\",\"2024-03-01\",\"2024-03-02\",\"2024-03-03\",\"2024-03-05\",\"2024-03-06\",\"2024-03-07\",\"2024-03-08\",\"2024-03-10\",\"2024-03-11\",\"2024-03-12\",\"2024-03-13\",\"2024-03-14\",\"2024-03-15\",\"2024-03-17\",\"2024-03-18\",\"2024-03-19\",\"2024-03-21\",\"2024-03-22\",\"2024-03-23\",\"2024-03-24\",\"2024-03-25\",\"2024-03-27\",\"2024-03-28\",\"2024-03-30\",\"2024-04-02\",\"2024-04-03\",\"2024-04-04\",\"2024-04-05\",\"2024-04-08\",\"2024-04-09\",\"2024-04-10\",\"2024-04-12\",\"2024-04-13\",\"2024-04-14\",\"2024-04-16\",\"2024-04-18\",\"2024-04-19\",\"2024-04-20\",\"2024-04-21\",\"2024-04-22\",\"2024-04-23\",\"2024-04-25\",\"2024-04-26\",\"2024-04-27\",\"2024-04-29\",\"2024-04-30\",\"2024-05-01\",\"2024-05-02\",\"2024-05-03\",\"2024-05-04\",\"2024-05-06\",\"2024-05-07\",\"2024-05-08\",\"2024-05-09\",\"2024-05-11\",\"2024-05-12\",\"2024-05-13\",\"2024-05-14\",\"2024-05-15\",\"2024-05-16\",\"2024-05-17\",\"2024-05-18\",\"2024-05-19\",\"2024-05-20\",\"2024-05-21\",\"2024-05-22\",\"2024-05-24\",\"2024-05-26\",\"2024-05-28\",\"2024-05-29\",\"2024-06-01\",\"2024-06-04\",\"2024-06-05\",\"2024-06-06\",\"2024-06-07\",\"2024-06-08\",\"2024-06-11\",\"2024-06-12\",\"2024-06-13\",\"2024-06-14\",\"2024-06-15\",\"2024-06-16\",\"2024-06-17\",\"2024-06-19\",\"2024-06-20\",\"2024-06-23\",\"2024-06-27\",\"2024-06-29\",\"2024-06-30\",\"2024-07-02\",\"2024-07-03\",\"2024-07-05\",\"2024-07-06\",\"2024-07-07\",\"2024-07-08\",\"2024-07-10\",\"2024-07-11\",\"2024-07-12\",\"2024-07-14\",\"2024-07-15\",\"2024-07-17\",\"2024-07-18\",\"2024-07-19\",\"2024-07-20\",\"2024-07-23\",\"2024-07-25\",\"2024-07-27\",\"2024-07-28\",\"2024-07-29\",\"2024-07-31\",\"2024-08-01\",\"2024-08-02\",\"2024-08-05\",\"2024-08-06\",\"2024-08-08\",\"2024-08-09\",\"2024-08-10\",\"2024-08-12\",\"2024-08-13\",\"2024-08-14\",\"2024-08-15\",\"2024-08-16\",\"2024-08-17\",\"2024-08-19\",\"2024-08-20\",\"2024-08-21\",\"2024-08-23\",\"2024-08-25\",\"2024-08-26\",\"2024-08-27\",\"2024-08-29\",\"2024-08-30\",\"2024-09-01\",\"2024-09-02\",\"2024-09-03\",\"2024-09-04\",\"2024-09-07\",\"2024-09-08\",\"2024-09-09\",\"2024-09-10\",\"2024-09-11\",\"2024-09-12\",\"2024-09-13\",\"2024-09-14\",\"2024-09-15\",\"2024-09-16\",\"2024-09-18\",\"2024-09-19\",\"2024-09-20\",\"2024-09-21\",\"2024-09-22\",\"2024-09-24\",\"2024-09-27\",\"2024-09-28\",\"2024-09-29\",\"2024-09-30\",\"2024-10-01\",\"2024-10-02\",\"2024-10-04\",\"2024-10-05\",\"2024-10-06\",\"2024-10-09\",\"2024-10-10\",\"2024-10-11\",\"2024-10-12\",\"2024-10-13\",\"2024-10-14\",\"2024-10-15\",\"2024-10-17\",\"2024-10-18\",\"2024-10-19\",\"2024-10-22\",\"2024-10-23\",\"2024-10-26\",\"2024-10-27\",\"2024-10-28\",\"2024-10-29\",\"2024-10-31\",\"2024-11-02\",\"2024-11-04\",\"2024-11-05\",\"2024-11-06\",\"2024-11-07\",\"2024-11-08\",\"2024-11-09\",\"2024-11-10\",\"2024-11-11\",\"2024-11-14\",\"2024-11-15\",\"2024-11-17\",\"2024-11-20\",\"2024-11-21\",\"2024-11-22\",\"2024-11-23\",\"2024-11-25\",\"2024-11-26\",\"2024-11-27\",\"2024-11-28\",\"2024-11-30\",\"2024-12-01\",\"2024-12-02\",\"2024-12-03\",\"2024-12-04\",\"2024-12-06\",\"2024-12-08\",\"2024-12-10\",\"2024-12-11\",\"2024-12-12\",\"2024-12-13\",\"2024-12-14\",\"2024-12-16\",\"2024-12-17\",\"2024-12-18\",\"2024-12-19\",\"2024-12-20\",\"2024-12-21\",\"2024-12-22\",\"2024-12-23\",\"2024-12-24\",\"2024-12-25\",\"2024-12-26\",\"2024-12-27\",\"2024-12-28\",\"2024-12-30\"],\"xaxis\":\"x\",\"y\":{\"dtype\":\"f8\",\"bdata\":\"UrgehYtZx0BSuB6F616uQKRwPQrXI2pAKVyPwvUIZkC4HoXrUYPSQDMzMzMzg4dA16NwPUq3t0AehetRODauQMzMzMxMm7RAZmZmZmY4mEDhehSuB2zLQOJ6FK5XDdBAXI\\u002fC9SgUo0DXo3A9ijKkQKRwPQrX+2BAUrgeheulhkB7FK5H4fpCQHsUrkfhPJFAuB6F69EHpUAfhetRuB75P0jhehSuL25ACtejcH1ewEBcj8L1KDKjQEjhehSu2KJAPQrXo3D9aECF61G4HmVmQFK4HoVrPqtAzczMzMzUmEAAAAAAAIApQBWuR+H6KMJA7FG4HoVGokCuR+F6lA6lQFK4HoWLCc9A16NwPQrXNUCkcD0K17eXQEjhehQuKLJAKVyPwvWoP0BI4XoUbknAQClcj8L1SGNA16NwPWpb00BH4XoULtioQB+F61G4znBA7FG4HoVfpECQwvUoXMG0QBSuR+H6qqdAPgrXo7DHzUCG61G4niWsQKRwPQoXWrJAmpmZmZkZgUDsUbgeheuMQKRwPQq3pdBAAAAAAACAU0BSuB6Fa2GoQEjhehQuacpAj8L1KJw9skDNzMzMzOmXQML1KFzv+MxA7FG4HoVLtEApXI\\u002fC9SxxQDMzMzOzhstASOF6FK6rg0DsUbgeBRq4QK5H4XoUflBA9ihcj8J9iEDsUbgeBRK2QMP1KFyPwgVAZmZmZqYMt0ApXI\\u002fC9fKzQOxRuB6FqaBApHA9CtcjQ0ApXI\\u002fCdRWkQGZmZmbmer1AZmZmZmaMu0DXo3A9iq+iQLgehetR6GZAXI\\u002fC9SjcP0CamZmZmTlbQJqZmZmZgMxASOF6FC5CtECQwvUoHLq4QMzMzMxsZc5AmpmZmZnZiEAzMzMzc3XBQHE9CtfDesJASOF6FC4vtkCF61G4Xg2+QD4K16MQecdASOF6FK7HOUCuR+F6lDC5QB+F61G4uKdApHA9CtcjSECamZmZmQSoQI\\u002fC9Shcx2BAmpmZmZk5sUApXI\\u002fC9QhvQNejcD0KZYtAcT0K1yOZtkDXo3A9eqTZQI\\u002fC9Shcpc5AAAAAAAB\\u002ftUBI4XoUrgdOQNejcD0KdplAhetRuB61b0B7FK5H4d6pQGZmZmZmoqZASOF6FK5\\u002fcEAzMzMz0xTSQGZmZmYmrMNAuB6F61G4NEBI4XoUrodDQD4K16NwE69AZmZmZmbztEDNzMzMzMw\\u002fQLgehesRSLFApHA9CteDgEB6FK5HIZLZQHE9CtejGJxAPgrXo7Cmv0BSuB6F6+CTQI\\u002fC9Shc64pA7FG4HoWDa0AAAAAAAOyRQClcj8J1qMRAexSuR+FKgEAAAAAAIHbCQI\\u002fC9ShcV3dAhetRuJ5aw0AAAAAAAGiMQKRwPQpXxrhAexSuR2H+qUAzMzMzM8GRQOxRuB6F7JlAmpmZmZnZVEC4HoXrUUiSQEjhehSuzLlAMzMzMzOJmEAK16NwPd6mQPYoXI9yIdVAw\\u002fUoXI\\u002fiakBI4XoUrn+IQHE9CtejcAlAmpmZmZkZN0AAAAAAALSZQGZmZmZm2qRAH4XrUXiktEAAAAAAABqZQJDC9Sh8NMVAj8L1KFwPK0BSuB6Fy\\u002fTBQKRwPQrXOZVA9ihcj8LZtEA+CtejcBGWQEjhehSOccJAXI\\u002fC9SjUakBmZmZmZoDHQClcj8L1+pJAKVyPwvVseEB7FK5H4SpvQPYoXI\\u002fCkKVA16NwPQpSt0CkcD0K162gQB+F61G4SKRAZmZmZmbzsUD2KFyPwnVDQEjhehSuM6NArkfhepROtUCQwvUoXOaqQAAAAAAA0p1AhetRuB5Fa0CuR+F6dMrEQIXrUbiePKNAw\\u002fUoXI\\u002fCLUCPwvUonBy5QJmZmZkZ6aNA4XoUrkcRqUDC9ShcXyfSQM3MzMzMzElAPQrXo7DowkCamZmZGcqmQK5H4Xr099FAFK5H4XqS0ECkcD0KVxG2QKNwPQqXQMxApHA9Ctdze0AUrkfhejySQOJ6FK5HD5VAzczMzExGs0B7FK5H4QpwQKRwPQrXn5BA7FG4HgVtqUBI4XoUTlfBQPYoXI8Ct7NAAAAAAAAAWEDiehSuxxarQAAAAAAA\\u002frFAmpmZmZkNgUBSuB6F63FAQGZmZmZmZl1AMzMzMzPrkkBI4XoUrgfBQI\\u002fC9ShcwcBAFK5H4XrceUBI4XoU7hfFQGZmZmZm\\u002fLFA9ihcj8Jkr0DXo3A9Cq68QI\\u002fC9Shc+7hAzczMzMwEqUBSuB6F6+GFQGZmZmZmUphA9ihcj6KCwEDXo3A9ym+8QM3MzMwsN8ZAcT0K1xNy2UApXI\\u002fC9YhEQEfhehRu\\u002fr1AzczMzMz8ikDXo3A9CqeDQB+F61G4gn9ASOF6FK7ZiEDD9Shcz3G1QOxRuB4lA8pAzczMzMzcjkDXo3A9irO5QD4K16Nwj4pAMzMzM7NVtUC4HoXrUfh8QOxRuB6F4qJAmpmZmZmZfkCPwvUo3EqmQIbrUbj+G8dAexSuR5Ez1EC4HoXr0QOmQHE9CtejpKhAXI\\u002fC9SikcEBSuB6Fq0fFQIbrUbgeC5ZAMzMzM0NJ0ED2KFyPwlusQClcj8L1+qdAAAAAAACsjUCPwvUoXM9UQMP1KFxPfc9AAAAAAADTwEBcj8L1KMKsQIXrUbgey41APgrXo6CF0EB7FK5HYamkQB+F61G4YJ5AuB6F61G4IkAfhetRuI6AQClcj8L1gKFAH4XrUbiea0DsUbgehZdwQM3MzMxshchAhetRuB5NZkDNzMzMDB+xQArXo3A9CixAUrgehatsx0C4HoXrUTyvQJqZmZmZNalANDMzMzN9qkBI4XoUrkc8QLgehetRWIFAAAAAAACcgECuR+F6lL+qQA==\"},\"yaxis\":\"y\",\"type\":\"scatter\"}],                        {\"template\":{\"data\":{\"histogram2dcontour\":[{\"type\":\"histogram2dcontour\",\"colorbar\":{\"outlinewidth\":0,\"ticks\":\"\"},\"colorscale\":[[0.0,\"#0d0887\"],[0.1111111111111111,\"#46039f\"],[0.2222222222222222,\"#7201a8\"],[0.3333333333333333,\"#9c179e\"],[0.4444444444444444,\"#bd3786\"],[0.5555555555555556,\"#d8576b\"],[0.6666666666666666,\"#ed7953\"],[0.7777777777777778,\"#fb9f3a\"],[0.8888888888888888,\"#fdca26\"],[1.0,\"#f0f921\"]]}],\"choropleth\":[{\"type\":\"choropleth\",\"colorbar\":{\"outlinewidth\":0,\"ticks\":\"\"}}],\"histogram2d\":[{\"type\":\"histogram2d\",\"colorbar\":{\"outlinewidth\":0,\"ticks\":\"\"},\"colorscale\":[[0.0,\"#0d0887\"],[0.1111111111111111,\"#46039f\"],[0.2222222222222222,\"#7201a8\"],[0.3333333333333333,\"#9c179e\"],[0.4444444444444444,\"#bd3786\"],[0.5555555555555556,\"#d8576b\"],[0.6666666666666666,\"#ed7953\"],[0.7777777777777778,\"#fb9f3a\"],[0.8888888888888888,\"#fdca26\"],[1.0,\"#f0f921\"]]}],\"heatmap\":[{\"type\":\"heatmap\",\"colorbar\":{\"outlinewidth\":0,\"ticks\":\"\"},\"colorscale\":[[0.0,\"#0d0887\"],[0.1111111111111111,\"#46039f\"],[0.2222222222222222,\"#7201a8\"],[0.3333333333333333,\"#9c179e\"],[0.4444444444444444,\"#bd3786\"],[0.5555555555555556,\"#d8576b\"],[0.6666666666666666,\"#ed7953\"],[0.7777777777777778,\"#fb9f3a\"],[0.8888888888888888,\"#fdca26\"],[1.0,\"#f0f921\"]]}],\"contourcarpet\":[{\"type\":\"contourcarpet\",\"colorbar\":{\"outlinewidth\":0,\"ticks\":\"\"}}],\"contour\":[{\"type\":\"contour\",\"colorbar\":{\"outlinewidth\":0,\"ticks\":\"\"},\"colorscale\":[[0.0,\"#0d0887\"],[0.1111111111111111,\"#46039f\"],[0.2222222222222222,\"#7201a8\"],[0.3333333333333333,\"#9c179e\"],[0.4444444444444444,\"#bd3786\"],[0.5555555555555556,\"#d8576b\"],[0.6666666666666666,\"#ed7953\"],[0.7777777777777778,\"#fb9f3a\"],[0.8888888888888888,\"#fdca26\"],[1.0,\"#f0f921\"]]}],\"surface\":[{\"type\":\"surface\",\"colorbar\":{\"outlinewidth\":0,\"ticks\":\"\"},\"colorscale\":[[0.0,\"#0d0887\"],[0.1111111111111111,\"#46039f\"],[0.2222222222222222,\"#7201a8\"],[0.3333333333333333,\"#9c179e\"],[0.4444444444444444,\"#bd3786\"],[0.5555555555555556,\"#d8576b\"],[0.6666666666666666,\"#ed7953\"],[0.7777777777777778,\"#fb9f3a\"],[0.8888888888888888,\"#fdca26\"],[1.0,\"#f0f921\"]]}],\"mesh3d\":[{\"type\":\"mesh3d\",\"colorbar\":{\"outlinewidth\":0,\"ticks\":\"\"}}],\"scatter\":[{\"fillpattern\":{\"fillmode\":\"overlay\",\"size\":10,\"solidity\":0.2},\"type\":\"scatter\"}],\"parcoords\":[{\"type\":\"parcoords\",\"line\":{\"colorbar\":{\"outlinewidth\":0,\"ticks\":\"\"}}}],\"scatterpolargl\":[{\"type\":\"scatterpolargl\",\"marker\":{\"colorbar\":{\"outlinewidth\":0,\"ticks\":\"\"}}}],\"bar\":[{\"error_x\":{\"color\":\"#2a3f5f\"},\"error_y\":{\"color\":\"#2a3f5f\"},\"marker\":{\"line\":{\"color\":\"#E5ECF6\",\"width\":0.5},\"pattern\":{\"fillmode\":\"overlay\",\"size\":10,\"solidity\":0.2}},\"type\":\"bar\"}],\"scattergeo\":[{\"type\":\"scattergeo\",\"marker\":{\"colorbar\":{\"outlinewidth\":0,\"ticks\":\"\"}}}],\"scatterpolar\":[{\"type\":\"scatterpolar\",\"marker\":{\"colorbar\":{\"outlinewidth\":0,\"ticks\":\"\"}}}],\"histogram\":[{\"marker\":{\"pattern\":{\"fillmode\":\"overlay\",\"size\":10,\"solidity\":0.2}},\"type\":\"histogram\"}],\"scattergl\":[{\"type\":\"scattergl\",\"marker\":{\"colorbar\":{\"outlinewidth\":0,\"ticks\":\"\"}}}],\"scatter3d\":[{\"type\":\"scatter3d\",\"line\":{\"colorbar\":{\"outlinewidth\":0,\"ticks\":\"\"}},\"marker\":{\"colorbar\":{\"outlinewidth\":0,\"ticks\":\"\"}}}],\"scattermap\":[{\"type\":\"scattermap\",\"marker\":{\"colorbar\":{\"outlinewidth\":0,\"ticks\":\"\"}}}],\"scattermapbox\":[{\"type\":\"scattermapbox\",\"marker\":{\"colorbar\":{\"outlinewidth\":0,\"ticks\":\"\"}}}],\"scatterternary\":[{\"type\":\"scatterternary\",\"marker\":{\"colorbar\":{\"outlinewidth\":0,\"ticks\":\"\"}}}],\"scattercarpet\":[{\"type\":\"scattercarpet\",\"marker\":{\"colorbar\":{\"outlinewidth\":0,\"ticks\":\"\"}}}],\"carpet\":[{\"aaxis\":{\"endlinecolor\":\"#2a3f5f\",\"gridcolor\":\"white\",\"linecolor\":\"white\",\"minorgridcolor\":\"white\",\"startlinecolor\":\"#2a3f5f\"},\"baxis\":{\"endlinecolor\":\"#2a3f5f\",\"gridcolor\":\"white\",\"linecolor\":\"white\",\"minorgridcolor\":\"white\",\"startlinecolor\":\"#2a3f5f\"},\"type\":\"carpet\"}],\"table\":[{\"cells\":{\"fill\":{\"color\":\"#EBF0F8\"},\"line\":{\"color\":\"white\"}},\"header\":{\"fill\":{\"color\":\"#C8D4E3\"},\"line\":{\"color\":\"white\"}},\"type\":\"table\"}],\"barpolar\":[{\"marker\":{\"line\":{\"color\":\"#E5ECF6\",\"width\":0.5},\"pattern\":{\"fillmode\":\"overlay\",\"size\":10,\"solidity\":0.2}},\"type\":\"barpolar\"}],\"pie\":[{\"automargin\":true,\"type\":\"pie\"}]},\"layout\":{\"autotypenumbers\":\"strict\",\"colorway\":[\"#636efa\",\"#EF553B\",\"#00cc96\",\"#ab63fa\",\"#FFA15A\",\"#19d3f3\",\"#FF6692\",\"#B6E880\",\"#FF97FF\",\"#FECB52\"],\"font\":{\"color\":\"#2a3f5f\"},\"hovermode\":\"closest\",\"hoverlabel\":{\"align\":\"left\"},\"paper_bgcolor\":\"white\",\"plot_bgcolor\":\"#E5ECF6\",\"polar\":{\"bgcolor\":\"#E5ECF6\",\"angularaxis\":{\"gridcolor\":\"white\",\"linecolor\":\"white\",\"ticks\":\"\"},\"radialaxis\":{\"gridcolor\":\"white\",\"linecolor\":\"white\",\"ticks\":\"\"}},\"ternary\":{\"bgcolor\":\"#E5ECF6\",\"aaxis\":{\"gridcolor\":\"white\",\"linecolor\":\"white\",\"ticks\":\"\"},\"baxis\":{\"gridcolor\":\"white\",\"linecolor\":\"white\",\"ticks\":\"\"},\"caxis\":{\"gridcolor\":\"white\",\"linecolor\":\"white\",\"ticks\":\"\"}},\"coloraxis\":{\"colorbar\":{\"outlinewidth\":0,\"ticks\":\"\"}},\"colorscale\":{\"sequential\":[[0.0,\"#0d0887\"],[0.1111111111111111,\"#46039f\"],[0.2222222222222222,\"#7201a8\"],[0.3333333333333333,\"#9c179e\"],[0.4444444444444444,\"#bd3786\"],[0.5555555555555556,\"#d8576b\"],[0.6666666666666666,\"#ed7953\"],[0.7777777777777778,\"#fb9f3a\"],[0.8888888888888888,\"#fdca26\"],[1.0,\"#f0f921\"]],\"sequentialminus\":[[0.0,\"#0d0887\"],[0.1111111111111111,\"#46039f\"],[0.2222222222222222,\"#7201a8\"],[0.3333333333333333,\"#9c179e\"],[0.4444444444444444,\"#bd3786\"],[0.5555555555555556,\"#d8576b\"],[0.6666666666666666,\"#ed7953\"],[0.7777777777777778,\"#fb9f3a\"],[0.8888888888888888,\"#fdca26\"],[1.0,\"#f0f921\"]],\"diverging\":[[0,\"#8e0152\"],[0.1,\"#c51b7d\"],[0.2,\"#de77ae\"],[0.3,\"#f1b6da\"],[0.4,\"#fde0ef\"],[0.5,\"#f7f7f7\"],[0.6,\"#e6f5d0\"],[0.7,\"#b8e186\"],[0.8,\"#7fbc41\"],[0.9,\"#4d9221\"],[1,\"#276419\"]]},\"xaxis\":{\"gridcolor\":\"white\",\"linecolor\":\"white\",\"ticks\":\"\",\"title\":{\"standoff\":15},\"zerolinecolor\":\"white\",\"automargin\":true,\"zerolinewidth\":2},\"yaxis\":{\"gridcolor\":\"white\",\"linecolor\":\"white\",\"ticks\":\"\",\"title\":{\"standoff\":15},\"zerolinecolor\":\"white\",\"automargin\":true,\"zerolinewidth\":2},\"scene\":{\"xaxis\":{\"backgroundcolor\":\"#E5ECF6\",\"gridcolor\":\"white\",\"linecolor\":\"white\",\"showbackground\":true,\"ticks\":\"\",\"zerolinecolor\":\"white\",\"gridwidth\":2},\"yaxis\":{\"backgroundcolor\":\"#E5ECF6\",\"gridcolor\":\"white\",\"linecolor\":\"white\",\"showbackground\":true,\"ticks\":\"\",\"zerolinecolor\":\"white\",\"gridwidth\":2},\"zaxis\":{\"backgroundcolor\":\"#E5ECF6\",\"gridcolor\":\"white\",\"linecolor\":\"white\",\"showbackground\":true,\"ticks\":\"\",\"zerolinecolor\":\"white\",\"gridwidth\":2}},\"shapedefaults\":{\"line\":{\"color\":\"#2a3f5f\"}},\"annotationdefaults\":{\"arrowcolor\":\"#2a3f5f\",\"arrowhead\":0,\"arrowwidth\":1},\"geo\":{\"bgcolor\":\"white\",\"landcolor\":\"#E5ECF6\",\"subunitcolor\":\"white\",\"showland\":true,\"showlakes\":true,\"lakecolor\":\"white\"},\"title\":{\"x\":0.05},\"mapbox\":{\"style\":\"light\"}}},\"xaxis\":{\"anchor\":\"y\",\"domain\":[0.0,1.0],\"title\":{\"text\":\"Day\"}},\"yaxis\":{\"anchor\":\"x\",\"domain\":[0.0,1.0],\"title\":{\"text\":\"TotalCost\"}},\"legend\":{\"tracegroupgap\":0},\"title\":{\"text\":\"\\u0e41\\u0e19\\u0e27\\u0e42\\u0e19\\u0e49\\u0e21\\u0e04\\u0e48\\u0e32\\u0e43\\u0e0a\\u0e49\\u0e08\\u0e48\\u0e32\\u0e22\\u0e23\\u0e32\\u0e22\\u0e40\\u0e14\\u0e37\\u0e2d\\u0e19\"}},                        {\"responsive\": true}                    ).then(function(){\n",
       "                            \n",
       "var gd = document.getElementById('61aa6d8e-51c2-4c6d-abb3-e82baed0ca28');\n",
       "var x = new MutationObserver(function (mutations, observer) {{\n",
       "        var display = window.getComputedStyle(gd).display;\n",
       "        if (!display || display === 'none') {{\n",
       "            console.log([gd, 'removed!']);\n",
       "            Plotly.purge(gd);\n",
       "            observer.disconnect();\n",
       "        }}\n",
       "}});\n",
       "\n",
       "// Listen for the removal of the full notebook cells\n",
       "var notebookContainer = gd.closest('#notebook-container');\n",
       "if (notebookContainer) {{\n",
       "    x.observe(notebookContainer, {childList: true});\n",
       "}}\n",
       "\n",
       "// Listen for the clearing of the current output cell\n",
       "var outputEl = gd.closest('.output');\n",
       "if (outputEl) {{\n",
       "    x.observe(outputEl, {childList: true});\n",
       "}}\n",
       "\n",
       "                        })                };            </script>        </div>"
      ]
     },
     "metadata": {},
     "output_type": "display_data"
    }
   ],
   "source": [
    "cost_per(df, \"Day\", \"TotalCost\")"
   ]
  },
  {
   "cell_type": "code",
   "execution_count": 95,
   "id": "807357fa-c430-4fbc-af65-6589ae119dad",
   "metadata": {},
   "outputs": [
    {
     "data": {
      "application/vnd.plotly.v1+json": {
       "config": {
        "plotlyServerURL": "https://plot.ly"
       },
       "data": [
        {
         "hovertemplate": "Supplier=%{x}<br>TotalCost=%{y}<extra></extra>",
         "legendgroup": "",
         "marker": {
          "color": "#636efa",
          "pattern": {
           "shape": ""
          }
         },
         "name": "",
         "orientation": "v",
         "showlegend": false,
         "textposition": "auto",
         "texttemplate": "%{y}",
         "type": "bar",
         "x": [
          "TechMart Inc.",
          "QuickDeliver Ltd.",
          "OfficeSupplies Co.",
          "FurniWorks Ltd.",
          "CloudSoft Corp."
         ],
         "xaxis": "x",
         "y": {
          "bdata": "uB6F6+YQFEHD9ShcpmoRQc3MzMzmSgtBKVyPwtXBCEHsUbgeTWwIQQ==",
          "dtype": "f8"
         },
         "yaxis": "y"
        }
       ],
       "layout": {
        "barmode": "relative",
        "legend": {
         "tracegroupgap": 0
        },
        "template": {
         "data": {
          "bar": [
           {
            "error_x": {
             "color": "#2a3f5f"
            },
            "error_y": {
             "color": "#2a3f5f"
            },
            "marker": {
             "line": {
              "color": "#E5ECF6",
              "width": 0.5
             },
             "pattern": {
              "fillmode": "overlay",
              "size": 10,
              "solidity": 0.2
             }
            },
            "type": "bar"
           }
          ],
          "barpolar": [
           {
            "marker": {
             "line": {
              "color": "#E5ECF6",
              "width": 0.5
             },
             "pattern": {
              "fillmode": "overlay",
              "size": 10,
              "solidity": 0.2
             }
            },
            "type": "barpolar"
           }
          ],
          "carpet": [
           {
            "aaxis": {
             "endlinecolor": "#2a3f5f",
             "gridcolor": "white",
             "linecolor": "white",
             "minorgridcolor": "white",
             "startlinecolor": "#2a3f5f"
            },
            "baxis": {
             "endlinecolor": "#2a3f5f",
             "gridcolor": "white",
             "linecolor": "white",
             "minorgridcolor": "white",
             "startlinecolor": "#2a3f5f"
            },
            "type": "carpet"
           }
          ],
          "choropleth": [
           {
            "colorbar": {
             "outlinewidth": 0,
             "ticks": ""
            },
            "type": "choropleth"
           }
          ],
          "contour": [
           {
            "colorbar": {
             "outlinewidth": 0,
             "ticks": ""
            },
            "colorscale": [
             [
              0,
              "#0d0887"
             ],
             [
              0.1111111111111111,
              "#46039f"
             ],
             [
              0.2222222222222222,
              "#7201a8"
             ],
             [
              0.3333333333333333,
              "#9c179e"
             ],
             [
              0.4444444444444444,
              "#bd3786"
             ],
             [
              0.5555555555555556,
              "#d8576b"
             ],
             [
              0.6666666666666666,
              "#ed7953"
             ],
             [
              0.7777777777777778,
              "#fb9f3a"
             ],
             [
              0.8888888888888888,
              "#fdca26"
             ],
             [
              1,
              "#f0f921"
             ]
            ],
            "type": "contour"
           }
          ],
          "contourcarpet": [
           {
            "colorbar": {
             "outlinewidth": 0,
             "ticks": ""
            },
            "type": "contourcarpet"
           }
          ],
          "heatmap": [
           {
            "colorbar": {
             "outlinewidth": 0,
             "ticks": ""
            },
            "colorscale": [
             [
              0,
              "#0d0887"
             ],
             [
              0.1111111111111111,
              "#46039f"
             ],
             [
              0.2222222222222222,
              "#7201a8"
             ],
             [
              0.3333333333333333,
              "#9c179e"
             ],
             [
              0.4444444444444444,
              "#bd3786"
             ],
             [
              0.5555555555555556,
              "#d8576b"
             ],
             [
              0.6666666666666666,
              "#ed7953"
             ],
             [
              0.7777777777777778,
              "#fb9f3a"
             ],
             [
              0.8888888888888888,
              "#fdca26"
             ],
             [
              1,
              "#f0f921"
             ]
            ],
            "type": "heatmap"
           }
          ],
          "histogram": [
           {
            "marker": {
             "pattern": {
              "fillmode": "overlay",
              "size": 10,
              "solidity": 0.2
             }
            },
            "type": "histogram"
           }
          ],
          "histogram2d": [
           {
            "colorbar": {
             "outlinewidth": 0,
             "ticks": ""
            },
            "colorscale": [
             [
              0,
              "#0d0887"
             ],
             [
              0.1111111111111111,
              "#46039f"
             ],
             [
              0.2222222222222222,
              "#7201a8"
             ],
             [
              0.3333333333333333,
              "#9c179e"
             ],
             [
              0.4444444444444444,
              "#bd3786"
             ],
             [
              0.5555555555555556,
              "#d8576b"
             ],
             [
              0.6666666666666666,
              "#ed7953"
             ],
             [
              0.7777777777777778,
              "#fb9f3a"
             ],
             [
              0.8888888888888888,
              "#fdca26"
             ],
             [
              1,
              "#f0f921"
             ]
            ],
            "type": "histogram2d"
           }
          ],
          "histogram2dcontour": [
           {
            "colorbar": {
             "outlinewidth": 0,
             "ticks": ""
            },
            "colorscale": [
             [
              0,
              "#0d0887"
             ],
             [
              0.1111111111111111,
              "#46039f"
             ],
             [
              0.2222222222222222,
              "#7201a8"
             ],
             [
              0.3333333333333333,
              "#9c179e"
             ],
             [
              0.4444444444444444,
              "#bd3786"
             ],
             [
              0.5555555555555556,
              "#d8576b"
             ],
             [
              0.6666666666666666,
              "#ed7953"
             ],
             [
              0.7777777777777778,
              "#fb9f3a"
             ],
             [
              0.8888888888888888,
              "#fdca26"
             ],
             [
              1,
              "#f0f921"
             ]
            ],
            "type": "histogram2dcontour"
           }
          ],
          "mesh3d": [
           {
            "colorbar": {
             "outlinewidth": 0,
             "ticks": ""
            },
            "type": "mesh3d"
           }
          ],
          "parcoords": [
           {
            "line": {
             "colorbar": {
              "outlinewidth": 0,
              "ticks": ""
             }
            },
            "type": "parcoords"
           }
          ],
          "pie": [
           {
            "automargin": true,
            "type": "pie"
           }
          ],
          "scatter": [
           {
            "fillpattern": {
             "fillmode": "overlay",
             "size": 10,
             "solidity": 0.2
            },
            "type": "scatter"
           }
          ],
          "scatter3d": [
           {
            "line": {
             "colorbar": {
              "outlinewidth": 0,
              "ticks": ""
             }
            },
            "marker": {
             "colorbar": {
              "outlinewidth": 0,
              "ticks": ""
             }
            },
            "type": "scatter3d"
           }
          ],
          "scattercarpet": [
           {
            "marker": {
             "colorbar": {
              "outlinewidth": 0,
              "ticks": ""
             }
            },
            "type": "scattercarpet"
           }
          ],
          "scattergeo": [
           {
            "marker": {
             "colorbar": {
              "outlinewidth": 0,
              "ticks": ""
             }
            },
            "type": "scattergeo"
           }
          ],
          "scattergl": [
           {
            "marker": {
             "colorbar": {
              "outlinewidth": 0,
              "ticks": ""
             }
            },
            "type": "scattergl"
           }
          ],
          "scattermap": [
           {
            "marker": {
             "colorbar": {
              "outlinewidth": 0,
              "ticks": ""
             }
            },
            "type": "scattermap"
           }
          ],
          "scattermapbox": [
           {
            "marker": {
             "colorbar": {
              "outlinewidth": 0,
              "ticks": ""
             }
            },
            "type": "scattermapbox"
           }
          ],
          "scatterpolar": [
           {
            "marker": {
             "colorbar": {
              "outlinewidth": 0,
              "ticks": ""
             }
            },
            "type": "scatterpolar"
           }
          ],
          "scatterpolargl": [
           {
            "marker": {
             "colorbar": {
              "outlinewidth": 0,
              "ticks": ""
             }
            },
            "type": "scatterpolargl"
           }
          ],
          "scatterternary": [
           {
            "marker": {
             "colorbar": {
              "outlinewidth": 0,
              "ticks": ""
             }
            },
            "type": "scatterternary"
           }
          ],
          "surface": [
           {
            "colorbar": {
             "outlinewidth": 0,
             "ticks": ""
            },
            "colorscale": [
             [
              0,
              "#0d0887"
             ],
             [
              0.1111111111111111,
              "#46039f"
             ],
             [
              0.2222222222222222,
              "#7201a8"
             ],
             [
              0.3333333333333333,
              "#9c179e"
             ],
             [
              0.4444444444444444,
              "#bd3786"
             ],
             [
              0.5555555555555556,
              "#d8576b"
             ],
             [
              0.6666666666666666,
              "#ed7953"
             ],
             [
              0.7777777777777778,
              "#fb9f3a"
             ],
             [
              0.8888888888888888,
              "#fdca26"
             ],
             [
              1,
              "#f0f921"
             ]
            ],
            "type": "surface"
           }
          ],
          "table": [
           {
            "cells": {
             "fill": {
              "color": "#EBF0F8"
             },
             "line": {
              "color": "white"
             }
            },
            "header": {
             "fill": {
              "color": "#C8D4E3"
             },
             "line": {
              "color": "white"
             }
            },
            "type": "table"
           }
          ]
         },
         "layout": {
          "annotationdefaults": {
           "arrowcolor": "#2a3f5f",
           "arrowhead": 0,
           "arrowwidth": 1
          },
          "autotypenumbers": "strict",
          "coloraxis": {
           "colorbar": {
            "outlinewidth": 0,
            "ticks": ""
           }
          },
          "colorscale": {
           "diverging": [
            [
             0,
             "#8e0152"
            ],
            [
             0.1,
             "#c51b7d"
            ],
            [
             0.2,
             "#de77ae"
            ],
            [
             0.3,
             "#f1b6da"
            ],
            [
             0.4,
             "#fde0ef"
            ],
            [
             0.5,
             "#f7f7f7"
            ],
            [
             0.6,
             "#e6f5d0"
            ],
            [
             0.7,
             "#b8e186"
            ],
            [
             0.8,
             "#7fbc41"
            ],
            [
             0.9,
             "#4d9221"
            ],
            [
             1,
             "#276419"
            ]
           ],
           "sequential": [
            [
             0,
             "#0d0887"
            ],
            [
             0.1111111111111111,
             "#46039f"
            ],
            [
             0.2222222222222222,
             "#7201a8"
            ],
            [
             0.3333333333333333,
             "#9c179e"
            ],
            [
             0.4444444444444444,
             "#bd3786"
            ],
            [
             0.5555555555555556,
             "#d8576b"
            ],
            [
             0.6666666666666666,
             "#ed7953"
            ],
            [
             0.7777777777777778,
             "#fb9f3a"
            ],
            [
             0.8888888888888888,
             "#fdca26"
            ],
            [
             1,
             "#f0f921"
            ]
           ],
           "sequentialminus": [
            [
             0,
             "#0d0887"
            ],
            [
             0.1111111111111111,
             "#46039f"
            ],
            [
             0.2222222222222222,
             "#7201a8"
            ],
            [
             0.3333333333333333,
             "#9c179e"
            ],
            [
             0.4444444444444444,
             "#bd3786"
            ],
            [
             0.5555555555555556,
             "#d8576b"
            ],
            [
             0.6666666666666666,
             "#ed7953"
            ],
            [
             0.7777777777777778,
             "#fb9f3a"
            ],
            [
             0.8888888888888888,
             "#fdca26"
            ],
            [
             1,
             "#f0f921"
            ]
           ]
          },
          "colorway": [
           "#636efa",
           "#EF553B",
           "#00cc96",
           "#ab63fa",
           "#FFA15A",
           "#19d3f3",
           "#FF6692",
           "#B6E880",
           "#FF97FF",
           "#FECB52"
          ],
          "font": {
           "color": "#2a3f5f"
          },
          "geo": {
           "bgcolor": "white",
           "lakecolor": "white",
           "landcolor": "#E5ECF6",
           "showlakes": true,
           "showland": true,
           "subunitcolor": "white"
          },
          "hoverlabel": {
           "align": "left"
          },
          "hovermode": "closest",
          "mapbox": {
           "style": "light"
          },
          "paper_bgcolor": "white",
          "plot_bgcolor": "#E5ECF6",
          "polar": {
           "angularaxis": {
            "gridcolor": "white",
            "linecolor": "white",
            "ticks": ""
           },
           "bgcolor": "#E5ECF6",
           "radialaxis": {
            "gridcolor": "white",
            "linecolor": "white",
            "ticks": ""
           }
          },
          "scene": {
           "xaxis": {
            "backgroundcolor": "#E5ECF6",
            "gridcolor": "white",
            "gridwidth": 2,
            "linecolor": "white",
            "showbackground": true,
            "ticks": "",
            "zerolinecolor": "white"
           },
           "yaxis": {
            "backgroundcolor": "#E5ECF6",
            "gridcolor": "white",
            "gridwidth": 2,
            "linecolor": "white",
            "showbackground": true,
            "ticks": "",
            "zerolinecolor": "white"
           },
           "zaxis": {
            "backgroundcolor": "#E5ECF6",
            "gridcolor": "white",
            "gridwidth": 2,
            "linecolor": "white",
            "showbackground": true,
            "ticks": "",
            "zerolinecolor": "white"
           }
          },
          "shapedefaults": {
           "line": {
            "color": "#2a3f5f"
           }
          },
          "ternary": {
           "aaxis": {
            "gridcolor": "white",
            "linecolor": "white",
            "ticks": ""
           },
           "baxis": {
            "gridcolor": "white",
            "linecolor": "white",
            "ticks": ""
           },
           "bgcolor": "#E5ECF6",
           "caxis": {
            "gridcolor": "white",
            "linecolor": "white",
            "ticks": ""
           }
          },
          "title": {
           "x": 0.05
          },
          "xaxis": {
           "automargin": true,
           "gridcolor": "white",
           "linecolor": "white",
           "ticks": "",
           "title": {
            "standoff": 15
           },
           "zerolinecolor": "white",
           "zerolinewidth": 2
          },
          "yaxis": {
           "automargin": true,
           "gridcolor": "white",
           "linecolor": "white",
           "ticks": "",
           "title": {
            "standoff": 15
           },
           "zerolinecolor": "white",
           "zerolinewidth": 2
          }
         }
        },
        "title": {
         "text": "Top 10 สินค้าที่ใช้จ่ายมากที่สุด"
        },
        "xaxis": {
         "anchor": "y",
         "domain": [
          0,
          1
         ],
         "title": {
          "text": "Supplier"
         }
        },
        "yaxis": {
         "anchor": "x",
         "domain": [
          0,
          1
         ],
         "title": {
          "text": "TotalCost"
         }
        }
       }
      },
      "text/html": [
       "<div>            <script src=\"https://cdnjs.cloudflare.com/ajax/libs/mathjax/2.7.5/MathJax.js?config=TeX-AMS-MML_SVG\"></script><script type=\"text/javascript\">if (window.MathJax && window.MathJax.Hub && window.MathJax.Hub.Config) {window.MathJax.Hub.Config({SVG: {font: \"STIX-Web\"}});}</script>                <script type=\"text/javascript\">window.PlotlyConfig = {MathJaxConfig: 'local'};</script>\n",
       "        <script charset=\"utf-8\" src=\"https://cdn.plot.ly/plotly-3.0.1.min.js\"></script>                <div id=\"6e8b9cfe-b8c9-4602-95da-e4ef67cc7dbd\" class=\"plotly-graph-div\" style=\"height:525px; width:100%;\"></div>            <script type=\"text/javascript\">                window.PLOTLYENV=window.PLOTLYENV || {};                                if (document.getElementById(\"6e8b9cfe-b8c9-4602-95da-e4ef67cc7dbd\")) {                    Plotly.newPlot(                        \"6e8b9cfe-b8c9-4602-95da-e4ef67cc7dbd\",                        [{\"hovertemplate\":\"Supplier=%{x}\\u003cbr\\u003eTotalCost=%{y}\\u003cextra\\u003e\\u003c\\u002fextra\\u003e\",\"legendgroup\":\"\",\"marker\":{\"color\":\"#636efa\",\"pattern\":{\"shape\":\"\"}},\"name\":\"\",\"orientation\":\"v\",\"showlegend\":false,\"textposition\":\"auto\",\"texttemplate\":\"%{y}\",\"x\":[\"TechMart Inc.\",\"QuickDeliver Ltd.\",\"OfficeSupplies Co.\",\"FurniWorks Ltd.\",\"CloudSoft Corp.\"],\"xaxis\":\"x\",\"y\":{\"dtype\":\"f8\",\"bdata\":\"uB6F6+YQFEHD9ShcpmoRQc3MzMzmSgtBKVyPwtXBCEHsUbgeTWwIQQ==\"},\"yaxis\":\"y\",\"type\":\"bar\"}],                        {\"template\":{\"data\":{\"histogram2dcontour\":[{\"type\":\"histogram2dcontour\",\"colorbar\":{\"outlinewidth\":0,\"ticks\":\"\"},\"colorscale\":[[0.0,\"#0d0887\"],[0.1111111111111111,\"#46039f\"],[0.2222222222222222,\"#7201a8\"],[0.3333333333333333,\"#9c179e\"],[0.4444444444444444,\"#bd3786\"],[0.5555555555555556,\"#d8576b\"],[0.6666666666666666,\"#ed7953\"],[0.7777777777777778,\"#fb9f3a\"],[0.8888888888888888,\"#fdca26\"],[1.0,\"#f0f921\"]]}],\"choropleth\":[{\"type\":\"choropleth\",\"colorbar\":{\"outlinewidth\":0,\"ticks\":\"\"}}],\"histogram2d\":[{\"type\":\"histogram2d\",\"colorbar\":{\"outlinewidth\":0,\"ticks\":\"\"},\"colorscale\":[[0.0,\"#0d0887\"],[0.1111111111111111,\"#46039f\"],[0.2222222222222222,\"#7201a8\"],[0.3333333333333333,\"#9c179e\"],[0.4444444444444444,\"#bd3786\"],[0.5555555555555556,\"#d8576b\"],[0.6666666666666666,\"#ed7953\"],[0.7777777777777778,\"#fb9f3a\"],[0.8888888888888888,\"#fdca26\"],[1.0,\"#f0f921\"]]}],\"heatmap\":[{\"type\":\"heatmap\",\"colorbar\":{\"outlinewidth\":0,\"ticks\":\"\"},\"colorscale\":[[0.0,\"#0d0887\"],[0.1111111111111111,\"#46039f\"],[0.2222222222222222,\"#7201a8\"],[0.3333333333333333,\"#9c179e\"],[0.4444444444444444,\"#bd3786\"],[0.5555555555555556,\"#d8576b\"],[0.6666666666666666,\"#ed7953\"],[0.7777777777777778,\"#fb9f3a\"],[0.8888888888888888,\"#fdca26\"],[1.0,\"#f0f921\"]]}],\"contourcarpet\":[{\"type\":\"contourcarpet\",\"colorbar\":{\"outlinewidth\":0,\"ticks\":\"\"}}],\"contour\":[{\"type\":\"contour\",\"colorbar\":{\"outlinewidth\":0,\"ticks\":\"\"},\"colorscale\":[[0.0,\"#0d0887\"],[0.1111111111111111,\"#46039f\"],[0.2222222222222222,\"#7201a8\"],[0.3333333333333333,\"#9c179e\"],[0.4444444444444444,\"#bd3786\"],[0.5555555555555556,\"#d8576b\"],[0.6666666666666666,\"#ed7953\"],[0.7777777777777778,\"#fb9f3a\"],[0.8888888888888888,\"#fdca26\"],[1.0,\"#f0f921\"]]}],\"surface\":[{\"type\":\"surface\",\"colorbar\":{\"outlinewidth\":0,\"ticks\":\"\"},\"colorscale\":[[0.0,\"#0d0887\"],[0.1111111111111111,\"#46039f\"],[0.2222222222222222,\"#7201a8\"],[0.3333333333333333,\"#9c179e\"],[0.4444444444444444,\"#bd3786\"],[0.5555555555555556,\"#d8576b\"],[0.6666666666666666,\"#ed7953\"],[0.7777777777777778,\"#fb9f3a\"],[0.8888888888888888,\"#fdca26\"],[1.0,\"#f0f921\"]]}],\"mesh3d\":[{\"type\":\"mesh3d\",\"colorbar\":{\"outlinewidth\":0,\"ticks\":\"\"}}],\"scatter\":[{\"fillpattern\":{\"fillmode\":\"overlay\",\"size\":10,\"solidity\":0.2},\"type\":\"scatter\"}],\"parcoords\":[{\"type\":\"parcoords\",\"line\":{\"colorbar\":{\"outlinewidth\":0,\"ticks\":\"\"}}}],\"scatterpolargl\":[{\"type\":\"scatterpolargl\",\"marker\":{\"colorbar\":{\"outlinewidth\":0,\"ticks\":\"\"}}}],\"bar\":[{\"error_x\":{\"color\":\"#2a3f5f\"},\"error_y\":{\"color\":\"#2a3f5f\"},\"marker\":{\"line\":{\"color\":\"#E5ECF6\",\"width\":0.5},\"pattern\":{\"fillmode\":\"overlay\",\"size\":10,\"solidity\":0.2}},\"type\":\"bar\"}],\"scattergeo\":[{\"type\":\"scattergeo\",\"marker\":{\"colorbar\":{\"outlinewidth\":0,\"ticks\":\"\"}}}],\"scatterpolar\":[{\"type\":\"scatterpolar\",\"marker\":{\"colorbar\":{\"outlinewidth\":0,\"ticks\":\"\"}}}],\"histogram\":[{\"marker\":{\"pattern\":{\"fillmode\":\"overlay\",\"size\":10,\"solidity\":0.2}},\"type\":\"histogram\"}],\"scattergl\":[{\"type\":\"scattergl\",\"marker\":{\"colorbar\":{\"outlinewidth\":0,\"ticks\":\"\"}}}],\"scatter3d\":[{\"type\":\"scatter3d\",\"line\":{\"colorbar\":{\"outlinewidth\":0,\"ticks\":\"\"}},\"marker\":{\"colorbar\":{\"outlinewidth\":0,\"ticks\":\"\"}}}],\"scattermap\":[{\"type\":\"scattermap\",\"marker\":{\"colorbar\":{\"outlinewidth\":0,\"ticks\":\"\"}}}],\"scattermapbox\":[{\"type\":\"scattermapbox\",\"marker\":{\"colorbar\":{\"outlinewidth\":0,\"ticks\":\"\"}}}],\"scatterternary\":[{\"type\":\"scatterternary\",\"marker\":{\"colorbar\":{\"outlinewidth\":0,\"ticks\":\"\"}}}],\"scattercarpet\":[{\"type\":\"scattercarpet\",\"marker\":{\"colorbar\":{\"outlinewidth\":0,\"ticks\":\"\"}}}],\"carpet\":[{\"aaxis\":{\"endlinecolor\":\"#2a3f5f\",\"gridcolor\":\"white\",\"linecolor\":\"white\",\"minorgridcolor\":\"white\",\"startlinecolor\":\"#2a3f5f\"},\"baxis\":{\"endlinecolor\":\"#2a3f5f\",\"gridcolor\":\"white\",\"linecolor\":\"white\",\"minorgridcolor\":\"white\",\"startlinecolor\":\"#2a3f5f\"},\"type\":\"carpet\"}],\"table\":[{\"cells\":{\"fill\":{\"color\":\"#EBF0F8\"},\"line\":{\"color\":\"white\"}},\"header\":{\"fill\":{\"color\":\"#C8D4E3\"},\"line\":{\"color\":\"white\"}},\"type\":\"table\"}],\"barpolar\":[{\"marker\":{\"line\":{\"color\":\"#E5ECF6\",\"width\":0.5},\"pattern\":{\"fillmode\":\"overlay\",\"size\":10,\"solidity\":0.2}},\"type\":\"barpolar\"}],\"pie\":[{\"automargin\":true,\"type\":\"pie\"}]},\"layout\":{\"autotypenumbers\":\"strict\",\"colorway\":[\"#636efa\",\"#EF553B\",\"#00cc96\",\"#ab63fa\",\"#FFA15A\",\"#19d3f3\",\"#FF6692\",\"#B6E880\",\"#FF97FF\",\"#FECB52\"],\"font\":{\"color\":\"#2a3f5f\"},\"hovermode\":\"closest\",\"hoverlabel\":{\"align\":\"left\"},\"paper_bgcolor\":\"white\",\"plot_bgcolor\":\"#E5ECF6\",\"polar\":{\"bgcolor\":\"#E5ECF6\",\"angularaxis\":{\"gridcolor\":\"white\",\"linecolor\":\"white\",\"ticks\":\"\"},\"radialaxis\":{\"gridcolor\":\"white\",\"linecolor\":\"white\",\"ticks\":\"\"}},\"ternary\":{\"bgcolor\":\"#E5ECF6\",\"aaxis\":{\"gridcolor\":\"white\",\"linecolor\":\"white\",\"ticks\":\"\"},\"baxis\":{\"gridcolor\":\"white\",\"linecolor\":\"white\",\"ticks\":\"\"},\"caxis\":{\"gridcolor\":\"white\",\"linecolor\":\"white\",\"ticks\":\"\"}},\"coloraxis\":{\"colorbar\":{\"outlinewidth\":0,\"ticks\":\"\"}},\"colorscale\":{\"sequential\":[[0.0,\"#0d0887\"],[0.1111111111111111,\"#46039f\"],[0.2222222222222222,\"#7201a8\"],[0.3333333333333333,\"#9c179e\"],[0.4444444444444444,\"#bd3786\"],[0.5555555555555556,\"#d8576b\"],[0.6666666666666666,\"#ed7953\"],[0.7777777777777778,\"#fb9f3a\"],[0.8888888888888888,\"#fdca26\"],[1.0,\"#f0f921\"]],\"sequentialminus\":[[0.0,\"#0d0887\"],[0.1111111111111111,\"#46039f\"],[0.2222222222222222,\"#7201a8\"],[0.3333333333333333,\"#9c179e\"],[0.4444444444444444,\"#bd3786\"],[0.5555555555555556,\"#d8576b\"],[0.6666666666666666,\"#ed7953\"],[0.7777777777777778,\"#fb9f3a\"],[0.8888888888888888,\"#fdca26\"],[1.0,\"#f0f921\"]],\"diverging\":[[0,\"#8e0152\"],[0.1,\"#c51b7d\"],[0.2,\"#de77ae\"],[0.3,\"#f1b6da\"],[0.4,\"#fde0ef\"],[0.5,\"#f7f7f7\"],[0.6,\"#e6f5d0\"],[0.7,\"#b8e186\"],[0.8,\"#7fbc41\"],[0.9,\"#4d9221\"],[1,\"#276419\"]]},\"xaxis\":{\"gridcolor\":\"white\",\"linecolor\":\"white\",\"ticks\":\"\",\"title\":{\"standoff\":15},\"zerolinecolor\":\"white\",\"automargin\":true,\"zerolinewidth\":2},\"yaxis\":{\"gridcolor\":\"white\",\"linecolor\":\"white\",\"ticks\":\"\",\"title\":{\"standoff\":15},\"zerolinecolor\":\"white\",\"automargin\":true,\"zerolinewidth\":2},\"scene\":{\"xaxis\":{\"backgroundcolor\":\"#E5ECF6\",\"gridcolor\":\"white\",\"linecolor\":\"white\",\"showbackground\":true,\"ticks\":\"\",\"zerolinecolor\":\"white\",\"gridwidth\":2},\"yaxis\":{\"backgroundcolor\":\"#E5ECF6\",\"gridcolor\":\"white\",\"linecolor\":\"white\",\"showbackground\":true,\"ticks\":\"\",\"zerolinecolor\":\"white\",\"gridwidth\":2},\"zaxis\":{\"backgroundcolor\":\"#E5ECF6\",\"gridcolor\":\"white\",\"linecolor\":\"white\",\"showbackground\":true,\"ticks\":\"\",\"zerolinecolor\":\"white\",\"gridwidth\":2}},\"shapedefaults\":{\"line\":{\"color\":\"#2a3f5f\"}},\"annotationdefaults\":{\"arrowcolor\":\"#2a3f5f\",\"arrowhead\":0,\"arrowwidth\":1},\"geo\":{\"bgcolor\":\"white\",\"landcolor\":\"#E5ECF6\",\"subunitcolor\":\"white\",\"showland\":true,\"showlakes\":true,\"lakecolor\":\"white\"},\"title\":{\"x\":0.05},\"mapbox\":{\"style\":\"light\"}}},\"xaxis\":{\"anchor\":\"y\",\"domain\":[0.0,1.0],\"title\":{\"text\":\"Supplier\"}},\"yaxis\":{\"anchor\":\"x\",\"domain\":[0.0,1.0],\"title\":{\"text\":\"TotalCost\"}},\"legend\":{\"tracegroupgap\":0},\"title\":{\"text\":\"Top 10 \\u0e2a\\u0e34\\u0e19\\u0e04\\u0e49\\u0e32\\u0e17\\u0e35\\u0e48\\u0e43\\u0e0a\\u0e49\\u0e08\\u0e48\\u0e32\\u0e22\\u0e21\\u0e32\\u0e01\\u0e17\\u0e35\\u0e48\\u0e2a\\u0e38\\u0e14\"},\"barmode\":\"relative\"},                        {\"responsive\": true}                    ).then(function(){\n",
       "                            \n",
       "var gd = document.getElementById('6e8b9cfe-b8c9-4602-95da-e4ef67cc7dbd');\n",
       "var x = new MutationObserver(function (mutations, observer) {{\n",
       "        var display = window.getComputedStyle(gd).display;\n",
       "        if (!display || display === 'none') {{\n",
       "            console.log([gd, 'removed!']);\n",
       "            Plotly.purge(gd);\n",
       "            observer.disconnect();\n",
       "        }}\n",
       "}});\n",
       "\n",
       "// Listen for the removal of the full notebook cells\n",
       "var notebookContainer = gd.closest('#notebook-container');\n",
       "if (notebookContainer) {{\n",
       "    x.observe(notebookContainer, {childList: true});\n",
       "}}\n",
       "\n",
       "// Listen for the clearing of the current output cell\n",
       "var outputEl = gd.closest('.output');\n",
       "if (outputEl) {{\n",
       "    x.observe(outputEl, {childList: true});\n",
       "}}\n",
       "\n",
       "                        })                };            </script>        </div>"
      ]
     },
     "metadata": {},
     "output_type": "display_data"
    }
   ],
   "source": [
    "top_10(df, 'Supplier','TotalCost')"
   ]
  },
  {
   "cell_type": "code",
   "execution_count": 96,
   "id": "12c6e070-4b7e-4933-a2af-471aacb1fb09",
   "metadata": {},
   "outputs": [
    {
     "data": {
      "application/vnd.plotly.v1+json": {
       "config": {
        "plotlyServerURL": "https://plot.ly"
       },
       "data": [
        {
         "alignmentgroup": "True",
         "hovertemplate": "Category=%{x}<br>UnitPrice=%{y}<extra></extra>",
         "legendgroup": "",
         "marker": {
          "color": "#636efa"
         },
         "name": "",
         "notched": false,
         "offsetgroup": "",
         "orientation": "v",
         "showlegend": false,
         "type": "box",
         "x": [
          "Furniture",
          "Office Supplies",
          "Software",
          "Stationery",
          "Stationery",
          "Electronics",
          "Stationery",
          "Stationery",
          "Stationery",
          "Furniture",
          "Software",
          "Stationery",
          "Office Supplies",
          "Furniture",
          "Stationery",
          "Electronics",
          "Accessories",
          "Accessories",
          "Electronics",
          "Electronics",
          "Office Supplies",
          "Electronics",
          "Furniture",
          "Furniture",
          "Stationery",
          "Furniture",
          "Software",
          "Furniture",
          "Accessories",
          "Electronics",
          "Electronics",
          "Software",
          "Electronics",
          "Furniture",
          "Software",
          "Stationery",
          "Stationery",
          "Furniture",
          "Electronics",
          "Electronics",
          "Stationery",
          "Furniture",
          "Electronics",
          "Office Supplies",
          "Electronics",
          "Office Supplies",
          "Electronics",
          "Stationery",
          "Office Supplies",
          "Furniture",
          "Furniture",
          "Electronics",
          "Electronics",
          "Electronics",
          "Furniture",
          "Furniture",
          "Accessories",
          "Stationery",
          "Furniture",
          "Electronics",
          "Electronics",
          "Electronics",
          "Furniture",
          "Office Supplies",
          "Office Supplies",
          "Electronics",
          "Stationery",
          "Furniture",
          "Stationery",
          "Furniture",
          "Office Supplies",
          "Stationery",
          "Electronics",
          "Accessories",
          "Office Supplies",
          "Electronics",
          "Electronics",
          "Stationery",
          "Stationery",
          "Electronics",
          "Electronics",
          "Office Supplies",
          "Software",
          "Software",
          "Furniture",
          "Furniture",
          "Furniture",
          "Software",
          "Furniture",
          "Electronics",
          "Furniture",
          "Office Supplies",
          "Electronics",
          "Electronics",
          "Furniture",
          "Furniture",
          "Furniture",
          "Accessories",
          "Software",
          "Accessories",
          "Accessories",
          "Electronics",
          "Software",
          "Stationery",
          "Electronics",
          "Furniture",
          "Furniture",
          "Accessories",
          "Electronics",
          "Furniture",
          "Accessories",
          "Software",
          "Office Supplies",
          "Stationery",
          "Furniture",
          "Furniture",
          "Electronics",
          "Stationery",
          "Office Supplies",
          "Accessories",
          "Software",
          "Furniture",
          "Office Supplies",
          "Stationery",
          "Furniture",
          "Electronics",
          "Stationery",
          "Office Supplies",
          "Stationery",
          "Accessories",
          "Electronics",
          "Office Supplies",
          "Software",
          "Electronics",
          "Furniture",
          "Stationery",
          "Electronics",
          "Accessories",
          "Electronics",
          "Stationery",
          "Software",
          "Software",
          "Office Supplies",
          "Accessories",
          "Furniture",
          "Furniture",
          "Furniture",
          "Furniture",
          "Electronics",
          "Software",
          "Accessories",
          "Software",
          "Electronics",
          "Accessories",
          "Accessories",
          "Stationery",
          "Software",
          "Stationery",
          "Electronics",
          "Furniture",
          "Office Supplies",
          "Office Supplies",
          "Stationery",
          "Software",
          "Electronics",
          "Electronics",
          "Accessories",
          "Accessories",
          "Electronics",
          "Electronics",
          "Furniture",
          "Furniture",
          "Furniture",
          "Accessories",
          "Software",
          "Electronics",
          "Stationery",
          "Office Supplies",
          "Furniture",
          "Electronics",
          "Electronics",
          "Stationery",
          "Furniture",
          "Software",
          "Furniture",
          "Stationery",
          "Electronics",
          "Furniture",
          "Electronics",
          "Stationery",
          "Furniture",
          "Stationery",
          "Accessories",
          "Electronics",
          "Software",
          "Furniture",
          "Office Supplies",
          "Stationery",
          "Furniture",
          "Electronics",
          "Office Supplies",
          "Stationery",
          "Office Supplies",
          "Stationery",
          "Office Supplies",
          "Furniture",
          "Stationery",
          "Office Supplies",
          "Furniture",
          "Electronics",
          "Office Supplies",
          "Office Supplies",
          "Furniture",
          "Furniture",
          "Stationery",
          "Furniture",
          "Stationery",
          "Stationery",
          "Office Supplies",
          "Electronics",
          "Electronics",
          "Electronics",
          "Software",
          "Stationery",
          "Office Supplies",
          "Electronics",
          "Accessories",
          "Furniture",
          "Furniture",
          "Electronics",
          "Stationery",
          "Electronics",
          "Office Supplies",
          "Office Supplies",
          "Office Supplies",
          "Accessories",
          "Furniture",
          "Electronics",
          "Electronics",
          "Stationery",
          "Stationery",
          "Accessories",
          "Furniture",
          "Stationery",
          "Accessories",
          "Electronics",
          "Stationery",
          "Furniture",
          "Stationery",
          "Furniture",
          "Office Supplies",
          "Electronics",
          "Software",
          "Office Supplies",
          "Furniture",
          "Electronics",
          "Furniture",
          "Office Supplies",
          "Furniture",
          "Electronics",
          "Electronics",
          "Furniture",
          "Electronics",
          "Furniture",
          "Accessories",
          "Electronics",
          "Accessories",
          "Furniture",
          "Electronics",
          "Office Supplies",
          "Furniture",
          "Electronics",
          "Accessories",
          "Furniture",
          "Office Supplies",
          "Stationery",
          "Electronics",
          "Electronics",
          "Stationery",
          "Electronics",
          "Software",
          "Electronics",
          "Furniture",
          "Stationery",
          "Electronics",
          "Software",
          "Furniture",
          "Office Supplies",
          "Furniture",
          "Electronics",
          "Electronics",
          "Accessories",
          "Stationery",
          "Electronics",
          "Accessories",
          "Furniture",
          "Software",
          "Software",
          "Stationery",
          "Electronics",
          "Electronics",
          "Electronics",
          "Accessories",
          "Electronics",
          "Office Supplies",
          "Electronics",
          "Software",
          "Stationery",
          "Electronics",
          "Accessories",
          "Accessories",
          "Electronics",
          "Furniture",
          "Software",
          "Office Supplies",
          "Electronics",
          "Stationery",
          "Furniture",
          "Furniture",
          "Stationery",
          "Electronics",
          "Electronics",
          "Stationery",
          "Stationery",
          "Software",
          "Stationery",
          "Furniture",
          "Electronics",
          "Accessories",
          "Software",
          "Stationery",
          "Accessories",
          "Electronics",
          "Furniture",
          "Electronics",
          "Electronics",
          "Office Supplies",
          "Electronics",
          "Software",
          "Stationery",
          "Software",
          "Furniture",
          "Office Supplies",
          "Accessories",
          "Accessories",
          "Furniture",
          "Furniture",
          "Electronics",
          "Electronics",
          "Office Supplies",
          "Furniture",
          "Furniture",
          "Stationery",
          "Electronics",
          "Furniture",
          "Stationery",
          "Furniture",
          "Electronics",
          "Furniture",
          "Furniture",
          "Electronics",
          "Accessories",
          "Accessories",
          "Accessories",
          "Electronics",
          "Electronics",
          "Electronics",
          "Electronics",
          "Electronics",
          "Office Supplies",
          "Furniture",
          "Stationery",
          "Stationery",
          "Furniture",
          "Stationery",
          "Electronics",
          "Electronics",
          "Furniture",
          "Office Supplies",
          "Electronics",
          "Software",
          "Electronics",
          "Electronics",
          "Electronics",
          "Furniture",
          "Electronics",
          "Electronics",
          "Software",
          "Accessories",
          "Electronics",
          "Office Supplies",
          "Stationery",
          "Furniture",
          "Electronics",
          "Software",
          "Electronics",
          "Furniture",
          "Furniture",
          "Stationery",
          "Electronics",
          "Accessories",
          "Electronics",
          "Office Supplies",
          "Electronics",
          "Software",
          "Electronics",
          "Stationery",
          "Electronics",
          "Accessories",
          "Stationery",
          "Electronics",
          "Electronics",
          "Furniture",
          "Electronics",
          "Office Supplies",
          "Office Supplies",
          "Stationery",
          "Electronics",
          "Furniture",
          "Electronics",
          "Electronics",
          "Office Supplies",
          "Accessories",
          "Stationery",
          "Stationery",
          "Stationery",
          "Software",
          "Accessories",
          "Accessories",
          "Electronics",
          "Software",
          "Furniture",
          "Office Supplies",
          "Software",
          "Electronics",
          "Electronics",
          "Electronics",
          "Electronics",
          "Stationery",
          "Electronics",
          "Office Supplies",
          "Electronics",
          "Electronics",
          "Furniture",
          "Furniture",
          "Electronics",
          "Software",
          "Stationery",
          "Accessories",
          "Software",
          "Accessories",
          "Electronics",
          "Office Supplies",
          "Office Supplies",
          "Accessories",
          "Accessories",
          "Electronics",
          "Electronics",
          "Software",
          "Electronics",
          "Stationery",
          "Accessories",
          "Stationery",
          "Stationery",
          "Office Supplies",
          "Furniture",
          "Stationery",
          "Electronics",
          "Furniture",
          "Office Supplies",
          "Stationery",
          "Electronics",
          "Software",
          "Stationery",
          "Stationery",
          "Software",
          "Accessories",
          "Stationery",
          "Office Supplies",
          "Stationery",
          "Office Supplies",
          "Electronics",
          "Electronics",
          "Stationery",
          "Electronics",
          "Accessories",
          "Stationery",
          "Electronics",
          "Electronics",
          "Stationery",
          "Accessories",
          "Accessories",
          "Accessories",
          "Stationery",
          "Electronics",
          "Furniture",
          "Electronics",
          "Stationery",
          "Furniture",
          "Office Supplies"
         ],
         "x0": " ",
         "xaxis": "x",
         "y": {
          "bdata": "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",
          "dtype": "f8"
         },
         "y0": " ",
         "yaxis": "y"
        }
       ],
       "layout": {
        "boxmode": "group",
        "legend": {
         "tracegroupgap": 0
        },
        "template": {
         "data": {
          "bar": [
           {
            "error_x": {
             "color": "#2a3f5f"
            },
            "error_y": {
             "color": "#2a3f5f"
            },
            "marker": {
             "line": {
              "color": "#E5ECF6",
              "width": 0.5
             },
             "pattern": {
              "fillmode": "overlay",
              "size": 10,
              "solidity": 0.2
             }
            },
            "type": "bar"
           }
          ],
          "barpolar": [
           {
            "marker": {
             "line": {
              "color": "#E5ECF6",
              "width": 0.5
             },
             "pattern": {
              "fillmode": "overlay",
              "size": 10,
              "solidity": 0.2
             }
            },
            "type": "barpolar"
           }
          ],
          "carpet": [
           {
            "aaxis": {
             "endlinecolor": "#2a3f5f",
             "gridcolor": "white",
             "linecolor": "white",
             "minorgridcolor": "white",
             "startlinecolor": "#2a3f5f"
            },
            "baxis": {
             "endlinecolor": "#2a3f5f",
             "gridcolor": "white",
             "linecolor": "white",
             "minorgridcolor": "white",
             "startlinecolor": "#2a3f5f"
            },
            "type": "carpet"
           }
          ],
          "choropleth": [
           {
            "colorbar": {
             "outlinewidth": 0,
             "ticks": ""
            },
            "type": "choropleth"
           }
          ],
          "contour": [
           {
            "colorbar": {
             "outlinewidth": 0,
             "ticks": ""
            },
            "colorscale": [
             [
              0,
              "#0d0887"
             ],
             [
              0.1111111111111111,
              "#46039f"
             ],
             [
              0.2222222222222222,
              "#7201a8"
             ],
             [
              0.3333333333333333,
              "#9c179e"
             ],
             [
              0.4444444444444444,
              "#bd3786"
             ],
             [
              0.5555555555555556,
              "#d8576b"
             ],
             [
              0.6666666666666666,
              "#ed7953"
             ],
             [
              0.7777777777777778,
              "#fb9f3a"
             ],
             [
              0.8888888888888888,
              "#fdca26"
             ],
             [
              1,
              "#f0f921"
             ]
            ],
            "type": "contour"
           }
          ],
          "contourcarpet": [
           {
            "colorbar": {
             "outlinewidth": 0,
             "ticks": ""
            },
            "type": "contourcarpet"
           }
          ],
          "heatmap": [
           {
            "colorbar": {
             "outlinewidth": 0,
             "ticks": ""
            },
            "colorscale": [
             [
              0,
              "#0d0887"
             ],
             [
              0.1111111111111111,
              "#46039f"
             ],
             [
              0.2222222222222222,
              "#7201a8"
             ],
             [
              0.3333333333333333,
              "#9c179e"
             ],
             [
              0.4444444444444444,
              "#bd3786"
             ],
             [
              0.5555555555555556,
              "#d8576b"
             ],
             [
              0.6666666666666666,
              "#ed7953"
             ],
             [
              0.7777777777777778,
              "#fb9f3a"
             ],
             [
              0.8888888888888888,
              "#fdca26"
             ],
             [
              1,
              "#f0f921"
             ]
            ],
            "type": "heatmap"
           }
          ],
          "histogram": [
           {
            "marker": {
             "pattern": {
              "fillmode": "overlay",
              "size": 10,
              "solidity": 0.2
             }
            },
            "type": "histogram"
           }
          ],
          "histogram2d": [
           {
            "colorbar": {
             "outlinewidth": 0,
             "ticks": ""
            },
            "colorscale": [
             [
              0,
              "#0d0887"
             ],
             [
              0.1111111111111111,
              "#46039f"
             ],
             [
              0.2222222222222222,
              "#7201a8"
             ],
             [
              0.3333333333333333,
              "#9c179e"
             ],
             [
              0.4444444444444444,
              "#bd3786"
             ],
             [
              0.5555555555555556,
              "#d8576b"
             ],
             [
              0.6666666666666666,
              "#ed7953"
             ],
             [
              0.7777777777777778,
              "#fb9f3a"
             ],
             [
              0.8888888888888888,
              "#fdca26"
             ],
             [
              1,
              "#f0f921"
             ]
            ],
            "type": "histogram2d"
           }
          ],
          "histogram2dcontour": [
           {
            "colorbar": {
             "outlinewidth": 0,
             "ticks": ""
            },
            "colorscale": [
             [
              0,
              "#0d0887"
             ],
             [
              0.1111111111111111,
              "#46039f"
             ],
             [
              0.2222222222222222,
              "#7201a8"
             ],
             [
              0.3333333333333333,
              "#9c179e"
             ],
             [
              0.4444444444444444,
              "#bd3786"
             ],
             [
              0.5555555555555556,
              "#d8576b"
             ],
             [
              0.6666666666666666,
              "#ed7953"
             ],
             [
              0.7777777777777778,
              "#fb9f3a"
             ],
             [
              0.8888888888888888,
              "#fdca26"
             ],
             [
              1,
              "#f0f921"
             ]
            ],
            "type": "histogram2dcontour"
           }
          ],
          "mesh3d": [
           {
            "colorbar": {
             "outlinewidth": 0,
             "ticks": ""
            },
            "type": "mesh3d"
           }
          ],
          "parcoords": [
           {
            "line": {
             "colorbar": {
              "outlinewidth": 0,
              "ticks": ""
             }
            },
            "type": "parcoords"
           }
          ],
          "pie": [
           {
            "automargin": true,
            "type": "pie"
           }
          ],
          "scatter": [
           {
            "fillpattern": {
             "fillmode": "overlay",
             "size": 10,
             "solidity": 0.2
            },
            "type": "scatter"
           }
          ],
          "scatter3d": [
           {
            "line": {
             "colorbar": {
              "outlinewidth": 0,
              "ticks": ""
             }
            },
            "marker": {
             "colorbar": {
              "outlinewidth": 0,
              "ticks": ""
             }
            },
            "type": "scatter3d"
           }
          ],
          "scattercarpet": [
           {
            "marker": {
             "colorbar": {
              "outlinewidth": 0,
              "ticks": ""
             }
            },
            "type": "scattercarpet"
           }
          ],
          "scattergeo": [
           {
            "marker": {
             "colorbar": {
              "outlinewidth": 0,
              "ticks": ""
             }
            },
            "type": "scattergeo"
           }
          ],
          "scattergl": [
           {
            "marker": {
             "colorbar": {
              "outlinewidth": 0,
              "ticks": ""
             }
            },
            "type": "scattergl"
           }
          ],
          "scattermap": [
           {
            "marker": {
             "colorbar": {
              "outlinewidth": 0,
              "ticks": ""
             }
            },
            "type": "scattermap"
           }
          ],
          "scattermapbox": [
           {
            "marker": {
             "colorbar": {
              "outlinewidth": 0,
              "ticks": ""
             }
            },
            "type": "scattermapbox"
           }
          ],
          "scatterpolar": [
           {
            "marker": {
             "colorbar": {
              "outlinewidth": 0,
              "ticks": ""
             }
            },
            "type": "scatterpolar"
           }
          ],
          "scatterpolargl": [
           {
            "marker": {
             "colorbar": {
              "outlinewidth": 0,
              "ticks": ""
             }
            },
            "type": "scatterpolargl"
           }
          ],
          "scatterternary": [
           {
            "marker": {
             "colorbar": {
              "outlinewidth": 0,
              "ticks": ""
             }
            },
            "type": "scatterternary"
           }
          ],
          "surface": [
           {
            "colorbar": {
             "outlinewidth": 0,
             "ticks": ""
            },
            "colorscale": [
             [
              0,
              "#0d0887"
             ],
             [
              0.1111111111111111,
              "#46039f"
             ],
             [
              0.2222222222222222,
              "#7201a8"
             ],
             [
              0.3333333333333333,
              "#9c179e"
             ],
             [
              0.4444444444444444,
              "#bd3786"
             ],
             [
              0.5555555555555556,
              "#d8576b"
             ],
             [
              0.6666666666666666,
              "#ed7953"
             ],
             [
              0.7777777777777778,
              "#fb9f3a"
             ],
             [
              0.8888888888888888,
              "#fdca26"
             ],
             [
              1,
              "#f0f921"
             ]
            ],
            "type": "surface"
           }
          ],
          "table": [
           {
            "cells": {
             "fill": {
              "color": "#EBF0F8"
             },
             "line": {
              "color": "white"
             }
            },
            "header": {
             "fill": {
              "color": "#C8D4E3"
             },
             "line": {
              "color": "white"
             }
            },
            "type": "table"
           }
          ]
         },
         "layout": {
          "annotationdefaults": {
           "arrowcolor": "#2a3f5f",
           "arrowhead": 0,
           "arrowwidth": 1
          },
          "autotypenumbers": "strict",
          "coloraxis": {
           "colorbar": {
            "outlinewidth": 0,
            "ticks": ""
           }
          },
          "colorscale": {
           "diverging": [
            [
             0,
             "#8e0152"
            ],
            [
             0.1,
             "#c51b7d"
            ],
            [
             0.2,
             "#de77ae"
            ],
            [
             0.3,
             "#f1b6da"
            ],
            [
             0.4,
             "#fde0ef"
            ],
            [
             0.5,
             "#f7f7f7"
            ],
            [
             0.6,
             "#e6f5d0"
            ],
            [
             0.7,
             "#b8e186"
            ],
            [
             0.8,
             "#7fbc41"
            ],
            [
             0.9,
             "#4d9221"
            ],
            [
             1,
             "#276419"
            ]
           ],
           "sequential": [
            [
             0,
             "#0d0887"
            ],
            [
             0.1111111111111111,
             "#46039f"
            ],
            [
             0.2222222222222222,
             "#7201a8"
            ],
            [
             0.3333333333333333,
             "#9c179e"
            ],
            [
             0.4444444444444444,
             "#bd3786"
            ],
            [
             0.5555555555555556,
             "#d8576b"
            ],
            [
             0.6666666666666666,
             "#ed7953"
            ],
            [
             0.7777777777777778,
             "#fb9f3a"
            ],
            [
             0.8888888888888888,
             "#fdca26"
            ],
            [
             1,
             "#f0f921"
            ]
           ],
           "sequentialminus": [
            [
             0,
             "#0d0887"
            ],
            [
             0.1111111111111111,
             "#46039f"
            ],
            [
             0.2222222222222222,
             "#7201a8"
            ],
            [
             0.3333333333333333,
             "#9c179e"
            ],
            [
             0.4444444444444444,
             "#bd3786"
            ],
            [
             0.5555555555555556,
             "#d8576b"
            ],
            [
             0.6666666666666666,
             "#ed7953"
            ],
            [
             0.7777777777777778,
             "#fb9f3a"
            ],
            [
             0.8888888888888888,
             "#fdca26"
            ],
            [
             1,
             "#f0f921"
            ]
           ]
          },
          "colorway": [
           "#636efa",
           "#EF553B",
           "#00cc96",
           "#ab63fa",
           "#FFA15A",
           "#19d3f3",
           "#FF6692",
           "#B6E880",
           "#FF97FF",
           "#FECB52"
          ],
          "font": {
           "color": "#2a3f5f"
          },
          "geo": {
           "bgcolor": "white",
           "lakecolor": "white",
           "landcolor": "#E5ECF6",
           "showlakes": true,
           "showland": true,
           "subunitcolor": "white"
          },
          "hoverlabel": {
           "align": "left"
          },
          "hovermode": "closest",
          "mapbox": {
           "style": "light"
          },
          "paper_bgcolor": "white",
          "plot_bgcolor": "#E5ECF6",
          "polar": {
           "angularaxis": {
            "gridcolor": "white",
            "linecolor": "white",
            "ticks": ""
           },
           "bgcolor": "#E5ECF6",
           "radialaxis": {
            "gridcolor": "white",
            "linecolor": "white",
            "ticks": ""
           }
          },
          "scene": {
           "xaxis": {
            "backgroundcolor": "#E5ECF6",
            "gridcolor": "white",
            "gridwidth": 2,
            "linecolor": "white",
            "showbackground": true,
            "ticks": "",
            "zerolinecolor": "white"
           },
           "yaxis": {
            "backgroundcolor": "#E5ECF6",
            "gridcolor": "white",
            "gridwidth": 2,
            "linecolor": "white",
            "showbackground": true,
            "ticks": "",
            "zerolinecolor": "white"
           },
           "zaxis": {
            "backgroundcolor": "#E5ECF6",
            "gridcolor": "white",
            "gridwidth": 2,
            "linecolor": "white",
            "showbackground": true,
            "ticks": "",
            "zerolinecolor": "white"
           }
          },
          "shapedefaults": {
           "line": {
            "color": "#2a3f5f"
           }
          },
          "ternary": {
           "aaxis": {
            "gridcolor": "white",
            "linecolor": "white",
            "ticks": ""
           },
           "baxis": {
            "gridcolor": "white",
            "linecolor": "white",
            "ticks": ""
           },
           "bgcolor": "#E5ECF6",
           "caxis": {
            "gridcolor": "white",
            "linecolor": "white",
            "ticks": ""
           }
          },
          "title": {
           "x": 0.05
          },
          "xaxis": {
           "automargin": true,
           "gridcolor": "white",
           "linecolor": "white",
           "ticks": "",
           "title": {
            "standoff": 15
           },
           "zerolinecolor": "white",
           "zerolinewidth": 2
          },
          "yaxis": {
           "automargin": true,
           "gridcolor": "white",
           "linecolor": "white",
           "ticks": "",
           "title": {
            "standoff": 15
           },
           "zerolinecolor": "white",
           "zerolinewidth": 2
          }
         }
        },
        "title": {
         "text": "การกระจายราคาต่อหน่วยในแต่ละประเภทสินค้า"
        },
        "xaxis": {
         "anchor": "y",
         "domain": [
          0,
          1
         ],
         "title": {
          "text": "Category"
         }
        },
        "yaxis": {
         "anchor": "x",
         "domain": [
          0,
          1
         ],
         "title": {
          "text": "UnitPrice"
         }
        }
       }
      },
      "text/html": [
       "<div>            <script src=\"https://cdnjs.cloudflare.com/ajax/libs/mathjax/2.7.5/MathJax.js?config=TeX-AMS-MML_SVG\"></script><script type=\"text/javascript\">if (window.MathJax && window.MathJax.Hub && window.MathJax.Hub.Config) {window.MathJax.Hub.Config({SVG: {font: \"STIX-Web\"}});}</script>                <script type=\"text/javascript\">window.PlotlyConfig = {MathJaxConfig: 'local'};</script>\n",
       "        <script charset=\"utf-8\" src=\"https://cdn.plot.ly/plotly-3.0.1.min.js\"></script>                <div id=\"4918aa74-2fe7-4a48-bd94-a77aeb8b24f2\" class=\"plotly-graph-div\" style=\"height:525px; width:100%;\"></div>            <script type=\"text/javascript\">                window.PLOTLYENV=window.PLOTLYENV || {};                                if (document.getElementById(\"4918aa74-2fe7-4a48-bd94-a77aeb8b24f2\")) {                    Plotly.newPlot(                        \"4918aa74-2fe7-4a48-bd94-a77aeb8b24f2\",                        [{\"alignmentgroup\":\"True\",\"hovertemplate\":\"Category=%{x}\\u003cbr\\u003eUnitPrice=%{y}\\u003cextra\\u003e\\u003c\\u002fextra\\u003e\",\"legendgroup\":\"\",\"marker\":{\"color\":\"#636efa\"},\"name\":\"\",\"notched\":false,\"offsetgroup\":\"\",\"orientation\":\"v\",\"showlegend\":false,\"x\":[\"Furniture\",\"Office Supplies\",\"Software\",\"Stationery\",\"Stationery\",\"Electronics\",\"Stationery\",\"Stationery\",\"Stationery\",\"Furniture\",\"Software\",\"Stationery\",\"Office Supplies\",\"Furniture\",\"Stationery\",\"Electronics\",\"Accessories\",\"Accessories\",\"Electronics\",\"Electronics\",\"Office Supplies\",\"Electronics\",\"Furniture\",\"Furniture\",\"Stationery\",\"Furniture\",\"Software\",\"Furniture\",\"Accessories\",\"Electronics\",\"Electronics\",\"Software\",\"Electronics\",\"Furniture\",\"Software\",\"Stationery\",\"Stationery\",\"Furniture\",\"Electronics\",\"Electronics\",\"Stationery\",\"Furniture\",\"Electronics\",\"Office Supplies\",\"Electronics\",\"Office Supplies\",\"Electronics\",\"Stationery\",\"Office Supplies\",\"Furniture\",\"Furniture\",\"Electronics\",\"Electronics\",\"Electronics\",\"Furniture\",\"Furniture\",\"Accessories\",\"Stationery\",\"Furniture\",\"Electronics\",\"Electronics\",\"Electronics\",\"Furniture\",\"Office Supplies\",\"Office Supplies\",\"Electronics\",\"Stationery\",\"Furniture\",\"Stationery\",\"Furniture\",\"Office Supplies\",\"Stationery\",\"Electronics\",\"Accessories\",\"Office Supplies\",\"Electronics\",\"Electronics\",\"Stationery\",\"Stationery\",\"Electronics\",\"Electronics\",\"Office Supplies\",\"Software\",\"Software\",\"Furniture\",\"Furniture\",\"Furniture\",\"Software\",\"Furniture\",\"Electronics\",\"Furniture\",\"Office Supplies\",\"Electronics\",\"Electronics\",\"Furniture\",\"Furniture\",\"Furniture\",\"Accessories\",\"Software\",\"Accessories\",\"Accessories\",\"Electronics\",\"Software\",\"Stationery\",\"Electronics\",\"Furniture\",\"Furniture\",\"Accessories\",\"Electronics\",\"Furniture\",\"Accessories\",\"Software\",\"Office Supplies\",\"Stationery\",\"Furniture\",\"Furniture\",\"Electronics\",\"Stationery\",\"Office Supplies\",\"Accessories\",\"Software\",\"Furniture\",\"Office Supplies\",\"Stationery\",\"Furniture\",\"Electronics\",\"Stationery\",\"Office Supplies\",\"Stationery\",\"Accessories\",\"Electronics\",\"Office Supplies\",\"Software\",\"Electronics\",\"Furniture\",\"Stationery\",\"Electronics\",\"Accessories\",\"Electronics\",\"Stationery\",\"Software\",\"Software\",\"Office Supplies\",\"Accessories\",\"Furniture\",\"Furniture\",\"Furniture\",\"Furniture\",\"Electronics\",\"Software\",\"Accessories\",\"Software\",\"Electronics\",\"Accessories\",\"Accessories\",\"Stationery\",\"Software\",\"Stationery\",\"Electronics\",\"Furniture\",\"Office Supplies\",\"Office Supplies\",\"Stationery\",\"Software\",\"Electronics\",\"Electronics\",\"Accessories\",\"Accessories\",\"Electronics\",\"Electronics\",\"Furniture\",\"Furniture\",\"Furniture\",\"Accessories\",\"Software\",\"Electronics\",\"Stationery\",\"Office Supplies\",\"Furniture\",\"Electronics\",\"Electronics\",\"Stationery\",\"Furniture\",\"Software\",\"Furniture\",\"Stationery\",\"Electronics\",\"Furniture\",\"Electronics\",\"Stationery\",\"Furniture\",\"Stationery\",\"Accessories\",\"Electronics\",\"Software\",\"Furniture\",\"Office Supplies\",\"Stationery\",\"Furniture\",\"Electronics\",\"Office Supplies\",\"Stationery\",\"Office Supplies\",\"Stationery\",\"Office Supplies\",\"Furniture\",\"Stationery\",\"Office Supplies\",\"Furniture\",\"Electronics\",\"Office Supplies\",\"Office Supplies\",\"Furniture\",\"Furniture\",\"Stationery\",\"Furniture\",\"Stationery\",\"Stationery\",\"Office Supplies\",\"Electronics\",\"Electronics\",\"Electronics\",\"Software\",\"Stationery\",\"Office Supplies\",\"Electronics\",\"Accessories\",\"Furniture\",\"Furniture\",\"Electronics\",\"Stationery\",\"Electronics\",\"Office Supplies\",\"Office Supplies\",\"Office Supplies\",\"Accessories\",\"Furniture\",\"Electronics\",\"Electronics\",\"Stationery\",\"Stationery\",\"Accessories\",\"Furniture\",\"Stationery\",\"Accessories\",\"Electronics\",\"Stationery\",\"Furniture\",\"Stationery\",\"Furniture\",\"Office Supplies\",\"Electronics\",\"Software\",\"Office Supplies\",\"Furniture\",\"Electronics\",\"Furniture\",\"Office Supplies\",\"Furniture\",\"Electronics\",\"Electronics\",\"Furniture\",\"Electronics\",\"Furniture\",\"Accessories\",\"Electronics\",\"Accessories\",\"Furniture\",\"Electronics\",\"Office Supplies\",\"Furniture\",\"Electronics\",\"Accessories\",\"Furniture\",\"Office Supplies\",\"Stationery\",\"Electronics\",\"Electronics\",\"Stationery\",\"Electronics\",\"Software\",\"Electronics\",\"Furniture\",\"Stationery\",\"Electronics\",\"Software\",\"Furniture\",\"Office Supplies\",\"Furniture\",\"Electronics\",\"Electronics\",\"Accessories\",\"Stationery\",\"Electronics\",\"Accessories\",\"Furniture\",\"Software\",\"Software\",\"Stationery\",\"Electronics\",\"Electronics\",\"Electronics\",\"Accessories\",\"Electronics\",\"Office Supplies\",\"Electronics\",\"Software\",\"Stationery\",\"Electronics\",\"Accessories\",\"Accessories\",\"Electronics\",\"Furniture\",\"Software\",\"Office Supplies\",\"Electronics\",\"Stationery\",\"Furniture\",\"Furniture\",\"Stationery\",\"Electronics\",\"Electronics\",\"Stationery\",\"Stationery\",\"Software\",\"Stationery\",\"Furniture\",\"Electronics\",\"Accessories\",\"Software\",\"Stationery\",\"Accessories\",\"Electronics\",\"Furniture\",\"Electronics\",\"Electronics\",\"Office Supplies\",\"Electronics\",\"Software\",\"Stationery\",\"Software\",\"Furniture\",\"Office Supplies\",\"Accessories\",\"Accessories\",\"Furniture\",\"Furniture\",\"Electronics\",\"Electronics\",\"Office Supplies\",\"Furniture\",\"Furniture\",\"Stationery\",\"Electronics\",\"Furniture\",\"Stationery\",\"Furniture\",\"Electronics\",\"Furniture\",\"Furniture\",\"Electronics\",\"Accessories\",\"Accessories\",\"Accessories\",\"Electronics\",\"Electronics\",\"Electronics\",\"Electronics\",\"Electronics\",\"Office Supplies\",\"Furniture\",\"Stationery\",\"Stationery\",\"Furniture\",\"Stationery\",\"Electronics\",\"Electronics\",\"Furniture\",\"Office Supplies\",\"Electronics\",\"Software\",\"Electronics\",\"Electronics\",\"Electronics\",\"Furniture\",\"Electronics\",\"Electronics\",\"Software\",\"Accessories\",\"Electronics\",\"Office Supplies\",\"Stationery\",\"Furniture\",\"Electronics\",\"Software\",\"Electronics\",\"Furniture\",\"Furniture\",\"Stationery\",\"Electronics\",\"Accessories\",\"Electronics\",\"Office Supplies\",\"Electronics\",\"Software\",\"Electronics\",\"Stationery\",\"Electronics\",\"Accessories\",\"Stationery\",\"Electronics\",\"Electronics\",\"Furniture\",\"Electronics\",\"Office Supplies\",\"Office Supplies\",\"Stationery\",\"Electronics\",\"Furniture\",\"Electronics\",\"Electronics\",\"Office Supplies\",\"Accessories\",\"Stationery\",\"Stationery\",\"Stationery\",\"Software\",\"Accessories\",\"Accessories\",\"Electronics\",\"Software\",\"Furniture\",\"Office Supplies\",\"Software\",\"Electronics\",\"Electronics\",\"Electronics\",\"Electronics\",\"Stationery\",\"Electronics\",\"Office Supplies\",\"Electronics\",\"Electronics\",\"Furniture\",\"Furniture\",\"Electronics\",\"Software\",\"Stationery\",\"Accessories\",\"Software\",\"Accessories\",\"Electronics\",\"Office Supplies\",\"Office Supplies\",\"Accessories\",\"Accessories\",\"Electronics\",\"Electronics\",\"Software\",\"Electronics\",\"Stationery\",\"Accessories\",\"Stationery\",\"Stationery\",\"Office Supplies\",\"Furniture\",\"Stationery\",\"Electronics\",\"Furniture\",\"Office Supplies\",\"Stationery\",\"Electronics\",\"Software\",\"Stationery\",\"Stationery\",\"Software\",\"Accessories\",\"Stationery\",\"Office Supplies\",\"Stationery\",\"Office Supplies\",\"Electronics\",\"Electronics\",\"Stationery\",\"Electronics\",\"Accessories\",\"Stationery\",\"Electronics\",\"Electronics\",\"Stationery\",\"Accessories\",\"Accessories\",\"Accessories\",\"Stationery\",\"Electronics\",\"Furniture\",\"Electronics\",\"Stationery\",\"Furniture\",\"Office Supplies\"],\"x0\":\" \",\"xaxis\":\"x\",\"y\":{\"dtype\":\"f8\",\"bdata\":\"mpmZmZlJXEA9CtejcD0pQKRwPQpXEbZAXI\\u002fC9ShcB0A9CtejcD32P65H4XoU3mJA16NwPQrXBUBcj8L1KFwDQEjhehSuxydAFK5H4Xo0WUBcj8L16Pe\\u002fQFyPwvUoXAdAzczMzMzMIEDXo3A9CvdbQI\\u002fC9Shcj\\u002fY\\u002fcT0K16N8cEAAAAAAAABAQMP1KFyPAkVA7FG4HoV5iUD2KFyPwgl1QArXo3A9CipAw\\u002fUoXI\\u002fqaUAzMzMzM9NiQM3MzMzMdGFAZmZmZmZm8j8pXI\\u002fC9YhaQI\\u002fC9Sjc67NAuB6F61FoZ0AUrkfhelQ+QClcj8L1AG1Aj8L1KFyljkCkcD0KF4C2QHE9CtejgHJAAAAAAACwWkAUrkfhOru1QPYoXI\\u002fC9QRAw\\u002fUoXI9CKUApXI\\u002fC9QhfQD0K16Nw745AmpmZmZlBZUC4HoXrUbgrQOF6FK5HEVtA16NwPQoBikCkcD0K1yMqQAAAAAAAGopAXI\\u002fC9SjcLECkcD0K13tsQOF6FK5H4QJArkfhehSuGUBxPQrXo3hkQPYoXI\\u002fClV5A16NwPQpli0AUrkfhehxuQArXo3A9YIlArkfhehTuZkCPwvUoXB9dQGZmZmZmpjVAuB6F61G4J0BmZmZmZq5iQNejcD0Kx3VAw\\u002fUoXI\\u002fCjEBI4XoUrk9yQFyPwvUo9GRASOF6FK7HLEBcj8L1KFwZQLgehetRaGxAmpmZmZmZAUBmZmZmZm5kQBSuR+F6FPY\\u002fAAAAAACAXUAfhetRuJ4sQIXrUbgehf8\\u002f9ihcj8KbjkDD9ShcjyJHQHE9Ctej8CVAKVyPwvU4jEAK16NwPZJxQGZmZmZmZgRAXI\\u002fC9SjcJEAK16NwPbpnQOxRuB6Fu3JAKVyPwvUoKEBI4XoU7kbCQDMzMzMzNbxAcT0K16MAX0AK16NwPSJjQMP1KFyPsmRApHA9CpeztUAK16NwPdJiQGZmZmZmBopAH4XrUbhuaEBmZmZmZuYnQM3MzMzM3G5A7FG4HoUjjEDsUbgehbtmQB+F61G4JmNAhetRuB5FW0CkcD0K12M1QKRwPQo3n8JAZmZmZmZmNEDXo3A9Clc4QFyPwvUo1GpAj8L1KFzBwEAK16NwPYomQK5H4XoUhopAzczMzMz8XEB7FK5H4SpfQFyPwvUoHDdA7FG4HoXjcUBSuB6F6\\u002fFlQFyPwvUoXDtA7FG4HgXMvUCkcD0K16MmQOxRuB6F6wNAZmZmZmbGYkCF61G4HtVlQNejcD0KT2hAMzMzMzNzM0BI4XoUrsciQLgehetReENA16NwPcpzukCPwvUoXFdnQI\\u002fC9ShcjylAw\\u002fUoXI\\u002fCBUB7FK5H4apdQNejcD0KF49A4XoUrkehMkDXo3A9CtcpQHE9Ctej8C1AexSuR+F6OkBxPQrXo9ByQB+F61G4nitASOF6FE5XwUA9CtejcPWJQDMzMzMzk1pApHA9CtcjLEBxPQrXo86JQPYoXI\\u002fCdUZAexSuR+H6bUCPwvUoXA8nQD0K16OwTLVApHA9ClfGuEDXo3A9CtchQD0K16Nw\\u002fURAXI\\u002fC9ShsXUBxPQrXowBbQGZmZmZmhmBA7FG4HoULYEDsUbgehbttQEjhehSuB8FAexSuR+F6QEBI4XoUzjnCQIXrUbgeq4xA9ihcj8J1NUCPwvUoXM85QHE9Ctej8CtAUrgehcv0wUBcj8L1KFz7PxSuR+F6PHJAw\\u002fUoXI9SXkCF61G4HoUZQFyPwvUo3CNACtejcD2KM0ApXI\\u002fCdde0QPYoXI\\u002fC3WZAexSuR+HejUAK16NwPapBQIXrUbgeZUVArkfhehTacUCPwvUoXG2NQHE9CtejYF1AAAAAAAAYZUCuR+F6FA5gQIXrUbgeRURAcT0K10M2w0B7FK5H4dJ0QMP1KFyPwv0\\u002fUrgehetRG0AfhetRuI5gQNejcD0KnYpA9ihcj8JDikDNzMzMzMwAQNejcD0KZ2dAhetRuJ5aw0ApXI\\u002fC9WBkQD0K16NwPQRAw\\u002fUoXI+idUBSuB6F66lkQDMzMzMzs3RAPQrXo3A9\\u002fj+amZmZmTljQPYoXI\\u002fC9fA\\u002fKVyPwvWoQEC4HoXrUTBzQAAAAAAA08BAFK5H4Xp0Z0BmZmZmZmYXQLgehetRuAZAZmZmZmbeaECPwvUoXI9rQM3MzMzMzCNA7FG4HoVrJEB7FK5H4fohQJqZmZmZmQFAuB6F61E4KUDhehSuR+FjQAAAAAAAAAJArkfhehSuG0BxPQrXo6hnQFyPwvUoMopAuB6F61G4JkDNzMzMzMwhQEjhehSuV1tAXI\\u002fC9SisZkBxPQrXo3D1P2ZmZmZmlmRA16NwPQrXAUApXI\\u002fC9Sj8P65H4XoUriBAw\\u002fUoXI++cED2KFyPwkGJQM3MzMzM7HBAAAAAACBWwUBmZmZmZuYvQIXrUbgehShAXI\\u002fC9SjCjEBxPQrXo7BAQHsUrkfhKl5AhetRuB51Y0BSuB6F6+FlQClcj8L1qDBAMzMzMzPfd0AAAAAAAIAjQAAAAAAAACBAPQrXo3A9KUC4HoXrUbg0QKRwPQrXg2RACtejcD3Kb0AUrkfhevBwQFK4HoXrUS9ASOF6FK5HAUApXI\\u002fC9chFQJqZmZmZQWVAH4XrUbge+T\\u002fNzMzMzExEQOxRuB6FA3FA4XoUrkdhLEDhehSuR6lkQAAAAAAAAPw\\u002fuB6F61FIYkBSuB6F61EZQJqZmZmZBY5AMzMzM3PDtEAK16NwPYohQIXrUbgeFWNA9ihcj8I9bUD2KFyPwsVoQArXo3A9CixACtejcD1yY0DsUbgehV+OQMP1KFyPYoxAhetRuB5lXEAK16NwPVpuQI\\u002fC9ShcN2ZA4XoUrkdBQUD2KFyPwlVxQKRwPQrXozpA9ihcj8LFXED2KFyPwtuKQEjhehSuxylAKVyPwvVgaEAUrkfhetxvQMP1KFyP4kRA4XoUrkdxYEApXI\\u002fC9agmQK5H4XoUritAj8L1KFxHcUBxPQrXo7hvQLgehetROC1AcT0K16NCi0AAAAAAIHbCQEjhehSuT2xAmpmZmZk5WUAUrkfhehQAQDMzMzMzs3NAexSuRyEWukAK16NwPTJmQOF6FK5HYStA7FG4HoXDYECPwvUoXO+KQOF6FK5HKWlASOF6FK4nQECkcD0K1yMpQFyPwvUoBGhAMzMzMzOzNkApXI\\u002fC9UhbQPYoXI\\u002fij8JAw\\u002fUoXM9xtUCuR+F6FK7zP5qZmZmZP4tA7FG4HoVzZkAAAAAAAFBtQEjhehSuJ0VAUrgehethcUDXo3A9CtcVQPYoXI\\u002fC2XRArkfhepROtUAUrkfhetQzQBSuR+F6xG5AcT0K16MQQUCkcD0K1yM1QKRwPQrXa2lAMzMzMzPraECamZmZGT28QD0K16NwPSNAexSuR+ECjEBSuB6F61H8P+xRuB6FM2NAuB6F61EoW0D2KFyPwnUzQOxRuB6FYYtA9ihcj8JFZED2KFyPwvX4P\\u002fYoXI\\u002fC9fA\\u002f9ihcj4J0wUCF61G4HoX\\u002fP3E9CtejsGJAw\\u002fUoXI\\u002faYkApXI\\u002fC9Wg5QMP1KFwPWLtAhetRuB5FM0CPwvUoXM9EQM3MzMzMMI5AAAAAAADQX0AK16NwPQKOQOxRuB6Fl3BACtejcD0KI0BxPQrXo9ByQDMzMzMzy8JA7FG4HoXrJkCPwvUoXPu4QGZmZmZmrmVAUrgehetRJEDNzMzMzIxGQIXrUbgehUNAFK5H4Xp0ZEAK16NwPWJlQIXrUbgetW9ApHA9CtdXjEAfhetRuJ4kQHsUrkfh4mRA9ihcj8KdYUCamZmZmVkyQMP1KFyPImpAAAAAAACwZUB7FK5H4fouQClcj8L1aF9Aw\\u002fUoXI9ybEBmZmZmZl5hQHsUrkfhomNA9ihcj8L7i0CamZmZmblGQLgehetRmEBAFK5H4XrUOUAAAAAAAFiJQMP1KFyPEm1AmpmZmZk9jUD2KFyPwhmNQAAAAAAAPHJAzczMzMxMJkCF61G4HgVkQKRwPQrXIyhAj8L1KFyP9j\\u002fXo3A9Co9mQOxRuB6F6zNA4XoUrkfRb0BmZmZmZupxQHsUrkfh8mhACtejcD2KIUBcj8L1KBRlQKRwPQrXArpAXI\\u002fC9SjMZEAzMzMzM6+LQM3MzMzMtHZA9ihcj8KFXkAUrkfhemRlQKRwPQrXq41AH4XrUXiktECF61G4HsVFQAAAAAAAXHRAMzMzMzMzJUDD9Shcj8L5P8P1KFyPumJA9ihcj8JtcEBmZmZmBqfCQKRwPQrXY3JAXI\\u002fC9SikYED2KFyPwtVkQPYoXI\\u002fC9fg\\u002fpHA9Ctdza0BI4XoUrgc2QB+F61G4Nm9AmpmZmZmZH0CkcD0K1+WMQD0K16PwBr1AKVyPwvVAikBcj8L1KFwFQDMzMzMzw2xAmpmZmZmZPkCkcD0K16P0P+F6FK5Hv4pACtejcD06bECkcD0K15NhQB+F61G4IndAzczMzMzMIEDsUbgehWspQD0K16NwfTJAuB6F61FQbUAAAAAAAMBoQHsUrkfhZItAKVyPwvWgc0D2KFyPwvUdQHsUrkfhejpAXI\\u002fC9SicMkC4HoXrUTgyQGZmZmZmZgRApHA9Ctf9s0DNzMzMzEw0QFyPwvUofEFA16NwPQpjikApXI\\u002fCtdTAQKRwPQrXY1xA9ihcj8L1FUCF61G4nqi\\u002fQMP1KFyPlnBAXI\\u002fC9Sg0iUC4HoXrUfSMQI\\u002fC9Shch25AmpmZmZlZMEBcj8L1KDaNQB+F61G4HitAcT0K16NQaEAfhetRuESOQDMzMzMzU2NAzczMzMysXECF61G4HsuNQD0K16MwUrpArkfhehSuB0AAAAAAAIBDQPYoXI8Ct7NAXI\\u002fC9SjcPUC4HoXrUQBjQDMzMzMzMyFAZmZmZmZmFUC4HoXrUXg+QEjhehSuJ0VAmpmZmZn5b0CPwvUoXLdpQK5H4XpUHbpAAAAAAACocUAK16NwPQomQBSuR+F6VEFAuB6F61G49j\\u002fXo3A9CtcHQArXo3A9CiNAw\\u002fUoXI8iZ0DhehSuR6ExQMP1KFyPSmlAhetRuB7VYkAzMzMzM7MsQKRwPQrXIzJAw\\u002fUoXI9EikAfhetRuB+0QPYoXI\\u002fC9fw\\u002fPQrXo3A9KkBSuB6F6ye0QClcj8L1qDVA16NwPQoXMEBI4XoUrkcsQB+F61G4HihAAAAAAAAAHEAzMzMzM0NwQClcj8L1wHVAUrgehesRMkDNzMzMzARpQHE9CtejcDtA16NwPQrX8z\\u002fsUbgehU+OQFK4HoXrJ4pApHA9CtcjK0DsUbgehas0QLgehetR+DxAzczMzMyMN0DXo3A9ClcvQD0K16NwZXNASOF6FK4HWkBxPQrXo7iMQClcj8L1KPg\\u002fuB6F61FAZEBI4XoUrkcrQA==\"},\"y0\":\" \",\"yaxis\":\"y\",\"type\":\"box\"}],                        {\"template\":{\"data\":{\"histogram2dcontour\":[{\"type\":\"histogram2dcontour\",\"colorbar\":{\"outlinewidth\":0,\"ticks\":\"\"},\"colorscale\":[[0.0,\"#0d0887\"],[0.1111111111111111,\"#46039f\"],[0.2222222222222222,\"#7201a8\"],[0.3333333333333333,\"#9c179e\"],[0.4444444444444444,\"#bd3786\"],[0.5555555555555556,\"#d8576b\"],[0.6666666666666666,\"#ed7953\"],[0.7777777777777778,\"#fb9f3a\"],[0.8888888888888888,\"#fdca26\"],[1.0,\"#f0f921\"]]}],\"choropleth\":[{\"type\":\"choropleth\",\"colorbar\":{\"outlinewidth\":0,\"ticks\":\"\"}}],\"histogram2d\":[{\"type\":\"histogram2d\",\"colorbar\":{\"outlinewidth\":0,\"ticks\":\"\"},\"colorscale\":[[0.0,\"#0d0887\"],[0.1111111111111111,\"#46039f\"],[0.2222222222222222,\"#7201a8\"],[0.3333333333333333,\"#9c179e\"],[0.4444444444444444,\"#bd3786\"],[0.5555555555555556,\"#d8576b\"],[0.6666666666666666,\"#ed7953\"],[0.7777777777777778,\"#fb9f3a\"],[0.8888888888888888,\"#fdca26\"],[1.0,\"#f0f921\"]]}],\"heatmap\":[{\"type\":\"heatmap\",\"colorbar\":{\"outlinewidth\":0,\"ticks\":\"\"},\"colorscale\":[[0.0,\"#0d0887\"],[0.1111111111111111,\"#46039f\"],[0.2222222222222222,\"#7201a8\"],[0.3333333333333333,\"#9c179e\"],[0.4444444444444444,\"#bd3786\"],[0.5555555555555556,\"#d8576b\"],[0.6666666666666666,\"#ed7953\"],[0.7777777777777778,\"#fb9f3a\"],[0.8888888888888888,\"#fdca26\"],[1.0,\"#f0f921\"]]}],\"contourcarpet\":[{\"type\":\"contourcarpet\",\"colorbar\":{\"outlinewidth\":0,\"ticks\":\"\"}}],\"contour\":[{\"type\":\"contour\",\"colorbar\":{\"outlinewidth\":0,\"ticks\":\"\"},\"colorscale\":[[0.0,\"#0d0887\"],[0.1111111111111111,\"#46039f\"],[0.2222222222222222,\"#7201a8\"],[0.3333333333333333,\"#9c179e\"],[0.4444444444444444,\"#bd3786\"],[0.5555555555555556,\"#d8576b\"],[0.6666666666666666,\"#ed7953\"],[0.7777777777777778,\"#fb9f3a\"],[0.8888888888888888,\"#fdca26\"],[1.0,\"#f0f921\"]]}],\"surface\":[{\"type\":\"surface\",\"colorbar\":{\"outlinewidth\":0,\"ticks\":\"\"},\"colorscale\":[[0.0,\"#0d0887\"],[0.1111111111111111,\"#46039f\"],[0.2222222222222222,\"#7201a8\"],[0.3333333333333333,\"#9c179e\"],[0.4444444444444444,\"#bd3786\"],[0.5555555555555556,\"#d8576b\"],[0.6666666666666666,\"#ed7953\"],[0.7777777777777778,\"#fb9f3a\"],[0.8888888888888888,\"#fdca26\"],[1.0,\"#f0f921\"]]}],\"mesh3d\":[{\"type\":\"mesh3d\",\"colorbar\":{\"outlinewidth\":0,\"ticks\":\"\"}}],\"scatter\":[{\"fillpattern\":{\"fillmode\":\"overlay\",\"size\":10,\"solidity\":0.2},\"type\":\"scatter\"}],\"parcoords\":[{\"type\":\"parcoords\",\"line\":{\"colorbar\":{\"outlinewidth\":0,\"ticks\":\"\"}}}],\"scatterpolargl\":[{\"type\":\"scatterpolargl\",\"marker\":{\"colorbar\":{\"outlinewidth\":0,\"ticks\":\"\"}}}],\"bar\":[{\"error_x\":{\"color\":\"#2a3f5f\"},\"error_y\":{\"color\":\"#2a3f5f\"},\"marker\":{\"line\":{\"color\":\"#E5ECF6\",\"width\":0.5},\"pattern\":{\"fillmode\":\"overlay\",\"size\":10,\"solidity\":0.2}},\"type\":\"bar\"}],\"scattergeo\":[{\"type\":\"scattergeo\",\"marker\":{\"colorbar\":{\"outlinewidth\":0,\"ticks\":\"\"}}}],\"scatterpolar\":[{\"type\":\"scatterpolar\",\"marker\":{\"colorbar\":{\"outlinewidth\":0,\"ticks\":\"\"}}}],\"histogram\":[{\"marker\":{\"pattern\":{\"fillmode\":\"overlay\",\"size\":10,\"solidity\":0.2}},\"type\":\"histogram\"}],\"scattergl\":[{\"type\":\"scattergl\",\"marker\":{\"colorbar\":{\"outlinewidth\":0,\"ticks\":\"\"}}}],\"scatter3d\":[{\"type\":\"scatter3d\",\"line\":{\"colorbar\":{\"outlinewidth\":0,\"ticks\":\"\"}},\"marker\":{\"colorbar\":{\"outlinewidth\":0,\"ticks\":\"\"}}}],\"scattermap\":[{\"type\":\"scattermap\",\"marker\":{\"colorbar\":{\"outlinewidth\":0,\"ticks\":\"\"}}}],\"scattermapbox\":[{\"type\":\"scattermapbox\",\"marker\":{\"colorbar\":{\"outlinewidth\":0,\"ticks\":\"\"}}}],\"scatterternary\":[{\"type\":\"scatterternary\",\"marker\":{\"colorbar\":{\"outlinewidth\":0,\"ticks\":\"\"}}}],\"scattercarpet\":[{\"type\":\"scattercarpet\",\"marker\":{\"colorbar\":{\"outlinewidth\":0,\"ticks\":\"\"}}}],\"carpet\":[{\"aaxis\":{\"endlinecolor\":\"#2a3f5f\",\"gridcolor\":\"white\",\"linecolor\":\"white\",\"minorgridcolor\":\"white\",\"startlinecolor\":\"#2a3f5f\"},\"baxis\":{\"endlinecolor\":\"#2a3f5f\",\"gridcolor\":\"white\",\"linecolor\":\"white\",\"minorgridcolor\":\"white\",\"startlinecolor\":\"#2a3f5f\"},\"type\":\"carpet\"}],\"table\":[{\"cells\":{\"fill\":{\"color\":\"#EBF0F8\"},\"line\":{\"color\":\"white\"}},\"header\":{\"fill\":{\"color\":\"#C8D4E3\"},\"line\":{\"color\":\"white\"}},\"type\":\"table\"}],\"barpolar\":[{\"marker\":{\"line\":{\"color\":\"#E5ECF6\",\"width\":0.5},\"pattern\":{\"fillmode\":\"overlay\",\"size\":10,\"solidity\":0.2}},\"type\":\"barpolar\"}],\"pie\":[{\"automargin\":true,\"type\":\"pie\"}]},\"layout\":{\"autotypenumbers\":\"strict\",\"colorway\":[\"#636efa\",\"#EF553B\",\"#00cc96\",\"#ab63fa\",\"#FFA15A\",\"#19d3f3\",\"#FF6692\",\"#B6E880\",\"#FF97FF\",\"#FECB52\"],\"font\":{\"color\":\"#2a3f5f\"},\"hovermode\":\"closest\",\"hoverlabel\":{\"align\":\"left\"},\"paper_bgcolor\":\"white\",\"plot_bgcolor\":\"#E5ECF6\",\"polar\":{\"bgcolor\":\"#E5ECF6\",\"angularaxis\":{\"gridcolor\":\"white\",\"linecolor\":\"white\",\"ticks\":\"\"},\"radialaxis\":{\"gridcolor\":\"white\",\"linecolor\":\"white\",\"ticks\":\"\"}},\"ternary\":{\"bgcolor\":\"#E5ECF6\",\"aaxis\":{\"gridcolor\":\"white\",\"linecolor\":\"white\",\"ticks\":\"\"},\"baxis\":{\"gridcolor\":\"white\",\"linecolor\":\"white\",\"ticks\":\"\"},\"caxis\":{\"gridcolor\":\"white\",\"linecolor\":\"white\",\"ticks\":\"\"}},\"coloraxis\":{\"colorbar\":{\"outlinewidth\":0,\"ticks\":\"\"}},\"colorscale\":{\"sequential\":[[0.0,\"#0d0887\"],[0.1111111111111111,\"#46039f\"],[0.2222222222222222,\"#7201a8\"],[0.3333333333333333,\"#9c179e\"],[0.4444444444444444,\"#bd3786\"],[0.5555555555555556,\"#d8576b\"],[0.6666666666666666,\"#ed7953\"],[0.7777777777777778,\"#fb9f3a\"],[0.8888888888888888,\"#fdca26\"],[1.0,\"#f0f921\"]],\"sequentialminus\":[[0.0,\"#0d0887\"],[0.1111111111111111,\"#46039f\"],[0.2222222222222222,\"#7201a8\"],[0.3333333333333333,\"#9c179e\"],[0.4444444444444444,\"#bd3786\"],[0.5555555555555556,\"#d8576b\"],[0.6666666666666666,\"#ed7953\"],[0.7777777777777778,\"#fb9f3a\"],[0.8888888888888888,\"#fdca26\"],[1.0,\"#f0f921\"]],\"diverging\":[[0,\"#8e0152\"],[0.1,\"#c51b7d\"],[0.2,\"#de77ae\"],[0.3,\"#f1b6da\"],[0.4,\"#fde0ef\"],[0.5,\"#f7f7f7\"],[0.6,\"#e6f5d0\"],[0.7,\"#b8e186\"],[0.8,\"#7fbc41\"],[0.9,\"#4d9221\"],[1,\"#276419\"]]},\"xaxis\":{\"gridcolor\":\"white\",\"linecolor\":\"white\",\"ticks\":\"\",\"title\":{\"standoff\":15},\"zerolinecolor\":\"white\",\"automargin\":true,\"zerolinewidth\":2},\"yaxis\":{\"gridcolor\":\"white\",\"linecolor\":\"white\",\"ticks\":\"\",\"title\":{\"standoff\":15},\"zerolinecolor\":\"white\",\"automargin\":true,\"zerolinewidth\":2},\"scene\":{\"xaxis\":{\"backgroundcolor\":\"#E5ECF6\",\"gridcolor\":\"white\",\"linecolor\":\"white\",\"showbackground\":true,\"ticks\":\"\",\"zerolinecolor\":\"white\",\"gridwidth\":2},\"yaxis\":{\"backgroundcolor\":\"#E5ECF6\",\"gridcolor\":\"white\",\"linecolor\":\"white\",\"showbackground\":true,\"ticks\":\"\",\"zerolinecolor\":\"white\",\"gridwidth\":2},\"zaxis\":{\"backgroundcolor\":\"#E5ECF6\",\"gridcolor\":\"white\",\"linecolor\":\"white\",\"showbackground\":true,\"ticks\":\"\",\"zerolinecolor\":\"white\",\"gridwidth\":2}},\"shapedefaults\":{\"line\":{\"color\":\"#2a3f5f\"}},\"annotationdefaults\":{\"arrowcolor\":\"#2a3f5f\",\"arrowhead\":0,\"arrowwidth\":1},\"geo\":{\"bgcolor\":\"white\",\"landcolor\":\"#E5ECF6\",\"subunitcolor\":\"white\",\"showland\":true,\"showlakes\":true,\"lakecolor\":\"white\"},\"title\":{\"x\":0.05},\"mapbox\":{\"style\":\"light\"}}},\"xaxis\":{\"anchor\":\"y\",\"domain\":[0.0,1.0],\"title\":{\"text\":\"Category\"}},\"yaxis\":{\"anchor\":\"x\",\"domain\":[0.0,1.0],\"title\":{\"text\":\"UnitPrice\"}},\"legend\":{\"tracegroupgap\":0},\"title\":{\"text\":\"\\u0e01\\u0e32\\u0e23\\u0e01\\u0e23\\u0e30\\u0e08\\u0e32\\u0e22\\u0e23\\u0e32\\u0e04\\u0e32\\u0e15\\u0e48\\u0e2d\\u0e2b\\u0e19\\u0e48\\u0e27\\u0e22\\u0e43\\u0e19\\u0e41\\u0e15\\u0e48\\u0e25\\u0e30\\u0e1b\\u0e23\\u0e30\\u0e40\\u0e20\\u0e17\\u0e2a\\u0e34\\u0e19\\u0e04\\u0e49\\u0e32\"},\"boxmode\":\"group\"},                        {\"responsive\": true}                    ).then(function(){\n",
       "                            \n",
       "var gd = document.getElementById('4918aa74-2fe7-4a48-bd94-a77aeb8b24f2');\n",
       "var x = new MutationObserver(function (mutations, observer) {{\n",
       "        var display = window.getComputedStyle(gd).display;\n",
       "        if (!display || display === 'none') {{\n",
       "            console.log([gd, 'removed!']);\n",
       "            Plotly.purge(gd);\n",
       "            observer.disconnect();\n",
       "        }}\n",
       "}});\n",
       "\n",
       "// Listen for the removal of the full notebook cells\n",
       "var notebookContainer = gd.closest('#notebook-container');\n",
       "if (notebookContainer) {{\n",
       "    x.observe(notebookContainer, {childList: true});\n",
       "}}\n",
       "\n",
       "// Listen for the clearing of the current output cell\n",
       "var outputEl = gd.closest('.output');\n",
       "if (outputEl) {{\n",
       "    x.observe(outputEl, {childList: true});\n",
       "}}\n",
       "\n",
       "                        })                };            </script>        </div>"
      ]
     },
     "metadata": {},
     "output_type": "display_data"
    }
   ],
   "source": [
    "fig = px.box(df, x=\"Category\", y=\"UnitPrice\", title=\"การกระจายราคาต่อหน่วยในแต่ละประเภทสินค้า\")\n",
    "fig.show()"
   ]
  },
  {
   "cell_type": "code",
   "execution_count": 97,
   "id": "dc093e0a-f63d-43dd-865b-75552e6412a5",
   "metadata": {},
   "outputs": [
    {
     "data": {
      "application/vnd.plotly.v1+json": {
       "config": {
        "plotlyServerURL": "https://plot.ly"
       },
       "data": [
        {
         "hovertemplate": "Supplier=TechMart Inc.<br>ItemName=%{x}<br>TotalCost=%{y}<extra></extra>",
         "legendgroup": "TechMart Inc.",
         "marker": {
          "color": "#636efa",
          "symbol": "circle"
         },
         "mode": "markers",
         "name": "TechMart Inc.",
         "orientation": "v",
         "showlegend": true,
         "type": "scatter",
         "x": [
          "Laptop",
          "Laptop",
          "Laptop",
          "Laptop",
          "Laptop",
          "Laptop",
          "Laptop"
         ],
         "xaxis": "x",
         "y": {
          "bdata": "SOF6FE5AzkCamZmZmfnRQJqZmZnZo8RAKVyPwrXNzkDXo3A9SnzIQHsUrkchjc1AFK5H4boM0UA=",
          "dtype": "f8"
         },
         "yaxis": "y"
        },
        {
         "hovertemplate": "Supplier=QuickDeliver Ltd.<br>ItemName=%{x}<br>TotalCost=%{y}<extra></extra>",
         "legendgroup": "QuickDeliver Ltd.",
         "marker": {
          "color": "#EF553B",
          "symbol": "circle"
         },
         "mode": "markers",
         "name": "QuickDeliver Ltd.",
         "orientation": "v",
         "showlegend": true,
         "type": "scatter",
         "x": [
          "Laptop",
          "Laptop",
          "Laptop",
          "Laptop",
          "Laptop",
          "Laptop"
         ],
         "xaxis": "x",
         "y": {
          "bdata": "j8L1KFylzkApXI/CNTTGQFK4HoWr4cRAmpmZmVl+xkAUrkfhOgnMQIXrUbg+z8RA",
          "dtype": "f8"
         },
         "yaxis": "y"
        },
        {
         "hovertemplate": "Supplier=OfficeSupplies Co.<br>ItemName=%{x}<br>TotalCost=%{y}<extra></extra>",
         "legendgroup": "OfficeSupplies Co.",
         "marker": {
          "color": "#00cc96",
          "symbol": "circle"
         },
         "mode": "markers",
         "name": "OfficeSupplies Co.",
         "orientation": "v",
         "showlegend": true,
         "type": "scatter",
         "x": [
          "Laptop",
          "Laptop",
          "Laptop"
         ],
         "xaxis": "x",
         "y": {
          "bdata": "4XoUrseUy0AK16NwPQLOQClcj8J1D8RA",
          "dtype": "f8"
         },
         "yaxis": "y"
        },
        {
         "hovertemplate": "Supplier=CloudSoft Corp.<br>ItemName=%{x}<br>TotalCost=%{y}<extra></extra>",
         "legendgroup": "CloudSoft Corp.",
         "marker": {
          "color": "#ab63fa",
          "symbol": "circle"
         },
         "mode": "markers",
         "name": "CloudSoft Corp.",
         "orientation": "v",
         "showlegend": true,
         "type": "scatter",
         "x": [
          "Laptop",
          "Laptop",
          "Laptop",
          "Laptop",
          "Laptop",
          "Laptop",
          "Laptop"
         ],
         "xaxis": "x",
         "y": {
          "bdata": "7FG4HuX3xEBxPQrX4+vGQOxRuB4lJsZA7FG4HoUzxECamZmZWZLKQGZmZmamD9JAzczMzGyFyEA=",
          "dtype": "f8"
         },
         "yaxis": "y"
        },
        {
         "hovertemplate": "Supplier=FurniWorks Ltd.<br>ItemName=%{x}<br>TotalCost=%{y}<extra></extra>",
         "legendgroup": "FurniWorks Ltd.",
         "marker": {
          "color": "#FFA15A",
          "symbol": "circle"
         },
         "mode": "markers",
         "name": "FurniWorks Ltd.",
         "orientation": "v",
         "showlegend": true,
         "type": "scatter",
         "x": [
          "Laptop",
          "Laptop"
         ],
         "xaxis": "x",
         "y": {
          "bdata": "AAAAAABYyUBSuB6FiwnPQA==",
          "dtype": "f8"
         },
         "yaxis": "y"
        }
       ],
       "layout": {
        "legend": {
         "title": {
          "text": "Supplier"
         },
         "tracegroupgap": 0
        },
        "template": {
         "data": {
          "bar": [
           {
            "error_x": {
             "color": "#2a3f5f"
            },
            "error_y": {
             "color": "#2a3f5f"
            },
            "marker": {
             "line": {
              "color": "#E5ECF6",
              "width": 0.5
             },
             "pattern": {
              "fillmode": "overlay",
              "size": 10,
              "solidity": 0.2
             }
            },
            "type": "bar"
           }
          ],
          "barpolar": [
           {
            "marker": {
             "line": {
              "color": "#E5ECF6",
              "width": 0.5
             },
             "pattern": {
              "fillmode": "overlay",
              "size": 10,
              "solidity": 0.2
             }
            },
            "type": "barpolar"
           }
          ],
          "carpet": [
           {
            "aaxis": {
             "endlinecolor": "#2a3f5f",
             "gridcolor": "white",
             "linecolor": "white",
             "minorgridcolor": "white",
             "startlinecolor": "#2a3f5f"
            },
            "baxis": {
             "endlinecolor": "#2a3f5f",
             "gridcolor": "white",
             "linecolor": "white",
             "minorgridcolor": "white",
             "startlinecolor": "#2a3f5f"
            },
            "type": "carpet"
           }
          ],
          "choropleth": [
           {
            "colorbar": {
             "outlinewidth": 0,
             "ticks": ""
            },
            "type": "choropleth"
           }
          ],
          "contour": [
           {
            "colorbar": {
             "outlinewidth": 0,
             "ticks": ""
            },
            "colorscale": [
             [
              0,
              "#0d0887"
             ],
             [
              0.1111111111111111,
              "#46039f"
             ],
             [
              0.2222222222222222,
              "#7201a8"
             ],
             [
              0.3333333333333333,
              "#9c179e"
             ],
             [
              0.4444444444444444,
              "#bd3786"
             ],
             [
              0.5555555555555556,
              "#d8576b"
             ],
             [
              0.6666666666666666,
              "#ed7953"
             ],
             [
              0.7777777777777778,
              "#fb9f3a"
             ],
             [
              0.8888888888888888,
              "#fdca26"
             ],
             [
              1,
              "#f0f921"
             ]
            ],
            "type": "contour"
           }
          ],
          "contourcarpet": [
           {
            "colorbar": {
             "outlinewidth": 0,
             "ticks": ""
            },
            "type": "contourcarpet"
           }
          ],
          "heatmap": [
           {
            "colorbar": {
             "outlinewidth": 0,
             "ticks": ""
            },
            "colorscale": [
             [
              0,
              "#0d0887"
             ],
             [
              0.1111111111111111,
              "#46039f"
             ],
             [
              0.2222222222222222,
              "#7201a8"
             ],
             [
              0.3333333333333333,
              "#9c179e"
             ],
             [
              0.4444444444444444,
              "#bd3786"
             ],
             [
              0.5555555555555556,
              "#d8576b"
             ],
             [
              0.6666666666666666,
              "#ed7953"
             ],
             [
              0.7777777777777778,
              "#fb9f3a"
             ],
             [
              0.8888888888888888,
              "#fdca26"
             ],
             [
              1,
              "#f0f921"
             ]
            ],
            "type": "heatmap"
           }
          ],
          "histogram": [
           {
            "marker": {
             "pattern": {
              "fillmode": "overlay",
              "size": 10,
              "solidity": 0.2
             }
            },
            "type": "histogram"
           }
          ],
          "histogram2d": [
           {
            "colorbar": {
             "outlinewidth": 0,
             "ticks": ""
            },
            "colorscale": [
             [
              0,
              "#0d0887"
             ],
             [
              0.1111111111111111,
              "#46039f"
             ],
             [
              0.2222222222222222,
              "#7201a8"
             ],
             [
              0.3333333333333333,
              "#9c179e"
             ],
             [
              0.4444444444444444,
              "#bd3786"
             ],
             [
              0.5555555555555556,
              "#d8576b"
             ],
             [
              0.6666666666666666,
              "#ed7953"
             ],
             [
              0.7777777777777778,
              "#fb9f3a"
             ],
             [
              0.8888888888888888,
              "#fdca26"
             ],
             [
              1,
              "#f0f921"
             ]
            ],
            "type": "histogram2d"
           }
          ],
          "histogram2dcontour": [
           {
            "colorbar": {
             "outlinewidth": 0,
             "ticks": ""
            },
            "colorscale": [
             [
              0,
              "#0d0887"
             ],
             [
              0.1111111111111111,
              "#46039f"
             ],
             [
              0.2222222222222222,
              "#7201a8"
             ],
             [
              0.3333333333333333,
              "#9c179e"
             ],
             [
              0.4444444444444444,
              "#bd3786"
             ],
             [
              0.5555555555555556,
              "#d8576b"
             ],
             [
              0.6666666666666666,
              "#ed7953"
             ],
             [
              0.7777777777777778,
              "#fb9f3a"
             ],
             [
              0.8888888888888888,
              "#fdca26"
             ],
             [
              1,
              "#f0f921"
             ]
            ],
            "type": "histogram2dcontour"
           }
          ],
          "mesh3d": [
           {
            "colorbar": {
             "outlinewidth": 0,
             "ticks": ""
            },
            "type": "mesh3d"
           }
          ],
          "parcoords": [
           {
            "line": {
             "colorbar": {
              "outlinewidth": 0,
              "ticks": ""
             }
            },
            "type": "parcoords"
           }
          ],
          "pie": [
           {
            "automargin": true,
            "type": "pie"
           }
          ],
          "scatter": [
           {
            "fillpattern": {
             "fillmode": "overlay",
             "size": 10,
             "solidity": 0.2
            },
            "type": "scatter"
           }
          ],
          "scatter3d": [
           {
            "line": {
             "colorbar": {
              "outlinewidth": 0,
              "ticks": ""
             }
            },
            "marker": {
             "colorbar": {
              "outlinewidth": 0,
              "ticks": ""
             }
            },
            "type": "scatter3d"
           }
          ],
          "scattercarpet": [
           {
            "marker": {
             "colorbar": {
              "outlinewidth": 0,
              "ticks": ""
             }
            },
            "type": "scattercarpet"
           }
          ],
          "scattergeo": [
           {
            "marker": {
             "colorbar": {
              "outlinewidth": 0,
              "ticks": ""
             }
            },
            "type": "scattergeo"
           }
          ],
          "scattergl": [
           {
            "marker": {
             "colorbar": {
              "outlinewidth": 0,
              "ticks": ""
             }
            },
            "type": "scattergl"
           }
          ],
          "scattermap": [
           {
            "marker": {
             "colorbar": {
              "outlinewidth": 0,
              "ticks": ""
             }
            },
            "type": "scattermap"
           }
          ],
          "scattermapbox": [
           {
            "marker": {
             "colorbar": {
              "outlinewidth": 0,
              "ticks": ""
             }
            },
            "type": "scattermapbox"
           }
          ],
          "scatterpolar": [
           {
            "marker": {
             "colorbar": {
              "outlinewidth": 0,
              "ticks": ""
             }
            },
            "type": "scatterpolar"
           }
          ],
          "scatterpolargl": [
           {
            "marker": {
             "colorbar": {
              "outlinewidth": 0,
              "ticks": ""
             }
            },
            "type": "scatterpolargl"
           }
          ],
          "scatterternary": [
           {
            "marker": {
             "colorbar": {
              "outlinewidth": 0,
              "ticks": ""
             }
            },
            "type": "scatterternary"
           }
          ],
          "surface": [
           {
            "colorbar": {
             "outlinewidth": 0,
             "ticks": ""
            },
            "colorscale": [
             [
              0,
              "#0d0887"
             ],
             [
              0.1111111111111111,
              "#46039f"
             ],
             [
              0.2222222222222222,
              "#7201a8"
             ],
             [
              0.3333333333333333,
              "#9c179e"
             ],
             [
              0.4444444444444444,
              "#bd3786"
             ],
             [
              0.5555555555555556,
              "#d8576b"
             ],
             [
              0.6666666666666666,
              "#ed7953"
             ],
             [
              0.7777777777777778,
              "#fb9f3a"
             ],
             [
              0.8888888888888888,
              "#fdca26"
             ],
             [
              1,
              "#f0f921"
             ]
            ],
            "type": "surface"
           }
          ],
          "table": [
           {
            "cells": {
             "fill": {
              "color": "#EBF0F8"
             },
             "line": {
              "color": "white"
             }
            },
            "header": {
             "fill": {
              "color": "#C8D4E3"
             },
             "line": {
              "color": "white"
             }
            },
            "type": "table"
           }
          ]
         },
         "layout": {
          "annotationdefaults": {
           "arrowcolor": "#2a3f5f",
           "arrowhead": 0,
           "arrowwidth": 1
          },
          "autotypenumbers": "strict",
          "coloraxis": {
           "colorbar": {
            "outlinewidth": 0,
            "ticks": ""
           }
          },
          "colorscale": {
           "diverging": [
            [
             0,
             "#8e0152"
            ],
            [
             0.1,
             "#c51b7d"
            ],
            [
             0.2,
             "#de77ae"
            ],
            [
             0.3,
             "#f1b6da"
            ],
            [
             0.4,
             "#fde0ef"
            ],
            [
             0.5,
             "#f7f7f7"
            ],
            [
             0.6,
             "#e6f5d0"
            ],
            [
             0.7,
             "#b8e186"
            ],
            [
             0.8,
             "#7fbc41"
            ],
            [
             0.9,
             "#4d9221"
            ],
            [
             1,
             "#276419"
            ]
           ],
           "sequential": [
            [
             0,
             "#0d0887"
            ],
            [
             0.1111111111111111,
             "#46039f"
            ],
            [
             0.2222222222222222,
             "#7201a8"
            ],
            [
             0.3333333333333333,
             "#9c179e"
            ],
            [
             0.4444444444444444,
             "#bd3786"
            ],
            [
             0.5555555555555556,
             "#d8576b"
            ],
            [
             0.6666666666666666,
             "#ed7953"
            ],
            [
             0.7777777777777778,
             "#fb9f3a"
            ],
            [
             0.8888888888888888,
             "#fdca26"
            ],
            [
             1,
             "#f0f921"
            ]
           ],
           "sequentialminus": [
            [
             0,
             "#0d0887"
            ],
            [
             0.1111111111111111,
             "#46039f"
            ],
            [
             0.2222222222222222,
             "#7201a8"
            ],
            [
             0.3333333333333333,
             "#9c179e"
            ],
            [
             0.4444444444444444,
             "#bd3786"
            ],
            [
             0.5555555555555556,
             "#d8576b"
            ],
            [
             0.6666666666666666,
             "#ed7953"
            ],
            [
             0.7777777777777778,
             "#fb9f3a"
            ],
            [
             0.8888888888888888,
             "#fdca26"
            ],
            [
             1,
             "#f0f921"
            ]
           ]
          },
          "colorway": [
           "#636efa",
           "#EF553B",
           "#00cc96",
           "#ab63fa",
           "#FFA15A",
           "#19d3f3",
           "#FF6692",
           "#B6E880",
           "#FF97FF",
           "#FECB52"
          ],
          "font": {
           "color": "#2a3f5f"
          },
          "geo": {
           "bgcolor": "white",
           "lakecolor": "white",
           "landcolor": "#E5ECF6",
           "showlakes": true,
           "showland": true,
           "subunitcolor": "white"
          },
          "hoverlabel": {
           "align": "left"
          },
          "hovermode": "closest",
          "mapbox": {
           "style": "light"
          },
          "paper_bgcolor": "white",
          "plot_bgcolor": "#E5ECF6",
          "polar": {
           "angularaxis": {
            "gridcolor": "white",
            "linecolor": "white",
            "ticks": ""
           },
           "bgcolor": "#E5ECF6",
           "radialaxis": {
            "gridcolor": "white",
            "linecolor": "white",
            "ticks": ""
           }
          },
          "scene": {
           "xaxis": {
            "backgroundcolor": "#E5ECF6",
            "gridcolor": "white",
            "gridwidth": 2,
            "linecolor": "white",
            "showbackground": true,
            "ticks": "",
            "zerolinecolor": "white"
           },
           "yaxis": {
            "backgroundcolor": "#E5ECF6",
            "gridcolor": "white",
            "gridwidth": 2,
            "linecolor": "white",
            "showbackground": true,
            "ticks": "",
            "zerolinecolor": "white"
           },
           "zaxis": {
            "backgroundcolor": "#E5ECF6",
            "gridcolor": "white",
            "gridwidth": 2,
            "linecolor": "white",
            "showbackground": true,
            "ticks": "",
            "zerolinecolor": "white"
           }
          },
          "shapedefaults": {
           "line": {
            "color": "#2a3f5f"
           }
          },
          "ternary": {
           "aaxis": {
            "gridcolor": "white",
            "linecolor": "white",
            "ticks": ""
           },
           "baxis": {
            "gridcolor": "white",
            "linecolor": "white",
            "ticks": ""
           },
           "bgcolor": "#E5ECF6",
           "caxis": {
            "gridcolor": "white",
            "linecolor": "white",
            "ticks": ""
           }
          },
          "title": {
           "x": 0.05
          },
          "xaxis": {
           "automargin": true,
           "gridcolor": "white",
           "linecolor": "white",
           "ticks": "",
           "title": {
            "standoff": 15
           },
           "zerolinecolor": "white",
           "zerolinewidth": 2
          },
          "yaxis": {
           "automargin": true,
           "gridcolor": "white",
           "linecolor": "white",
           "ticks": "",
           "title": {
            "standoff": 15
           },
           "zerolinecolor": "white",
           "zerolinewidth": 2
          }
         }
        },
        "title": {
         "text": "Outliers - รายการที่ต้นทุนสูงผิดปกติ"
        },
        "xaxis": {
         "anchor": "y",
         "domain": [
          0,
          1
         ],
         "title": {
          "text": "ItemName"
         }
        },
        "yaxis": {
         "anchor": "x",
         "domain": [
          0,
          1
         ],
         "title": {
          "text": "TotalCost"
         }
        }
       }
      },
      "text/html": [
       "<div>            <script src=\"https://cdnjs.cloudflare.com/ajax/libs/mathjax/2.7.5/MathJax.js?config=TeX-AMS-MML_SVG\"></script><script type=\"text/javascript\">if (window.MathJax && window.MathJax.Hub && window.MathJax.Hub.Config) {window.MathJax.Hub.Config({SVG: {font: \"STIX-Web\"}});}</script>                <script type=\"text/javascript\">window.PlotlyConfig = {MathJaxConfig: 'local'};</script>\n",
       "        <script charset=\"utf-8\" src=\"https://cdn.plot.ly/plotly-3.0.1.min.js\"></script>                <div id=\"381d37c8-fe3f-41c7-9431-da1539a73510\" class=\"plotly-graph-div\" style=\"height:525px; width:100%;\"></div>            <script type=\"text/javascript\">                window.PLOTLYENV=window.PLOTLYENV || {};                                if (document.getElementById(\"381d37c8-fe3f-41c7-9431-da1539a73510\")) {                    Plotly.newPlot(                        \"381d37c8-fe3f-41c7-9431-da1539a73510\",                        [{\"hovertemplate\":\"Supplier=TechMart Inc.\\u003cbr\\u003eItemName=%{x}\\u003cbr\\u003eTotalCost=%{y}\\u003cextra\\u003e\\u003c\\u002fextra\\u003e\",\"legendgroup\":\"TechMart Inc.\",\"marker\":{\"color\":\"#636efa\",\"symbol\":\"circle\"},\"mode\":\"markers\",\"name\":\"TechMart Inc.\",\"orientation\":\"v\",\"showlegend\":true,\"x\":[\"Laptop\",\"Laptop\",\"Laptop\",\"Laptop\",\"Laptop\",\"Laptop\",\"Laptop\"],\"xaxis\":\"x\",\"y\":{\"dtype\":\"f8\",\"bdata\":\"SOF6FE5AzkCamZmZmfnRQJqZmZnZo8RAKVyPwrXNzkDXo3A9SnzIQHsUrkchjc1AFK5H4boM0UA=\"},\"yaxis\":\"y\",\"type\":\"scatter\"},{\"hovertemplate\":\"Supplier=QuickDeliver Ltd.\\u003cbr\\u003eItemName=%{x}\\u003cbr\\u003eTotalCost=%{y}\\u003cextra\\u003e\\u003c\\u002fextra\\u003e\",\"legendgroup\":\"QuickDeliver Ltd.\",\"marker\":{\"color\":\"#EF553B\",\"symbol\":\"circle\"},\"mode\":\"markers\",\"name\":\"QuickDeliver Ltd.\",\"orientation\":\"v\",\"showlegend\":true,\"x\":[\"Laptop\",\"Laptop\",\"Laptop\",\"Laptop\",\"Laptop\",\"Laptop\"],\"xaxis\":\"x\",\"y\":{\"dtype\":\"f8\",\"bdata\":\"j8L1KFylzkApXI\\u002fCNTTGQFK4HoWr4cRAmpmZmVl+xkAUrkfhOgnMQIXrUbg+z8RA\"},\"yaxis\":\"y\",\"type\":\"scatter\"},{\"hovertemplate\":\"Supplier=OfficeSupplies Co.\\u003cbr\\u003eItemName=%{x}\\u003cbr\\u003eTotalCost=%{y}\\u003cextra\\u003e\\u003c\\u002fextra\\u003e\",\"legendgroup\":\"OfficeSupplies Co.\",\"marker\":{\"color\":\"#00cc96\",\"symbol\":\"circle\"},\"mode\":\"markers\",\"name\":\"OfficeSupplies Co.\",\"orientation\":\"v\",\"showlegend\":true,\"x\":[\"Laptop\",\"Laptop\",\"Laptop\"],\"xaxis\":\"x\",\"y\":{\"dtype\":\"f8\",\"bdata\":\"4XoUrseUy0AK16NwPQLOQClcj8J1D8RA\"},\"yaxis\":\"y\",\"type\":\"scatter\"},{\"hovertemplate\":\"Supplier=CloudSoft Corp.\\u003cbr\\u003eItemName=%{x}\\u003cbr\\u003eTotalCost=%{y}\\u003cextra\\u003e\\u003c\\u002fextra\\u003e\",\"legendgroup\":\"CloudSoft Corp.\",\"marker\":{\"color\":\"#ab63fa\",\"symbol\":\"circle\"},\"mode\":\"markers\",\"name\":\"CloudSoft Corp.\",\"orientation\":\"v\",\"showlegend\":true,\"x\":[\"Laptop\",\"Laptop\",\"Laptop\",\"Laptop\",\"Laptop\",\"Laptop\",\"Laptop\"],\"xaxis\":\"x\",\"y\":{\"dtype\":\"f8\",\"bdata\":\"7FG4HuX3xEBxPQrX4+vGQOxRuB4lJsZA7FG4HoUzxECamZmZWZLKQGZmZmamD9JAzczMzGyFyEA=\"},\"yaxis\":\"y\",\"type\":\"scatter\"},{\"hovertemplate\":\"Supplier=FurniWorks Ltd.\\u003cbr\\u003eItemName=%{x}\\u003cbr\\u003eTotalCost=%{y}\\u003cextra\\u003e\\u003c\\u002fextra\\u003e\",\"legendgroup\":\"FurniWorks Ltd.\",\"marker\":{\"color\":\"#FFA15A\",\"symbol\":\"circle\"},\"mode\":\"markers\",\"name\":\"FurniWorks Ltd.\",\"orientation\":\"v\",\"showlegend\":true,\"x\":[\"Laptop\",\"Laptop\"],\"xaxis\":\"x\",\"y\":{\"dtype\":\"f8\",\"bdata\":\"AAAAAABYyUBSuB6FiwnPQA==\"},\"yaxis\":\"y\",\"type\":\"scatter\"}],                        {\"template\":{\"data\":{\"histogram2dcontour\":[{\"type\":\"histogram2dcontour\",\"colorbar\":{\"outlinewidth\":0,\"ticks\":\"\"},\"colorscale\":[[0.0,\"#0d0887\"],[0.1111111111111111,\"#46039f\"],[0.2222222222222222,\"#7201a8\"],[0.3333333333333333,\"#9c179e\"],[0.4444444444444444,\"#bd3786\"],[0.5555555555555556,\"#d8576b\"],[0.6666666666666666,\"#ed7953\"],[0.7777777777777778,\"#fb9f3a\"],[0.8888888888888888,\"#fdca26\"],[1.0,\"#f0f921\"]]}],\"choropleth\":[{\"type\":\"choropleth\",\"colorbar\":{\"outlinewidth\":0,\"ticks\":\"\"}}],\"histogram2d\":[{\"type\":\"histogram2d\",\"colorbar\":{\"outlinewidth\":0,\"ticks\":\"\"},\"colorscale\":[[0.0,\"#0d0887\"],[0.1111111111111111,\"#46039f\"],[0.2222222222222222,\"#7201a8\"],[0.3333333333333333,\"#9c179e\"],[0.4444444444444444,\"#bd3786\"],[0.5555555555555556,\"#d8576b\"],[0.6666666666666666,\"#ed7953\"],[0.7777777777777778,\"#fb9f3a\"],[0.8888888888888888,\"#fdca26\"],[1.0,\"#f0f921\"]]}],\"heatmap\":[{\"type\":\"heatmap\",\"colorbar\":{\"outlinewidth\":0,\"ticks\":\"\"},\"colorscale\":[[0.0,\"#0d0887\"],[0.1111111111111111,\"#46039f\"],[0.2222222222222222,\"#7201a8\"],[0.3333333333333333,\"#9c179e\"],[0.4444444444444444,\"#bd3786\"],[0.5555555555555556,\"#d8576b\"],[0.6666666666666666,\"#ed7953\"],[0.7777777777777778,\"#fb9f3a\"],[0.8888888888888888,\"#fdca26\"],[1.0,\"#f0f921\"]]}],\"contourcarpet\":[{\"type\":\"contourcarpet\",\"colorbar\":{\"outlinewidth\":0,\"ticks\":\"\"}}],\"contour\":[{\"type\":\"contour\",\"colorbar\":{\"outlinewidth\":0,\"ticks\":\"\"},\"colorscale\":[[0.0,\"#0d0887\"],[0.1111111111111111,\"#46039f\"],[0.2222222222222222,\"#7201a8\"],[0.3333333333333333,\"#9c179e\"],[0.4444444444444444,\"#bd3786\"],[0.5555555555555556,\"#d8576b\"],[0.6666666666666666,\"#ed7953\"],[0.7777777777777778,\"#fb9f3a\"],[0.8888888888888888,\"#fdca26\"],[1.0,\"#f0f921\"]]}],\"surface\":[{\"type\":\"surface\",\"colorbar\":{\"outlinewidth\":0,\"ticks\":\"\"},\"colorscale\":[[0.0,\"#0d0887\"],[0.1111111111111111,\"#46039f\"],[0.2222222222222222,\"#7201a8\"],[0.3333333333333333,\"#9c179e\"],[0.4444444444444444,\"#bd3786\"],[0.5555555555555556,\"#d8576b\"],[0.6666666666666666,\"#ed7953\"],[0.7777777777777778,\"#fb9f3a\"],[0.8888888888888888,\"#fdca26\"],[1.0,\"#f0f921\"]]}],\"mesh3d\":[{\"type\":\"mesh3d\",\"colorbar\":{\"outlinewidth\":0,\"ticks\":\"\"}}],\"scatter\":[{\"fillpattern\":{\"fillmode\":\"overlay\",\"size\":10,\"solidity\":0.2},\"type\":\"scatter\"}],\"parcoords\":[{\"type\":\"parcoords\",\"line\":{\"colorbar\":{\"outlinewidth\":0,\"ticks\":\"\"}}}],\"scatterpolargl\":[{\"type\":\"scatterpolargl\",\"marker\":{\"colorbar\":{\"outlinewidth\":0,\"ticks\":\"\"}}}],\"bar\":[{\"error_x\":{\"color\":\"#2a3f5f\"},\"error_y\":{\"color\":\"#2a3f5f\"},\"marker\":{\"line\":{\"color\":\"#E5ECF6\",\"width\":0.5},\"pattern\":{\"fillmode\":\"overlay\",\"size\":10,\"solidity\":0.2}},\"type\":\"bar\"}],\"scattergeo\":[{\"type\":\"scattergeo\",\"marker\":{\"colorbar\":{\"outlinewidth\":0,\"ticks\":\"\"}}}],\"scatterpolar\":[{\"type\":\"scatterpolar\",\"marker\":{\"colorbar\":{\"outlinewidth\":0,\"ticks\":\"\"}}}],\"histogram\":[{\"marker\":{\"pattern\":{\"fillmode\":\"overlay\",\"size\":10,\"solidity\":0.2}},\"type\":\"histogram\"}],\"scattergl\":[{\"type\":\"scattergl\",\"marker\":{\"colorbar\":{\"outlinewidth\":0,\"ticks\":\"\"}}}],\"scatter3d\":[{\"type\":\"scatter3d\",\"line\":{\"colorbar\":{\"outlinewidth\":0,\"ticks\":\"\"}},\"marker\":{\"colorbar\":{\"outlinewidth\":0,\"ticks\":\"\"}}}],\"scattermap\":[{\"type\":\"scattermap\",\"marker\":{\"colorbar\":{\"outlinewidth\":0,\"ticks\":\"\"}}}],\"scattermapbox\":[{\"type\":\"scattermapbox\",\"marker\":{\"colorbar\":{\"outlinewidth\":0,\"ticks\":\"\"}}}],\"scatterternary\":[{\"type\":\"scatterternary\",\"marker\":{\"colorbar\":{\"outlinewidth\":0,\"ticks\":\"\"}}}],\"scattercarpet\":[{\"type\":\"scattercarpet\",\"marker\":{\"colorbar\":{\"outlinewidth\":0,\"ticks\":\"\"}}}],\"carpet\":[{\"aaxis\":{\"endlinecolor\":\"#2a3f5f\",\"gridcolor\":\"white\",\"linecolor\":\"white\",\"minorgridcolor\":\"white\",\"startlinecolor\":\"#2a3f5f\"},\"baxis\":{\"endlinecolor\":\"#2a3f5f\",\"gridcolor\":\"white\",\"linecolor\":\"white\",\"minorgridcolor\":\"white\",\"startlinecolor\":\"#2a3f5f\"},\"type\":\"carpet\"}],\"table\":[{\"cells\":{\"fill\":{\"color\":\"#EBF0F8\"},\"line\":{\"color\":\"white\"}},\"header\":{\"fill\":{\"color\":\"#C8D4E3\"},\"line\":{\"color\":\"white\"}},\"type\":\"table\"}],\"barpolar\":[{\"marker\":{\"line\":{\"color\":\"#E5ECF6\",\"width\":0.5},\"pattern\":{\"fillmode\":\"overlay\",\"size\":10,\"solidity\":0.2}},\"type\":\"barpolar\"}],\"pie\":[{\"automargin\":true,\"type\":\"pie\"}]},\"layout\":{\"autotypenumbers\":\"strict\",\"colorway\":[\"#636efa\",\"#EF553B\",\"#00cc96\",\"#ab63fa\",\"#FFA15A\",\"#19d3f3\",\"#FF6692\",\"#B6E880\",\"#FF97FF\",\"#FECB52\"],\"font\":{\"color\":\"#2a3f5f\"},\"hovermode\":\"closest\",\"hoverlabel\":{\"align\":\"left\"},\"paper_bgcolor\":\"white\",\"plot_bgcolor\":\"#E5ECF6\",\"polar\":{\"bgcolor\":\"#E5ECF6\",\"angularaxis\":{\"gridcolor\":\"white\",\"linecolor\":\"white\",\"ticks\":\"\"},\"radialaxis\":{\"gridcolor\":\"white\",\"linecolor\":\"white\",\"ticks\":\"\"}},\"ternary\":{\"bgcolor\":\"#E5ECF6\",\"aaxis\":{\"gridcolor\":\"white\",\"linecolor\":\"white\",\"ticks\":\"\"},\"baxis\":{\"gridcolor\":\"white\",\"linecolor\":\"white\",\"ticks\":\"\"},\"caxis\":{\"gridcolor\":\"white\",\"linecolor\":\"white\",\"ticks\":\"\"}},\"coloraxis\":{\"colorbar\":{\"outlinewidth\":0,\"ticks\":\"\"}},\"colorscale\":{\"sequential\":[[0.0,\"#0d0887\"],[0.1111111111111111,\"#46039f\"],[0.2222222222222222,\"#7201a8\"],[0.3333333333333333,\"#9c179e\"],[0.4444444444444444,\"#bd3786\"],[0.5555555555555556,\"#d8576b\"],[0.6666666666666666,\"#ed7953\"],[0.7777777777777778,\"#fb9f3a\"],[0.8888888888888888,\"#fdca26\"],[1.0,\"#f0f921\"]],\"sequentialminus\":[[0.0,\"#0d0887\"],[0.1111111111111111,\"#46039f\"],[0.2222222222222222,\"#7201a8\"],[0.3333333333333333,\"#9c179e\"],[0.4444444444444444,\"#bd3786\"],[0.5555555555555556,\"#d8576b\"],[0.6666666666666666,\"#ed7953\"],[0.7777777777777778,\"#fb9f3a\"],[0.8888888888888888,\"#fdca26\"],[1.0,\"#f0f921\"]],\"diverging\":[[0,\"#8e0152\"],[0.1,\"#c51b7d\"],[0.2,\"#de77ae\"],[0.3,\"#f1b6da\"],[0.4,\"#fde0ef\"],[0.5,\"#f7f7f7\"],[0.6,\"#e6f5d0\"],[0.7,\"#b8e186\"],[0.8,\"#7fbc41\"],[0.9,\"#4d9221\"],[1,\"#276419\"]]},\"xaxis\":{\"gridcolor\":\"white\",\"linecolor\":\"white\",\"ticks\":\"\",\"title\":{\"standoff\":15},\"zerolinecolor\":\"white\",\"automargin\":true,\"zerolinewidth\":2},\"yaxis\":{\"gridcolor\":\"white\",\"linecolor\":\"white\",\"ticks\":\"\",\"title\":{\"standoff\":15},\"zerolinecolor\":\"white\",\"automargin\":true,\"zerolinewidth\":2},\"scene\":{\"xaxis\":{\"backgroundcolor\":\"#E5ECF6\",\"gridcolor\":\"white\",\"linecolor\":\"white\",\"showbackground\":true,\"ticks\":\"\",\"zerolinecolor\":\"white\",\"gridwidth\":2},\"yaxis\":{\"backgroundcolor\":\"#E5ECF6\",\"gridcolor\":\"white\",\"linecolor\":\"white\",\"showbackground\":true,\"ticks\":\"\",\"zerolinecolor\":\"white\",\"gridwidth\":2},\"zaxis\":{\"backgroundcolor\":\"#E5ECF6\",\"gridcolor\":\"white\",\"linecolor\":\"white\",\"showbackground\":true,\"ticks\":\"\",\"zerolinecolor\":\"white\",\"gridwidth\":2}},\"shapedefaults\":{\"line\":{\"color\":\"#2a3f5f\"}},\"annotationdefaults\":{\"arrowcolor\":\"#2a3f5f\",\"arrowhead\":0,\"arrowwidth\":1},\"geo\":{\"bgcolor\":\"white\",\"landcolor\":\"#E5ECF6\",\"subunitcolor\":\"white\",\"showland\":true,\"showlakes\":true,\"lakecolor\":\"white\"},\"title\":{\"x\":0.05},\"mapbox\":{\"style\":\"light\"}}},\"xaxis\":{\"anchor\":\"y\",\"domain\":[0.0,1.0],\"title\":{\"text\":\"ItemName\"}},\"yaxis\":{\"anchor\":\"x\",\"domain\":[0.0,1.0],\"title\":{\"text\":\"TotalCost\"}},\"legend\":{\"title\":{\"text\":\"Supplier\"},\"tracegroupgap\":0},\"title\":{\"text\":\"Outliers - \\u0e23\\u0e32\\u0e22\\u0e01\\u0e32\\u0e23\\u0e17\\u0e35\\u0e48\\u0e15\\u0e49\\u0e19\\u0e17\\u0e38\\u0e19\\u0e2a\\u0e39\\u0e07\\u0e1c\\u0e34\\u0e14\\u0e1b\\u0e01\\u0e15\\u0e34\"}},                        {\"responsive\": true}                    ).then(function(){\n",
       "                            \n",
       "var gd = document.getElementById('381d37c8-fe3f-41c7-9431-da1539a73510');\n",
       "var x = new MutationObserver(function (mutations, observer) {{\n",
       "        var display = window.getComputedStyle(gd).display;\n",
       "        if (!display || display === 'none') {{\n",
       "            console.log([gd, 'removed!']);\n",
       "            Plotly.purge(gd);\n",
       "            observer.disconnect();\n",
       "        }}\n",
       "}});\n",
       "\n",
       "// Listen for the removal of the full notebook cells\n",
       "var notebookContainer = gd.closest('#notebook-container');\n",
       "if (notebookContainer) {{\n",
       "    x.observe(notebookContainer, {childList: true});\n",
       "}}\n",
       "\n",
       "// Listen for the clearing of the current output cell\n",
       "var outputEl = gd.closest('.output');\n",
       "if (outputEl) {{\n",
       "    x.observe(outputEl, {childList: true});\n",
       "}}\n",
       "\n",
       "                        })                };            </script>        </div>"
      ]
     },
     "metadata": {},
     "output_type": "display_data"
    }
   ],
   "source": [
    "outliers = df[df[\"TotalCost\"] > df[\"TotalCost\"].quantile(0.95)]\n",
    "\n",
    "fig = px.scatter(outliers, x=\"ItemName\", y=\"TotalCost\", color=\"Supplier\", title=\"Outliers - รายการที่ต้นทุนสูงผิดปกติ\")\n",
    "fig.show()"
   ]
  },
  {
   "cell_type": "code",
   "execution_count": 98,
   "id": "f03013f5-86e7-468a-ad6a-2206ae716043",
   "metadata": {},
   "outputs": [
    {
     "data": {
      "application/vnd.plotly.v1+json": {
       "config": {
        "plotlyServerURL": "https://plot.ly"
       },
       "data": [
        {
         "hovertemplate": "ItemName=%{x}<br>Buyer=%{y}<extra></extra>",
         "legendgroup": "",
         "marker": {
          "color": "#636efa",
          "pattern": {
           "shape": ""
          }
         },
         "name": "",
         "orientation": "v",
         "showlegend": false,
         "textposition": "auto",
         "texttemplate": "%{y}",
         "type": "bar",
         "x": [
          "Printer Ink",
          "Stapler",
          "Whiteboard",
          "Annual Software License",
          "Desk Chair",
          "Laptop",
          "Laptop Bag",
          "Monitor",
          "Notepad",
          "Printer"
         ],
         "xaxis": "x",
         "y": {
          "bdata": "ExMTEhISEhIREQ==",
          "dtype": "i1"
         },
         "yaxis": "y"
        }
       ],
       "layout": {
        "barmode": "relative",
        "legend": {
         "tracegroupgap": 0
        },
        "template": {
         "data": {
          "bar": [
           {
            "error_x": {
             "color": "#2a3f5f"
            },
            "error_y": {
             "color": "#2a3f5f"
            },
            "marker": {
             "line": {
              "color": "#E5ECF6",
              "width": 0.5
             },
             "pattern": {
              "fillmode": "overlay",
              "size": 10,
              "solidity": 0.2
             }
            },
            "type": "bar"
           }
          ],
          "barpolar": [
           {
            "marker": {
             "line": {
              "color": "#E5ECF6",
              "width": 0.5
             },
             "pattern": {
              "fillmode": "overlay",
              "size": 10,
              "solidity": 0.2
             }
            },
            "type": "barpolar"
           }
          ],
          "carpet": [
           {
            "aaxis": {
             "endlinecolor": "#2a3f5f",
             "gridcolor": "white",
             "linecolor": "white",
             "minorgridcolor": "white",
             "startlinecolor": "#2a3f5f"
            },
            "baxis": {
             "endlinecolor": "#2a3f5f",
             "gridcolor": "white",
             "linecolor": "white",
             "minorgridcolor": "white",
             "startlinecolor": "#2a3f5f"
            },
            "type": "carpet"
           }
          ],
          "choropleth": [
           {
            "colorbar": {
             "outlinewidth": 0,
             "ticks": ""
            },
            "type": "choropleth"
           }
          ],
          "contour": [
           {
            "colorbar": {
             "outlinewidth": 0,
             "ticks": ""
            },
            "colorscale": [
             [
              0,
              "#0d0887"
             ],
             [
              0.1111111111111111,
              "#46039f"
             ],
             [
              0.2222222222222222,
              "#7201a8"
             ],
             [
              0.3333333333333333,
              "#9c179e"
             ],
             [
              0.4444444444444444,
              "#bd3786"
             ],
             [
              0.5555555555555556,
              "#d8576b"
             ],
             [
              0.6666666666666666,
              "#ed7953"
             ],
             [
              0.7777777777777778,
              "#fb9f3a"
             ],
             [
              0.8888888888888888,
              "#fdca26"
             ],
             [
              1,
              "#f0f921"
             ]
            ],
            "type": "contour"
           }
          ],
          "contourcarpet": [
           {
            "colorbar": {
             "outlinewidth": 0,
             "ticks": ""
            },
            "type": "contourcarpet"
           }
          ],
          "heatmap": [
           {
            "colorbar": {
             "outlinewidth": 0,
             "ticks": ""
            },
            "colorscale": [
             [
              0,
              "#0d0887"
             ],
             [
              0.1111111111111111,
              "#46039f"
             ],
             [
              0.2222222222222222,
              "#7201a8"
             ],
             [
              0.3333333333333333,
              "#9c179e"
             ],
             [
              0.4444444444444444,
              "#bd3786"
             ],
             [
              0.5555555555555556,
              "#d8576b"
             ],
             [
              0.6666666666666666,
              "#ed7953"
             ],
             [
              0.7777777777777778,
              "#fb9f3a"
             ],
             [
              0.8888888888888888,
              "#fdca26"
             ],
             [
              1,
              "#f0f921"
             ]
            ],
            "type": "heatmap"
           }
          ],
          "histogram": [
           {
            "marker": {
             "pattern": {
              "fillmode": "overlay",
              "size": 10,
              "solidity": 0.2
             }
            },
            "type": "histogram"
           }
          ],
          "histogram2d": [
           {
            "colorbar": {
             "outlinewidth": 0,
             "ticks": ""
            },
            "colorscale": [
             [
              0,
              "#0d0887"
             ],
             [
              0.1111111111111111,
              "#46039f"
             ],
             [
              0.2222222222222222,
              "#7201a8"
             ],
             [
              0.3333333333333333,
              "#9c179e"
             ],
             [
              0.4444444444444444,
              "#bd3786"
             ],
             [
              0.5555555555555556,
              "#d8576b"
             ],
             [
              0.6666666666666666,
              "#ed7953"
             ],
             [
              0.7777777777777778,
              "#fb9f3a"
             ],
             [
              0.8888888888888888,
              "#fdca26"
             ],
             [
              1,
              "#f0f921"
             ]
            ],
            "type": "histogram2d"
           }
          ],
          "histogram2dcontour": [
           {
            "colorbar": {
             "outlinewidth": 0,
             "ticks": ""
            },
            "colorscale": [
             [
              0,
              "#0d0887"
             ],
             [
              0.1111111111111111,
              "#46039f"
             ],
             [
              0.2222222222222222,
              "#7201a8"
             ],
             [
              0.3333333333333333,
              "#9c179e"
             ],
             [
              0.4444444444444444,
              "#bd3786"
             ],
             [
              0.5555555555555556,
              "#d8576b"
             ],
             [
              0.6666666666666666,
              "#ed7953"
             ],
             [
              0.7777777777777778,
              "#fb9f3a"
             ],
             [
              0.8888888888888888,
              "#fdca26"
             ],
             [
              1,
              "#f0f921"
             ]
            ],
            "type": "histogram2dcontour"
           }
          ],
          "mesh3d": [
           {
            "colorbar": {
             "outlinewidth": 0,
             "ticks": ""
            },
            "type": "mesh3d"
           }
          ],
          "parcoords": [
           {
            "line": {
             "colorbar": {
              "outlinewidth": 0,
              "ticks": ""
             }
            },
            "type": "parcoords"
           }
          ],
          "pie": [
           {
            "automargin": true,
            "type": "pie"
           }
          ],
          "scatter": [
           {
            "fillpattern": {
             "fillmode": "overlay",
             "size": 10,
             "solidity": 0.2
            },
            "type": "scatter"
           }
          ],
          "scatter3d": [
           {
            "line": {
             "colorbar": {
              "outlinewidth": 0,
              "ticks": ""
             }
            },
            "marker": {
             "colorbar": {
              "outlinewidth": 0,
              "ticks": ""
             }
            },
            "type": "scatter3d"
           }
          ],
          "scattercarpet": [
           {
            "marker": {
             "colorbar": {
              "outlinewidth": 0,
              "ticks": ""
             }
            },
            "type": "scattercarpet"
           }
          ],
          "scattergeo": [
           {
            "marker": {
             "colorbar": {
              "outlinewidth": 0,
              "ticks": ""
             }
            },
            "type": "scattergeo"
           }
          ],
          "scattergl": [
           {
            "marker": {
             "colorbar": {
              "outlinewidth": 0,
              "ticks": ""
             }
            },
            "type": "scattergl"
           }
          ],
          "scattermap": [
           {
            "marker": {
             "colorbar": {
              "outlinewidth": 0,
              "ticks": ""
             }
            },
            "type": "scattermap"
           }
          ],
          "scattermapbox": [
           {
            "marker": {
             "colorbar": {
              "outlinewidth": 0,
              "ticks": ""
             }
            },
            "type": "scattermapbox"
           }
          ],
          "scatterpolar": [
           {
            "marker": {
             "colorbar": {
              "outlinewidth": 0,
              "ticks": ""
             }
            },
            "type": "scatterpolar"
           }
          ],
          "scatterpolargl": [
           {
            "marker": {
             "colorbar": {
              "outlinewidth": 0,
              "ticks": ""
             }
            },
            "type": "scatterpolargl"
           }
          ],
          "scatterternary": [
           {
            "marker": {
             "colorbar": {
              "outlinewidth": 0,
              "ticks": ""
             }
            },
            "type": "scatterternary"
           }
          ],
          "surface": [
           {
            "colorbar": {
             "outlinewidth": 0,
             "ticks": ""
            },
            "colorscale": [
             [
              0,
              "#0d0887"
             ],
             [
              0.1111111111111111,
              "#46039f"
             ],
             [
              0.2222222222222222,
              "#7201a8"
             ],
             [
              0.3333333333333333,
              "#9c179e"
             ],
             [
              0.4444444444444444,
              "#bd3786"
             ],
             [
              0.5555555555555556,
              "#d8576b"
             ],
             [
              0.6666666666666666,
              "#ed7953"
             ],
             [
              0.7777777777777778,
              "#fb9f3a"
             ],
             [
              0.8888888888888888,
              "#fdca26"
             ],
             [
              1,
              "#f0f921"
             ]
            ],
            "type": "surface"
           }
          ],
          "table": [
           {
            "cells": {
             "fill": {
              "color": "#EBF0F8"
             },
             "line": {
              "color": "white"
             }
            },
            "header": {
             "fill": {
              "color": "#C8D4E3"
             },
             "line": {
              "color": "white"
             }
            },
            "type": "table"
           }
          ]
         },
         "layout": {
          "annotationdefaults": {
           "arrowcolor": "#2a3f5f",
           "arrowhead": 0,
           "arrowwidth": 1
          },
          "autotypenumbers": "strict",
          "coloraxis": {
           "colorbar": {
            "outlinewidth": 0,
            "ticks": ""
           }
          },
          "colorscale": {
           "diverging": [
            [
             0,
             "#8e0152"
            ],
            [
             0.1,
             "#c51b7d"
            ],
            [
             0.2,
             "#de77ae"
            ],
            [
             0.3,
             "#f1b6da"
            ],
            [
             0.4,
             "#fde0ef"
            ],
            [
             0.5,
             "#f7f7f7"
            ],
            [
             0.6,
             "#e6f5d0"
            ],
            [
             0.7,
             "#b8e186"
            ],
            [
             0.8,
             "#7fbc41"
            ],
            [
             0.9,
             "#4d9221"
            ],
            [
             1,
             "#276419"
            ]
           ],
           "sequential": [
            [
             0,
             "#0d0887"
            ],
            [
             0.1111111111111111,
             "#46039f"
            ],
            [
             0.2222222222222222,
             "#7201a8"
            ],
            [
             0.3333333333333333,
             "#9c179e"
            ],
            [
             0.4444444444444444,
             "#bd3786"
            ],
            [
             0.5555555555555556,
             "#d8576b"
            ],
            [
             0.6666666666666666,
             "#ed7953"
            ],
            [
             0.7777777777777778,
             "#fb9f3a"
            ],
            [
             0.8888888888888888,
             "#fdca26"
            ],
            [
             1,
             "#f0f921"
            ]
           ],
           "sequentialminus": [
            [
             0,
             "#0d0887"
            ],
            [
             0.1111111111111111,
             "#46039f"
            ],
            [
             0.2222222222222222,
             "#7201a8"
            ],
            [
             0.3333333333333333,
             "#9c179e"
            ],
            [
             0.4444444444444444,
             "#bd3786"
            ],
            [
             0.5555555555555556,
             "#d8576b"
            ],
            [
             0.6666666666666666,
             "#ed7953"
            ],
            [
             0.7777777777777778,
             "#fb9f3a"
            ],
            [
             0.8888888888888888,
             "#fdca26"
            ],
            [
             1,
             "#f0f921"
            ]
           ]
          },
          "colorway": [
           "#636efa",
           "#EF553B",
           "#00cc96",
           "#ab63fa",
           "#FFA15A",
           "#19d3f3",
           "#FF6692",
           "#B6E880",
           "#FF97FF",
           "#FECB52"
          ],
          "font": {
           "color": "#2a3f5f"
          },
          "geo": {
           "bgcolor": "white",
           "lakecolor": "white",
           "landcolor": "#E5ECF6",
           "showlakes": true,
           "showland": true,
           "subunitcolor": "white"
          },
          "hoverlabel": {
           "align": "left"
          },
          "hovermode": "closest",
          "mapbox": {
           "style": "light"
          },
          "paper_bgcolor": "white",
          "plot_bgcolor": "#E5ECF6",
          "polar": {
           "angularaxis": {
            "gridcolor": "white",
            "linecolor": "white",
            "ticks": ""
           },
           "bgcolor": "#E5ECF6",
           "radialaxis": {
            "gridcolor": "white",
            "linecolor": "white",
            "ticks": ""
           }
          },
          "scene": {
           "xaxis": {
            "backgroundcolor": "#E5ECF6",
            "gridcolor": "white",
            "gridwidth": 2,
            "linecolor": "white",
            "showbackground": true,
            "ticks": "",
            "zerolinecolor": "white"
           },
           "yaxis": {
            "backgroundcolor": "#E5ECF6",
            "gridcolor": "white",
            "gridwidth": 2,
            "linecolor": "white",
            "showbackground": true,
            "ticks": "",
            "zerolinecolor": "white"
           },
           "zaxis": {
            "backgroundcolor": "#E5ECF6",
            "gridcolor": "white",
            "gridwidth": 2,
            "linecolor": "white",
            "showbackground": true,
            "ticks": "",
            "zerolinecolor": "white"
           }
          },
          "shapedefaults": {
           "line": {
            "color": "#2a3f5f"
           }
          },
          "ternary": {
           "aaxis": {
            "gridcolor": "white",
            "linecolor": "white",
            "ticks": ""
           },
           "baxis": {
            "gridcolor": "white",
            "linecolor": "white",
            "ticks": ""
           },
           "bgcolor": "#E5ECF6",
           "caxis": {
            "gridcolor": "white",
            "linecolor": "white",
            "ticks": ""
           }
          },
          "title": {
           "x": 0.05
          },
          "xaxis": {
           "automargin": true,
           "gridcolor": "white",
           "linecolor": "white",
           "ticks": "",
           "title": {
            "standoff": 15
           },
           "zerolinecolor": "white",
           "zerolinewidth": 2
          },
          "yaxis": {
           "automargin": true,
           "gridcolor": "white",
           "linecolor": "white",
           "ticks": "",
           "title": {
            "standoff": 15
           },
           "zerolinecolor": "white",
           "zerolinewidth": 2
          }
         }
        },
        "title": {
         "text": "Top 10 สินค้าที่ผู้ซื้อหลายคนซื้อซ้ำ"
        },
        "xaxis": {
         "anchor": "y",
         "domain": [
          0,
          1
         ],
         "title": {
          "text": "ItemName"
         }
        },
        "yaxis": {
         "anchor": "x",
         "domain": [
          0,
          1
         ],
         "title": {
          "text": "Buyer"
         }
        }
       }
      },
      "text/html": [
       "<div>            <script src=\"https://cdnjs.cloudflare.com/ajax/libs/mathjax/2.7.5/MathJax.js?config=TeX-AMS-MML_SVG\"></script><script type=\"text/javascript\">if (window.MathJax && window.MathJax.Hub && window.MathJax.Hub.Config) {window.MathJax.Hub.Config({SVG: {font: \"STIX-Web\"}});}</script>                <script type=\"text/javascript\">window.PlotlyConfig = {MathJaxConfig: 'local'};</script>\n",
       "        <script charset=\"utf-8\" src=\"https://cdn.plot.ly/plotly-3.0.1.min.js\"></script>                <div id=\"5aa2c25c-db60-4ba8-a70c-b9ce4c6bbc81\" class=\"plotly-graph-div\" style=\"height:525px; width:100%;\"></div>            <script type=\"text/javascript\">                window.PLOTLYENV=window.PLOTLYENV || {};                                if (document.getElementById(\"5aa2c25c-db60-4ba8-a70c-b9ce4c6bbc81\")) {                    Plotly.newPlot(                        \"5aa2c25c-db60-4ba8-a70c-b9ce4c6bbc81\",                        [{\"hovertemplate\":\"ItemName=%{x}\\u003cbr\\u003eBuyer=%{y}\\u003cextra\\u003e\\u003c\\u002fextra\\u003e\",\"legendgroup\":\"\",\"marker\":{\"color\":\"#636efa\",\"pattern\":{\"shape\":\"\"}},\"name\":\"\",\"orientation\":\"v\",\"showlegend\":false,\"textposition\":\"auto\",\"texttemplate\":\"%{y}\",\"x\":[\"Printer Ink\",\"Stapler\",\"Whiteboard\",\"Annual Software License\",\"Desk Chair\",\"Laptop\",\"Laptop Bag\",\"Monitor\",\"Notepad\",\"Printer\"],\"xaxis\":\"x\",\"y\":{\"dtype\":\"i1\",\"bdata\":\"ExMTEhISEhIREQ==\"},\"yaxis\":\"y\",\"type\":\"bar\"}],                        {\"template\":{\"data\":{\"histogram2dcontour\":[{\"type\":\"histogram2dcontour\",\"colorbar\":{\"outlinewidth\":0,\"ticks\":\"\"},\"colorscale\":[[0.0,\"#0d0887\"],[0.1111111111111111,\"#46039f\"],[0.2222222222222222,\"#7201a8\"],[0.3333333333333333,\"#9c179e\"],[0.4444444444444444,\"#bd3786\"],[0.5555555555555556,\"#d8576b\"],[0.6666666666666666,\"#ed7953\"],[0.7777777777777778,\"#fb9f3a\"],[0.8888888888888888,\"#fdca26\"],[1.0,\"#f0f921\"]]}],\"choropleth\":[{\"type\":\"choropleth\",\"colorbar\":{\"outlinewidth\":0,\"ticks\":\"\"}}],\"histogram2d\":[{\"type\":\"histogram2d\",\"colorbar\":{\"outlinewidth\":0,\"ticks\":\"\"},\"colorscale\":[[0.0,\"#0d0887\"],[0.1111111111111111,\"#46039f\"],[0.2222222222222222,\"#7201a8\"],[0.3333333333333333,\"#9c179e\"],[0.4444444444444444,\"#bd3786\"],[0.5555555555555556,\"#d8576b\"],[0.6666666666666666,\"#ed7953\"],[0.7777777777777778,\"#fb9f3a\"],[0.8888888888888888,\"#fdca26\"],[1.0,\"#f0f921\"]]}],\"heatmap\":[{\"type\":\"heatmap\",\"colorbar\":{\"outlinewidth\":0,\"ticks\":\"\"},\"colorscale\":[[0.0,\"#0d0887\"],[0.1111111111111111,\"#46039f\"],[0.2222222222222222,\"#7201a8\"],[0.3333333333333333,\"#9c179e\"],[0.4444444444444444,\"#bd3786\"],[0.5555555555555556,\"#d8576b\"],[0.6666666666666666,\"#ed7953\"],[0.7777777777777778,\"#fb9f3a\"],[0.8888888888888888,\"#fdca26\"],[1.0,\"#f0f921\"]]}],\"contourcarpet\":[{\"type\":\"contourcarpet\",\"colorbar\":{\"outlinewidth\":0,\"ticks\":\"\"}}],\"contour\":[{\"type\":\"contour\",\"colorbar\":{\"outlinewidth\":0,\"ticks\":\"\"},\"colorscale\":[[0.0,\"#0d0887\"],[0.1111111111111111,\"#46039f\"],[0.2222222222222222,\"#7201a8\"],[0.3333333333333333,\"#9c179e\"],[0.4444444444444444,\"#bd3786\"],[0.5555555555555556,\"#d8576b\"],[0.6666666666666666,\"#ed7953\"],[0.7777777777777778,\"#fb9f3a\"],[0.8888888888888888,\"#fdca26\"],[1.0,\"#f0f921\"]]}],\"surface\":[{\"type\":\"surface\",\"colorbar\":{\"outlinewidth\":0,\"ticks\":\"\"},\"colorscale\":[[0.0,\"#0d0887\"],[0.1111111111111111,\"#46039f\"],[0.2222222222222222,\"#7201a8\"],[0.3333333333333333,\"#9c179e\"],[0.4444444444444444,\"#bd3786\"],[0.5555555555555556,\"#d8576b\"],[0.6666666666666666,\"#ed7953\"],[0.7777777777777778,\"#fb9f3a\"],[0.8888888888888888,\"#fdca26\"],[1.0,\"#f0f921\"]]}],\"mesh3d\":[{\"type\":\"mesh3d\",\"colorbar\":{\"outlinewidth\":0,\"ticks\":\"\"}}],\"scatter\":[{\"fillpattern\":{\"fillmode\":\"overlay\",\"size\":10,\"solidity\":0.2},\"type\":\"scatter\"}],\"parcoords\":[{\"type\":\"parcoords\",\"line\":{\"colorbar\":{\"outlinewidth\":0,\"ticks\":\"\"}}}],\"scatterpolargl\":[{\"type\":\"scatterpolargl\",\"marker\":{\"colorbar\":{\"outlinewidth\":0,\"ticks\":\"\"}}}],\"bar\":[{\"error_x\":{\"color\":\"#2a3f5f\"},\"error_y\":{\"color\":\"#2a3f5f\"},\"marker\":{\"line\":{\"color\":\"#E5ECF6\",\"width\":0.5},\"pattern\":{\"fillmode\":\"overlay\",\"size\":10,\"solidity\":0.2}},\"type\":\"bar\"}],\"scattergeo\":[{\"type\":\"scattergeo\",\"marker\":{\"colorbar\":{\"outlinewidth\":0,\"ticks\":\"\"}}}],\"scatterpolar\":[{\"type\":\"scatterpolar\",\"marker\":{\"colorbar\":{\"outlinewidth\":0,\"ticks\":\"\"}}}],\"histogram\":[{\"marker\":{\"pattern\":{\"fillmode\":\"overlay\",\"size\":10,\"solidity\":0.2}},\"type\":\"histogram\"}],\"scattergl\":[{\"type\":\"scattergl\",\"marker\":{\"colorbar\":{\"outlinewidth\":0,\"ticks\":\"\"}}}],\"scatter3d\":[{\"type\":\"scatter3d\",\"line\":{\"colorbar\":{\"outlinewidth\":0,\"ticks\":\"\"}},\"marker\":{\"colorbar\":{\"outlinewidth\":0,\"ticks\":\"\"}}}],\"scattermap\":[{\"type\":\"scattermap\",\"marker\":{\"colorbar\":{\"outlinewidth\":0,\"ticks\":\"\"}}}],\"scattermapbox\":[{\"type\":\"scattermapbox\",\"marker\":{\"colorbar\":{\"outlinewidth\":0,\"ticks\":\"\"}}}],\"scatterternary\":[{\"type\":\"scatterternary\",\"marker\":{\"colorbar\":{\"outlinewidth\":0,\"ticks\":\"\"}}}],\"scattercarpet\":[{\"type\":\"scattercarpet\",\"marker\":{\"colorbar\":{\"outlinewidth\":0,\"ticks\":\"\"}}}],\"carpet\":[{\"aaxis\":{\"endlinecolor\":\"#2a3f5f\",\"gridcolor\":\"white\",\"linecolor\":\"white\",\"minorgridcolor\":\"white\",\"startlinecolor\":\"#2a3f5f\"},\"baxis\":{\"endlinecolor\":\"#2a3f5f\",\"gridcolor\":\"white\",\"linecolor\":\"white\",\"minorgridcolor\":\"white\",\"startlinecolor\":\"#2a3f5f\"},\"type\":\"carpet\"}],\"table\":[{\"cells\":{\"fill\":{\"color\":\"#EBF0F8\"},\"line\":{\"color\":\"white\"}},\"header\":{\"fill\":{\"color\":\"#C8D4E3\"},\"line\":{\"color\":\"white\"}},\"type\":\"table\"}],\"barpolar\":[{\"marker\":{\"line\":{\"color\":\"#E5ECF6\",\"width\":0.5},\"pattern\":{\"fillmode\":\"overlay\",\"size\":10,\"solidity\":0.2}},\"type\":\"barpolar\"}],\"pie\":[{\"automargin\":true,\"type\":\"pie\"}]},\"layout\":{\"autotypenumbers\":\"strict\",\"colorway\":[\"#636efa\",\"#EF553B\",\"#00cc96\",\"#ab63fa\",\"#FFA15A\",\"#19d3f3\",\"#FF6692\",\"#B6E880\",\"#FF97FF\",\"#FECB52\"],\"font\":{\"color\":\"#2a3f5f\"},\"hovermode\":\"closest\",\"hoverlabel\":{\"align\":\"left\"},\"paper_bgcolor\":\"white\",\"plot_bgcolor\":\"#E5ECF6\",\"polar\":{\"bgcolor\":\"#E5ECF6\",\"angularaxis\":{\"gridcolor\":\"white\",\"linecolor\":\"white\",\"ticks\":\"\"},\"radialaxis\":{\"gridcolor\":\"white\",\"linecolor\":\"white\",\"ticks\":\"\"}},\"ternary\":{\"bgcolor\":\"#E5ECF6\",\"aaxis\":{\"gridcolor\":\"white\",\"linecolor\":\"white\",\"ticks\":\"\"},\"baxis\":{\"gridcolor\":\"white\",\"linecolor\":\"white\",\"ticks\":\"\"},\"caxis\":{\"gridcolor\":\"white\",\"linecolor\":\"white\",\"ticks\":\"\"}},\"coloraxis\":{\"colorbar\":{\"outlinewidth\":0,\"ticks\":\"\"}},\"colorscale\":{\"sequential\":[[0.0,\"#0d0887\"],[0.1111111111111111,\"#46039f\"],[0.2222222222222222,\"#7201a8\"],[0.3333333333333333,\"#9c179e\"],[0.4444444444444444,\"#bd3786\"],[0.5555555555555556,\"#d8576b\"],[0.6666666666666666,\"#ed7953\"],[0.7777777777777778,\"#fb9f3a\"],[0.8888888888888888,\"#fdca26\"],[1.0,\"#f0f921\"]],\"sequentialminus\":[[0.0,\"#0d0887\"],[0.1111111111111111,\"#46039f\"],[0.2222222222222222,\"#7201a8\"],[0.3333333333333333,\"#9c179e\"],[0.4444444444444444,\"#bd3786\"],[0.5555555555555556,\"#d8576b\"],[0.6666666666666666,\"#ed7953\"],[0.7777777777777778,\"#fb9f3a\"],[0.8888888888888888,\"#fdca26\"],[1.0,\"#f0f921\"]],\"diverging\":[[0,\"#8e0152\"],[0.1,\"#c51b7d\"],[0.2,\"#de77ae\"],[0.3,\"#f1b6da\"],[0.4,\"#fde0ef\"],[0.5,\"#f7f7f7\"],[0.6,\"#e6f5d0\"],[0.7,\"#b8e186\"],[0.8,\"#7fbc41\"],[0.9,\"#4d9221\"],[1,\"#276419\"]]},\"xaxis\":{\"gridcolor\":\"white\",\"linecolor\":\"white\",\"ticks\":\"\",\"title\":{\"standoff\":15},\"zerolinecolor\":\"white\",\"automargin\":true,\"zerolinewidth\":2},\"yaxis\":{\"gridcolor\":\"white\",\"linecolor\":\"white\",\"ticks\":\"\",\"title\":{\"standoff\":15},\"zerolinecolor\":\"white\",\"automargin\":true,\"zerolinewidth\":2},\"scene\":{\"xaxis\":{\"backgroundcolor\":\"#E5ECF6\",\"gridcolor\":\"white\",\"linecolor\":\"white\",\"showbackground\":true,\"ticks\":\"\",\"zerolinecolor\":\"white\",\"gridwidth\":2},\"yaxis\":{\"backgroundcolor\":\"#E5ECF6\",\"gridcolor\":\"white\",\"linecolor\":\"white\",\"showbackground\":true,\"ticks\":\"\",\"zerolinecolor\":\"white\",\"gridwidth\":2},\"zaxis\":{\"backgroundcolor\":\"#E5ECF6\",\"gridcolor\":\"white\",\"linecolor\":\"white\",\"showbackground\":true,\"ticks\":\"\",\"zerolinecolor\":\"white\",\"gridwidth\":2}},\"shapedefaults\":{\"line\":{\"color\":\"#2a3f5f\"}},\"annotationdefaults\":{\"arrowcolor\":\"#2a3f5f\",\"arrowhead\":0,\"arrowwidth\":1},\"geo\":{\"bgcolor\":\"white\",\"landcolor\":\"#E5ECF6\",\"subunitcolor\":\"white\",\"showland\":true,\"showlakes\":true,\"lakecolor\":\"white\"},\"title\":{\"x\":0.05},\"mapbox\":{\"style\":\"light\"}}},\"xaxis\":{\"anchor\":\"y\",\"domain\":[0.0,1.0],\"title\":{\"text\":\"ItemName\"}},\"yaxis\":{\"anchor\":\"x\",\"domain\":[0.0,1.0],\"title\":{\"text\":\"Buyer\"}},\"legend\":{\"tracegroupgap\":0},\"title\":{\"text\":\"Top 10 \\u0e2a\\u0e34\\u0e19\\u0e04\\u0e49\\u0e32\\u0e17\\u0e35\\u0e48\\u0e1c\\u0e39\\u0e49\\u0e0b\\u0e37\\u0e49\\u0e2d\\u0e2b\\u0e25\\u0e32\\u0e22\\u0e04\\u0e19\\u0e0b\\u0e37\\u0e49\\u0e2d\\u0e0b\\u0e49\\u0e33\"},\"barmode\":\"relative\"},                        {\"responsive\": true}                    ).then(function(){\n",
       "                            \n",
       "var gd = document.getElementById('5aa2c25c-db60-4ba8-a70c-b9ce4c6bbc81');\n",
       "var x = new MutationObserver(function (mutations, observer) {{\n",
       "        var display = window.getComputedStyle(gd).display;\n",
       "        if (!display || display === 'none') {{\n",
       "            console.log([gd, 'removed!']);\n",
       "            Plotly.purge(gd);\n",
       "            observer.disconnect();\n",
       "        }}\n",
       "}});\n",
       "\n",
       "// Listen for the removal of the full notebook cells\n",
       "var notebookContainer = gd.closest('#notebook-container');\n",
       "if (notebookContainer) {{\n",
       "    x.observe(notebookContainer, {childList: true});\n",
       "}}\n",
       "\n",
       "// Listen for the clearing of the current output cell\n",
       "var outputEl = gd.closest('.output');\n",
       "if (outputEl) {{\n",
       "    x.observe(outputEl, {childList: true});\n",
       "}}\n",
       "\n",
       "                        })                };            </script>        </div>"
      ]
     },
     "metadata": {},
     "output_type": "display_data"
    }
   ],
   "source": [
    "reordered = df.groupby(\"ItemName\")[\"Buyer\"].nunique().reset_index()\n",
    "reordered = reordered.sort_values(\"Buyer\", ascending=False).head(10)\n",
    "\n",
    "fig = px.bar(reordered, x=\"ItemName\", y=\"Buyer\", title=\"Top 10 สินค้าที่ผู้ซื้อหลายคนซื้อซ้ำ\", text_auto=True)\n",
    "fig.show()"
   ]
  },
  {
   "cell_type": "code",
   "execution_count": 99,
   "id": "3b252a18-ea58-4a16-95cb-e7b05b8285ac",
   "metadata": {},
   "outputs": [
    {
     "data": {
      "application/vnd.plotly.v1+json": {
       "config": {
        "plotlyServerURL": "https://plot.ly"
       },
       "data": [
        {
         "hovertemplate": "Buyer=Lisa Parks<br>ItemName=%{x}<br>Times=%{y}<extra></extra>",
         "legendgroup": "Lisa Parks",
         "marker": {
          "color": "#636efa",
          "pattern": {
           "shape": ""
          }
         },
         "name": "Lisa Parks",
         "orientation": "v",
         "showlegend": true,
         "textposition": "auto",
         "texttemplate": "%{y}",
         "type": "bar",
         "x": [
          "Notepad"
         ],
         "xaxis": "x",
         "y": {
          "bdata": "Cg==",
          "dtype": "i1"
         },
         "yaxis": "y"
        },
        {
         "hovertemplate": "Buyer=Laura White<br>ItemName=%{x}<br>Times=%{y}<extra></extra>",
         "legendgroup": "Laura White",
         "marker": {
          "color": "#EF553B",
          "pattern": {
           "shape": ""
          }
         },
         "name": "Laura White",
         "orientation": "v",
         "showlegend": true,
         "textposition": "auto",
         "texttemplate": "%{y}",
         "type": "bar",
         "x": [
          "Desk Chair"
         ],
         "xaxis": "x",
         "y": {
          "bdata": "CA==",
          "dtype": "i1"
         },
         "yaxis": "y"
        },
        {
         "hovertemplate": "Buyer=Todd James<br>ItemName=%{x}<br>Times=%{y}<extra></extra>",
         "legendgroup": "Todd James",
         "marker": {
          "color": "#00cc96",
          "pattern": {
           "shape": ""
          }
         },
         "name": "Todd James",
         "orientation": "v",
         "showlegend": true,
         "textposition": "auto",
         "texttemplate": "%{y}",
         "type": "bar",
         "x": [
          "Laptop Bag"
         ],
         "xaxis": "x",
         "y": {
          "bdata": "Bw==",
          "dtype": "i1"
         },
         "yaxis": "y"
        },
        {
         "hovertemplate": "Buyer=Walter Pena<br>ItemName=%{x}<br>Times=%{y}<extra></extra>",
         "legendgroup": "Walter Pena",
         "marker": {
          "color": "#ab63fa",
          "pattern": {
           "shape": ""
          }
         },
         "name": "Walter Pena",
         "orientation": "v",
         "showlegend": true,
         "textposition": "auto",
         "texttemplate": "%{y}",
         "type": "bar",
         "x": [
          "Whiteboard",
          "Stapler"
         ],
         "xaxis": "x",
         "y": {
          "bdata": "BgY=",
          "dtype": "i1"
         },
         "yaxis": "y"
        },
        {
         "hovertemplate": "Buyer=Kelly Joseph<br>ItemName=%{x}<br>Times=%{y}<extra></extra>",
         "legendgroup": "Kelly Joseph",
         "marker": {
          "color": "#FFA15A",
          "pattern": {
           "shape": ""
          }
         },
         "name": "Kelly Joseph",
         "orientation": "v",
         "showlegend": true,
         "textposition": "auto",
         "texttemplate": "%{y}",
         "type": "bar",
         "x": [
          "Laptop Bag"
         ],
         "xaxis": "x",
         "y": {
          "bdata": "Bg==",
          "dtype": "i1"
         },
         "yaxis": "y"
        },
        {
         "hovertemplate": "Buyer=Stephanie Bennett<br>ItemName=%{x}<br>Times=%{y}<extra></extra>",
         "legendgroup": "Stephanie Bennett",
         "marker": {
          "color": "#19d3f3",
          "pattern": {
           "shape": ""
          }
         },
         "name": "Stephanie Bennett",
         "orientation": "v",
         "showlegend": true,
         "textposition": "auto",
         "texttemplate": "%{y}",
         "type": "bar",
         "x": [
          "Stapler"
         ],
         "xaxis": "x",
         "y": {
          "bdata": "Bg==",
          "dtype": "i1"
         },
         "yaxis": "y"
        },
        {
         "hovertemplate": "Buyer=Jasmine Mcgee<br>ItemName=%{x}<br>Times=%{y}<extra></extra>",
         "legendgroup": "Jasmine Mcgee",
         "marker": {
          "color": "#FF6692",
          "pattern": {
           "shape": ""
          }
         },
         "name": "Jasmine Mcgee",
         "orientation": "v",
         "showlegend": true,
         "textposition": "auto",
         "texttemplate": "%{y}",
         "type": "bar",
         "x": [
          "Monitor",
          "Laptop"
         ],
         "xaxis": "x",
         "y": {
          "bdata": "BgU=",
          "dtype": "i1"
         },
         "yaxis": "y"
        },
        {
         "hovertemplate": "Buyer=Amy Warner<br>ItemName=%{x}<br>Times=%{y}<extra></extra>",
         "legendgroup": "Amy Warner",
         "marker": {
          "color": "#B6E880",
          "pattern": {
           "shape": ""
          }
         },
         "name": "Amy Warner",
         "orientation": "v",
         "showlegend": true,
         "textposition": "auto",
         "texttemplate": "%{y}",
         "type": "bar",
         "x": [
          "Desk Chair"
         ],
         "xaxis": "x",
         "y": {
          "bdata": "Bg==",
          "dtype": "i1"
         },
         "yaxis": "y"
        }
       ],
       "layout": {
        "barmode": "relative",
        "legend": {
         "title": {
          "text": "Buyer"
         },
         "tracegroupgap": 0
        },
        "template": {
         "data": {
          "bar": [
           {
            "error_x": {
             "color": "#2a3f5f"
            },
            "error_y": {
             "color": "#2a3f5f"
            },
            "marker": {
             "line": {
              "color": "#E5ECF6",
              "width": 0.5
             },
             "pattern": {
              "fillmode": "overlay",
              "size": 10,
              "solidity": 0.2
             }
            },
            "type": "bar"
           }
          ],
          "barpolar": [
           {
            "marker": {
             "line": {
              "color": "#E5ECF6",
              "width": 0.5
             },
             "pattern": {
              "fillmode": "overlay",
              "size": 10,
              "solidity": 0.2
             }
            },
            "type": "barpolar"
           }
          ],
          "carpet": [
           {
            "aaxis": {
             "endlinecolor": "#2a3f5f",
             "gridcolor": "white",
             "linecolor": "white",
             "minorgridcolor": "white",
             "startlinecolor": "#2a3f5f"
            },
            "baxis": {
             "endlinecolor": "#2a3f5f",
             "gridcolor": "white",
             "linecolor": "white",
             "minorgridcolor": "white",
             "startlinecolor": "#2a3f5f"
            },
            "type": "carpet"
           }
          ],
          "choropleth": [
           {
            "colorbar": {
             "outlinewidth": 0,
             "ticks": ""
            },
            "type": "choropleth"
           }
          ],
          "contour": [
           {
            "colorbar": {
             "outlinewidth": 0,
             "ticks": ""
            },
            "colorscale": [
             [
              0,
              "#0d0887"
             ],
             [
              0.1111111111111111,
              "#46039f"
             ],
             [
              0.2222222222222222,
              "#7201a8"
             ],
             [
              0.3333333333333333,
              "#9c179e"
             ],
             [
              0.4444444444444444,
              "#bd3786"
             ],
             [
              0.5555555555555556,
              "#d8576b"
             ],
             [
              0.6666666666666666,
              "#ed7953"
             ],
             [
              0.7777777777777778,
              "#fb9f3a"
             ],
             [
              0.8888888888888888,
              "#fdca26"
             ],
             [
              1,
              "#f0f921"
             ]
            ],
            "type": "contour"
           }
          ],
          "contourcarpet": [
           {
            "colorbar": {
             "outlinewidth": 0,
             "ticks": ""
            },
            "type": "contourcarpet"
           }
          ],
          "heatmap": [
           {
            "colorbar": {
             "outlinewidth": 0,
             "ticks": ""
            },
            "colorscale": [
             [
              0,
              "#0d0887"
             ],
             [
              0.1111111111111111,
              "#46039f"
             ],
             [
              0.2222222222222222,
              "#7201a8"
             ],
             [
              0.3333333333333333,
              "#9c179e"
             ],
             [
              0.4444444444444444,
              "#bd3786"
             ],
             [
              0.5555555555555556,
              "#d8576b"
             ],
             [
              0.6666666666666666,
              "#ed7953"
             ],
             [
              0.7777777777777778,
              "#fb9f3a"
             ],
             [
              0.8888888888888888,
              "#fdca26"
             ],
             [
              1,
              "#f0f921"
             ]
            ],
            "type": "heatmap"
           }
          ],
          "histogram": [
           {
            "marker": {
             "pattern": {
              "fillmode": "overlay",
              "size": 10,
              "solidity": 0.2
             }
            },
            "type": "histogram"
           }
          ],
          "histogram2d": [
           {
            "colorbar": {
             "outlinewidth": 0,
             "ticks": ""
            },
            "colorscale": [
             [
              0,
              "#0d0887"
             ],
             [
              0.1111111111111111,
              "#46039f"
             ],
             [
              0.2222222222222222,
              "#7201a8"
             ],
             [
              0.3333333333333333,
              "#9c179e"
             ],
             [
              0.4444444444444444,
              "#bd3786"
             ],
             [
              0.5555555555555556,
              "#d8576b"
             ],
             [
              0.6666666666666666,
              "#ed7953"
             ],
             [
              0.7777777777777778,
              "#fb9f3a"
             ],
             [
              0.8888888888888888,
              "#fdca26"
             ],
             [
              1,
              "#f0f921"
             ]
            ],
            "type": "histogram2d"
           }
          ],
          "histogram2dcontour": [
           {
            "colorbar": {
             "outlinewidth": 0,
             "ticks": ""
            },
            "colorscale": [
             [
              0,
              "#0d0887"
             ],
             [
              0.1111111111111111,
              "#46039f"
             ],
             [
              0.2222222222222222,
              "#7201a8"
             ],
             [
              0.3333333333333333,
              "#9c179e"
             ],
             [
              0.4444444444444444,
              "#bd3786"
             ],
             [
              0.5555555555555556,
              "#d8576b"
             ],
             [
              0.6666666666666666,
              "#ed7953"
             ],
             [
              0.7777777777777778,
              "#fb9f3a"
             ],
             [
              0.8888888888888888,
              "#fdca26"
             ],
             [
              1,
              "#f0f921"
             ]
            ],
            "type": "histogram2dcontour"
           }
          ],
          "mesh3d": [
           {
            "colorbar": {
             "outlinewidth": 0,
             "ticks": ""
            },
            "type": "mesh3d"
           }
          ],
          "parcoords": [
           {
            "line": {
             "colorbar": {
              "outlinewidth": 0,
              "ticks": ""
             }
            },
            "type": "parcoords"
           }
          ],
          "pie": [
           {
            "automargin": true,
            "type": "pie"
           }
          ],
          "scatter": [
           {
            "fillpattern": {
             "fillmode": "overlay",
             "size": 10,
             "solidity": 0.2
            },
            "type": "scatter"
           }
          ],
          "scatter3d": [
           {
            "line": {
             "colorbar": {
              "outlinewidth": 0,
              "ticks": ""
             }
            },
            "marker": {
             "colorbar": {
              "outlinewidth": 0,
              "ticks": ""
             }
            },
            "type": "scatter3d"
           }
          ],
          "scattercarpet": [
           {
            "marker": {
             "colorbar": {
              "outlinewidth": 0,
              "ticks": ""
             }
            },
            "type": "scattercarpet"
           }
          ],
          "scattergeo": [
           {
            "marker": {
             "colorbar": {
              "outlinewidth": 0,
              "ticks": ""
             }
            },
            "type": "scattergeo"
           }
          ],
          "scattergl": [
           {
            "marker": {
             "colorbar": {
              "outlinewidth": 0,
              "ticks": ""
             }
            },
            "type": "scattergl"
           }
          ],
          "scattermap": [
           {
            "marker": {
             "colorbar": {
              "outlinewidth": 0,
              "ticks": ""
             }
            },
            "type": "scattermap"
           }
          ],
          "scattermapbox": [
           {
            "marker": {
             "colorbar": {
              "outlinewidth": 0,
              "ticks": ""
             }
            },
            "type": "scattermapbox"
           }
          ],
          "scatterpolar": [
           {
            "marker": {
             "colorbar": {
              "outlinewidth": 0,
              "ticks": ""
             }
            },
            "type": "scatterpolar"
           }
          ],
          "scatterpolargl": [
           {
            "marker": {
             "colorbar": {
              "outlinewidth": 0,
              "ticks": ""
             }
            },
            "type": "scatterpolargl"
           }
          ],
          "scatterternary": [
           {
            "marker": {
             "colorbar": {
              "outlinewidth": 0,
              "ticks": ""
             }
            },
            "type": "scatterternary"
           }
          ],
          "surface": [
           {
            "colorbar": {
             "outlinewidth": 0,
             "ticks": ""
            },
            "colorscale": [
             [
              0,
              "#0d0887"
             ],
             [
              0.1111111111111111,
              "#46039f"
             ],
             [
              0.2222222222222222,
              "#7201a8"
             ],
             [
              0.3333333333333333,
              "#9c179e"
             ],
             [
              0.4444444444444444,
              "#bd3786"
             ],
             [
              0.5555555555555556,
              "#d8576b"
             ],
             [
              0.6666666666666666,
              "#ed7953"
             ],
             [
              0.7777777777777778,
              "#fb9f3a"
             ],
             [
              0.8888888888888888,
              "#fdca26"
             ],
             [
              1,
              "#f0f921"
             ]
            ],
            "type": "surface"
           }
          ],
          "table": [
           {
            "cells": {
             "fill": {
              "color": "#EBF0F8"
             },
             "line": {
              "color": "white"
             }
            },
            "header": {
             "fill": {
              "color": "#C8D4E3"
             },
             "line": {
              "color": "white"
             }
            },
            "type": "table"
           }
          ]
         },
         "layout": {
          "annotationdefaults": {
           "arrowcolor": "#2a3f5f",
           "arrowhead": 0,
           "arrowwidth": 1
          },
          "autotypenumbers": "strict",
          "coloraxis": {
           "colorbar": {
            "outlinewidth": 0,
            "ticks": ""
           }
          },
          "colorscale": {
           "diverging": [
            [
             0,
             "#8e0152"
            ],
            [
             0.1,
             "#c51b7d"
            ],
            [
             0.2,
             "#de77ae"
            ],
            [
             0.3,
             "#f1b6da"
            ],
            [
             0.4,
             "#fde0ef"
            ],
            [
             0.5,
             "#f7f7f7"
            ],
            [
             0.6,
             "#e6f5d0"
            ],
            [
             0.7,
             "#b8e186"
            ],
            [
             0.8,
             "#7fbc41"
            ],
            [
             0.9,
             "#4d9221"
            ],
            [
             1,
             "#276419"
            ]
           ],
           "sequential": [
            [
             0,
             "#0d0887"
            ],
            [
             0.1111111111111111,
             "#46039f"
            ],
            [
             0.2222222222222222,
             "#7201a8"
            ],
            [
             0.3333333333333333,
             "#9c179e"
            ],
            [
             0.4444444444444444,
             "#bd3786"
            ],
            [
             0.5555555555555556,
             "#d8576b"
            ],
            [
             0.6666666666666666,
             "#ed7953"
            ],
            [
             0.7777777777777778,
             "#fb9f3a"
            ],
            [
             0.8888888888888888,
             "#fdca26"
            ],
            [
             1,
             "#f0f921"
            ]
           ],
           "sequentialminus": [
            [
             0,
             "#0d0887"
            ],
            [
             0.1111111111111111,
             "#46039f"
            ],
            [
             0.2222222222222222,
             "#7201a8"
            ],
            [
             0.3333333333333333,
             "#9c179e"
            ],
            [
             0.4444444444444444,
             "#bd3786"
            ],
            [
             0.5555555555555556,
             "#d8576b"
            ],
            [
             0.6666666666666666,
             "#ed7953"
            ],
            [
             0.7777777777777778,
             "#fb9f3a"
            ],
            [
             0.8888888888888888,
             "#fdca26"
            ],
            [
             1,
             "#f0f921"
            ]
           ]
          },
          "colorway": [
           "#636efa",
           "#EF553B",
           "#00cc96",
           "#ab63fa",
           "#FFA15A",
           "#19d3f3",
           "#FF6692",
           "#B6E880",
           "#FF97FF",
           "#FECB52"
          ],
          "font": {
           "color": "#2a3f5f"
          },
          "geo": {
           "bgcolor": "white",
           "lakecolor": "white",
           "landcolor": "#E5ECF6",
           "showlakes": true,
           "showland": true,
           "subunitcolor": "white"
          },
          "hoverlabel": {
           "align": "left"
          },
          "hovermode": "closest",
          "mapbox": {
           "style": "light"
          },
          "paper_bgcolor": "white",
          "plot_bgcolor": "#E5ECF6",
          "polar": {
           "angularaxis": {
            "gridcolor": "white",
            "linecolor": "white",
            "ticks": ""
           },
           "bgcolor": "#E5ECF6",
           "radialaxis": {
            "gridcolor": "white",
            "linecolor": "white",
            "ticks": ""
           }
          },
          "scene": {
           "xaxis": {
            "backgroundcolor": "#E5ECF6",
            "gridcolor": "white",
            "gridwidth": 2,
            "linecolor": "white",
            "showbackground": true,
            "ticks": "",
            "zerolinecolor": "white"
           },
           "yaxis": {
            "backgroundcolor": "#E5ECF6",
            "gridcolor": "white",
            "gridwidth": 2,
            "linecolor": "white",
            "showbackground": true,
            "ticks": "",
            "zerolinecolor": "white"
           },
           "zaxis": {
            "backgroundcolor": "#E5ECF6",
            "gridcolor": "white",
            "gridwidth": 2,
            "linecolor": "white",
            "showbackground": true,
            "ticks": "",
            "zerolinecolor": "white"
           }
          },
          "shapedefaults": {
           "line": {
            "color": "#2a3f5f"
           }
          },
          "ternary": {
           "aaxis": {
            "gridcolor": "white",
            "linecolor": "white",
            "ticks": ""
           },
           "baxis": {
            "gridcolor": "white",
            "linecolor": "white",
            "ticks": ""
           },
           "bgcolor": "#E5ECF6",
           "caxis": {
            "gridcolor": "white",
            "linecolor": "white",
            "ticks": ""
           }
          },
          "title": {
           "x": 0.05
          },
          "xaxis": {
           "automargin": true,
           "gridcolor": "white",
           "linecolor": "white",
           "ticks": "",
           "title": {
            "standoff": 15
           },
           "zerolinecolor": "white",
           "zerolinewidth": 2
          },
          "yaxis": {
           "automargin": true,
           "gridcolor": "white",
           "linecolor": "white",
           "ticks": "",
           "title": {
            "standoff": 15
           },
           "zerolinecolor": "white",
           "zerolinewidth": 2
          }
         }
        },
        "title": {
         "text": "Top สินค้าที่ผู้ซื้อรายเดิมสั่งซ้ำมากที่สุด"
        },
        "xaxis": {
         "anchor": "y",
         "domain": [
          0,
          1
         ],
         "title": {
          "text": "ItemName"
         }
        },
        "yaxis": {
         "anchor": "x",
         "domain": [
          0,
          1
         ],
         "title": {
          "text": "Times"
         }
        }
       }
      },
      "text/html": [
       "<div>            <script src=\"https://cdnjs.cloudflare.com/ajax/libs/mathjax/2.7.5/MathJax.js?config=TeX-AMS-MML_SVG\"></script><script type=\"text/javascript\">if (window.MathJax && window.MathJax.Hub && window.MathJax.Hub.Config) {window.MathJax.Hub.Config({SVG: {font: \"STIX-Web\"}});}</script>                <script type=\"text/javascript\">window.PlotlyConfig = {MathJaxConfig: 'local'};</script>\n",
       "        <script charset=\"utf-8\" src=\"https://cdn.plot.ly/plotly-3.0.1.min.js\"></script>                <div id=\"a4f5772a-de4f-407e-92ec-0dc84221d808\" class=\"plotly-graph-div\" style=\"height:525px; width:100%;\"></div>            <script type=\"text/javascript\">                window.PLOTLYENV=window.PLOTLYENV || {};                                if (document.getElementById(\"a4f5772a-de4f-407e-92ec-0dc84221d808\")) {                    Plotly.newPlot(                        \"a4f5772a-de4f-407e-92ec-0dc84221d808\",                        [{\"hovertemplate\":\"Buyer=Lisa Parks\\u003cbr\\u003eItemName=%{x}\\u003cbr\\u003eTimes=%{y}\\u003cextra\\u003e\\u003c\\u002fextra\\u003e\",\"legendgroup\":\"Lisa Parks\",\"marker\":{\"color\":\"#636efa\",\"pattern\":{\"shape\":\"\"}},\"name\":\"Lisa Parks\",\"orientation\":\"v\",\"showlegend\":true,\"textposition\":\"auto\",\"texttemplate\":\"%{y}\",\"x\":[\"Notepad\"],\"xaxis\":\"x\",\"y\":{\"dtype\":\"i1\",\"bdata\":\"Cg==\"},\"yaxis\":\"y\",\"type\":\"bar\"},{\"hovertemplate\":\"Buyer=Laura White\\u003cbr\\u003eItemName=%{x}\\u003cbr\\u003eTimes=%{y}\\u003cextra\\u003e\\u003c\\u002fextra\\u003e\",\"legendgroup\":\"Laura White\",\"marker\":{\"color\":\"#EF553B\",\"pattern\":{\"shape\":\"\"}},\"name\":\"Laura White\",\"orientation\":\"v\",\"showlegend\":true,\"textposition\":\"auto\",\"texttemplate\":\"%{y}\",\"x\":[\"Desk Chair\"],\"xaxis\":\"x\",\"y\":{\"dtype\":\"i1\",\"bdata\":\"CA==\"},\"yaxis\":\"y\",\"type\":\"bar\"},{\"hovertemplate\":\"Buyer=Todd James\\u003cbr\\u003eItemName=%{x}\\u003cbr\\u003eTimes=%{y}\\u003cextra\\u003e\\u003c\\u002fextra\\u003e\",\"legendgroup\":\"Todd James\",\"marker\":{\"color\":\"#00cc96\",\"pattern\":{\"shape\":\"\"}},\"name\":\"Todd James\",\"orientation\":\"v\",\"showlegend\":true,\"textposition\":\"auto\",\"texttemplate\":\"%{y}\",\"x\":[\"Laptop Bag\"],\"xaxis\":\"x\",\"y\":{\"dtype\":\"i1\",\"bdata\":\"Bw==\"},\"yaxis\":\"y\",\"type\":\"bar\"},{\"hovertemplate\":\"Buyer=Walter Pena\\u003cbr\\u003eItemName=%{x}\\u003cbr\\u003eTimes=%{y}\\u003cextra\\u003e\\u003c\\u002fextra\\u003e\",\"legendgroup\":\"Walter Pena\",\"marker\":{\"color\":\"#ab63fa\",\"pattern\":{\"shape\":\"\"}},\"name\":\"Walter Pena\",\"orientation\":\"v\",\"showlegend\":true,\"textposition\":\"auto\",\"texttemplate\":\"%{y}\",\"x\":[\"Whiteboard\",\"Stapler\"],\"xaxis\":\"x\",\"y\":{\"dtype\":\"i1\",\"bdata\":\"BgY=\"},\"yaxis\":\"y\",\"type\":\"bar\"},{\"hovertemplate\":\"Buyer=Kelly Joseph\\u003cbr\\u003eItemName=%{x}\\u003cbr\\u003eTimes=%{y}\\u003cextra\\u003e\\u003c\\u002fextra\\u003e\",\"legendgroup\":\"Kelly Joseph\",\"marker\":{\"color\":\"#FFA15A\",\"pattern\":{\"shape\":\"\"}},\"name\":\"Kelly Joseph\",\"orientation\":\"v\",\"showlegend\":true,\"textposition\":\"auto\",\"texttemplate\":\"%{y}\",\"x\":[\"Laptop Bag\"],\"xaxis\":\"x\",\"y\":{\"dtype\":\"i1\",\"bdata\":\"Bg==\"},\"yaxis\":\"y\",\"type\":\"bar\"},{\"hovertemplate\":\"Buyer=Stephanie Bennett\\u003cbr\\u003eItemName=%{x}\\u003cbr\\u003eTimes=%{y}\\u003cextra\\u003e\\u003c\\u002fextra\\u003e\",\"legendgroup\":\"Stephanie Bennett\",\"marker\":{\"color\":\"#19d3f3\",\"pattern\":{\"shape\":\"\"}},\"name\":\"Stephanie Bennett\",\"orientation\":\"v\",\"showlegend\":true,\"textposition\":\"auto\",\"texttemplate\":\"%{y}\",\"x\":[\"Stapler\"],\"xaxis\":\"x\",\"y\":{\"dtype\":\"i1\",\"bdata\":\"Bg==\"},\"yaxis\":\"y\",\"type\":\"bar\"},{\"hovertemplate\":\"Buyer=Jasmine Mcgee\\u003cbr\\u003eItemName=%{x}\\u003cbr\\u003eTimes=%{y}\\u003cextra\\u003e\\u003c\\u002fextra\\u003e\",\"legendgroup\":\"Jasmine Mcgee\",\"marker\":{\"color\":\"#FF6692\",\"pattern\":{\"shape\":\"\"}},\"name\":\"Jasmine Mcgee\",\"orientation\":\"v\",\"showlegend\":true,\"textposition\":\"auto\",\"texttemplate\":\"%{y}\",\"x\":[\"Monitor\",\"Laptop\"],\"xaxis\":\"x\",\"y\":{\"dtype\":\"i1\",\"bdata\":\"BgU=\"},\"yaxis\":\"y\",\"type\":\"bar\"},{\"hovertemplate\":\"Buyer=Amy Warner\\u003cbr\\u003eItemName=%{x}\\u003cbr\\u003eTimes=%{y}\\u003cextra\\u003e\\u003c\\u002fextra\\u003e\",\"legendgroup\":\"Amy Warner\",\"marker\":{\"color\":\"#B6E880\",\"pattern\":{\"shape\":\"\"}},\"name\":\"Amy Warner\",\"orientation\":\"v\",\"showlegend\":true,\"textposition\":\"auto\",\"texttemplate\":\"%{y}\",\"x\":[\"Desk Chair\"],\"xaxis\":\"x\",\"y\":{\"dtype\":\"i1\",\"bdata\":\"Bg==\"},\"yaxis\":\"y\",\"type\":\"bar\"}],                        {\"template\":{\"data\":{\"histogram2dcontour\":[{\"type\":\"histogram2dcontour\",\"colorbar\":{\"outlinewidth\":0,\"ticks\":\"\"},\"colorscale\":[[0.0,\"#0d0887\"],[0.1111111111111111,\"#46039f\"],[0.2222222222222222,\"#7201a8\"],[0.3333333333333333,\"#9c179e\"],[0.4444444444444444,\"#bd3786\"],[0.5555555555555556,\"#d8576b\"],[0.6666666666666666,\"#ed7953\"],[0.7777777777777778,\"#fb9f3a\"],[0.8888888888888888,\"#fdca26\"],[1.0,\"#f0f921\"]]}],\"choropleth\":[{\"type\":\"choropleth\",\"colorbar\":{\"outlinewidth\":0,\"ticks\":\"\"}}],\"histogram2d\":[{\"type\":\"histogram2d\",\"colorbar\":{\"outlinewidth\":0,\"ticks\":\"\"},\"colorscale\":[[0.0,\"#0d0887\"],[0.1111111111111111,\"#46039f\"],[0.2222222222222222,\"#7201a8\"],[0.3333333333333333,\"#9c179e\"],[0.4444444444444444,\"#bd3786\"],[0.5555555555555556,\"#d8576b\"],[0.6666666666666666,\"#ed7953\"],[0.7777777777777778,\"#fb9f3a\"],[0.8888888888888888,\"#fdca26\"],[1.0,\"#f0f921\"]]}],\"heatmap\":[{\"type\":\"heatmap\",\"colorbar\":{\"outlinewidth\":0,\"ticks\":\"\"},\"colorscale\":[[0.0,\"#0d0887\"],[0.1111111111111111,\"#46039f\"],[0.2222222222222222,\"#7201a8\"],[0.3333333333333333,\"#9c179e\"],[0.4444444444444444,\"#bd3786\"],[0.5555555555555556,\"#d8576b\"],[0.6666666666666666,\"#ed7953\"],[0.7777777777777778,\"#fb9f3a\"],[0.8888888888888888,\"#fdca26\"],[1.0,\"#f0f921\"]]}],\"contourcarpet\":[{\"type\":\"contourcarpet\",\"colorbar\":{\"outlinewidth\":0,\"ticks\":\"\"}}],\"contour\":[{\"type\":\"contour\",\"colorbar\":{\"outlinewidth\":0,\"ticks\":\"\"},\"colorscale\":[[0.0,\"#0d0887\"],[0.1111111111111111,\"#46039f\"],[0.2222222222222222,\"#7201a8\"],[0.3333333333333333,\"#9c179e\"],[0.4444444444444444,\"#bd3786\"],[0.5555555555555556,\"#d8576b\"],[0.6666666666666666,\"#ed7953\"],[0.7777777777777778,\"#fb9f3a\"],[0.8888888888888888,\"#fdca26\"],[1.0,\"#f0f921\"]]}],\"surface\":[{\"type\":\"surface\",\"colorbar\":{\"outlinewidth\":0,\"ticks\":\"\"},\"colorscale\":[[0.0,\"#0d0887\"],[0.1111111111111111,\"#46039f\"],[0.2222222222222222,\"#7201a8\"],[0.3333333333333333,\"#9c179e\"],[0.4444444444444444,\"#bd3786\"],[0.5555555555555556,\"#d8576b\"],[0.6666666666666666,\"#ed7953\"],[0.7777777777777778,\"#fb9f3a\"],[0.8888888888888888,\"#fdca26\"],[1.0,\"#f0f921\"]]}],\"mesh3d\":[{\"type\":\"mesh3d\",\"colorbar\":{\"outlinewidth\":0,\"ticks\":\"\"}}],\"scatter\":[{\"fillpattern\":{\"fillmode\":\"overlay\",\"size\":10,\"solidity\":0.2},\"type\":\"scatter\"}],\"parcoords\":[{\"type\":\"parcoords\",\"line\":{\"colorbar\":{\"outlinewidth\":0,\"ticks\":\"\"}}}],\"scatterpolargl\":[{\"type\":\"scatterpolargl\",\"marker\":{\"colorbar\":{\"outlinewidth\":0,\"ticks\":\"\"}}}],\"bar\":[{\"error_x\":{\"color\":\"#2a3f5f\"},\"error_y\":{\"color\":\"#2a3f5f\"},\"marker\":{\"line\":{\"color\":\"#E5ECF6\",\"width\":0.5},\"pattern\":{\"fillmode\":\"overlay\",\"size\":10,\"solidity\":0.2}},\"type\":\"bar\"}],\"scattergeo\":[{\"type\":\"scattergeo\",\"marker\":{\"colorbar\":{\"outlinewidth\":0,\"ticks\":\"\"}}}],\"scatterpolar\":[{\"type\":\"scatterpolar\",\"marker\":{\"colorbar\":{\"outlinewidth\":0,\"ticks\":\"\"}}}],\"histogram\":[{\"marker\":{\"pattern\":{\"fillmode\":\"overlay\",\"size\":10,\"solidity\":0.2}},\"type\":\"histogram\"}],\"scattergl\":[{\"type\":\"scattergl\",\"marker\":{\"colorbar\":{\"outlinewidth\":0,\"ticks\":\"\"}}}],\"scatter3d\":[{\"type\":\"scatter3d\",\"line\":{\"colorbar\":{\"outlinewidth\":0,\"ticks\":\"\"}},\"marker\":{\"colorbar\":{\"outlinewidth\":0,\"ticks\":\"\"}}}],\"scattermap\":[{\"type\":\"scattermap\",\"marker\":{\"colorbar\":{\"outlinewidth\":0,\"ticks\":\"\"}}}],\"scattermapbox\":[{\"type\":\"scattermapbox\",\"marker\":{\"colorbar\":{\"outlinewidth\":0,\"ticks\":\"\"}}}],\"scatterternary\":[{\"type\":\"scatterternary\",\"marker\":{\"colorbar\":{\"outlinewidth\":0,\"ticks\":\"\"}}}],\"scattercarpet\":[{\"type\":\"scattercarpet\",\"marker\":{\"colorbar\":{\"outlinewidth\":0,\"ticks\":\"\"}}}],\"carpet\":[{\"aaxis\":{\"endlinecolor\":\"#2a3f5f\",\"gridcolor\":\"white\",\"linecolor\":\"white\",\"minorgridcolor\":\"white\",\"startlinecolor\":\"#2a3f5f\"},\"baxis\":{\"endlinecolor\":\"#2a3f5f\",\"gridcolor\":\"white\",\"linecolor\":\"white\",\"minorgridcolor\":\"white\",\"startlinecolor\":\"#2a3f5f\"},\"type\":\"carpet\"}],\"table\":[{\"cells\":{\"fill\":{\"color\":\"#EBF0F8\"},\"line\":{\"color\":\"white\"}},\"header\":{\"fill\":{\"color\":\"#C8D4E3\"},\"line\":{\"color\":\"white\"}},\"type\":\"table\"}],\"barpolar\":[{\"marker\":{\"line\":{\"color\":\"#E5ECF6\",\"width\":0.5},\"pattern\":{\"fillmode\":\"overlay\",\"size\":10,\"solidity\":0.2}},\"type\":\"barpolar\"}],\"pie\":[{\"automargin\":true,\"type\":\"pie\"}]},\"layout\":{\"autotypenumbers\":\"strict\",\"colorway\":[\"#636efa\",\"#EF553B\",\"#00cc96\",\"#ab63fa\",\"#FFA15A\",\"#19d3f3\",\"#FF6692\",\"#B6E880\",\"#FF97FF\",\"#FECB52\"],\"font\":{\"color\":\"#2a3f5f\"},\"hovermode\":\"closest\",\"hoverlabel\":{\"align\":\"left\"},\"paper_bgcolor\":\"white\",\"plot_bgcolor\":\"#E5ECF6\",\"polar\":{\"bgcolor\":\"#E5ECF6\",\"angularaxis\":{\"gridcolor\":\"white\",\"linecolor\":\"white\",\"ticks\":\"\"},\"radialaxis\":{\"gridcolor\":\"white\",\"linecolor\":\"white\",\"ticks\":\"\"}},\"ternary\":{\"bgcolor\":\"#E5ECF6\",\"aaxis\":{\"gridcolor\":\"white\",\"linecolor\":\"white\",\"ticks\":\"\"},\"baxis\":{\"gridcolor\":\"white\",\"linecolor\":\"white\",\"ticks\":\"\"},\"caxis\":{\"gridcolor\":\"white\",\"linecolor\":\"white\",\"ticks\":\"\"}},\"coloraxis\":{\"colorbar\":{\"outlinewidth\":0,\"ticks\":\"\"}},\"colorscale\":{\"sequential\":[[0.0,\"#0d0887\"],[0.1111111111111111,\"#46039f\"],[0.2222222222222222,\"#7201a8\"],[0.3333333333333333,\"#9c179e\"],[0.4444444444444444,\"#bd3786\"],[0.5555555555555556,\"#d8576b\"],[0.6666666666666666,\"#ed7953\"],[0.7777777777777778,\"#fb9f3a\"],[0.8888888888888888,\"#fdca26\"],[1.0,\"#f0f921\"]],\"sequentialminus\":[[0.0,\"#0d0887\"],[0.1111111111111111,\"#46039f\"],[0.2222222222222222,\"#7201a8\"],[0.3333333333333333,\"#9c179e\"],[0.4444444444444444,\"#bd3786\"],[0.5555555555555556,\"#d8576b\"],[0.6666666666666666,\"#ed7953\"],[0.7777777777777778,\"#fb9f3a\"],[0.8888888888888888,\"#fdca26\"],[1.0,\"#f0f921\"]],\"diverging\":[[0,\"#8e0152\"],[0.1,\"#c51b7d\"],[0.2,\"#de77ae\"],[0.3,\"#f1b6da\"],[0.4,\"#fde0ef\"],[0.5,\"#f7f7f7\"],[0.6,\"#e6f5d0\"],[0.7,\"#b8e186\"],[0.8,\"#7fbc41\"],[0.9,\"#4d9221\"],[1,\"#276419\"]]},\"xaxis\":{\"gridcolor\":\"white\",\"linecolor\":\"white\",\"ticks\":\"\",\"title\":{\"standoff\":15},\"zerolinecolor\":\"white\",\"automargin\":true,\"zerolinewidth\":2},\"yaxis\":{\"gridcolor\":\"white\",\"linecolor\":\"white\",\"ticks\":\"\",\"title\":{\"standoff\":15},\"zerolinecolor\":\"white\",\"automargin\":true,\"zerolinewidth\":2},\"scene\":{\"xaxis\":{\"backgroundcolor\":\"#E5ECF6\",\"gridcolor\":\"white\",\"linecolor\":\"white\",\"showbackground\":true,\"ticks\":\"\",\"zerolinecolor\":\"white\",\"gridwidth\":2},\"yaxis\":{\"backgroundcolor\":\"#E5ECF6\",\"gridcolor\":\"white\",\"linecolor\":\"white\",\"showbackground\":true,\"ticks\":\"\",\"zerolinecolor\":\"white\",\"gridwidth\":2},\"zaxis\":{\"backgroundcolor\":\"#E5ECF6\",\"gridcolor\":\"white\",\"linecolor\":\"white\",\"showbackground\":true,\"ticks\":\"\",\"zerolinecolor\":\"white\",\"gridwidth\":2}},\"shapedefaults\":{\"line\":{\"color\":\"#2a3f5f\"}},\"annotationdefaults\":{\"arrowcolor\":\"#2a3f5f\",\"arrowhead\":0,\"arrowwidth\":1},\"geo\":{\"bgcolor\":\"white\",\"landcolor\":\"#E5ECF6\",\"subunitcolor\":\"white\",\"showland\":true,\"showlakes\":true,\"lakecolor\":\"white\"},\"title\":{\"x\":0.05},\"mapbox\":{\"style\":\"light\"}}},\"xaxis\":{\"anchor\":\"y\",\"domain\":[0.0,1.0],\"title\":{\"text\":\"ItemName\"}},\"yaxis\":{\"anchor\":\"x\",\"domain\":[0.0,1.0],\"title\":{\"text\":\"Times\"}},\"legend\":{\"title\":{\"text\":\"Buyer\"},\"tracegroupgap\":0},\"title\":{\"text\":\"Top \\u0e2a\\u0e34\\u0e19\\u0e04\\u0e49\\u0e32\\u0e17\\u0e35\\u0e48\\u0e1c\\u0e39\\u0e49\\u0e0b\\u0e37\\u0e49\\u0e2d\\u0e23\\u0e32\\u0e22\\u0e40\\u0e14\\u0e34\\u0e21\\u0e2a\\u0e31\\u0e48\\u0e07\\u0e0b\\u0e49\\u0e33\\u0e21\\u0e32\\u0e01\\u0e17\\u0e35\\u0e48\\u0e2a\\u0e38\\u0e14\"},\"barmode\":\"relative\"},                        {\"responsive\": true}                    ).then(function(){\n",
       "                            \n",
       "var gd = document.getElementById('a4f5772a-de4f-407e-92ec-0dc84221d808');\n",
       "var x = new MutationObserver(function (mutations, observer) {{\n",
       "        var display = window.getComputedStyle(gd).display;\n",
       "        if (!display || display === 'none') {{\n",
       "            console.log([gd, 'removed!']);\n",
       "            Plotly.purge(gd);\n",
       "            observer.disconnect();\n",
       "        }}\n",
       "}});\n",
       "\n",
       "// Listen for the removal of the full notebook cells\n",
       "var notebookContainer = gd.closest('#notebook-container');\n",
       "if (notebookContainer) {{\n",
       "    x.observe(notebookContainer, {childList: true});\n",
       "}}\n",
       "\n",
       "// Listen for the clearing of the current output cell\n",
       "var outputEl = gd.closest('.output');\n",
       "if (outputEl) {{\n",
       "    x.observe(outputEl, {childList: true});\n",
       "}}\n",
       "\n",
       "                        })                };            </script>        </div>"
      ]
     },
     "metadata": {},
     "output_type": "display_data"
    }
   ],
   "source": [
    "# นับจำนวนครั้งที่ Buyer ซื้อ Item เดิม\n",
    "repeat = df.groupby([\"Buyer\", \"ItemName\"]).size().reset_index(name='Times')\n",
    "\n",
    "# เอาเฉพาะที่ซื้อซ้ำ\n",
    "repeat = repeat[repeat[\"Times\"] > 1].sort_values(\"Times\", ascending=False)\n",
    "\n",
    "fig = px.bar(repeat.head(10), x=\"ItemName\", y=\"Times\", color=\"Buyer\",\n",
    "             title=\"Top สินค้าที่ผู้ซื้อรายเดิมสั่งซ้ำมากที่สุด\", text_auto=True)\n",
    "fig.show()"
   ]
  },
  {
   "cell_type": "code",
   "execution_count": 100,
   "id": "38caab87-eb92-4daa-ae82-37400b7b5060",
   "metadata": {},
   "outputs": [
    {
     "data": {
      "application/vnd.plotly.v1+json": {
       "config": {
        "plotlyServerURL": "https://plot.ly"
       },
       "data": [
        {
         "hovertemplate": "ItemName=%{x}<br>ReorderGapDays=%{y}<extra></extra>",
         "legendgroup": "",
         "marker": {
          "color": "#636efa",
          "pattern": {
           "shape": ""
          }
         },
         "name": "",
         "orientation": "v",
         "showlegend": false,
         "textposition": "auto",
         "texttemplate": "%{y}",
         "type": "bar",
         "x": [
          "Printer Ink",
          "Laptop Bag",
          "Desk Chair",
          "Stapler",
          "Annual Software License",
          "Printer",
          "Notepad",
          "Whiteboard",
          "Laptop",
          "Monitor"
         ],
         "xaxis": "x",
         "y": {
          "bdata": "Tm9605teTkAor6G8hrJRQCy+4iu+IlJAOB+D8zE4UkAlSZIkSYJSQAAAAAAAwFNAU0oppZRSVEBERERERKRUQOU1lNdQPlVAJrSX0F7CVkA=",
          "dtype": "f8"
         },
         "yaxis": "y"
        }
       ],
       "layout": {
        "barmode": "relative",
        "legend": {
         "tracegroupgap": 0
        },
        "template": {
         "data": {
          "bar": [
           {
            "error_x": {
             "color": "#2a3f5f"
            },
            "error_y": {
             "color": "#2a3f5f"
            },
            "marker": {
             "line": {
              "color": "#E5ECF6",
              "width": 0.5
             },
             "pattern": {
              "fillmode": "overlay",
              "size": 10,
              "solidity": 0.2
             }
            },
            "type": "bar"
           }
          ],
          "barpolar": [
           {
            "marker": {
             "line": {
              "color": "#E5ECF6",
              "width": 0.5
             },
             "pattern": {
              "fillmode": "overlay",
              "size": 10,
              "solidity": 0.2
             }
            },
            "type": "barpolar"
           }
          ],
          "carpet": [
           {
            "aaxis": {
             "endlinecolor": "#2a3f5f",
             "gridcolor": "white",
             "linecolor": "white",
             "minorgridcolor": "white",
             "startlinecolor": "#2a3f5f"
            },
            "baxis": {
             "endlinecolor": "#2a3f5f",
             "gridcolor": "white",
             "linecolor": "white",
             "minorgridcolor": "white",
             "startlinecolor": "#2a3f5f"
            },
            "type": "carpet"
           }
          ],
          "choropleth": [
           {
            "colorbar": {
             "outlinewidth": 0,
             "ticks": ""
            },
            "type": "choropleth"
           }
          ],
          "contour": [
           {
            "colorbar": {
             "outlinewidth": 0,
             "ticks": ""
            },
            "colorscale": [
             [
              0,
              "#0d0887"
             ],
             [
              0.1111111111111111,
              "#46039f"
             ],
             [
              0.2222222222222222,
              "#7201a8"
             ],
             [
              0.3333333333333333,
              "#9c179e"
             ],
             [
              0.4444444444444444,
              "#bd3786"
             ],
             [
              0.5555555555555556,
              "#d8576b"
             ],
             [
              0.6666666666666666,
              "#ed7953"
             ],
             [
              0.7777777777777778,
              "#fb9f3a"
             ],
             [
              0.8888888888888888,
              "#fdca26"
             ],
             [
              1,
              "#f0f921"
             ]
            ],
            "type": "contour"
           }
          ],
          "contourcarpet": [
           {
            "colorbar": {
             "outlinewidth": 0,
             "ticks": ""
            },
            "type": "contourcarpet"
           }
          ],
          "heatmap": [
           {
            "colorbar": {
             "outlinewidth": 0,
             "ticks": ""
            },
            "colorscale": [
             [
              0,
              "#0d0887"
             ],
             [
              0.1111111111111111,
              "#46039f"
             ],
             [
              0.2222222222222222,
              "#7201a8"
             ],
             [
              0.3333333333333333,
              "#9c179e"
             ],
             [
              0.4444444444444444,
              "#bd3786"
             ],
             [
              0.5555555555555556,
              "#d8576b"
             ],
             [
              0.6666666666666666,
              "#ed7953"
             ],
             [
              0.7777777777777778,
              "#fb9f3a"
             ],
             [
              0.8888888888888888,
              "#fdca26"
             ],
             [
              1,
              "#f0f921"
             ]
            ],
            "type": "heatmap"
           }
          ],
          "histogram": [
           {
            "marker": {
             "pattern": {
              "fillmode": "overlay",
              "size": 10,
              "solidity": 0.2
             }
            },
            "type": "histogram"
           }
          ],
          "histogram2d": [
           {
            "colorbar": {
             "outlinewidth": 0,
             "ticks": ""
            },
            "colorscale": [
             [
              0,
              "#0d0887"
             ],
             [
              0.1111111111111111,
              "#46039f"
             ],
             [
              0.2222222222222222,
              "#7201a8"
             ],
             [
              0.3333333333333333,
              "#9c179e"
             ],
             [
              0.4444444444444444,
              "#bd3786"
             ],
             [
              0.5555555555555556,
              "#d8576b"
             ],
             [
              0.6666666666666666,
              "#ed7953"
             ],
             [
              0.7777777777777778,
              "#fb9f3a"
             ],
             [
              0.8888888888888888,
              "#fdca26"
             ],
             [
              1,
              "#f0f921"
             ]
            ],
            "type": "histogram2d"
           }
          ],
          "histogram2dcontour": [
           {
            "colorbar": {
             "outlinewidth": 0,
             "ticks": ""
            },
            "colorscale": [
             [
              0,
              "#0d0887"
             ],
             [
              0.1111111111111111,
              "#46039f"
             ],
             [
              0.2222222222222222,
              "#7201a8"
             ],
             [
              0.3333333333333333,
              "#9c179e"
             ],
             [
              0.4444444444444444,
              "#bd3786"
             ],
             [
              0.5555555555555556,
              "#d8576b"
             ],
             [
              0.6666666666666666,
              "#ed7953"
             ],
             [
              0.7777777777777778,
              "#fb9f3a"
             ],
             [
              0.8888888888888888,
              "#fdca26"
             ],
             [
              1,
              "#f0f921"
             ]
            ],
            "type": "histogram2dcontour"
           }
          ],
          "mesh3d": [
           {
            "colorbar": {
             "outlinewidth": 0,
             "ticks": ""
            },
            "type": "mesh3d"
           }
          ],
          "parcoords": [
           {
            "line": {
             "colorbar": {
              "outlinewidth": 0,
              "ticks": ""
             }
            },
            "type": "parcoords"
           }
          ],
          "pie": [
           {
            "automargin": true,
            "type": "pie"
           }
          ],
          "scatter": [
           {
            "fillpattern": {
             "fillmode": "overlay",
             "size": 10,
             "solidity": 0.2
            },
            "type": "scatter"
           }
          ],
          "scatter3d": [
           {
            "line": {
             "colorbar": {
              "outlinewidth": 0,
              "ticks": ""
             }
            },
            "marker": {
             "colorbar": {
              "outlinewidth": 0,
              "ticks": ""
             }
            },
            "type": "scatter3d"
           }
          ],
          "scattercarpet": [
           {
            "marker": {
             "colorbar": {
              "outlinewidth": 0,
              "ticks": ""
             }
            },
            "type": "scattercarpet"
           }
          ],
          "scattergeo": [
           {
            "marker": {
             "colorbar": {
              "outlinewidth": 0,
              "ticks": ""
             }
            },
            "type": "scattergeo"
           }
          ],
          "scattergl": [
           {
            "marker": {
             "colorbar": {
              "outlinewidth": 0,
              "ticks": ""
             }
            },
            "type": "scattergl"
           }
          ],
          "scattermap": [
           {
            "marker": {
             "colorbar": {
              "outlinewidth": 0,
              "ticks": ""
             }
            },
            "type": "scattermap"
           }
          ],
          "scattermapbox": [
           {
            "marker": {
             "colorbar": {
              "outlinewidth": 0,
              "ticks": ""
             }
            },
            "type": "scattermapbox"
           }
          ],
          "scatterpolar": [
           {
            "marker": {
             "colorbar": {
              "outlinewidth": 0,
              "ticks": ""
             }
            },
            "type": "scatterpolar"
           }
          ],
          "scatterpolargl": [
           {
            "marker": {
             "colorbar": {
              "outlinewidth": 0,
              "ticks": ""
             }
            },
            "type": "scatterpolargl"
           }
          ],
          "scatterternary": [
           {
            "marker": {
             "colorbar": {
              "outlinewidth": 0,
              "ticks": ""
             }
            },
            "type": "scatterternary"
           }
          ],
          "surface": [
           {
            "colorbar": {
             "outlinewidth": 0,
             "ticks": ""
            },
            "colorscale": [
             [
              0,
              "#0d0887"
             ],
             [
              0.1111111111111111,
              "#46039f"
             ],
             [
              0.2222222222222222,
              "#7201a8"
             ],
             [
              0.3333333333333333,
              "#9c179e"
             ],
             [
              0.4444444444444444,
              "#bd3786"
             ],
             [
              0.5555555555555556,
              "#d8576b"
             ],
             [
              0.6666666666666666,
              "#ed7953"
             ],
             [
              0.7777777777777778,
              "#fb9f3a"
             ],
             [
              0.8888888888888888,
              "#fdca26"
             ],
             [
              1,
              "#f0f921"
             ]
            ],
            "type": "surface"
           }
          ],
          "table": [
           {
            "cells": {
             "fill": {
              "color": "#EBF0F8"
             },
             "line": {
              "color": "white"
             }
            },
            "header": {
             "fill": {
              "color": "#C8D4E3"
             },
             "line": {
              "color": "white"
             }
            },
            "type": "table"
           }
          ]
         },
         "layout": {
          "annotationdefaults": {
           "arrowcolor": "#2a3f5f",
           "arrowhead": 0,
           "arrowwidth": 1
          },
          "autotypenumbers": "strict",
          "coloraxis": {
           "colorbar": {
            "outlinewidth": 0,
            "ticks": ""
           }
          },
          "colorscale": {
           "diverging": [
            [
             0,
             "#8e0152"
            ],
            [
             0.1,
             "#c51b7d"
            ],
            [
             0.2,
             "#de77ae"
            ],
            [
             0.3,
             "#f1b6da"
            ],
            [
             0.4,
             "#fde0ef"
            ],
            [
             0.5,
             "#f7f7f7"
            ],
            [
             0.6,
             "#e6f5d0"
            ],
            [
             0.7,
             "#b8e186"
            ],
            [
             0.8,
             "#7fbc41"
            ],
            [
             0.9,
             "#4d9221"
            ],
            [
             1,
             "#276419"
            ]
           ],
           "sequential": [
            [
             0,
             "#0d0887"
            ],
            [
             0.1111111111111111,
             "#46039f"
            ],
            [
             0.2222222222222222,
             "#7201a8"
            ],
            [
             0.3333333333333333,
             "#9c179e"
            ],
            [
             0.4444444444444444,
             "#bd3786"
            ],
            [
             0.5555555555555556,
             "#d8576b"
            ],
            [
             0.6666666666666666,
             "#ed7953"
            ],
            [
             0.7777777777777778,
             "#fb9f3a"
            ],
            [
             0.8888888888888888,
             "#fdca26"
            ],
            [
             1,
             "#f0f921"
            ]
           ],
           "sequentialminus": [
            [
             0,
             "#0d0887"
            ],
            [
             0.1111111111111111,
             "#46039f"
            ],
            [
             0.2222222222222222,
             "#7201a8"
            ],
            [
             0.3333333333333333,
             "#9c179e"
            ],
            [
             0.4444444444444444,
             "#bd3786"
            ],
            [
             0.5555555555555556,
             "#d8576b"
            ],
            [
             0.6666666666666666,
             "#ed7953"
            ],
            [
             0.7777777777777778,
             "#fb9f3a"
            ],
            [
             0.8888888888888888,
             "#fdca26"
            ],
            [
             1,
             "#f0f921"
            ]
           ]
          },
          "colorway": [
           "#636efa",
           "#EF553B",
           "#00cc96",
           "#ab63fa",
           "#FFA15A",
           "#19d3f3",
           "#FF6692",
           "#B6E880",
           "#FF97FF",
           "#FECB52"
          ],
          "font": {
           "color": "#2a3f5f"
          },
          "geo": {
           "bgcolor": "white",
           "lakecolor": "white",
           "landcolor": "#E5ECF6",
           "showlakes": true,
           "showland": true,
           "subunitcolor": "white"
          },
          "hoverlabel": {
           "align": "left"
          },
          "hovermode": "closest",
          "mapbox": {
           "style": "light"
          },
          "paper_bgcolor": "white",
          "plot_bgcolor": "#E5ECF6",
          "polar": {
           "angularaxis": {
            "gridcolor": "white",
            "linecolor": "white",
            "ticks": ""
           },
           "bgcolor": "#E5ECF6",
           "radialaxis": {
            "gridcolor": "white",
            "linecolor": "white",
            "ticks": ""
           }
          },
          "scene": {
           "xaxis": {
            "backgroundcolor": "#E5ECF6",
            "gridcolor": "white",
            "gridwidth": 2,
            "linecolor": "white",
            "showbackground": true,
            "ticks": "",
            "zerolinecolor": "white"
           },
           "yaxis": {
            "backgroundcolor": "#E5ECF6",
            "gridcolor": "white",
            "gridwidth": 2,
            "linecolor": "white",
            "showbackground": true,
            "ticks": "",
            "zerolinecolor": "white"
           },
           "zaxis": {
            "backgroundcolor": "#E5ECF6",
            "gridcolor": "white",
            "gridwidth": 2,
            "linecolor": "white",
            "showbackground": true,
            "ticks": "",
            "zerolinecolor": "white"
           }
          },
          "shapedefaults": {
           "line": {
            "color": "#2a3f5f"
           }
          },
          "ternary": {
           "aaxis": {
            "gridcolor": "white",
            "linecolor": "white",
            "ticks": ""
           },
           "baxis": {
            "gridcolor": "white",
            "linecolor": "white",
            "ticks": ""
           },
           "bgcolor": "#E5ECF6",
           "caxis": {
            "gridcolor": "white",
            "linecolor": "white",
            "ticks": ""
           }
          },
          "title": {
           "x": 0.05
          },
          "xaxis": {
           "automargin": true,
           "gridcolor": "white",
           "linecolor": "white",
           "ticks": "",
           "title": {
            "standoff": 15
           },
           "zerolinecolor": "white",
           "zerolinewidth": 2
          },
          "yaxis": {
           "automargin": true,
           "gridcolor": "white",
           "linecolor": "white",
           "ticks": "",
           "title": {
            "standoff": 15
           },
           "zerolinecolor": "white",
           "zerolinewidth": 2
          }
         }
        },
        "title": {
         "text": "Top 10 สินค้าที่มีรอบการสั่งซ้ำเฉลี่ยน้อย (ซื้อบ่อย)"
        },
        "xaxis": {
         "anchor": "y",
         "domain": [
          0,
          1
         ],
         "title": {
          "text": "ItemName"
         }
        },
        "yaxis": {
         "anchor": "x",
         "domain": [
          0,
          1
         ],
         "title": {
          "text": "ReorderGapDays"
         }
        }
       }
      },
      "text/html": [
       "<div>            <script src=\"https://cdnjs.cloudflare.com/ajax/libs/mathjax/2.7.5/MathJax.js?config=TeX-AMS-MML_SVG\"></script><script type=\"text/javascript\">if (window.MathJax && window.MathJax.Hub && window.MathJax.Hub.Config) {window.MathJax.Hub.Config({SVG: {font: \"STIX-Web\"}});}</script>                <script type=\"text/javascript\">window.PlotlyConfig = {MathJaxConfig: 'local'};</script>\n",
       "        <script charset=\"utf-8\" src=\"https://cdn.plot.ly/plotly-3.0.1.min.js\"></script>                <div id=\"85f89803-5edb-4489-b784-89335db97bbc\" class=\"plotly-graph-div\" style=\"height:525px; width:100%;\"></div>            <script type=\"text/javascript\">                window.PLOTLYENV=window.PLOTLYENV || {};                                if (document.getElementById(\"85f89803-5edb-4489-b784-89335db97bbc\")) {                    Plotly.newPlot(                        \"85f89803-5edb-4489-b784-89335db97bbc\",                        [{\"hovertemplate\":\"ItemName=%{x}\\u003cbr\\u003eReorderGapDays=%{y}\\u003cextra\\u003e\\u003c\\u002fextra\\u003e\",\"legendgroup\":\"\",\"marker\":{\"color\":\"#636efa\",\"pattern\":{\"shape\":\"\"}},\"name\":\"\",\"orientation\":\"v\",\"showlegend\":false,\"textposition\":\"auto\",\"texttemplate\":\"%{y}\",\"x\":[\"Printer Ink\",\"Laptop Bag\",\"Desk Chair\",\"Stapler\",\"Annual Software License\",\"Printer\",\"Notepad\",\"Whiteboard\",\"Laptop\",\"Monitor\"],\"xaxis\":\"x\",\"y\":{\"dtype\":\"f8\",\"bdata\":\"Tm9605teTkAor6G8hrJRQCy+4iu+IlJAOB+D8zE4UkAlSZIkSYJSQAAAAAAAwFNAU0oppZRSVEBERERERKRUQOU1lNdQPlVAJrSX0F7CVkA=\"},\"yaxis\":\"y\",\"type\":\"bar\"}],                        {\"template\":{\"data\":{\"histogram2dcontour\":[{\"type\":\"histogram2dcontour\",\"colorbar\":{\"outlinewidth\":0,\"ticks\":\"\"},\"colorscale\":[[0.0,\"#0d0887\"],[0.1111111111111111,\"#46039f\"],[0.2222222222222222,\"#7201a8\"],[0.3333333333333333,\"#9c179e\"],[0.4444444444444444,\"#bd3786\"],[0.5555555555555556,\"#d8576b\"],[0.6666666666666666,\"#ed7953\"],[0.7777777777777778,\"#fb9f3a\"],[0.8888888888888888,\"#fdca26\"],[1.0,\"#f0f921\"]]}],\"choropleth\":[{\"type\":\"choropleth\",\"colorbar\":{\"outlinewidth\":0,\"ticks\":\"\"}}],\"histogram2d\":[{\"type\":\"histogram2d\",\"colorbar\":{\"outlinewidth\":0,\"ticks\":\"\"},\"colorscale\":[[0.0,\"#0d0887\"],[0.1111111111111111,\"#46039f\"],[0.2222222222222222,\"#7201a8\"],[0.3333333333333333,\"#9c179e\"],[0.4444444444444444,\"#bd3786\"],[0.5555555555555556,\"#d8576b\"],[0.6666666666666666,\"#ed7953\"],[0.7777777777777778,\"#fb9f3a\"],[0.8888888888888888,\"#fdca26\"],[1.0,\"#f0f921\"]]}],\"heatmap\":[{\"type\":\"heatmap\",\"colorbar\":{\"outlinewidth\":0,\"ticks\":\"\"},\"colorscale\":[[0.0,\"#0d0887\"],[0.1111111111111111,\"#46039f\"],[0.2222222222222222,\"#7201a8\"],[0.3333333333333333,\"#9c179e\"],[0.4444444444444444,\"#bd3786\"],[0.5555555555555556,\"#d8576b\"],[0.6666666666666666,\"#ed7953\"],[0.7777777777777778,\"#fb9f3a\"],[0.8888888888888888,\"#fdca26\"],[1.0,\"#f0f921\"]]}],\"contourcarpet\":[{\"type\":\"contourcarpet\",\"colorbar\":{\"outlinewidth\":0,\"ticks\":\"\"}}],\"contour\":[{\"type\":\"contour\",\"colorbar\":{\"outlinewidth\":0,\"ticks\":\"\"},\"colorscale\":[[0.0,\"#0d0887\"],[0.1111111111111111,\"#46039f\"],[0.2222222222222222,\"#7201a8\"],[0.3333333333333333,\"#9c179e\"],[0.4444444444444444,\"#bd3786\"],[0.5555555555555556,\"#d8576b\"],[0.6666666666666666,\"#ed7953\"],[0.7777777777777778,\"#fb9f3a\"],[0.8888888888888888,\"#fdca26\"],[1.0,\"#f0f921\"]]}],\"surface\":[{\"type\":\"surface\",\"colorbar\":{\"outlinewidth\":0,\"ticks\":\"\"},\"colorscale\":[[0.0,\"#0d0887\"],[0.1111111111111111,\"#46039f\"],[0.2222222222222222,\"#7201a8\"],[0.3333333333333333,\"#9c179e\"],[0.4444444444444444,\"#bd3786\"],[0.5555555555555556,\"#d8576b\"],[0.6666666666666666,\"#ed7953\"],[0.7777777777777778,\"#fb9f3a\"],[0.8888888888888888,\"#fdca26\"],[1.0,\"#f0f921\"]]}],\"mesh3d\":[{\"type\":\"mesh3d\",\"colorbar\":{\"outlinewidth\":0,\"ticks\":\"\"}}],\"scatter\":[{\"fillpattern\":{\"fillmode\":\"overlay\",\"size\":10,\"solidity\":0.2},\"type\":\"scatter\"}],\"parcoords\":[{\"type\":\"parcoords\",\"line\":{\"colorbar\":{\"outlinewidth\":0,\"ticks\":\"\"}}}],\"scatterpolargl\":[{\"type\":\"scatterpolargl\",\"marker\":{\"colorbar\":{\"outlinewidth\":0,\"ticks\":\"\"}}}],\"bar\":[{\"error_x\":{\"color\":\"#2a3f5f\"},\"error_y\":{\"color\":\"#2a3f5f\"},\"marker\":{\"line\":{\"color\":\"#E5ECF6\",\"width\":0.5},\"pattern\":{\"fillmode\":\"overlay\",\"size\":10,\"solidity\":0.2}},\"type\":\"bar\"}],\"scattergeo\":[{\"type\":\"scattergeo\",\"marker\":{\"colorbar\":{\"outlinewidth\":0,\"ticks\":\"\"}}}],\"scatterpolar\":[{\"type\":\"scatterpolar\",\"marker\":{\"colorbar\":{\"outlinewidth\":0,\"ticks\":\"\"}}}],\"histogram\":[{\"marker\":{\"pattern\":{\"fillmode\":\"overlay\",\"size\":10,\"solidity\":0.2}},\"type\":\"histogram\"}],\"scattergl\":[{\"type\":\"scattergl\",\"marker\":{\"colorbar\":{\"outlinewidth\":0,\"ticks\":\"\"}}}],\"scatter3d\":[{\"type\":\"scatter3d\",\"line\":{\"colorbar\":{\"outlinewidth\":0,\"ticks\":\"\"}},\"marker\":{\"colorbar\":{\"outlinewidth\":0,\"ticks\":\"\"}}}],\"scattermap\":[{\"type\":\"scattermap\",\"marker\":{\"colorbar\":{\"outlinewidth\":0,\"ticks\":\"\"}}}],\"scattermapbox\":[{\"type\":\"scattermapbox\",\"marker\":{\"colorbar\":{\"outlinewidth\":0,\"ticks\":\"\"}}}],\"scatterternary\":[{\"type\":\"scatterternary\",\"marker\":{\"colorbar\":{\"outlinewidth\":0,\"ticks\":\"\"}}}],\"scattercarpet\":[{\"type\":\"scattercarpet\",\"marker\":{\"colorbar\":{\"outlinewidth\":0,\"ticks\":\"\"}}}],\"carpet\":[{\"aaxis\":{\"endlinecolor\":\"#2a3f5f\",\"gridcolor\":\"white\",\"linecolor\":\"white\",\"minorgridcolor\":\"white\",\"startlinecolor\":\"#2a3f5f\"},\"baxis\":{\"endlinecolor\":\"#2a3f5f\",\"gridcolor\":\"white\",\"linecolor\":\"white\",\"minorgridcolor\":\"white\",\"startlinecolor\":\"#2a3f5f\"},\"type\":\"carpet\"}],\"table\":[{\"cells\":{\"fill\":{\"color\":\"#EBF0F8\"},\"line\":{\"color\":\"white\"}},\"header\":{\"fill\":{\"color\":\"#C8D4E3\"},\"line\":{\"color\":\"white\"}},\"type\":\"table\"}],\"barpolar\":[{\"marker\":{\"line\":{\"color\":\"#E5ECF6\",\"width\":0.5},\"pattern\":{\"fillmode\":\"overlay\",\"size\":10,\"solidity\":0.2}},\"type\":\"barpolar\"}],\"pie\":[{\"automargin\":true,\"type\":\"pie\"}]},\"layout\":{\"autotypenumbers\":\"strict\",\"colorway\":[\"#636efa\",\"#EF553B\",\"#00cc96\",\"#ab63fa\",\"#FFA15A\",\"#19d3f3\",\"#FF6692\",\"#B6E880\",\"#FF97FF\",\"#FECB52\"],\"font\":{\"color\":\"#2a3f5f\"},\"hovermode\":\"closest\",\"hoverlabel\":{\"align\":\"left\"},\"paper_bgcolor\":\"white\",\"plot_bgcolor\":\"#E5ECF6\",\"polar\":{\"bgcolor\":\"#E5ECF6\",\"angularaxis\":{\"gridcolor\":\"white\",\"linecolor\":\"white\",\"ticks\":\"\"},\"radialaxis\":{\"gridcolor\":\"white\",\"linecolor\":\"white\",\"ticks\":\"\"}},\"ternary\":{\"bgcolor\":\"#E5ECF6\",\"aaxis\":{\"gridcolor\":\"white\",\"linecolor\":\"white\",\"ticks\":\"\"},\"baxis\":{\"gridcolor\":\"white\",\"linecolor\":\"white\",\"ticks\":\"\"},\"caxis\":{\"gridcolor\":\"white\",\"linecolor\":\"white\",\"ticks\":\"\"}},\"coloraxis\":{\"colorbar\":{\"outlinewidth\":0,\"ticks\":\"\"}},\"colorscale\":{\"sequential\":[[0.0,\"#0d0887\"],[0.1111111111111111,\"#46039f\"],[0.2222222222222222,\"#7201a8\"],[0.3333333333333333,\"#9c179e\"],[0.4444444444444444,\"#bd3786\"],[0.5555555555555556,\"#d8576b\"],[0.6666666666666666,\"#ed7953\"],[0.7777777777777778,\"#fb9f3a\"],[0.8888888888888888,\"#fdca26\"],[1.0,\"#f0f921\"]],\"sequentialminus\":[[0.0,\"#0d0887\"],[0.1111111111111111,\"#46039f\"],[0.2222222222222222,\"#7201a8\"],[0.3333333333333333,\"#9c179e\"],[0.4444444444444444,\"#bd3786\"],[0.5555555555555556,\"#d8576b\"],[0.6666666666666666,\"#ed7953\"],[0.7777777777777778,\"#fb9f3a\"],[0.8888888888888888,\"#fdca26\"],[1.0,\"#f0f921\"]],\"diverging\":[[0,\"#8e0152\"],[0.1,\"#c51b7d\"],[0.2,\"#de77ae\"],[0.3,\"#f1b6da\"],[0.4,\"#fde0ef\"],[0.5,\"#f7f7f7\"],[0.6,\"#e6f5d0\"],[0.7,\"#b8e186\"],[0.8,\"#7fbc41\"],[0.9,\"#4d9221\"],[1,\"#276419\"]]},\"xaxis\":{\"gridcolor\":\"white\",\"linecolor\":\"white\",\"ticks\":\"\",\"title\":{\"standoff\":15},\"zerolinecolor\":\"white\",\"automargin\":true,\"zerolinewidth\":2},\"yaxis\":{\"gridcolor\":\"white\",\"linecolor\":\"white\",\"ticks\":\"\",\"title\":{\"standoff\":15},\"zerolinecolor\":\"white\",\"automargin\":true,\"zerolinewidth\":2},\"scene\":{\"xaxis\":{\"backgroundcolor\":\"#E5ECF6\",\"gridcolor\":\"white\",\"linecolor\":\"white\",\"showbackground\":true,\"ticks\":\"\",\"zerolinecolor\":\"white\",\"gridwidth\":2},\"yaxis\":{\"backgroundcolor\":\"#E5ECF6\",\"gridcolor\":\"white\",\"linecolor\":\"white\",\"showbackground\":true,\"ticks\":\"\",\"zerolinecolor\":\"white\",\"gridwidth\":2},\"zaxis\":{\"backgroundcolor\":\"#E5ECF6\",\"gridcolor\":\"white\",\"linecolor\":\"white\",\"showbackground\":true,\"ticks\":\"\",\"zerolinecolor\":\"white\",\"gridwidth\":2}},\"shapedefaults\":{\"line\":{\"color\":\"#2a3f5f\"}},\"annotationdefaults\":{\"arrowcolor\":\"#2a3f5f\",\"arrowhead\":0,\"arrowwidth\":1},\"geo\":{\"bgcolor\":\"white\",\"landcolor\":\"#E5ECF6\",\"subunitcolor\":\"white\",\"showland\":true,\"showlakes\":true,\"lakecolor\":\"white\"},\"title\":{\"x\":0.05},\"mapbox\":{\"style\":\"light\"}}},\"xaxis\":{\"anchor\":\"y\",\"domain\":[0.0,1.0],\"title\":{\"text\":\"ItemName\"}},\"yaxis\":{\"anchor\":\"x\",\"domain\":[0.0,1.0],\"title\":{\"text\":\"ReorderGapDays\"}},\"legend\":{\"tracegroupgap\":0},\"title\":{\"text\":\"Top 10 \\u0e2a\\u0e34\\u0e19\\u0e04\\u0e49\\u0e32\\u0e17\\u0e35\\u0e48\\u0e21\\u0e35\\u0e23\\u0e2d\\u0e1a\\u0e01\\u0e32\\u0e23\\u0e2a\\u0e31\\u0e48\\u0e07\\u0e0b\\u0e49\\u0e33\\u0e40\\u0e09\\u0e25\\u0e35\\u0e48\\u0e22\\u0e19\\u0e49\\u0e2d\\u0e22 (\\u0e0b\\u0e37\\u0e49\\u0e2d\\u0e1a\\u0e48\\u0e2d\\u0e22)\"},\"barmode\":\"relative\"},                        {\"responsive\": true}                    ).then(function(){\n",
       "                            \n",
       "var gd = document.getElementById('85f89803-5edb-4489-b784-89335db97bbc');\n",
       "var x = new MutationObserver(function (mutations, observer) {{\n",
       "        var display = window.getComputedStyle(gd).display;\n",
       "        if (!display || display === 'none') {{\n",
       "            console.log([gd, 'removed!']);\n",
       "            Plotly.purge(gd);\n",
       "            observer.disconnect();\n",
       "        }}\n",
       "}});\n",
       "\n",
       "// Listen for the removal of the full notebook cells\n",
       "var notebookContainer = gd.closest('#notebook-container');\n",
       "if (notebookContainer) {{\n",
       "    x.observe(notebookContainer, {childList: true});\n",
       "}}\n",
       "\n",
       "// Listen for the clearing of the current output cell\n",
       "var outputEl = gd.closest('.output');\n",
       "if (outputEl) {{\n",
       "    x.observe(outputEl, {childList: true});\n",
       "}}\n",
       "\n",
       "                        })                };            </script>        </div>"
      ]
     },
     "metadata": {},
     "output_type": "display_data"
    }
   ],
   "source": [
    "df_sorted = df.sort_values([\"Buyer\", \"ItemName\", \"PurchaseDate\"])\n",
    "df_sorted[\"PrevPurchase\"] = df_sorted.groupby([\"Buyer\", \"ItemName\"])[\"PurchaseDate\"].shift(1)\n",
    "df_sorted[\"ReorderGapDays\"] = (df_sorted[\"PurchaseDate\"] - df_sorted[\"PrevPurchase\"]).dt.days\n",
    "\n",
    "reorder_gap = df_sorted[df_sorted[\"ReorderGapDays\"].notna()]\n",
    "avg_gap = reorder_gap.groupby(\"ItemName\")[\"ReorderGapDays\"].mean().reset_index().sort_values(\"ReorderGapDays\")\n",
    "\n",
    "fig = px.bar(avg_gap.head(10), x=\"ItemName\", y=\"ReorderGapDays\",\n",
    "             title=\"Top 10 สินค้าที่มีรอบการสั่งซ้ำเฉลี่ยน้อย (ซื้อบ่อย)\", text_auto=True)\n",
    "fig.show()"
   ]
  },
  {
   "cell_type": "code",
   "execution_count": 101,
   "id": "03ea02fc-ffba-47d4-ae5d-dfffbcf79c49",
   "metadata": {},
   "outputs": [
    {
     "data": {
      "application/vnd.plotly.v1+json": {
       "config": {
        "plotlyServerURL": "https://plot.ly"
       },
       "data": [
        {
         "hovertemplate": "ItemName=%{x}<br>ActiveMonths=%{y}<extra></extra>",
         "legendgroup": "",
         "marker": {
          "color": "#636efa",
          "pattern": {
           "shape": ""
          }
         },
         "name": "",
         "orientation": "v",
         "showlegend": false,
         "textposition": "auto",
         "texttemplate": "%{y}",
         "type": "bar",
         "x": [
          "Laptop",
          "Laptop Bag",
          "Monitor",
          "Notepad",
          "Printer",
          "Stapler",
          "Whiteboard",
          "Annual Software License",
          "Desk Chair",
          "Printer Ink"
         ],
         "xaxis": "x",
         "y": {
          "bdata": "DAwMDAwMDAsLCw==",
          "dtype": "i1"
         },
         "yaxis": "y"
        }
       ],
       "layout": {
        "barmode": "relative",
        "legend": {
         "tracegroupgap": 0
        },
        "template": {
         "data": {
          "bar": [
           {
            "error_x": {
             "color": "#2a3f5f"
            },
            "error_y": {
             "color": "#2a3f5f"
            },
            "marker": {
             "line": {
              "color": "#E5ECF6",
              "width": 0.5
             },
             "pattern": {
              "fillmode": "overlay",
              "size": 10,
              "solidity": 0.2
             }
            },
            "type": "bar"
           }
          ],
          "barpolar": [
           {
            "marker": {
             "line": {
              "color": "#E5ECF6",
              "width": 0.5
             },
             "pattern": {
              "fillmode": "overlay",
              "size": 10,
              "solidity": 0.2
             }
            },
            "type": "barpolar"
           }
          ],
          "carpet": [
           {
            "aaxis": {
             "endlinecolor": "#2a3f5f",
             "gridcolor": "white",
             "linecolor": "white",
             "minorgridcolor": "white",
             "startlinecolor": "#2a3f5f"
            },
            "baxis": {
             "endlinecolor": "#2a3f5f",
             "gridcolor": "white",
             "linecolor": "white",
             "minorgridcolor": "white",
             "startlinecolor": "#2a3f5f"
            },
            "type": "carpet"
           }
          ],
          "choropleth": [
           {
            "colorbar": {
             "outlinewidth": 0,
             "ticks": ""
            },
            "type": "choropleth"
           }
          ],
          "contour": [
           {
            "colorbar": {
             "outlinewidth": 0,
             "ticks": ""
            },
            "colorscale": [
             [
              0,
              "#0d0887"
             ],
             [
              0.1111111111111111,
              "#46039f"
             ],
             [
              0.2222222222222222,
              "#7201a8"
             ],
             [
              0.3333333333333333,
              "#9c179e"
             ],
             [
              0.4444444444444444,
              "#bd3786"
             ],
             [
              0.5555555555555556,
              "#d8576b"
             ],
             [
              0.6666666666666666,
              "#ed7953"
             ],
             [
              0.7777777777777778,
              "#fb9f3a"
             ],
             [
              0.8888888888888888,
              "#fdca26"
             ],
             [
              1,
              "#f0f921"
             ]
            ],
            "type": "contour"
           }
          ],
          "contourcarpet": [
           {
            "colorbar": {
             "outlinewidth": 0,
             "ticks": ""
            },
            "type": "contourcarpet"
           }
          ],
          "heatmap": [
           {
            "colorbar": {
             "outlinewidth": 0,
             "ticks": ""
            },
            "colorscale": [
             [
              0,
              "#0d0887"
             ],
             [
              0.1111111111111111,
              "#46039f"
             ],
             [
              0.2222222222222222,
              "#7201a8"
             ],
             [
              0.3333333333333333,
              "#9c179e"
             ],
             [
              0.4444444444444444,
              "#bd3786"
             ],
             [
              0.5555555555555556,
              "#d8576b"
             ],
             [
              0.6666666666666666,
              "#ed7953"
             ],
             [
              0.7777777777777778,
              "#fb9f3a"
             ],
             [
              0.8888888888888888,
              "#fdca26"
             ],
             [
              1,
              "#f0f921"
             ]
            ],
            "type": "heatmap"
           }
          ],
          "histogram": [
           {
            "marker": {
             "pattern": {
              "fillmode": "overlay",
              "size": 10,
              "solidity": 0.2
             }
            },
            "type": "histogram"
           }
          ],
          "histogram2d": [
           {
            "colorbar": {
             "outlinewidth": 0,
             "ticks": ""
            },
            "colorscale": [
             [
              0,
              "#0d0887"
             ],
             [
              0.1111111111111111,
              "#46039f"
             ],
             [
              0.2222222222222222,
              "#7201a8"
             ],
             [
              0.3333333333333333,
              "#9c179e"
             ],
             [
              0.4444444444444444,
              "#bd3786"
             ],
             [
              0.5555555555555556,
              "#d8576b"
             ],
             [
              0.6666666666666666,
              "#ed7953"
             ],
             [
              0.7777777777777778,
              "#fb9f3a"
             ],
             [
              0.8888888888888888,
              "#fdca26"
             ],
             [
              1,
              "#f0f921"
             ]
            ],
            "type": "histogram2d"
           }
          ],
          "histogram2dcontour": [
           {
            "colorbar": {
             "outlinewidth": 0,
             "ticks": ""
            },
            "colorscale": [
             [
              0,
              "#0d0887"
             ],
             [
              0.1111111111111111,
              "#46039f"
             ],
             [
              0.2222222222222222,
              "#7201a8"
             ],
             [
              0.3333333333333333,
              "#9c179e"
             ],
             [
              0.4444444444444444,
              "#bd3786"
             ],
             [
              0.5555555555555556,
              "#d8576b"
             ],
             [
              0.6666666666666666,
              "#ed7953"
             ],
             [
              0.7777777777777778,
              "#fb9f3a"
             ],
             [
              0.8888888888888888,
              "#fdca26"
             ],
             [
              1,
              "#f0f921"
             ]
            ],
            "type": "histogram2dcontour"
           }
          ],
          "mesh3d": [
           {
            "colorbar": {
             "outlinewidth": 0,
             "ticks": ""
            },
            "type": "mesh3d"
           }
          ],
          "parcoords": [
           {
            "line": {
             "colorbar": {
              "outlinewidth": 0,
              "ticks": ""
             }
            },
            "type": "parcoords"
           }
          ],
          "pie": [
           {
            "automargin": true,
            "type": "pie"
           }
          ],
          "scatter": [
           {
            "fillpattern": {
             "fillmode": "overlay",
             "size": 10,
             "solidity": 0.2
            },
            "type": "scatter"
           }
          ],
          "scatter3d": [
           {
            "line": {
             "colorbar": {
              "outlinewidth": 0,
              "ticks": ""
             }
            },
            "marker": {
             "colorbar": {
              "outlinewidth": 0,
              "ticks": ""
             }
            },
            "type": "scatter3d"
           }
          ],
          "scattercarpet": [
           {
            "marker": {
             "colorbar": {
              "outlinewidth": 0,
              "ticks": ""
             }
            },
            "type": "scattercarpet"
           }
          ],
          "scattergeo": [
           {
            "marker": {
             "colorbar": {
              "outlinewidth": 0,
              "ticks": ""
             }
            },
            "type": "scattergeo"
           }
          ],
          "scattergl": [
           {
            "marker": {
             "colorbar": {
              "outlinewidth": 0,
              "ticks": ""
             }
            },
            "type": "scattergl"
           }
          ],
          "scattermap": [
           {
            "marker": {
             "colorbar": {
              "outlinewidth": 0,
              "ticks": ""
             }
            },
            "type": "scattermap"
           }
          ],
          "scattermapbox": [
           {
            "marker": {
             "colorbar": {
              "outlinewidth": 0,
              "ticks": ""
             }
            },
            "type": "scattermapbox"
           }
          ],
          "scatterpolar": [
           {
            "marker": {
             "colorbar": {
              "outlinewidth": 0,
              "ticks": ""
             }
            },
            "type": "scatterpolar"
           }
          ],
          "scatterpolargl": [
           {
            "marker": {
             "colorbar": {
              "outlinewidth": 0,
              "ticks": ""
             }
            },
            "type": "scatterpolargl"
           }
          ],
          "scatterternary": [
           {
            "marker": {
             "colorbar": {
              "outlinewidth": 0,
              "ticks": ""
             }
            },
            "type": "scatterternary"
           }
          ],
          "surface": [
           {
            "colorbar": {
             "outlinewidth": 0,
             "ticks": ""
            },
            "colorscale": [
             [
              0,
              "#0d0887"
             ],
             [
              0.1111111111111111,
              "#46039f"
             ],
             [
              0.2222222222222222,
              "#7201a8"
             ],
             [
              0.3333333333333333,
              "#9c179e"
             ],
             [
              0.4444444444444444,
              "#bd3786"
             ],
             [
              0.5555555555555556,
              "#d8576b"
             ],
             [
              0.6666666666666666,
              "#ed7953"
             ],
             [
              0.7777777777777778,
              "#fb9f3a"
             ],
             [
              0.8888888888888888,
              "#fdca26"
             ],
             [
              1,
              "#f0f921"
             ]
            ],
            "type": "surface"
           }
          ],
          "table": [
           {
            "cells": {
             "fill": {
              "color": "#EBF0F8"
             },
             "line": {
              "color": "white"
             }
            },
            "header": {
             "fill": {
              "color": "#C8D4E3"
             },
             "line": {
              "color": "white"
             }
            },
            "type": "table"
           }
          ]
         },
         "layout": {
          "annotationdefaults": {
           "arrowcolor": "#2a3f5f",
           "arrowhead": 0,
           "arrowwidth": 1
          },
          "autotypenumbers": "strict",
          "coloraxis": {
           "colorbar": {
            "outlinewidth": 0,
            "ticks": ""
           }
          },
          "colorscale": {
           "diverging": [
            [
             0,
             "#8e0152"
            ],
            [
             0.1,
             "#c51b7d"
            ],
            [
             0.2,
             "#de77ae"
            ],
            [
             0.3,
             "#f1b6da"
            ],
            [
             0.4,
             "#fde0ef"
            ],
            [
             0.5,
             "#f7f7f7"
            ],
            [
             0.6,
             "#e6f5d0"
            ],
            [
             0.7,
             "#b8e186"
            ],
            [
             0.8,
             "#7fbc41"
            ],
            [
             0.9,
             "#4d9221"
            ],
            [
             1,
             "#276419"
            ]
           ],
           "sequential": [
            [
             0,
             "#0d0887"
            ],
            [
             0.1111111111111111,
             "#46039f"
            ],
            [
             0.2222222222222222,
             "#7201a8"
            ],
            [
             0.3333333333333333,
             "#9c179e"
            ],
            [
             0.4444444444444444,
             "#bd3786"
            ],
            [
             0.5555555555555556,
             "#d8576b"
            ],
            [
             0.6666666666666666,
             "#ed7953"
            ],
            [
             0.7777777777777778,
             "#fb9f3a"
            ],
            [
             0.8888888888888888,
             "#fdca26"
            ],
            [
             1,
             "#f0f921"
            ]
           ],
           "sequentialminus": [
            [
             0,
             "#0d0887"
            ],
            [
             0.1111111111111111,
             "#46039f"
            ],
            [
             0.2222222222222222,
             "#7201a8"
            ],
            [
             0.3333333333333333,
             "#9c179e"
            ],
            [
             0.4444444444444444,
             "#bd3786"
            ],
            [
             0.5555555555555556,
             "#d8576b"
            ],
            [
             0.6666666666666666,
             "#ed7953"
            ],
            [
             0.7777777777777778,
             "#fb9f3a"
            ],
            [
             0.8888888888888888,
             "#fdca26"
            ],
            [
             1,
             "#f0f921"
            ]
           ]
          },
          "colorway": [
           "#636efa",
           "#EF553B",
           "#00cc96",
           "#ab63fa",
           "#FFA15A",
           "#19d3f3",
           "#FF6692",
           "#B6E880",
           "#FF97FF",
           "#FECB52"
          ],
          "font": {
           "color": "#2a3f5f"
          },
          "geo": {
           "bgcolor": "white",
           "lakecolor": "white",
           "landcolor": "#E5ECF6",
           "showlakes": true,
           "showland": true,
           "subunitcolor": "white"
          },
          "hoverlabel": {
           "align": "left"
          },
          "hovermode": "closest",
          "mapbox": {
           "style": "light"
          },
          "paper_bgcolor": "white",
          "plot_bgcolor": "#E5ECF6",
          "polar": {
           "angularaxis": {
            "gridcolor": "white",
            "linecolor": "white",
            "ticks": ""
           },
           "bgcolor": "#E5ECF6",
           "radialaxis": {
            "gridcolor": "white",
            "linecolor": "white",
            "ticks": ""
           }
          },
          "scene": {
           "xaxis": {
            "backgroundcolor": "#E5ECF6",
            "gridcolor": "white",
            "gridwidth": 2,
            "linecolor": "white",
            "showbackground": true,
            "ticks": "",
            "zerolinecolor": "white"
           },
           "yaxis": {
            "backgroundcolor": "#E5ECF6",
            "gridcolor": "white",
            "gridwidth": 2,
            "linecolor": "white",
            "showbackground": true,
            "ticks": "",
            "zerolinecolor": "white"
           },
           "zaxis": {
            "backgroundcolor": "#E5ECF6",
            "gridcolor": "white",
            "gridwidth": 2,
            "linecolor": "white",
            "showbackground": true,
            "ticks": "",
            "zerolinecolor": "white"
           }
          },
          "shapedefaults": {
           "line": {
            "color": "#2a3f5f"
           }
          },
          "ternary": {
           "aaxis": {
            "gridcolor": "white",
            "linecolor": "white",
            "ticks": ""
           },
           "baxis": {
            "gridcolor": "white",
            "linecolor": "white",
            "ticks": ""
           },
           "bgcolor": "#E5ECF6",
           "caxis": {
            "gridcolor": "white",
            "linecolor": "white",
            "ticks": ""
           }
          },
          "title": {
           "x": 0.05
          },
          "xaxis": {
           "automargin": true,
           "gridcolor": "white",
           "linecolor": "white",
           "ticks": "",
           "title": {
            "standoff": 15
           },
           "zerolinecolor": "white",
           "zerolinewidth": 2
          },
          "yaxis": {
           "automargin": true,
           "gridcolor": "white",
           "linecolor": "white",
           "ticks": "",
           "title": {
            "standoff": 15
           },
           "zerolinecolor": "white",
           "zerolinewidth": 2
          }
         }
        },
        "title": {
         "text": "Top สินค้าที่ถูกสั่งซื้อต่อเนื่องหลายเดือน"
        },
        "xaxis": {
         "anchor": "y",
         "domain": [
          0,
          1
         ],
         "title": {
          "text": "ItemName"
         }
        },
        "yaxis": {
         "anchor": "x",
         "domain": [
          0,
          1
         ],
         "title": {
          "text": "ActiveMonths"
         }
        }
       }
      },
      "text/html": [
       "<div>            <script src=\"https://cdnjs.cloudflare.com/ajax/libs/mathjax/2.7.5/MathJax.js?config=TeX-AMS-MML_SVG\"></script><script type=\"text/javascript\">if (window.MathJax && window.MathJax.Hub && window.MathJax.Hub.Config) {window.MathJax.Hub.Config({SVG: {font: \"STIX-Web\"}});}</script>                <script type=\"text/javascript\">window.PlotlyConfig = {MathJaxConfig: 'local'};</script>\n",
       "        <script charset=\"utf-8\" src=\"https://cdn.plot.ly/plotly-3.0.1.min.js\"></script>                <div id=\"e05a7b99-d7c7-4219-a057-21e1bf0d41f7\" class=\"plotly-graph-div\" style=\"height:525px; width:100%;\"></div>            <script type=\"text/javascript\">                window.PLOTLYENV=window.PLOTLYENV || {};                                if (document.getElementById(\"e05a7b99-d7c7-4219-a057-21e1bf0d41f7\")) {                    Plotly.newPlot(                        \"e05a7b99-d7c7-4219-a057-21e1bf0d41f7\",                        [{\"hovertemplate\":\"ItemName=%{x}\\u003cbr\\u003eActiveMonths=%{y}\\u003cextra\\u003e\\u003c\\u002fextra\\u003e\",\"legendgroup\":\"\",\"marker\":{\"color\":\"#636efa\",\"pattern\":{\"shape\":\"\"}},\"name\":\"\",\"orientation\":\"v\",\"showlegend\":false,\"textposition\":\"auto\",\"texttemplate\":\"%{y}\",\"x\":[\"Laptop\",\"Laptop Bag\",\"Monitor\",\"Notepad\",\"Printer\",\"Stapler\",\"Whiteboard\",\"Annual Software License\",\"Desk Chair\",\"Printer Ink\"],\"xaxis\":\"x\",\"y\":{\"dtype\":\"i1\",\"bdata\":\"DAwMDAwMDAsLCw==\"},\"yaxis\":\"y\",\"type\":\"bar\"}],                        {\"template\":{\"data\":{\"histogram2dcontour\":[{\"type\":\"histogram2dcontour\",\"colorbar\":{\"outlinewidth\":0,\"ticks\":\"\"},\"colorscale\":[[0.0,\"#0d0887\"],[0.1111111111111111,\"#46039f\"],[0.2222222222222222,\"#7201a8\"],[0.3333333333333333,\"#9c179e\"],[0.4444444444444444,\"#bd3786\"],[0.5555555555555556,\"#d8576b\"],[0.6666666666666666,\"#ed7953\"],[0.7777777777777778,\"#fb9f3a\"],[0.8888888888888888,\"#fdca26\"],[1.0,\"#f0f921\"]]}],\"choropleth\":[{\"type\":\"choropleth\",\"colorbar\":{\"outlinewidth\":0,\"ticks\":\"\"}}],\"histogram2d\":[{\"type\":\"histogram2d\",\"colorbar\":{\"outlinewidth\":0,\"ticks\":\"\"},\"colorscale\":[[0.0,\"#0d0887\"],[0.1111111111111111,\"#46039f\"],[0.2222222222222222,\"#7201a8\"],[0.3333333333333333,\"#9c179e\"],[0.4444444444444444,\"#bd3786\"],[0.5555555555555556,\"#d8576b\"],[0.6666666666666666,\"#ed7953\"],[0.7777777777777778,\"#fb9f3a\"],[0.8888888888888888,\"#fdca26\"],[1.0,\"#f0f921\"]]}],\"heatmap\":[{\"type\":\"heatmap\",\"colorbar\":{\"outlinewidth\":0,\"ticks\":\"\"},\"colorscale\":[[0.0,\"#0d0887\"],[0.1111111111111111,\"#46039f\"],[0.2222222222222222,\"#7201a8\"],[0.3333333333333333,\"#9c179e\"],[0.4444444444444444,\"#bd3786\"],[0.5555555555555556,\"#d8576b\"],[0.6666666666666666,\"#ed7953\"],[0.7777777777777778,\"#fb9f3a\"],[0.8888888888888888,\"#fdca26\"],[1.0,\"#f0f921\"]]}],\"contourcarpet\":[{\"type\":\"contourcarpet\",\"colorbar\":{\"outlinewidth\":0,\"ticks\":\"\"}}],\"contour\":[{\"type\":\"contour\",\"colorbar\":{\"outlinewidth\":0,\"ticks\":\"\"},\"colorscale\":[[0.0,\"#0d0887\"],[0.1111111111111111,\"#46039f\"],[0.2222222222222222,\"#7201a8\"],[0.3333333333333333,\"#9c179e\"],[0.4444444444444444,\"#bd3786\"],[0.5555555555555556,\"#d8576b\"],[0.6666666666666666,\"#ed7953\"],[0.7777777777777778,\"#fb9f3a\"],[0.8888888888888888,\"#fdca26\"],[1.0,\"#f0f921\"]]}],\"surface\":[{\"type\":\"surface\",\"colorbar\":{\"outlinewidth\":0,\"ticks\":\"\"},\"colorscale\":[[0.0,\"#0d0887\"],[0.1111111111111111,\"#46039f\"],[0.2222222222222222,\"#7201a8\"],[0.3333333333333333,\"#9c179e\"],[0.4444444444444444,\"#bd3786\"],[0.5555555555555556,\"#d8576b\"],[0.6666666666666666,\"#ed7953\"],[0.7777777777777778,\"#fb9f3a\"],[0.8888888888888888,\"#fdca26\"],[1.0,\"#f0f921\"]]}],\"mesh3d\":[{\"type\":\"mesh3d\",\"colorbar\":{\"outlinewidth\":0,\"ticks\":\"\"}}],\"scatter\":[{\"fillpattern\":{\"fillmode\":\"overlay\",\"size\":10,\"solidity\":0.2},\"type\":\"scatter\"}],\"parcoords\":[{\"type\":\"parcoords\",\"line\":{\"colorbar\":{\"outlinewidth\":0,\"ticks\":\"\"}}}],\"scatterpolargl\":[{\"type\":\"scatterpolargl\",\"marker\":{\"colorbar\":{\"outlinewidth\":0,\"ticks\":\"\"}}}],\"bar\":[{\"error_x\":{\"color\":\"#2a3f5f\"},\"error_y\":{\"color\":\"#2a3f5f\"},\"marker\":{\"line\":{\"color\":\"#E5ECF6\",\"width\":0.5},\"pattern\":{\"fillmode\":\"overlay\",\"size\":10,\"solidity\":0.2}},\"type\":\"bar\"}],\"scattergeo\":[{\"type\":\"scattergeo\",\"marker\":{\"colorbar\":{\"outlinewidth\":0,\"ticks\":\"\"}}}],\"scatterpolar\":[{\"type\":\"scatterpolar\",\"marker\":{\"colorbar\":{\"outlinewidth\":0,\"ticks\":\"\"}}}],\"histogram\":[{\"marker\":{\"pattern\":{\"fillmode\":\"overlay\",\"size\":10,\"solidity\":0.2}},\"type\":\"histogram\"}],\"scattergl\":[{\"type\":\"scattergl\",\"marker\":{\"colorbar\":{\"outlinewidth\":0,\"ticks\":\"\"}}}],\"scatter3d\":[{\"type\":\"scatter3d\",\"line\":{\"colorbar\":{\"outlinewidth\":0,\"ticks\":\"\"}},\"marker\":{\"colorbar\":{\"outlinewidth\":0,\"ticks\":\"\"}}}],\"scattermap\":[{\"type\":\"scattermap\",\"marker\":{\"colorbar\":{\"outlinewidth\":0,\"ticks\":\"\"}}}],\"scattermapbox\":[{\"type\":\"scattermapbox\",\"marker\":{\"colorbar\":{\"outlinewidth\":0,\"ticks\":\"\"}}}],\"scatterternary\":[{\"type\":\"scatterternary\",\"marker\":{\"colorbar\":{\"outlinewidth\":0,\"ticks\":\"\"}}}],\"scattercarpet\":[{\"type\":\"scattercarpet\",\"marker\":{\"colorbar\":{\"outlinewidth\":0,\"ticks\":\"\"}}}],\"carpet\":[{\"aaxis\":{\"endlinecolor\":\"#2a3f5f\",\"gridcolor\":\"white\",\"linecolor\":\"white\",\"minorgridcolor\":\"white\",\"startlinecolor\":\"#2a3f5f\"},\"baxis\":{\"endlinecolor\":\"#2a3f5f\",\"gridcolor\":\"white\",\"linecolor\":\"white\",\"minorgridcolor\":\"white\",\"startlinecolor\":\"#2a3f5f\"},\"type\":\"carpet\"}],\"table\":[{\"cells\":{\"fill\":{\"color\":\"#EBF0F8\"},\"line\":{\"color\":\"white\"}},\"header\":{\"fill\":{\"color\":\"#C8D4E3\"},\"line\":{\"color\":\"white\"}},\"type\":\"table\"}],\"barpolar\":[{\"marker\":{\"line\":{\"color\":\"#E5ECF6\",\"width\":0.5},\"pattern\":{\"fillmode\":\"overlay\",\"size\":10,\"solidity\":0.2}},\"type\":\"barpolar\"}],\"pie\":[{\"automargin\":true,\"type\":\"pie\"}]},\"layout\":{\"autotypenumbers\":\"strict\",\"colorway\":[\"#636efa\",\"#EF553B\",\"#00cc96\",\"#ab63fa\",\"#FFA15A\",\"#19d3f3\",\"#FF6692\",\"#B6E880\",\"#FF97FF\",\"#FECB52\"],\"font\":{\"color\":\"#2a3f5f\"},\"hovermode\":\"closest\",\"hoverlabel\":{\"align\":\"left\"},\"paper_bgcolor\":\"white\",\"plot_bgcolor\":\"#E5ECF6\",\"polar\":{\"bgcolor\":\"#E5ECF6\",\"angularaxis\":{\"gridcolor\":\"white\",\"linecolor\":\"white\",\"ticks\":\"\"},\"radialaxis\":{\"gridcolor\":\"white\",\"linecolor\":\"white\",\"ticks\":\"\"}},\"ternary\":{\"bgcolor\":\"#E5ECF6\",\"aaxis\":{\"gridcolor\":\"white\",\"linecolor\":\"white\",\"ticks\":\"\"},\"baxis\":{\"gridcolor\":\"white\",\"linecolor\":\"white\",\"ticks\":\"\"},\"caxis\":{\"gridcolor\":\"white\",\"linecolor\":\"white\",\"ticks\":\"\"}},\"coloraxis\":{\"colorbar\":{\"outlinewidth\":0,\"ticks\":\"\"}},\"colorscale\":{\"sequential\":[[0.0,\"#0d0887\"],[0.1111111111111111,\"#46039f\"],[0.2222222222222222,\"#7201a8\"],[0.3333333333333333,\"#9c179e\"],[0.4444444444444444,\"#bd3786\"],[0.5555555555555556,\"#d8576b\"],[0.6666666666666666,\"#ed7953\"],[0.7777777777777778,\"#fb9f3a\"],[0.8888888888888888,\"#fdca26\"],[1.0,\"#f0f921\"]],\"sequentialminus\":[[0.0,\"#0d0887\"],[0.1111111111111111,\"#46039f\"],[0.2222222222222222,\"#7201a8\"],[0.3333333333333333,\"#9c179e\"],[0.4444444444444444,\"#bd3786\"],[0.5555555555555556,\"#d8576b\"],[0.6666666666666666,\"#ed7953\"],[0.7777777777777778,\"#fb9f3a\"],[0.8888888888888888,\"#fdca26\"],[1.0,\"#f0f921\"]],\"diverging\":[[0,\"#8e0152\"],[0.1,\"#c51b7d\"],[0.2,\"#de77ae\"],[0.3,\"#f1b6da\"],[0.4,\"#fde0ef\"],[0.5,\"#f7f7f7\"],[0.6,\"#e6f5d0\"],[0.7,\"#b8e186\"],[0.8,\"#7fbc41\"],[0.9,\"#4d9221\"],[1,\"#276419\"]]},\"xaxis\":{\"gridcolor\":\"white\",\"linecolor\":\"white\",\"ticks\":\"\",\"title\":{\"standoff\":15},\"zerolinecolor\":\"white\",\"automargin\":true,\"zerolinewidth\":2},\"yaxis\":{\"gridcolor\":\"white\",\"linecolor\":\"white\",\"ticks\":\"\",\"title\":{\"standoff\":15},\"zerolinecolor\":\"white\",\"automargin\":true,\"zerolinewidth\":2},\"scene\":{\"xaxis\":{\"backgroundcolor\":\"#E5ECF6\",\"gridcolor\":\"white\",\"linecolor\":\"white\",\"showbackground\":true,\"ticks\":\"\",\"zerolinecolor\":\"white\",\"gridwidth\":2},\"yaxis\":{\"backgroundcolor\":\"#E5ECF6\",\"gridcolor\":\"white\",\"linecolor\":\"white\",\"showbackground\":true,\"ticks\":\"\",\"zerolinecolor\":\"white\",\"gridwidth\":2},\"zaxis\":{\"backgroundcolor\":\"#E5ECF6\",\"gridcolor\":\"white\",\"linecolor\":\"white\",\"showbackground\":true,\"ticks\":\"\",\"zerolinecolor\":\"white\",\"gridwidth\":2}},\"shapedefaults\":{\"line\":{\"color\":\"#2a3f5f\"}},\"annotationdefaults\":{\"arrowcolor\":\"#2a3f5f\",\"arrowhead\":0,\"arrowwidth\":1},\"geo\":{\"bgcolor\":\"white\",\"landcolor\":\"#E5ECF6\",\"subunitcolor\":\"white\",\"showland\":true,\"showlakes\":true,\"lakecolor\":\"white\"},\"title\":{\"x\":0.05},\"mapbox\":{\"style\":\"light\"}}},\"xaxis\":{\"anchor\":\"y\",\"domain\":[0.0,1.0],\"title\":{\"text\":\"ItemName\"}},\"yaxis\":{\"anchor\":\"x\",\"domain\":[0.0,1.0],\"title\":{\"text\":\"ActiveMonths\"}},\"legend\":{\"tracegroupgap\":0},\"title\":{\"text\":\"Top \\u0e2a\\u0e34\\u0e19\\u0e04\\u0e49\\u0e32\\u0e17\\u0e35\\u0e48\\u0e16\\u0e39\\u0e01\\u0e2a\\u0e31\\u0e48\\u0e07\\u0e0b\\u0e37\\u0e49\\u0e2d\\u0e15\\u0e48\\u0e2d\\u0e40\\u0e19\\u0e37\\u0e48\\u0e2d\\u0e07\\u0e2b\\u0e25\\u0e32\\u0e22\\u0e40\\u0e14\\u0e37\\u0e2d\\u0e19\"},\"barmode\":\"relative\"},                        {\"responsive\": true}                    ).then(function(){\n",
       "                            \n",
       "var gd = document.getElementById('e05a7b99-d7c7-4219-a057-21e1bf0d41f7');\n",
       "var x = new MutationObserver(function (mutations, observer) {{\n",
       "        var display = window.getComputedStyle(gd).display;\n",
       "        if (!display || display === 'none') {{\n",
       "            console.log([gd, 'removed!']);\n",
       "            Plotly.purge(gd);\n",
       "            observer.disconnect();\n",
       "        }}\n",
       "}});\n",
       "\n",
       "// Listen for the removal of the full notebook cells\n",
       "var notebookContainer = gd.closest('#notebook-container');\n",
       "if (notebookContainer) {{\n",
       "    x.observe(notebookContainer, {childList: true});\n",
       "}}\n",
       "\n",
       "// Listen for the clearing of the current output cell\n",
       "var outputEl = gd.closest('.output');\n",
       "if (outputEl) {{\n",
       "    x.observe(outputEl, {childList: true});\n",
       "}}\n",
       "\n",
       "                        })                };            </script>        </div>"
      ]
     },
     "metadata": {},
     "output_type": "display_data"
    }
   ],
   "source": [
    "monthly_reorder = df.groupby([\"ItemName\", \"Month\"])[\"TransactionID\"].count().reset_index()\n",
    "active_months = monthly_reorder.groupby(\"ItemName\")[\"Month\"].nunique().reset_index(name=\"ActiveMonths\")\n",
    "\n",
    "fig = px.bar(active_months.sort_values(\"ActiveMonths\", ascending=False).head(10),\n",
    "             x=\"ItemName\", y=\"ActiveMonths\",\n",
    "             title=\"Top สินค้าที่ถูกสั่งซื้อต่อเนื่องหลายเดือน\", text_auto=True)\n",
    "fig.show()"
   ]
  },
  {
   "cell_type": "markdown",
   "id": "4fee01e3-5e64-4314-9063-492007534f8b",
   "metadata": {},
   "source": [
    "## Recomander System"
   ]
  },
  {
   "cell_type": "code",
   "execution_count": 102,
   "id": "2c5acaec-0a8c-4e6d-bd9f-80e1a48aa821",
   "metadata": {},
   "outputs": [
    {
     "name": "stdout",
     "output_type": "stream",
     "text": [
      "Collecting mlxtend\n",
      "  Downloading mlxtend-0.23.4-py3-none-any.whl.metadata (7.3 kB)\n",
      "Requirement already satisfied: scipy>=1.2.1 in c:\\users\\babxk\\anaconda3\\envs\\tf\\lib\\site-packages (from mlxtend) (1.13.1)\n",
      "Requirement already satisfied: numpy>=1.16.2 in c:\\users\\babxk\\anaconda3\\envs\\tf\\lib\\site-packages (from mlxtend) (1.26.4)\n",
      "Requirement already satisfied: pandas>=0.24.2 in c:\\users\\babxk\\anaconda3\\envs\\tf\\lib\\site-packages (from mlxtend) (2.2.3)\n",
      "Requirement already satisfied: scikit-learn>=1.3.1 in c:\\users\\babxk\\anaconda3\\envs\\tf\\lib\\site-packages (from mlxtend) (1.6.1)\n",
      "Requirement already satisfied: matplotlib>=3.0.0 in c:\\users\\babxk\\anaconda3\\envs\\tf\\lib\\site-packages (from mlxtend) (3.9.2)\n",
      "Requirement already satisfied: joblib>=0.13.2 in c:\\users\\babxk\\anaconda3\\envs\\tf\\lib\\site-packages (from mlxtend) (1.4.2)\n",
      "Requirement already satisfied: contourpy>=1.0.1 in c:\\users\\babxk\\anaconda3\\envs\\tf\\lib\\site-packages (from matplotlib>=3.0.0->mlxtend) (1.2.1)\n",
      "Requirement already satisfied: cycler>=0.10 in c:\\users\\babxk\\anaconda3\\envs\\tf\\lib\\site-packages (from matplotlib>=3.0.0->mlxtend) (0.11.0)\n",
      "Requirement already satisfied: fonttools>=4.22.0 in c:\\users\\babxk\\anaconda3\\envs\\tf\\lib\\site-packages (from matplotlib>=3.0.0->mlxtend) (4.55.3)\n",
      "Requirement already satisfied: kiwisolver>=1.3.1 in c:\\users\\babxk\\anaconda3\\envs\\tf\\lib\\site-packages (from matplotlib>=3.0.0->mlxtend) (1.4.4)\n",
      "Requirement already satisfied: packaging>=20.0 in c:\\users\\babxk\\anaconda3\\envs\\tf\\lib\\site-packages (from matplotlib>=3.0.0->mlxtend) (24.2)\n",
      "Requirement already satisfied: pillow>=8 in c:\\users\\babxk\\anaconda3\\envs\\tf\\lib\\site-packages (from matplotlib>=3.0.0->mlxtend) (11.1.0)\n",
      "Requirement already satisfied: pyparsing>=2.3.1 in c:\\users\\babxk\\anaconda3\\envs\\tf\\lib\\site-packages (from matplotlib>=3.0.0->mlxtend) (3.2.0)\n",
      "Requirement already satisfied: python-dateutil>=2.7 in c:\\users\\babxk\\anaconda3\\envs\\tf\\lib\\site-packages (from matplotlib>=3.0.0->mlxtend) (2.9.0.post0)\n",
      "Requirement already satisfied: importlib-resources>=3.2.0 in c:\\users\\babxk\\anaconda3\\envs\\tf\\lib\\site-packages (from matplotlib>=3.0.0->mlxtend) (6.4.0)\n",
      "Requirement already satisfied: pytz>=2020.1 in c:\\users\\babxk\\anaconda3\\envs\\tf\\lib\\site-packages (from pandas>=0.24.2->mlxtend) (2024.1)\n",
      "Requirement already satisfied: tzdata>=2022.7 in c:\\users\\babxk\\anaconda3\\envs\\tf\\lib\\site-packages (from pandas>=0.24.2->mlxtend) (2023.3)\n",
      "Requirement already satisfied: threadpoolctl>=3.1.0 in c:\\users\\babxk\\anaconda3\\envs\\tf\\lib\\site-packages (from scikit-learn>=1.3.1->mlxtend) (3.5.0)\n",
      "Requirement already satisfied: zipp>=3.1.0 in c:\\users\\babxk\\anaconda3\\envs\\tf\\lib\\site-packages (from importlib-resources>=3.2.0->matplotlib>=3.0.0->mlxtend) (3.21.0)\n",
      "Requirement already satisfied: six>=1.5 in c:\\users\\babxk\\anaconda3\\envs\\tf\\lib\\site-packages (from python-dateutil>=2.7->matplotlib>=3.0.0->mlxtend) (1.17.0)\n",
      "Downloading mlxtend-0.23.4-py3-none-any.whl (1.4 MB)\n",
      "   ---------------------------------------- 0.0/1.4 MB ? eta -:--:--\n",
      "   ------- -------------------------------- 0.3/1.4 MB ? eta -:--:--\n",
      "   --------------- ------------------------ 0.5/1.4 MB 1.7 MB/s eta 0:00:01\n",
      "   ------------------------------- -------- 1.0/1.4 MB 1.8 MB/s eta 0:00:01\n",
      "   ---------------------------------------- 1.4/1.4 MB 1.8 MB/s eta 0:00:00\n",
      "Installing collected packages: mlxtend\n",
      "Successfully installed mlxtend-0.23.4\n"
     ]
    }
   ],
   "source": [
    "!pip install mlxtend"
   ]
  },
  {
   "cell_type": "code",
   "execution_count": 112,
   "id": "4efd7e55-de66-4429-90ab-2d8685b0b4a9",
   "metadata": {},
   "outputs": [],
   "source": [
    "from mlxtend.frequent_patterns import apriori, association_rules\n",
    "from mlxtend.preprocessing import TransactionEncoder"
   ]
  },
  {
   "cell_type": "code",
   "execution_count": 159,
   "id": "c3f037d8-c835-469d-a763-58311b9b31f3",
   "metadata": {},
   "outputs": [],
   "source": [
    "basket = df.groupby(\"TransactionID\")[\"ItemName\"].apply(list).tolist()\n",
    "\n",
    "# แปลงเป็น binary matrix\n",
    "te = TransactionEncoder()\n",
    "te_ary = te.fit(basket).transform(basket)\n",
    "basket_df = pd.DataFrame(te_ary, columns=te.columns_)"
   ]
  },
  {
   "cell_type": "code",
   "execution_count": 164,
   "id": "f0acf294-a291-454e-9deb-3f189f62d567",
   "metadata": {},
   "outputs": [
    {
     "data": {
      "text/html": [
       "<div>\n",
       "<style scoped>\n",
       "    .dataframe tbody tr th:only-of-type {\n",
       "        vertical-align: middle;\n",
       "    }\n",
       "\n",
       "    .dataframe tbody tr th {\n",
       "        vertical-align: top;\n",
       "    }\n",
       "\n",
       "    .dataframe thead th {\n",
       "        text-align: right;\n",
       "    }\n",
       "</style>\n",
       "<table border=\"1\" class=\"dataframe\">\n",
       "  <thead>\n",
       "    <tr style=\"text-align: right;\">\n",
       "      <th></th>\n",
       "      <th>antecedents</th>\n",
       "      <th>consequents</th>\n",
       "      <th>support</th>\n",
       "      <th>confidence</th>\n",
       "      <th>lift</th>\n",
       "    </tr>\n",
       "  </thead>\n",
       "  <tbody>\n",
       "  </tbody>\n",
       "</table>\n",
       "</div>"
      ],
      "text/plain": [
       "Empty DataFrame\n",
       "Columns: [antecedents, consequents, support, confidence, lift]\n",
       "Index: []"
      ]
     },
     "execution_count": 164,
     "metadata": {},
     "output_type": "execute_result"
    }
   ],
   "source": [
    "# หาชุดสินค้าที่พบบ่อย\n",
    "frequent_itemsets = apriori(basket_df, min_support=0.002, use_colnames=True)\n",
    "\n",
    "# หากฎความสัมพันธ์\n",
    "rules = association_rules(frequent_itemsets, metric=\"lift\", min_threshold=0.1)\n",
    "\n",
    "# แสดงตัวอย่าง\n",
    "rules[['antecedents', 'consequents', 'support', 'confidence', 'lift']].head()"
   ]
  },
  {
   "cell_type": "code",
   "execution_count": 165,
   "id": "a86a840a-4ff7-46e6-b9e5-4802a52ccf83",
   "metadata": {},
   "outputs": [],
   "source": [
    "rules['antecedents'] = rules['antecedents'].apply(lambda x: ', '.join(list(x)))\n",
    "rules['consequents'] = rules['consequents'].apply(lambda x: ', '.join(list(x)))\n",
    "\n",
    "def recommend_items(item_name, rules_df, top_n=5):\n",
    "    matched = rules_df[rules_df['antecedents'].str.contains(item_name, case=False)]\n",
    "    matched = matched.sort_values(by=\"lift\", ascending=False).head(top_n)\n",
    "\n",
    "    if matched.empty:\n",
    "        print(f\"❌ ไม่มีคำแนะนำที่เกี่ยวข้องกับ: {item_name}\")\n",
    "    else:\n",
    "        print(f\"🔮 คำแนะนำเมื่อซื้อ '{item_name}':\\n\")\n",
    "        print(matched[['antecedents', 'consequents', 'support', 'confidence', 'lift']])\n",
    "\n",
    "        # กราฟ\n",
    "        fig = px.bar(matched, x='consequents', y='lift', text='confidence',\n",
    "                     title=f\"สินค้าที่ควรแนะนำเมื่อซื้อ '{item_name}'\", color='lift')\n",
    "        fig.show()"
   ]
  },
  {
   "cell_type": "code",
   "execution_count": 166,
   "id": "3eacf663-810c-4da4-b3d6-fbe97224b341",
   "metadata": {},
   "outputs": [
    {
     "name": "stdout",
     "output_type": "stream",
     "text": [
      "❌ ไม่มีคำแนะนำที่เกี่ยวข้องกับ: Printer Ink\n"
     ]
    }
   ],
   "source": [
    "recommend_items(\"Printer Ink\", rules)"
   ]
  },
  {
   "cell_type": "code",
   "execution_count": 167,
   "id": "92e61517-ef65-40c0-9ac3-15891bba3570",
   "metadata": {},
   "outputs": [
    {
     "data": {
      "text/plain": [
       "count    500.0\n",
       "mean       1.0\n",
       "std        0.0\n",
       "min        1.0\n",
       "25%        1.0\n",
       "50%        1.0\n",
       "75%        1.0\n",
       "max        1.0\n",
       "Name: ItemName, dtype: float64"
      ]
     },
     "execution_count": 167,
     "metadata": {},
     "output_type": "execute_result"
    }
   ],
   "source": [
    "df.groupby(\"TransactionID\")[\"ItemName\"].nunique().describe()"
   ]
  },
  {
   "cell_type": "code",
   "execution_count": 168,
   "id": "84c1314e-8ee8-4f72-b6dd-664808aec379",
   "metadata": {},
   "outputs": [
    {
     "data": {
      "text/plain": [
       "ItemName\n",
       "Stapler                    60\n",
       "Laptop Bag                 56\n",
       "Laptop                     56\n",
       "Desk Chair                 53\n",
       "Whiteboard                 49\n",
       "Notepad                    48\n",
       "Annual Software License    46\n",
       "Printer                    45\n",
       "Monitor                    45\n",
       "Printer Ink                42\n",
       "Name: count, dtype: int64"
      ]
     },
     "execution_count": 168,
     "metadata": {},
     "output_type": "execute_result"
    }
   ],
   "source": [
    "df[\"ItemName\"].value_counts().head(10)"
   ]
  },
  {
   "cell_type": "code",
   "execution_count": null,
   "id": "e7d906b4-fb71-4b66-b488-bddfe704b696",
   "metadata": {},
   "outputs": [],
   "source": []
  }
 ],
 "metadata": {
  "kernelspec": {
   "display_name": "Python (tf)",
   "language": "python",
   "name": "tf"
  },
  "language_info": {
   "codemirror_mode": {
    "name": "ipython",
    "version": 3
   },
   "file_extension": ".py",
   "mimetype": "text/x-python",
   "name": "python",
   "nbconvert_exporter": "python",
   "pygments_lexer": "ipython3",
   "version": "3.9.15"
  }
 },
 "nbformat": 4,
 "nbformat_minor": 5
}
